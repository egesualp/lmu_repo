{
 "cells": [
  {
   "cell_type": "markdown",
   "metadata": {},
   "source": [
    "# staticmethod"
   ]
  },
  {
   "cell_type": "code",
   "execution_count": 5,
   "metadata": {},
   "outputs": [
    {
     "name": "stdout",
     "output_type": "stream",
     "text": [
      "without staticmethod:\n",
      "10\n",
      "20\n",
      "30\n",
      "with staticmethod:\n",
      "10\n",
      "20\n",
      "30\n"
     ]
    }
   ],
   "source": [
    "# an example of staticmethod usage in python: same script with and without staticmethod\n",
    "# staticmethod is a decorator that makes a method static, i.e. it can be called on the class itself, without creating an instance of the class\n",
    "# this is useful when you want to create a method that is related to the class, but doesn't need to access any instance variables\n",
    "\n",
    "# without staticmethod\n",
    "class MyClass:\n",
    "    def __init__(self, value):\n",
    "        self.value = value\n",
    "\n",
    "    def get_value(self):\n",
    "        return self.value\n",
    "\n",
    "    def set_value(self, value):\n",
    "        self.value = value\n",
    "\n",
    "    def add_values(self, value1, value2):\n",
    "        return value1 + value2\n",
    "    \n",
    "    \n",
    "# with staticmethod\n",
    "class MyClassStatic:\n",
    "    def __init__(self, value):\n",
    "        self.value = value\n",
    "\n",
    "    def get_value(self):\n",
    "        return self.value\n",
    "\n",
    "    def set_value(self, value):\n",
    "        self.value = value\n",
    "\n",
    "    @staticmethod\n",
    "    def add_values(value1, value2):\n",
    "        return value1 + value2\n",
    "    \n",
    "    \n",
    "print('without staticmethod:')\n",
    "my_class = MyClass(10)\n",
    "print(my_class.get_value())\n",
    "my_class.set_value(20)\n",
    "print(my_class.get_value())\n",
    "print(my_class.add_values(10, 20))\n",
    "\n",
    "\n",
    "print('with staticmethod:')\n",
    "my_class_static = MyClassStatic(10)\n",
    "print(my_class_static.get_value())\n",
    "my_class_static.set_value(20)\n",
    "print(my_class_static.get_value())\n",
    "print(MyClassStatic.add_values(10, 20))"
   ]
  },
  {
   "cell_type": "code",
   "execution_count": 6,
   "metadata": {},
   "outputs": [
    {
     "name": "stdout",
     "output_type": "stream",
     "text": [
      "8\n",
      "8\n"
     ]
    }
   ],
   "source": [
    "class MathOperations:\n",
    "    def add(a, b):\n",
    "        return a + b\n",
    "\n",
    "# Create an instance of MathOperations\n",
    "math_ops = MathOperations()\n",
    "\n",
    "# Call the method using the instance\n",
    "# print(math_ops.add(5, 3))  # This will raise a TypeError because 'self' is missing\n",
    "\n",
    "class MathOperations_static:\n",
    "    @staticmethod\n",
    "    def add(a, b):\n",
    "        return a + b\n",
    "\n",
    "# Call the method using the class name\n",
    "print(MathOperations_static.add(5, 3))  # Output: 8\n",
    "\n",
    "# You can also call it using an instance, but it's not required\n",
    "math_ops = MathOperations_static()\n",
    "print(math_ops.add(5, 3))  # Output: 8"
   ]
  },
  {
   "cell_type": "markdown",
   "metadata": {},
   "source": [
    "# .squeeze"
   ]
  },
  {
   "cell_type": "code",
   "execution_count": 7,
   "metadata": {},
   "outputs": [
    {
     "name": "stdout",
     "output_type": "stream",
     "text": [
      "Original tensor:\n",
      "tensor([[1],\n",
      "        [2],\n",
      "        [3]])\n",
      "Shape of the original tensor: torch.Size([3, 1])\n",
      "\n",
      "Tensor after squeeze(-1):\n",
      "tensor([1, 2, 3])\n",
      "Shape of the squeezed tensor: torch.Size([3])\n"
     ]
    }
   ],
   "source": [
    "import torch\n",
    "\n",
    "# Create a tensor of shape [3, 1]\n",
    "x = torch.tensor([[1], [2], [3]])\n",
    "print(\"Original tensor:\")\n",
    "print(x)\n",
    "print(\"Shape of the original tensor:\", x.shape)\n",
    "\n",
    "# Apply squeeze(-1)\n",
    "x_squeezed = x.squeeze(-1)\n",
    "print(\"\\nTensor after squeeze(-1):\")\n",
    "print(x_squeezed)\n",
    "print(\"Shape of the squeezed tensor:\", x_squeezed.shape)\n"
   ]
  },
  {
   "cell_type": "markdown",
   "metadata": {},
   "source": [
    "# Lab4 Scratch"
   ]
  },
  {
   "cell_type": "code",
   "execution_count": 12,
   "metadata": {},
   "outputs": [
    {
     "name": "stdout",
     "output_type": "stream",
     "text": [
      "tensor([1, 2, 3])\n"
     ]
    }
   ],
   "source": [
    "# Create a tensor of shape [3, 1]\n",
    "x = torch.tensor([1, 2, 3])\n",
    "print(x.squeeze(0))"
   ]
  },
  {
   "cell_type": "code",
   "execution_count": 15,
   "metadata": {},
   "outputs": [],
   "source": [
    "import torch\n",
    "from torch import Tensor\n",
    "\n",
    "def _init_glorot(in_features: int, out_features: int) -> Tensor:\n",
    "    \"\"\"Init a weight matrix with glorot initialization.\"\"\"\n",
    "    b = torch.sqrt(torch.tensor([6. / (in_features + out_features)]))\n",
    "    return (2 * b) * torch.rand(in_features, out_features) - b\n"
   ]
  },
  {
   "cell_type": "code",
   "execution_count": 17,
   "metadata": {},
   "outputs": [],
   "source": [
    "weights = _init_glorot(5, 3)"
   ]
  },
  {
   "cell_type": "code",
   "execution_count": 18,
   "metadata": {},
   "outputs": [],
   "source": [
    "bias = torch.zeros(3)"
   ]
  },
  {
   "cell_type": "code",
   "execution_count": 22,
   "metadata": {},
   "outputs": [],
   "source": [
    "x = torch.randn(5)"
   ]
  },
  {
   "cell_type": "code",
   "execution_count": 23,
   "metadata": {},
   "outputs": [
    {
     "data": {
      "text/plain": [
       "tensor([ 1.6383, -1.6605, -1.7663,  0.3726, -1.0319])"
      ]
     },
     "execution_count": 23,
     "metadata": {},
     "output_type": "execute_result"
    }
   ],
   "source": [
    "x"
   ]
  },
  {
   "cell_type": "code",
   "execution_count": 24,
   "metadata": {},
   "outputs": [
    {
     "name": "stdout",
     "output_type": "stream",
     "text": [
      "tensor([0.9201, 1.8753, 0.1421])\n"
     ]
    }
   ],
   "source": [
    "print(x @ weights + bias)"
   ]
  },
  {
   "cell_type": "code",
   "execution_count": 26,
   "metadata": {},
   "outputs": [],
   "source": [
    "class MSELoss:\n",
    "    @staticmethod\n",
    "    def forward(y_true: Tensor, y_pred: Tensor) -> Tensor:\n",
    "        return torch.mean((y_true - y_pred)**2)\n",
    "\n",
    "    @staticmethod\n",
    "    def get_gradient(y_true: Tensor, y_pred: Tensor) -> Tensor:\n",
    "        return 2 * (y_pred - y_true) / len(y_true)"
   ]
  },
  {
   "cell_type": "code",
   "execution_count": 27,
   "metadata": {},
   "outputs": [
    {
     "data": {
      "text/plain": [
       "tensor(0.5671)"
      ]
     },
     "execution_count": 27,
     "metadata": {},
     "output_type": "execute_result"
    }
   ],
   "source": [
    "loss = MSELoss()\n",
    "loss.forward(torch.rand(3),x @ weights + bias)"
   ]
  },
  {
   "cell_type": "code",
   "execution_count": null,
   "metadata": {},
   "outputs": [],
   "source": []
  }
 ],
 "metadata": {
  "kernelspec": {
   "display_name": "venvLmu",
   "language": "python",
   "name": "python3"
  },
  "language_info": {
   "codemirror_mode": {
    "name": "ipython",
    "version": 3
   },
   "file_extension": ".py",
   "mimetype": "text/x-python",
   "name": "python",
   "nbconvert_exporter": "python",
   "pygments_lexer": "ipython3",
   "version": "3.11.9"
  }
 },
 "nbformat": 4,
 "nbformat_minor": 2
}
