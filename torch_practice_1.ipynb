{
 "cells": [
  {
   "cell_type": "code",
   "execution_count": 1,
   "metadata": {},
   "outputs": [],
   "source": [
    "import torch"
   ]
  },
  {
   "cell_type": "markdown",
   "metadata": {},
   "source": [
    "\n",
    "- NumPy: Ideal for general-purpose numerical computations and works well on CPUs. It lacks built-in support for GPU computation and automatic differentiation.\n",
    "- PyTorch: Tailored for deep learning with built-in support for GPU acceleration and automatic differentiation. It is highly suitable for training neural networks."
   ]
  },
  {
   "cell_type": "markdown",
   "metadata": {},
   "source": [
    "## Football Pitch Example"
   ]
  },
  {
   "cell_type": "code",
   "execution_count": 6,
   "metadata": {},
   "outputs": [
    {
     "name": "stdout",
     "output_type": "stream",
     "text": [
      "grid_x: \n",
      " tensor([[1, 1, 1, 1, 1],\n",
      "        [2, 2, 2, 2, 2],\n",
      "        [3, 3, 3, 3, 3],\n",
      "        [4, 4, 4, 4, 4],\n",
      "        [5, 5, 5, 5, 5],\n",
      "        [6, 6, 6, 6, 6],\n",
      "        [7, 7, 7, 7, 7],\n",
      "        [8, 8, 8, 8, 8],\n",
      "        [9, 9, 9, 9, 9]])\n",
      "grid_y: \n",
      " tensor([[1, 2, 3, 4, 5],\n",
      "        [1, 2, 3, 4, 5],\n",
      "        [1, 2, 3, 4, 5],\n",
      "        [1, 2, 3, 4, 5],\n",
      "        [1, 2, 3, 4, 5],\n",
      "        [1, 2, 3, 4, 5],\n",
      "        [1, 2, 3, 4, 5],\n",
      "        [1, 2, 3, 4, 5],\n",
      "        [1, 2, 3, 4, 5]])\n"
     ]
    }
   ],
   "source": [
    "# Define the coordinate vectors for the length and width of the pitch\n",
    "length = torch.arange(1, 10)\n",
    "width = torch.arange(1, 6)\n",
    "\n",
    "# Generate coordinate grids\n",
    "grid_x, grid_y = torch.meshgrid(length, width)\n",
    "\n",
    "print(f\"grid_x: \\n {grid_x}\")\n",
    "\n",
    "print(f\"grid_y: \\n {grid_y}\")"
   ]
  },
  {
   "cell_type": "markdown",
   "metadata": {},
   "source": [
    "### Explanation\n",
    "- grid_x contains the x-coordinates (length) repeated along the columns.\n",
    "- grid_y contains the y-coordinates (width) repeated along the rows.\n",
    "\n",
    "Each element (grid_x[i, j], grid_y[i, j]) corresponds to a specific coordinate on the pitch."
   ]
  },
  {
   "cell_type": "markdown",
   "metadata": {},
   "source": [
    "*Example: Locating a Football Player*\n",
    "\n",
    "Let's say we want to place a football player at the coordinate (3, 2). This means the player is standing at the 3rd position in length and the 2nd position in width.\n",
    "\n",
    "Using the grid indices:\n",
    "\n",
    "i corresponds to the length index.\n",
    "j corresponds to the width index."
   ]
  },
  {
   "cell_type": "code",
   "execution_count": 8,
   "metadata": {},
   "outputs": [
    {
     "name": "stdout",
     "output_type": "stream",
     "text": [
      "The football player stands at coordinate: (tensor(3), tensor(2))\n"
     ]
    }
   ],
   "source": [
    "i = 2\n",
    "j = 1\n",
    "\n",
    "player_position = (grid_x[i, j], grid_y[i, j])\n",
    "print(f\"The football player stands at coordinate: {player_position}\")"
   ]
  },
  {
   "cell_type": "code",
   "execution_count": 10,
   "metadata": {},
   "outputs": [
    {
     "data": {
      "text/plain": [
       "torch.Size([9, 5])"
      ]
     },
     "execution_count": 10,
     "metadata": {},
     "output_type": "execute_result"
    }
   ],
   "source": [
    "grid_y.shape"
   ]
  },
  {
   "cell_type": "code",
   "execution_count": 18,
   "metadata": {},
   "outputs": [
    {
     "data": {
      "text/plain": [
       "tensor(3)"
      ]
     },
     "execution_count": 18,
     "metadata": {},
     "output_type": "execute_result"
    }
   ],
   "source": [
    "grid_x[i, 3]"
   ]
  },
  {
   "cell_type": "code",
   "execution_count": 11,
   "metadata": {},
   "outputs": [
    {
     "data": {
      "text/plain": [
       "3"
      ]
     },
     "execution_count": 11,
     "metadata": {},
     "output_type": "execute_result"
    }
   ],
   "source": [
    "# Scalar tensors have no dimensions \n",
    "# and can be converted to standard Python numbers using .item().\n",
    "grid_x[i, j].item()"
   ]
  },
  {
   "cell_type": "code",
   "execution_count": 12,
   "metadata": {},
   "outputs": [
    {
     "data": {
      "text/plain": [
       "2"
      ]
     },
     "execution_count": 12,
     "metadata": {},
     "output_type": "execute_result"
    }
   ],
   "source": [
    "grid_y[i, j].item()"
   ]
  },
  {
   "cell_type": "code",
   "execution_count": 14,
   "metadata": {},
   "outputs": [],
   "source": [
    "# Visualizing player position\n",
    "\n",
    "def visualize_player_pos(grid_x, grid_y, player_position):\n",
    "    for i in range(grid_x.shape[0]):\n",
    "        row = []\n",
    "        for j in range(grid_x.shape[1]):\n",
    "            if (grid_x[i, j], grid_y[i,j]) == player_position:\n",
    "                row.append(f\"({grid_x[i, j].item()},{grid_y[i, j].item()})*\")  # Mark player position\n",
    "            else:\n",
    "                row.append(f\"({grid_x[i, j].item()},{grid_y[i, j].item()})\")\n",
    "        print(\" \".join(row))"
   ]
  },
  {
   "cell_type": "code",
   "execution_count": 15,
   "metadata": {},
   "outputs": [
    {
     "name": "stdout",
     "output_type": "stream",
     "text": [
      "(1,1) (1,2) (1,3) (1,4) (1,5)\n",
      "(2,1) (2,2) (2,3) (2,4) (2,5)\n",
      "(3,1) (3,2)* (3,3) (3,4) (3,5)\n",
      "(4,1) (4,2) (4,3) (4,4) (4,5)\n",
      "(5,1) (5,2) (5,3) (5,4) (5,5)\n",
      "(6,1) (6,2) (6,3) (6,4) (6,5)\n",
      "(7,1) (7,2) (7,3) (7,4) (7,5)\n",
      "(8,1) (8,2) (8,3) (8,4) (8,5)\n",
      "(9,1) (9,2) (9,3) (9,4) (9,5)\n"
     ]
    }
   ],
   "source": [
    "visualize_player_pos(grid_x, grid_y, player_position)"
   ]
  },
  {
   "cell_type": "code",
   "execution_count": 22,
   "metadata": {},
   "outputs": [],
   "source": [
    "# Check if GPU is available\n",
    "if torch.cuda.is_available():\n",
    "    torch_tensor = torch_tensor.to('cuda')\n",
    "    print(torch_tensor)  # Tensor is now on the GPU\n"
   ]
  },
  {
   "cell_type": "code",
   "execution_count": 24,
   "metadata": {},
   "outputs": [
    {
     "data": {
      "text/plain": [
       "False"
      ]
     },
     "execution_count": 24,
     "metadata": {},
     "output_type": "execute_result"
    }
   ],
   "source": [
    "torch.cuda.is_available()"
   ]
  },
  {
   "cell_type": "code",
   "execution_count": 2,
   "metadata": {},
   "outputs": [
    {
     "name": "stdout",
     "output_type": "stream",
     "text": [
      "Is CUDA supported by this system? True\n",
      "CUDA version: 11.8\n",
      "ID of current CUDA device:0\n",
      "Name of current CUDA device:NVIDIA GeForce RTX 4050 Laptop GPU\n"
     ]
    }
   ],
   "source": [
    "import torch\n",
    "print(f\"Is CUDA supported by this system? {torch.cuda.is_available()}\")\n",
    "print(f\"CUDA version: {torch.version.cuda}\")\n",
    " \n",
    "# Storing ID of current CUDA device\n",
    "cuda_id = torch.cuda.current_device()\n",
    "print(f\"ID of current CUDA device:{torch.cuda.current_device()}\")\n",
    "       \n",
    "print(f\"Name of current CUDA device:{torch.cuda.get_device_name(cuda_id)}\")"
   ]
  },
  {
   "cell_type": "code",
   "execution_count": null,
   "metadata": {},
   "outputs": [],
   "source": []
  }
 ],
 "metadata": {
  "kernelspec": {
   "display_name": ".venv",
   "language": "python",
   "name": "python3"
  },
  "language_info": {
   "codemirror_mode": {
    "name": "ipython",
    "version": 3
   },
   "file_extension": ".py",
   "mimetype": "text/x-python",
   "name": "python",
   "nbconvert_exporter": "python",
   "pygments_lexer": "ipython3",
   "version": "3.11.9"
  }
 },
 "nbformat": 4,
 "nbformat_minor": 2
}
