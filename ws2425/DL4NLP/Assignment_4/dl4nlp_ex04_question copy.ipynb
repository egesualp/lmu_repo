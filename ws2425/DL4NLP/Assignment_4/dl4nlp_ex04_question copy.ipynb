{
    "cells": [
        {
            "cell_type": "markdown",
            "id": "9f506b01-f3ba-4744-9953-6a8d30f24717",
            "metadata": {
                "id": "9f506b01-f3ba-4744-9953-6a8d30f24717",
                "tags": []
            },
            "source": [
                "# Deep Learning for NLP - Exercise 04\n",
                "In this exercise, we will first look at the inner workings of the attention mechanism and the importance of various heads in pretrained models. The second task compares multiple decoding strategies on the same model and prompt to highlight how much on an effect the decoding algorithm has on the quality of generated text.\n",
                "\n",
                "Task 1 and Task 2 can be worked in independently.\n",
                "___\n",
                "\n",
                "General hints:\n",
                "* Have a look at the imports below when solving the tasks\n",
                "* Use the given modules and all submodules of the imports, but don't import anything else!\n",
                "    * For instance, you can use other functions under the `torch` or `nn` namespace, but don't import e.g. PyTorch Lightning, etc.\n",
                "* It is recommended to install all packages from the provided environment file\n",
                "* Feel free to test your code between sub-tasks of the exercise sheet, so that you can spot mistakes early (wrong shapes, impossible numbers, NaNs, ...)\n",
                "* Just keep in mind that your final submission should be compliant to the provided initial format of this file\n",
                "\n",
                "Submission guidelines:\n",
                "* Make sure that the code runs on package versions from the the provided environment file\n",
                "* Do not add or change any imports (also don't change the naming of imports, e.g. `torch.nn.functional as f`)\n",
                "* Remove your personal, additional code testings and experiments throughout the notebook\n",
                "* Do not change the class, function or naming structure as we will run tests on the given names\n",
                "* Additionally export this notebook as a `.py` file, and submit **both** the executed `.ipynb` notebook with plots in it **and** the `.py` file\n",
                "* **Deviation from the above guidelines will result in partial or full loss of points**"
            ]
        },
        {
            "cell_type": "code",
            "execution_count": null,
            "id": "eaa3cf98-b17b-4c72-b876-c1f1d67b1486",
            "metadata": {
                "id": "eaa3cf98-b17b-4c72-b876-c1f1d67b1486"
            },
            "outputs": [],
            "source": [
                "# !pip install transformers==4.24.0\n",
                "# !pip install datasets==3.0.1\n",
                "# !pip install bertviz==1.4.0\n",
                "# !pip install plotly==5.17.0"
            ]
        },
        {
            "cell_type": "markdown",
            "id": "ee660dda-ce5e-48b3-b922-4fa566a6e5db",
            "metadata": {
                "id": "ee660dda-ce5e-48b3-b922-4fa566a6e5db",
                "tags": []
            },
            "source": [
                "# Task 1: Looking 'Inside' the Models"
            ]
        },
        {
            "cell_type": "code",
            "execution_count": 2,
            "id": "1b3952e2-cd4d-4563-8e28-2ceca23127ca",
            "metadata": {
                "id": "1b3952e2-cd4d-4563-8e28-2ceca23127ca"
            },
            "outputs": [],
            "source": [
                "import numpy as np\n",
                "import pandas as pd\n",
                "\n",
                "import plotly.express as px\n",
                "import matplotlib.pyplot as plt\n",
                "from bertviz import head_view, model_view\n",
                "\n",
                "import torch\n",
                "\n",
                "from datasets import load_dataset\n",
                "from transformers import (\n",
                "    AutoTokenizer,\n",
                "    AutoModel,\n",
                "    AutoModelForSequenceClassification,\n",
                "    BertConfig,\n",
                ")"
            ]
        },
        {
            "cell_type": "markdown",
            "id": "878ac31d-7978-4221-b2a6-9c497338c775",
            "metadata": {
                "id": "878ac31d-7978-4221-b2a6-9c497338c775",
                "tags": []
            },
            "source": [
                "## Task 1.1: Visualizing and Analyzing Attention Maps"
            ]
        },
        {
            "cell_type": "markdown",
            "id": "305e62f7-926c-4eaf-85dc-e57209539892",
            "metadata": {
                "id": "305e62f7-926c-4eaf-85dc-e57209539892"
            },
            "source": [
                "* In the following experiment, we compare three models: a randomly initialized BERT model, and trained BERT model, and a trained GPT-2 model\n",
                "* Start by loading a randomly initialized BERT model\n",
                "    * You can achieve this by loading an [AutoModelForSequenceClassification.from_config](https://huggingface.co/docs/transformers/model_doc/auto#transformers.AutoModelForSequenceClassification.from_config)\n",
                "    * Make use of the imported `BertConfig`\n",
                "    * Specify `output_attentions=True`\n",
                "* Repeat the process for pre-trained BERT and GPT-2\n",
                "    * For pre-trained BERT, load [bhadresh-savani/bert-base-uncased-emotion](https://huggingface.co/bhadresh-savani/bert-base-uncased-emotion) using [AutoModelForSequenceClassification.from_pretrained](https://huggingface.co/docs/transformers/model_doc/auto#transformers.AutoModelForSequenceClassification.from_pretrained)\n",
                "    * For GPT-2, it is enough to use [AutoModel.from_pretrained](https://huggingface.co/docs/transformers/model_doc/auto#transformers.AutoModel.from_config) method\n",
                "        * This model will not have a language modelling head ontop, but only return hidden states. Since we are only interested in attention outputs, this is enough in this case\n",
                "    * Also specify `output_attentions=True` for both\n",
                "* Set all models into `eval()` mode\n",
                "* Load BERT's and GPT2's tokenizer accordingly using the `AutoTokenizer` import"
            ]
        },
        {
            "cell_type": "code",
            "execution_count": null,
            "id": "5b3842af-00de-45d5-97c1-f08d1962592e",
            "metadata": {
                "id": "5b3842af-00de-45d5-97c1-f08d1962592e"
            },
            "outputs": [],
            "source": [
                "gpt_model_name = 'gpt2'\n",
                "bert_model_name = \"bhadresh-savani/bert-base-uncased-emotion\"\n",
                "\n",
                "rnd_bert = #TODO\n",
                "rnd_bert.eval()\n",
                "\n",
                "bert = #TODO\n",
                "# TODO\n",
                "\n",
                "gpt2 = # TODO\n",
                "# TODO"
            ]
        },
        {
            "cell_type": "code",
            "execution_count": null,
            "id": "2641b438-9be4-4806-b42f-3da9b3ac7bf0",
            "metadata": {
                "id": "2641b438-9be4-4806-b42f-3da9b3ac7bf0"
            },
            "outputs": [],
            "source": [
                "tokenizer_bert = # TODO\n",
                "tokenizer_gpt = # TODO"
            ]
        },
        {
            "cell_type": "markdown",
            "id": "e865a13f-5365-4a53-8136-c8492d33a138",
            "metadata": {
                "id": "e865a13f-5365-4a53-8136-c8492d33a138"
            },
            "source": [
                "* Encode the sentence using both tokenizers\n",
                "    * Return the sentences as torch tensors\n",
                "* Save the tokenized sequence as a list of strings in a variable (required for plotting below)"
            ]
        },
        {
            "cell_type": "code",
            "execution_count": null,
            "id": "3c063af9-f91c-4090-b882-f83943060801",
            "metadata": {
                "id": "3c063af9-f91c-4090-b882-f83943060801"
            },
            "outputs": [],
            "source": [
                "sentence = \"I was so relieved after the phone call yesterday. I smiled the whole day.\"\n",
                "# TODO"
            ]
        },
        {
            "cell_type": "markdown",
            "id": "8ba23baa-4cd7-473f-8453-2b81722cb0b6",
            "metadata": {
                "id": "8ba23baa-4cd7-473f-8453-2b81722cb0b6"
            },
            "source": [
                "* Run the sequence through all 3 models\n",
                "    * Extract and save the attention outputs\n",
                "    * Disable gradient calculation to save memory and speed up the process"
            ]
        },
        {
            "cell_type": "code",
            "execution_count": null,
            "id": "e0388de7-2427-4619-8ab5-70fad6aef619",
            "metadata": {
                "id": "e0388de7-2427-4619-8ab5-70fad6aef619"
            },
            "outputs": [],
            "source": [
                "# TODO"
            ]
        },
        {
            "cell_type": "markdown",
            "id": "bcd2f18c-9bb8-4129-9bd6-24acb1b684a5",
            "metadata": {
                "id": "bcd2f18c-9bb8-4129-9bd6-24acb1b684a5"
            },
            "source": [
                "* Visualize the attention maps using `bertviz`'s [model_view](https://github.com/jessevig/bertviz#model-view) and [head_view](https://github.com/jessevig/bertviz#head-view) for each of the three models\n",
                "* Inspect the attention patterns and structures and answer the questions below\n",
                "* If you encounter a `javascript: require is not defined` error, simply execute the cell again, sometimes jupyterlab's widgets need to be reloaded"
            ]
        },
        {
            "cell_type": "code",
            "execution_count": null,
            "id": "750e5bb5-bc71-4394-8dfe-b3fe984e9baf",
            "metadata": {
                "id": "750e5bb5-bc71-4394-8dfe-b3fe984e9baf"
            },
            "outputs": [],
            "source": [
                "# TODO"
            ]
        },
        {
            "cell_type": "code",
            "execution_count": null,
            "id": "16f16178-00ff-48a8-8f97-51a248d18212",
            "metadata": {
                "id": "16f16178-00ff-48a8-8f97-51a248d18212"
            },
            "outputs": [],
            "source": [
                "# TODO"
            ]
        },
        {
            "cell_type": "code",
            "execution_count": null,
            "id": "8dd545b7-008a-49c6-a53f-c60fffb5f574",
            "metadata": {
                "id": "8dd545b7-008a-49c6-a53f-c60fffb5f574"
            },
            "outputs": [],
            "source": [
                "# TODO"
            ]
        },
        {
            "cell_type": "code",
            "execution_count": null,
            "id": "e6009386-c805-45d5-85a9-868b23b3dad0",
            "metadata": {
                "id": "e6009386-c805-45d5-85a9-868b23b3dad0",
                "tags": []
            },
            "outputs": [],
            "source": [
                "# TODO"
            ]
        },
        {
            "cell_type": "code",
            "execution_count": null,
            "id": "d3962233-621b-4ddc-a648-b310d74ed4a6",
            "metadata": {
                "id": "d3962233-621b-4ddc-a648-b310d74ed4a6"
            },
            "outputs": [],
            "source": [
                "# TODO"
            ]
        },
        {
            "cell_type": "code",
            "execution_count": null,
            "id": "c6614441-32cb-44df-9640-19be81828e72",
            "metadata": {
                "id": "c6614441-32cb-44df-9640-19be81828e72"
            },
            "outputs": [],
            "source": [
                "# TODO"
            ]
        },
        {
            "cell_type": "markdown",
            "id": "47279588-f98c-4334-b533-09f4d1f849a2",
            "metadata": {
                "id": "47279588-f98c-4334-b533-09f4d1f849a2"
            },
            "source": [
                "Hint: State approximately 2-3 observations/answers per question. Always point to the specific layer(s) and head(s) where your observation(s) can be found.\n",
                "\n",
                "Questions:\n",
                "* What difference can you observe between the randomly initialized model and both trained models?\n",
                "* What general patterns and differences in attention maps can you see between the trained BERT and GPT-2 models? How can they be explained? Think about the attention and masking behavior of BERT vs. GPT models.\n",
                "* Compare the trained BERT and GPT-2 model on the following aspects:\n",
                "    * Hierarchical patterns: Do lower or higher layers attend to more local and syntactic structures?\n",
                "    * Intra-layer head behavior: Do heads belonging to the same layer capture similar or different structures or patterns?\n",
                "    * Redundancy: Are there repeated attention patterns across heads and/or layers? Is redundancy rather beneficial or hurtful?\n",
                "    * Interpretability: Can you find interpretable structures in certain layers and/or heads? You could try to look for DET-NOUN dependencies, subject-verb-object structures, next- or previous-word attention. For instance, GPT-2's layer 5 head 4 attends 'smiled' to 'the whole day'.\n"
            ]
        },
        {
            "cell_type": "markdown",
            "id": "bcd496c2-6408-4c8b-9d49-a1aef85ec399",
            "metadata": {
                "id": "bcd496c2-6408-4c8b-9d49-a1aef85ec399"
            },
            "source": [
                "___\n",
                "Student answers here:\n",
                "\n",
                "___"
            ]
        },
        {
            "cell_type": "markdown",
            "id": "97b7b2d8-7052-4e3c-b8a0-8f3238551c0b",
            "metadata": {
                "id": "97b7b2d8-7052-4e3c-b8a0-8f3238551c0b"
            },
            "source": [
                "## Task 1.2: Role and Importance of Individual Heads"
            ]
        },
        {
            "cell_type": "markdown",
            "id": "6743554a-f854-449c-b96c-decfb1bc0692",
            "metadata": {
                "id": "6743554a-f854-449c-b96c-decfb1bc0692"
            },
            "source": [
                "### Task 1.2.1: Entropy Per Head"
            ]
        },
        {
            "cell_type": "markdown",
            "id": "1bf033e4-d723-4df3-9541-d640f2b7130d",
            "metadata": {
                "id": "1bf033e4-d723-4df3-9541-d640f2b7130d"
            },
            "source": [
                "* We saw in our visualizations that sometimes a single head attended only to one specific token, but also that often an individual head attended almost uniformly to all tokens.\n",
                "* This phenomenon can be measured, i.e. quantified, using [Entropy](https://en.wikipedia.org/wiki/Entropy_(information_theory)\n",
                "* First, implement the following entropy formula:\n",
                "$$\n",
                "H(X) := - \\sum_{x \\in X} p(x) \\log{p(x)}\n",
                "$$\n",
                "    * Our attention output tensor of a single layer $L$ of shape `[batch_size, num_heads, seq_len, seq_len]` represents the discrete random variable $X$\n",
                "    * $X$ consists of `num_heads=12` attention heads in the case of BERT\n",
                "    * Each attention head has a sequence length of `seq_len` (whatever you chose above for your sentence)\n",
                "    * $p(x)$ represents the probability distribution over the `seq_len` tokens in the sequence\n",
                "    * Each $x \\in X$ corresponds to a token position in the sequence\n",
                "    * For each $x \\in X$, the value is between 0 and 1, indicating the probability of the attention weight for the token at position $x$ connecting to a subset of tokens within the sequence\n",
                "        * Remember that due to the softmax operation during attention calculation, each attention head of our output already represents a probability distribution over the token sequence"
            ]
        },
        {
            "cell_type": "code",
            "execution_count": null,
            "id": "c48649d5-a329-45db-bbb6-4cdbee480dce",
            "metadata": {
                "id": "c48649d5-a329-45db-bbb6-4cdbee480dce"
            },
            "outputs": [],
            "source": [
                "def entropy(p):\n",
                "    # TODO\n",
                "    return # TODO"
            ]
        },
        {
            "cell_type": "markdown",
            "id": "206501d1-601f-4d89-a3b3-9f2687d1f750",
            "metadata": {
                "id": "206501d1-601f-4d89-a3b3-9f2687d1f750"
            },
            "source": [
                "* Apply the function to all attention layers\n",
                "    * Per layer, the resulting entropy output should be of shape `[batch_size, num_heads, num_tokens]`\n",
                "* Calculate the entropy per head by summing up the per-token entropy\n",
                "    * Repeat the process for all layers in the model\n",
                "* Compare the entropy across heads and layers by visualizing the trends in a line plot\n",
                "    * The x-axis should represents the 12 head positions\n",
                "    * The y-axis should represent the entropy per head\n",
                "    * The plot should include 12 lines (i.e. the layers) with 12 positions (i.e. the heads)\n",
                "    * Create an interactive plot by using [plotly.express.line](https://plotly.com/python-api-reference/generated/plotly.express.line)\n",
                "        * Complete the function `create_plotly_lineplot`\n",
                "        * As the documentation shows, it expects a DataFrame `df` where each column is a layer, and each row are the entropy values of an attention head in that layer\n",
                "        * The `plotly.express.line` function returns a [Figure](https://plotly.com/python-api-reference/generated/plotly.graph_objects.Figure.html)\n",
                "        * We can [fig.update_layout](https://plotly.com/python-api-reference/generated/plotly.graph_objects.Figure.html#plotly.graph_objects.Figure.update_layout) to include [custom buttons](https://plotly.com/python/custom-buttons/) to toggle between the lines\n",
                "        * To achieve this, we need to create one dictionary per layer that has a `visible` setting to `True` at its layer number, i.e. if its the third layer, the third index should be `True`, and all remaining set to `False`.\n",
                "        * In the end, we need a list with 12 dictionaries in the following style\n",
                "        ```\n",
                "        {\n",
                "            \"label\": \"Layer 0\",           # the name of the button\n",
                "            \"method\": \"update\",           # means that we should 'update' the plot when clicking this\n",
                "            \"args\": [                     # the visibility argument for the respective layer\n",
                "                {                         \n",
                "                    \"visible\": [\n",
                "                        True,             # set True for the corresponding index of the layer\n",
                "                        False,\n",
                "                        False,\n",
                "                        False,\n",
                "                        False,\n",
                "                        False,\n",
                "                        False,\n",
                "                        False,\n",
                "                        False,\n",
                "                        False,\n",
                "                        False,\n",
                "                        False,\n",
                "                    ]\n",
                "                }\n",
                "            ],\n",
                "        }\n",
                "        ```\n",
                "        * Add to the list a `Show All` button with visibility settings to all `True`\n",
                "        * Then, use `fig.update_layout`'s `updatemenus` (as linked above) to include the buttons in the plot\n",
                "        * Lastly, use [fig.update_traces](https://plotly.com/python-api-reference/generated/plotly.graph_objects.Figure.html#plotly.graph_objects.Figure.update_traces) with `mode=\"lines+markers\"` to include markers at each x-tick in the plot\n",
                "        * Return the figure at this stage\n",
                "    * Save the plot [as an html-file](https://plotly.com/python-api-reference/generated/plotly.graph_objects.Figure.html#plotly.graph_objects.Figure.write_html). You can now open it in your browser and analyze the entropy per layer and head. You can also hover over each line and see the exact entropy value for that layer and head.\n",
                "    * You can do this interactive plotting style for [all kinds of plots](https://plotly.com/python-api-reference/generated/plotly.express.html#module-plotly.express), which makes analyzing high-dimensional data much more intuitive\n",
                "    * Include a screenshot of the html view in your submission\n",
                "* Go back to the visualized BERT attention maps and check that some of the patterns here match with the observed visualizations\n",
                "    * Choose some distinct results (e.g. outliers) and compare it with the `head_view`\n",
                "    * In the drop-down menu, select the outlier layer\n",
                "        * (1) Hover of the words to see the color patterns of each respective head\n",
                "        * (2) Double click on the head to see only the attention weights and connections of that head\n",
                "* Repeat for some (3 or more) patterns and describe what you see\n",
                "    * What do high entropy heads correspond to when visualized?\n",
                "    * What do low entropy heads correspond to when visualized?"
            ]
        },
        {
            "cell_type": "code",
            "execution_count": null,
            "id": "4c34ace0-203d-4464-8e09-5ceb5b9862e2",
            "metadata": {
                "id": "4c34ace0-203d-4464-8e09-5ceb5b9862e2",
                "tags": []
            },
            "outputs": [],
            "source": [
                "def create_plotly_lineplot(df):\n",
                "    # TODO\n",
                "\n",
                "    return # TODO"
            ]
        },
        {
            "cell_type": "code",
            "execution_count": null,
            "id": "aaaffb54-25c4-403d-b6a0-5c2afa5db002",
            "metadata": {
                "id": "aaaffb54-25c4-403d-b6a0-5c2afa5db002"
            },
            "outputs": [],
            "source": [
                "# TODO"
            ]
        },
        {
            "cell_type": "markdown",
            "id": "78b58e0e-2025-47aa-a286-2682d1d41849",
            "metadata": {
                "id": "78b58e0e-2025-47aa-a286-2682d1d41849"
            },
            "source": [
                "___\n",
                "Student answers here:\n",
                "\n",
                "___"
            ]
        },
        {
            "cell_type": "markdown",
            "id": "7aedf8be-ad41-40b9-aafe-ea76526ccef2",
            "metadata": {
                "id": "7aedf8be-ad41-40b9-aafe-ea76526ccef2"
            },
            "source": [
                "### Task 1.2.2: Importance Per Head"
            ]
        },
        {
            "cell_type": "markdown",
            "id": "5625bd32-15de-4388-9008-760d90d7b1a5",
            "metadata": {
                "id": "5625bd32-15de-4388-9008-760d90d7b1a5"
            },
            "source": [
                "* After having seen how different attention heads correspond to different entropy levels, we can also calculate an [importance score](http://arxiv.org/abs/1905.10650) for each head\n",
                "* For this experiment, we define a mask $\\xi_{h}$, which can drop out (i.e. set to zero) an attention head\n",
                "    * If the mask is not active (i.e. set to 1), the attention weights of the head remain unchanged (represented by $\\xi_h$)\n",
                "* Then, we feed in a sample $x$, calculate the loss $\\mathcal{L}(x)$, and analyze the sensitivity of the loss w.r.t. the masked head\n",
                "* The importance of that head follows as\n",
                "$$\n",
                "I_h = \\big\\vert \\frac{\\partial \\mathcal{L}(x)}{\\partial \\xi_h} \\big\\vert\n",
                "$$\n",
                "* The absolute value avoids large negative and positive values from nullifying each other"
            ]
        },
        {
            "cell_type": "markdown",
            "id": "4aba276c-5cd6-42f3-b904-99bd177d1d0d",
            "metadata": {
                "id": "4aba276c-5cd6-42f3-b904-99bd177d1d0d"
            },
            "source": [
                "* Define the `device` to use the GPU"
            ]
        },
        {
            "cell_type": "code",
            "execution_count": null,
            "id": "2fa8a799-96fb-421d-948d-b418950ef488",
            "metadata": {
                "id": "2fa8a799-96fb-421d-948d-b418950ef488"
            },
            "outputs": [],
            "source": [
                "device = # TODO"
            ]
        },
        {
            "cell_type": "markdown",
            "id": "f0f31f48-1e2b-42c7-be1a-df2a378601c8",
            "metadata": {
                "id": "f0f31f48-1e2b-42c7-be1a-df2a378601c8"
            },
            "source": [
                "* For this experiment, we will work with the [DAIR-AI Emotion Dataset](https://huggingface.co/datasets/dair-ai/emotion), but in this case you only need to load the `split='test'`\n",
                "    * Select only the first 32 samples\n",
                "    * Tokenize, pad, truncate to maximum 512 tokens, and return torch tensors of those 32 samples\n",
                "    * Extract the labels of those 32 samples, too\n",
                "    * This batch will serve as the exemplary classification dataset on which we calculate importance metrics\n"
            ]
        },
        {
            "cell_type": "code",
            "execution_count": null,
            "id": "919ada25-efba-468a-8f75-8c664197bf79",
            "metadata": {
                "id": "919ada25-efba-468a-8f75-8c664197bf79"
            },
            "outputs": [],
            "source": [
                "# TODO"
            ]
        },
        {
            "cell_type": "markdown",
            "id": "1cc3bdf9-e809-4f7a-9b42-d555badceb76",
            "metadata": {
                "id": "1cc3bdf9-e809-4f7a-9b42-d555badceb76"
            },
            "source": [
                "* Then, we will write a function `get_head_importance`, which takes in the `model`, `samples`, `labels`, `device`, and an optional `mask`\n",
                "* Define a zero-tensor of shape `[num_layers, num_heads]`, which stores the importance scores of all heads\n",
                "* If no `mask` is provided, create a `mask` of ones (i.e. we are not masking anything currently) in the same shape\n",
                "* In all cases, whether given or newly created, [enable gradient calculuation](https://pytorch.org/docs/stable/generated/torch.Tensor.requires_grad_.html) for the mask\n",
                "* Move all necessary objects to the `device`\n",
                "* Forward the samples through the model\n",
                "    * Include the [labels](https://huggingface.co/docs/transformers/model_doc/bert#transformers.BertForSequenceClassification.forward.labels) and [head_mask](https://huggingface.co/docs/transformers/model_doc/bert#transformers.BertForSequenceClassification.forward.head_mask)\n",
                "    * Extract loss and logits from the [output](https://huggingface.co/docs/transformers/v4.33.0/en/main_classes/output#transformers.modeling_outputs.SequenceClassifierOutput)\n",
                "* Then, call `backward()` on the loss to distribute the gradients among the head mask\n",
                "    * We do not train the model (i.e. no optimizer here), but we need the gradients (see formula above) for each head mask position w.r.t. each loss sample\n",
                "    * PyTorch's autograd and `backward()` method allows us calculate and backpropagate any form of gradients, even without the classical training/optimization setup\n",
                "* Now, we can check the head importance by accessing the [grad](https://pytorch.org/docs/stable/generated/torch.Tensor.grad.html) method of the earlier created `mask` tensor\n",
                "    * [detach](https://pytorch.org/docs/stable/generated/torch.Tensor.detach.html) the tensor from the gradient calculation graph\n",
                "    * Take the absolute value of it as shown in the formula\n",
                "* It is common to normalize the head-importance scores in two ways\n",
                "    * First, divide the head importance scores by the number of real (i.e. non-padding) tokens in the batch\n",
                "    * Secondly, calculate the [l2-norm](https://mathworld.wolfram.com/L2-Norm.html) per layer\n",
                "        * Make sure to adjust the shapes of the $l_2$ norm to fit the head importance tensor\n",
                "        * Add a safety term of `1e-20` to the $l_2$ norm to avoid possible divisons by zero\n",
                "        * Divide the head importance by the $l_2$ norm\n",
                "* Return the head importance, logits, and labels"
            ]
        },
        {
            "cell_type": "code",
            "execution_count": null,
            "id": "c8945e64-f619-4ee7-ab97-73557b607eaf",
            "metadata": {
                "id": "c8945e64-f619-4ee7-ab97-73557b607eaf"
            },
            "outputs": [],
            "source": [
                "def get_head_importance(model, samples, labels, device, mask=None):\n",
                "    # TODO\n",
                "    return # TODO"
            ]
        },
        {
            "cell_type": "markdown",
            "id": "7668dfc7-952e-4b9e-bcb6-6d6dbadd077e",
            "metadata": {
                "id": "7668dfc7-952e-4b9e-bcb6-6d6dbadd077e"
            },
            "source": [
                "* Calculate the head importance for our BERT model and the 32 samples"
            ]
        },
        {
            "cell_type": "code",
            "execution_count": null,
            "id": "50da9871-1cea-4437-b114-e0b5b40c877f",
            "metadata": {
                "id": "50da9871-1cea-4437-b114-e0b5b40c877f"
            },
            "outputs": [],
            "source": [
                "# TODO"
            ]
        },
        {
            "cell_type": "markdown",
            "id": "30196acb-090d-4dc2-8dd5-e8f9a4d46ed0",
            "metadata": {
                "id": "30196acb-090d-4dc2-8dd5-e8f9a4d46ed0"
            },
            "source": [
                "* Visualize the head importance in the same interactive way as you did with the entropy plots\n",
                "* You can re-use `create_plotly_lineplot`, just create a DataFrame from the returned head importance tensor instead of the entropy tensor\n",
                "* Comment on any trends you see in the importance of heads. Which head is the most important?\n",
                "* Create again an HTML version of the plot and include a screenshot of your plot in the submission"
            ]
        },
        {
            "cell_type": "code",
            "execution_count": null,
            "id": "a36644fb-5ddf-49c8-be9f-ffce257f4ce2",
            "metadata": {
                "id": "a36644fb-5ddf-49c8-be9f-ffce257f4ce2"
            },
            "outputs": [],
            "source": [
                "# TODO"
            ]
        },
        {
            "cell_type": "markdown",
            "id": "6c6fcb62-276b-47be-a10a-d1c2d6a06e06",
            "metadata": {
                "id": "6c6fcb62-276b-47be-a10a-d1c2d6a06e06"
            },
            "source": [
                "___\n",
                "Student answers here:\n",
                "\n",
                "___"
            ]
        },
        {
            "cell_type": "markdown",
            "id": "d014e1de-49fe-452c-a121-8c21e09c62cc",
            "metadata": {
                "id": "d014e1de-49fe-452c-a121-8c21e09c62cc"
            },
            "source": [
                "* Investigate whether there is a positive, negative, or no correlation between each attention head's entropy and importance score\n",
                "* Calculate the [correlation coefficient](https://numpy.org/doc/stable/reference/generated/numpy.corrcoef.html) between the entropies and importance scores\n",
                "* Create a scatter plot to visualize your findings\n",
                "* Comment on the results"
            ]
        },
        {
            "cell_type": "code",
            "execution_count": null,
            "id": "73b8799b-ee7d-4dce-b9c5-ae61540845fb",
            "metadata": {
                "id": "73b8799b-ee7d-4dce-b9c5-ae61540845fb"
            },
            "outputs": [],
            "source": [
                "# TODO"
            ]
        },
        {
            "cell_type": "markdown",
            "id": "ff906454-dc8d-493c-aea7-803b6bacbf85",
            "metadata": {
                "id": "ff906454-dc8d-493c-aea7-803b6bacbf85"
            },
            "source": [
                "___\n",
                "Student answers here:\n",
                "\n",
                "___"
            ]
        },
        {
            "cell_type": "markdown",
            "id": "deef9245-be53-4305-96b2-60d43e7d3595",
            "metadata": {
                "id": "deef9245-be53-4305-96b2-60d43e7d3595"
            },
            "source": [
                "### Task 1.2.3: Masking and Pruning Heads"
            ]
        },
        {
            "cell_type": "markdown",
            "id": "c179cede-2255-4306-a286-00137f22751b",
            "metadata": {
                "id": "c179cede-2255-4306-a286-00137f22751b"
            },
            "source": [
                "* As we can see from the line and scatter plots, a lot of attention heads have an importance of near 0\n",
                "* As a consequence, we can investigate which and how many we can remove from our model without losing a predefined threshold of performance\n",
                "* Dropping attention heads leads to dropping parameters, which results in a smaller model for further finetuning or inference\n",
                "* However, directly dropping heads is risky, since dropping a head affects the calculations and, therefore, the performance of the remaining model\n",
                "* Therefore, we remove heads through masking consecutively and test the performance after each removed head\n",
                "* Once we found an acceptable performance-masking tradeoff, we can actually remove the heads from the model"
            ]
        },
        {
            "cell_type": "markdown",
            "id": "4e2e9ef5-a094-4825-be6a-c9d35962c135",
            "metadata": {
                "id": "4e2e9ef5-a094-4825-be6a-c9d35962c135"
            },
            "source": [
                "* Write a function that takes in a `model`, `samples`, `labels`, `threshold` and `device`\n",
                "* Start again with an inactive mask\n",
                "* Set the starting head importance, logits, and labels\n",
                "* Use logits and labels to calculate a base accuracy performance with the inactive mask\n",
                "* We perform the following process until either the accuracy dropped more than 5% (i.e. threshold level) below starting accuracy, or until all heads are masked\n",
                "    * We continuously select the next lowest importance head\n",
                "    * We mask its position in the mask\n",
                "    * Recalculate the head importance and accuracy level with the masked heads\n",
                "      * Hint: Depending on your implementation, you might find [clone](https://pytorch.org/docs/stable/generated/torch.clone.html) and/or [detach](https://pytorch.org/docs/stable/generated/torch.Tensor.detach.html) helpful when dealing with the `mask` and/or `head_importance`\n",
                "    * Set the head's importance to positive infinity so that it will always be last in future importance rankings\n",
                "* Save the number of masked heads with the corresponding accuracy level for each iteration as a tuple `(int, float)` in a list\n",
                "    * The accuracy should be rounded to 4 decimal places\n",
                "* The function returns the final `mask` and the list of tuples"
            ]
        },
        {
            "cell_type": "code",
            "execution_count": null,
            "id": "7d77091f-6cd1-485c-a8d7-d87d63aa4467",
            "metadata": {
                "id": "7d77091f-6cd1-485c-a8d7-d87d63aa4467"
            },
            "outputs": [],
            "source": [
                "def find_min_heads(model, samples, labels, threshold, device):\n",
                "    # TODO\n",
                "\n",
                "    return # TODO"
            ]
        },
        {
            "cell_type": "markdown",
            "id": "998dabc0-b487-42ae-9257-15a54ffbc9fd",
            "metadata": {
                "id": "998dabc0-b487-42ae-9257-15a54ffbc9fd"
            },
            "source": [
                "* Find the minimum number of heads required before performance drops below the given 5% threshold\n",
                "* Plot the accuracy level per number of masked heads below\n",
                "* Comment on your findings\n",
                "    * Keep in mind that we are evaluating on a very small set of 32 samples\n",
                "        * I.e extreme results are possible, such as masking large percentages of the model's heads without noticing performance differences\n",
                "    * It is possible that the accuracy can rise intermediately, even though heads are dropped. Try to explain what is happening in such cases.\n",
                "    * In practice, you would usually run this experiment on the whole [GLUE dataset](https://huggingface.co/datasets/glue) to have a more representative and diverse accuracy baseline"
            ]
        },
        {
            "cell_type": "code",
            "execution_count": null,
            "id": "28068303-1f7e-4a36-add1-f78357a1beb9",
            "metadata": {
                "id": "28068303-1f7e-4a36-add1-f78357a1beb9"
            },
            "outputs": [],
            "source": [
                "# TODO"
            ]
        },
        {
            "cell_type": "markdown",
            "id": "2e16c91c-70c9-4a9a-8ac8-98d5c0a5e8d5",
            "metadata": {
                "id": "2e16c91c-70c9-4a9a-8ac8-98d5c0a5e8d5"
            },
            "source": [
                "___\n",
                "Student answers here:\n",
                "___"
            ]
        },
        {
            "cell_type": "markdown",
            "id": "c0bc3b53-c23d-4ec5-b580-32186e536080",
            "metadata": {
                "id": "c0bc3b53-c23d-4ec5-b580-32186e536080"
            },
            "source": [
                "* Now that we have our mask, we can actually remove from the model the heads we masked before (pruning)\n",
                "* Create a dictionary that [maps each layer's index to the indices of the heads to prune](https://huggingface.co/docs/transformers/main_classes/model#transformers.PreTrainedModel.prune_heads)\n",
                "* Calculate the number of parameters before and after pruning to show the effect\n",
                "    * Note that the `prune_heads` method changes the model in-place"
            ]
        },
        {
            "cell_type": "code",
            "execution_count": null,
            "id": "c6001c2c-4f38-47b4-a2bf-aaad6cc516ad",
            "metadata": {
                "id": "c6001c2c-4f38-47b4-a2bf-aaad6cc516ad"
            },
            "outputs": [],
            "source": [
                "# TODO"
            ]
        },
        {
            "cell_type": "markdown",
            "id": "bc64502b-d6a7-4430-8432-06bd7a16dbf5",
            "metadata": {
                "id": "bc64502b-d6a7-4430-8432-06bd7a16dbf5"
            },
            "source": [
                "# Task 2: Decoding"
            ]
        },
        {
            "cell_type": "markdown",
            "id": "eb9b9b74-a3ed-461c-8d5b-ba1b94950ff8",
            "metadata": {
                "id": "eb9b9b74-a3ed-461c-8d5b-ba1b94950ff8"
            },
            "source": [
                "* In the following, we will have a look at various ways of generating text from model output probabilities\n",
                "* Specifically, we will see how much of an impact the decoding strategy has on the generated text\n",
                "* Using Hugging Face, we will try both basic and more advanced as well as commonly used decoding strategies for the same input prompt\n",
                "* Therefore, we can see and analyze the shortcomings and advantages of various decoding strategies *while keeping the model and prompt equal*"
            ]
        },
        {
            "cell_type": "code",
            "execution_count": null,
            "id": "65047480-3e2a-40ed-923c-b090d3d07cb9",
            "metadata": {
                "id": "65047480-3e2a-40ed-923c-b090d3d07cb9"
            },
            "outputs": [],
            "source": [
                "import torch\n",
                "from transformers import AutoTokenizer, AutoModelForCausalLM"
            ]
        },
        {
            "cell_type": "markdown",
            "id": "09be8a86-279e-4097-b4f3-c86b5083bf88",
            "metadata": {
                "id": "09be8a86-279e-4097-b4f3-c86b5083bf88"
            },
            "source": [
                "* Define the device for decoding\n",
                "* Load GPT-2 with its language modeling head and the corresponding tokenizer\n",
                "    * Since we are doing open ended text generation, there is no padding token necessary\n",
                "    * To disable the warning by the model, you can set `pad_token_id=tokenizer.eos_token_id` inside the `from_pretrained` model loading process\n",
                "    * Set it into eval mode"
            ]
        },
        {
            "cell_type": "code",
            "execution_count": null,
            "id": "1fcfb075-d84a-4527-af76-b91cac6afe9f",
            "metadata": {
                "id": "1fcfb075-d84a-4527-af76-b91cac6afe9f"
            },
            "outputs": [],
            "source": [
                "device = # TODO\n",
                "\n",
                "tokenizer = # TODO\n",
                "model = # TODO\n",
                "# TODO"
            ]
        },
        {
            "cell_type": "markdown",
            "id": "1f36e994-90b1-4168-a111-01b8515b3837",
            "metadata": {
                "id": "1f36e994-90b1-4168-a111-01b8515b3837"
            },
            "source": [
                "## Task 2.1: Greedy Search"
            ]
        },
        {
            "cell_type": "markdown",
            "id": "fc1f945c-61a0-4d47-996d-f8e86f1200c4",
            "metadata": {
                "id": "fc1f945c-61a0-4d47-996d-f8e86f1200c4"
            },
            "source": [
                "* Greedy search is the most straightforward method for generating sequences\n",
                "* Starting from an initial context, e.g. a prompt, the model generates the next token in the sequence by selecting the token that has the highest predicted probability according to the model\n",
                "* The selected token is added to the sequence, and the process is repeated to generate the entire sequence\n",
                "* Importantly, in each step the model *only* considers the most likely token based on its current context\n",
                "* Greedy search is deterministic, meaning it always chooses the same token given the current context\n",
                "* The decoding algorithm continues until the set maximum generated length has been reached, or until the end-token has been generated"
            ]
        },
        {
            "cell_type": "markdown",
            "id": "38531618-bfe4-4c6f-9e1b-0c7c0401cbc2",
            "metadata": {
                "id": "38531618-bfe4-4c6f-9e1b-0c7c0401cbc2"
            },
            "source": [
                "* Given the sentence below:\n",
                "    * Tokenize the prompt\n",
                "    * Generate the output using [model.generate()](https://huggingface.co/docs/transformers/v4.33.0/en/main_classes/text_generation#transformers.GenerationMixin.generate)\n",
                "        * Limit the generation length to 128 tokens\n",
                "    * Decode the generated output to a human readable format\n",
                "    * Discuss the quality of output. Relate the possible advantages and disadvantages of the output to the algorithm used."
            ]
        },
        {
            "cell_type": "code",
            "execution_count": null,
            "id": "25c72beb-bba1-429f-8fcb-b08d63664267",
            "metadata": {
                "id": "25c72beb-bba1-429f-8fcb-b08d63664267"
            },
            "outputs": [],
            "source": [
                "sentence = \"I came back from holidays and\"\n",
                "# TODO"
            ]
        },
        {
            "cell_type": "markdown",
            "id": "02ae0869-16aa-472a-9c75-e87752a15717",
            "metadata": {
                "id": "02ae0869-16aa-472a-9c75-e87752a15717"
            },
            "source": [
                "___\n",
                "Student answers here:\n",
                "\n",
                "___"
            ]
        },
        {
            "cell_type": "markdown",
            "id": "69d3312c-cbc3-4d39-9ca3-62ef7060e8de",
            "metadata": {
                "id": "69d3312c-cbc3-4d39-9ca3-62ef7060e8de"
            },
            "source": [
                "## Task 2.2: Beam search"
            ]
        },
        {
            "cell_type": "markdown",
            "id": "e03028fe-773f-4dea-b4fb-e95ed532e754",
            "metadata": {
                "id": "e03028fe-773f-4dea-b4fb-e95ed532e754"
            },
            "source": [
                "* Beam search is an extension of greedy search and aims to overcome some of its limitations\n",
                "* Starting from an initial context, the model generates multiple candidate tokens for the next position, typically referred to as \"beams\"\n",
                "* Each beam represents a hypothesis for the next token in the sequence\n",
                "* The model scores and ranks these beams based on their predicted probabilities\n",
                "* The top-k beams with the highest scores are selected to continue the generation process, where k is a user-defined parameter known as the \"beam width\"\n",
                "* The selected beams are extended with candidate tokens, and the process is repeated iteratively\n",
                "* Beam search maintains multiple active hypotheses in parallel, allowing it to optimize coherence in the sequence across multiple paths\n",
                "* Decoding continues until one or more beams generate an end token or reach the maximum sequence length"
            ]
        },
        {
            "cell_type": "markdown",
            "id": "c360fe79-4dca-4f1d-9940-587cdfa286db",
            "metadata": {
                "id": "c360fe79-4dca-4f1d-9940-587cdfa286db"
            },
            "source": [
                "* In the following, we will implement (a simplified version of) the beam search algorithm, and compare it to Hugging Face's implementation of beam search\n",
                "    * Hint: Aside from efficiency tweaks, we do not include any length bonus or penalization of short sequences, as you may later notice (depending on the prompt)\n",
                "* First, we define a helper function called `generate_candidates`, which will generate our possible next token along each hypothesis path\n",
                "    * It takes as input the `model`, the `context`, which is the tokenized prompt, the so far newly generated `sequence`, the `beam_width`, and the `device`\n",
                "    * The model predicts logits based on the concatenated context and sequence\n",
                "    * We extract the last predicted token position of the logits, which serves as the next token prediction\n",
                "    * From this hidden representation, we return the top-k indices of the vocabulary, whereas the `beam_width` parameter determines the $k$\n",
                "    * Make sure to place everything on the `device` as required\n",
                "* The main `beam_search` function takes as input the `model`, `context`, `beam_width`, `max_length`, and `device`\n",
                "    * Create a data structure `hypotheses` that holds all of the newly generated sequences along with their log-probability scores\n",
                "    * In our simplified version, we generate new tokens until the maximum length is reached\n",
                "    * In each step, we iterate through all hypotheses\n",
                "    * Each hypothesis generates candidates with our above helper function based on the current progress of newly generated sequences\n",
                "        * In the first iteration, this newly generated sequence is simply empty (it is not necessary to consider start tokens here)\n",
                "        * As a result, we generate the first new token only based on the provided `context`\n",
                "    * Next, we extend the hypothesis step by step with each candidate token\n",
                "        * Each extension is paired with the initial context and put through the model\n",
                "        * Then, we calculate log-probabilities for each position in the vocabulary and extract the candidate position\n",
                "        * This log-probability is stored together with the hypthesis and extended/summed up with each new candidate token and log-probability\n",
                "        * Save all scored hypothesis and candidate combinations\n",
                "    * Based on all hypothesis combinations, extract the top-`beam_width` number of combinations based on the highest scores\n",
                "    * Overwrite the earlier created `hypotheses` datastructure with those top-`beam_width` hypotheses, so that we start the next iteration with `beam_width`-many hypotheses\n",
                "    * When `max_length` token have been generated, return the combined indices of the initial context and the generated ones\n",
                "    * Disable gradient calculation and move everything to `device` as necessary\n",
                "* Use the function with `beam_width=5` and `max_length=50` to generate the output, then decode it as done above."
            ]
        },
        {
            "cell_type": "code",
            "execution_count": null,
            "id": "ef25f652-00e6-45da-a60e-e701877afce5",
            "metadata": {
                "id": "ef25f652-00e6-45da-a60e-e701877afce5"
            },
            "outputs": [],
            "source": [
                "def generate_candidates(model, context, sequence, beam_width, device):\n",
                "    # TODO\n",
                "\n",
                "    return # TODO"
            ]
        },
        {
            "cell_type": "code",
            "execution_count": null,
            "id": "6a1ce218-9662-4796-ba3e-2168d6439692",
            "metadata": {
                "id": "6a1ce218-9662-4796-ba3e-2168d6439692"
            },
            "outputs": [],
            "source": [
                "def beam_search(model, context, beam_width, max_length, device):\n",
                "    # TODO\n",
                "\n",
                "    return # TODO"
            ]
        },
        {
            "cell_type": "code",
            "execution_count": null,
            "id": "fbec211a-eeef-47ab-8919-3ee9ef2ed5e1",
            "metadata": {
                "id": "fbec211a-eeef-47ab-8919-3ee9ef2ed5e1"
            },
            "outputs": [],
            "source": [
                "# TODO"
            ]
        },
        {
            "cell_type": "markdown",
            "id": "ddfd81fa-2b48-45ed-ab0d-bbadee7241de",
            "metadata": {
                "id": "ddfd81fa-2b48-45ed-ab0d-bbadee7241de"
            },
            "source": [
                "* Now repeat the beam search process using [model.generate()](https://huggingface.co/docs/transformers/v4.33.0/en/main_classes/text_generation#transformers.GenerationMixin.generate)\n",
                "    * Limit the generation length to 128 tokens\n",
                "    * To choose beam search, set `num_beams=5` and `early_stopping=True`\n",
                "* Decode the generated output to a human readable format\n",
                "* Discuss the quality of our simplified beam search output and Hugging Face's output. Relate the possible advantages and disadvantages of the output to the algorithm used."
            ]
        },
        {
            "cell_type": "code",
            "execution_count": null,
            "id": "f0404d34-f883-4634-ad59-314f8b745be5",
            "metadata": {
                "id": "f0404d34-f883-4634-ad59-314f8b745be5"
            },
            "outputs": [],
            "source": [
                "# TODO"
            ]
        },
        {
            "cell_type": "markdown",
            "id": "71b7b20e-51b3-4af0-86e7-975370ef86c1",
            "metadata": {
                "id": "71b7b20e-51b3-4af0-86e7-975370ef86c1"
            },
            "source": [
                "___\n",
                "Student answers here:\n",
                "___"
            ]
        },
        {
            "cell_type": "markdown",
            "id": "cf462811-971f-4de9-8657-7b94e2b0b6b3",
            "metadata": {
                "id": "cf462811-971f-4de9-8657-7b94e2b0b6b3"
            },
            "source": [
                "* In order to specifically reduce repetitions, beam search can be adapted with a `no_repeat_ngram_size=2` option\n",
                "    * This prevents the model from generating any ngrams of size 2 twice\n",
                "* Generate its output using the option and discuss the new results again. When can this option be useful? In which case does it (always) deteriorate the output?"
            ]
        },
        {
            "cell_type": "code",
            "execution_count": null,
            "id": "ad542bc2-8f02-4b5a-9474-4c7570a24b10",
            "metadata": {
                "id": "ad542bc2-8f02-4b5a-9474-4c7570a24b10"
            },
            "outputs": [],
            "source": [
                "# TODO"
            ]
        },
        {
            "cell_type": "markdown",
            "id": "61439bc3-c5ef-452f-bb4c-13cdb8d3be35",
            "metadata": {
                "id": "61439bc3-c5ef-452f-bb4c-13cdb8d3be35"
            },
            "source": [
                "___\n",
                "Student answers here:\n",
                "\n",
                "___"
            ]
        },
        {
            "cell_type": "markdown",
            "id": "bde102b8-e776-4ad4-a36a-0302dc89ed5d",
            "metadata": {
                "id": "bde102b8-e776-4ad4-a36a-0302dc89ed5d"
            },
            "source": [
                "## Task 2.3: Sampling\n",
                "* Sampling decoding is probabilistic approach for generating sequences of tokens\n",
                "* Starting from an initial context, the model generates the next token in the sequence by randomly sampling from the distribution of predicted token probabilities\n",
                "* Instead of deterministically selecting the most likely token as in greedy search, sampling decoding introduces randomness by considering the predicted probabilities as a probability distribution\n",
                "* The model assigns probabilities to each possible token, and the next token is chosen probabilistically based on these probabilities\n",
                "* Tokens with higher probabilities are more likely to be selected, but there is still an element of randomness involved\n",
                "* Sampling decoding can be guided by a temperature parameter, where higher temperatures increases the likelihood of highly probable words, and lower temperatures smoothes out the distribution\n",
                "* The decoding continues iteratively, with each token influencing the distribution of probabilities for the next token.\n",
                "* The process is repeated until an end token is generated, or the maximum sequence length is reached"
            ]
        },
        {
            "cell_type": "markdown",
            "id": "01b14111-eeb5-46b9-ad47-cd3b197ee21d",
            "metadata": {
                "id": "01b14111-eeb5-46b9-ad47-cd3b197ee21d"
            },
            "source": [
                "* Generate the output using [model.generate()](https://huggingface.co/docs/transformers/v4.33.0/en/main_classes/text_generation#transformers.GenerationMixin.generate)\n",
                "    * Limit the generation length to 128 tokens\n",
                "    * To choose sampling decoding, activate `do_sample=True`, set `top_k=0` and set the temperature e.g. to `temperature=0.6`\n",
                "* Decode the generated output to a human readable format\n",
                "* Discuss the quality of output. Relate the possible advantages and disadvantages of the output to the algorithm used."
            ]
        },
        {
            "cell_type": "code",
            "execution_count": null,
            "id": "266581e0-592c-4361-afa9-4a1426935d4e",
            "metadata": {
                "id": "266581e0-592c-4361-afa9-4a1426935d4e"
            },
            "outputs": [],
            "source": [
                "# TODO"
            ]
        },
        {
            "cell_type": "markdown",
            "id": "05079fc2-76bd-4b8f-9553-7dcfe0c8ea5f",
            "metadata": {
                "id": "05079fc2-76bd-4b8f-9553-7dcfe0c8ea5f"
            },
            "source": [
                "___\n",
                "Student answers here:\n",
                "\n",
                "___"
            ]
        },
        {
            "cell_type": "markdown",
            "id": "875f536c-8501-4d69-80d0-46639b9ba17b",
            "metadata": {
                "id": "875f536c-8501-4d69-80d0-46639b9ba17b"
            },
            "source": [
                "## Task 2.4: Top-K Sampling"
            ]
        },
        {
            "cell_type": "markdown",
            "id": "739bbe02-0e30-4ddb-bc6c-793f0bc54d36",
            "metadata": {
                "id": "739bbe02-0e30-4ddb-bc6c-793f0bc54d36"
            },
            "source": [
                "* Top-k sampling amends the above sampling approach by considering only a restricted set of the most likely tokens per step\n",
                "* Instead of sampling from the entire vocabulary of possible tokens, top-k sampling limits the selection to the top-k tokens with the highest predicted probabilities\n",
                "* K is a user-defined parameter and determines the size of the set of candidates\n",
                "* The model assigns probabilities to each possible token, ranks them based on their predicted probabilities, and selects from the top-k tokens for the next position in the sequence\n",
                "* This approach combines randomness within a the restricted set of candidates\n",
                "* Tokens within the top-k can still be selected probabilistically, with tokens having higher probabilities being more likely to be chosen\n",
                "* The decoding continues iteratively until and end token is generated, or the maximum sequence length is reached"
            ]
        },
        {
            "cell_type": "markdown",
            "id": "f14d8f74-23f9-4492-a51a-60e2626acaf1",
            "metadata": {
                "id": "f14d8f74-23f9-4492-a51a-60e2626acaf1"
            },
            "source": [
                "* Generate the output using [model.generate()](https://huggingface.co/docs/transformers/v4.33.0/en/main_classes/text_generation#transformers.GenerationMixin.generate)\n",
                "    * Limit the generation length to 128 tokens\n",
                "    * To choose top-k sampling decoding, activate `do_sample=True` and set `top_k=50`\n",
                "* Decode the generated output to a human readable format\n",
                "* Discuss the quality of output. Relate the possible advantages and disadvantages of the output to the algorithm used."
            ]
        },
        {
            "cell_type": "code",
            "execution_count": null,
            "id": "25ed3a1b-ee9a-4027-b27c-da55a90923cc",
            "metadata": {
                "id": "25ed3a1b-ee9a-4027-b27c-da55a90923cc"
            },
            "outputs": [],
            "source": [
                "# TODO"
            ]
        },
        {
            "cell_type": "markdown",
            "id": "b65d4e2c-7854-4058-94a4-2026484f4eb8",
            "metadata": {
                "id": "b65d4e2c-7854-4058-94a4-2026484f4eb8"
            },
            "source": [
                "___\n",
                "Student answers here:\n",
                "\n",
                "___"
            ]
        },
        {
            "cell_type": "markdown",
            "id": "aca99efe-faa6-43f8-938e-8c2c1a249fc6",
            "metadata": {
                "id": "aca99efe-faa6-43f8-938e-8c2c1a249fc6"
            },
            "source": [
                "## Bonus: Contrastive Search (bonus)"
            ]
        },
        {
            "cell_type": "markdown",
            "id": "a68a0caa-e3ef-4744-8e52-76834d4dbf19",
            "metadata": {
                "id": "a68a0caa-e3ef-4744-8e52-76834d4dbf19"
            },
            "source": [
                "* [Contrastive search](https://arxiv.org/abs/2202.06417) addresses text generation issues by introducing a learnable decoding framework constisting of two components\n",
                "* Contrastive Training: **Sim**ple **c**ontrastive framework for neural **t**ext **g**eneration (SimCTG)\n",
                "    * Aims to improve the quality of token representations generated by language models\n",
                "    * It trains the model to learn discriminative token representations\n",
                "    * This greatly assists the model to produce more coherent and contextually relevant text\n",
                "* Contrastive Search:\n",
                "    * Complements CTG by first calculating a confidence score among the top-k candidate tokens represented by the model probabilities\n",
                "    * Then, a degeneration penalty is introduced\n",
                "    * It measures how discriminative the top-k candidate tokens are w.r.t. the previous context\n",
                "    * The cosine similarity is used as a measure\n",
                "    * The larger the degeneration penalty score is, the more similar the next token is to the previous context, and the more likely it is that the output degenerates\n",
                "* A hyperparameter $\\alpha$ regulates the tradeoff between the model confidence and the degeneration penalty\n",
                "    * If $\\alpha=0$, greedy search is performed"
            ]
        },
        {
            "cell_type": "markdown",
            "id": "7edc8135-d8c7-4d05-9eee-c74dad0077d2",
            "metadata": {
                "id": "7edc8135-d8c7-4d05-9eee-c74dad0077d2"
            },
            "source": [
                "* In terms of performance, contrastive search was a big step up over previous algorithms\n",
                "* However, the algorithm was only recently implemented in the Transformers library (i.e. not available in the 4.19.4 version we used before)\n",
                "* If you want to try it, install versions >=4.33\n",
                "    * Depending on the prompt, the sequence could be more relevant and coherent, as well as less repetitive\n",
                "    * However, due to our very small model size, the answers might still be very repetitive and less coherent, but that is the model's fault in this case\n",
                "    * See [here](https://github.com/huggingface/transformers/issues/19182#demonstration) for some impressive demonstrations with OPT-6.7b and contrastive search vs. OPT-175b and nucleus sampling (another version top-k sampling)\n",
                "\n",
                "Bonus: Code is given, simply try it out if you want\n",
                "* Generate the output using [model.generate()](https://huggingface.co/docs/transformers/v4.33.0/en/main_classes/text_generation#transformers.GenerationMixin.generate)\n",
                "    * Limit the generation length to 128 tokens\n",
                "    * To choose contrastive search, set `penalty_alpha=0.6`, `top_k=4`, and allow `max_new_tokens=128`\n",
                "* Decode the generated output to a human readable format\n",
                "* Discuss the quality of output. Relate the possible advantages and disadvantages of the output to the algorithm used.\n",
                "\n",
                "```\n",
                "contrastive_out = model.generate(**tokenized, penalty_alpha=0.6, top_k=4, max_new_tokens=128)\n",
                "contrastive_decoded = tokenizer.decode(contrastive_out[0], skip_special_tokens=True)\n",
                "print('Contrastive search result:')\n",
                "print(contrastive_decoded)\n",
                "```"
            ]
        },
        {
            "cell_type": "code",
            "execution_count": null,
            "id": "67dc41e2-19ae-44cf-a433-930379c80ba8",
            "metadata": {
                "id": "67dc41e2-19ae-44cf-a433-930379c80ba8"
            },
            "outputs": [],
            "source": []
        }
    ],
    "metadata": {
        "colab": {
            "provenance": []
        },
        "kernelspec": {
            "display_name": "temp_dl4nlp",
            "language": "python",
            "name": "python3"
        },
        "language_info": {
            "codemirror_mode": {
                "name": "ipython",
                "version": 3
            },
            "file_extension": ".py",
            "mimetype": "text/x-python",
            "name": "python",
            "nbconvert_exporter": "python",
            "pygments_lexer": "ipython3",
            "version": "3.9.20"
        }
    },
    "nbformat": 4,
    "nbformat_minor": 5
}
