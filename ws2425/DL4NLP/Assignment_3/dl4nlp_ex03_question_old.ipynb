{
 "cells": [
  {
   "cell_type": "markdown",
   "id": "9f506b01-f3ba-4744-9953-6a8d30f24717",
   "metadata": {
    "id": "9f506b01-f3ba-4744-9953-6a8d30f24717"
   },
   "source": [
    "# Deep Learning for NLP - Exercise 03\n",
    "In this exercise, we will be using the Hugging Face ecosystem to finetune BERT for a classification task (part 1) and T5 for text summarization (part 2). Then, we will upload our training and validation results via TensorBoard, which makes interactive sharing and inspecting of results very easy.\n",
    "\n",
    "Part 1 and part 2 can be worked on independently.\n",
    "\n",
    "___\n",
    "General hints:\n",
    "* Have a look at the imports below when solving the tasks\n",
    "* Use the given modules and all submodules of the imports, but don't import anything else!\n",
    "    * For instance, you can use other functions under the `torch` or `nn` namespace, but don't import e.g. PyTorch Lightning, etc.\n",
    "* It is recommended to install all packages from the provided environment file\n",
    "* Feel free to test your code between sub-tasks of the exercise sheet, so that you can spot mistakes early (wrong shapes, impossible numbers, NaNs, ...)\n",
    "* Just keep in mind that your final submission should be compliant to the provided initial format of this file\n",
    "\n",
    "Submission guidelines:\n",
    "* Make sure that the code runs on package versions from the the provided environment file\n",
    "* Do not add or change any imports (also don't change the naming of imports, e.g. `torch.nn.functional as f`)\n",
    "* Remove your personal, additional code testings and experiments throughout the notebook\n",
    "* Do not change the class, function or naming structure as we will run tests on the given names\n",
    "* Additionally export this notebook as a `.py` file, and submit **both** the executed `.ipynb` notebook with plots in it **and** the `.py` file\n",
    "* **Deviation from the above guidelines will result in partial or full loss of points**"
   ]
  },
  {
   "cell_type": "code",
   "execution_count": 1,
   "id": "eaa3cf98-b17b-4c72-b876-c1f1d67b1486",
   "metadata": {
    "id": "eaa3cf98-b17b-4c72-b876-c1f1d67b1486"
   },
   "outputs": [],
   "source": [
    "# !pip install transformers==4.24.0\n",
    "# !pip install datasets==3.0.1\n",
    "# !pip install evaluate==0.4.0\n",
    "# !pip install rouge-score==0.1.2\n",
    "# !pip install py7zr"
   ]
  },
  {
   "cell_type": "markdown",
   "id": "a040d626-232c-4f9a-be5e-aaad77ecfbb0",
   "metadata": {
    "id": "a040d626-232c-4f9a-be5e-aaad77ecfbb0",
    "tags": []
   },
   "source": [
    "# Task 1: Sequence Classification with BERT"
   ]
  },
  {
   "cell_type": "markdown",
   "id": "12fbdc10-854d-4c00-97b1-cedcd0bdde77",
   "metadata": {
    "id": "12fbdc10-854d-4c00-97b1-cedcd0bdde77"
   },
   "source": [
    "* In this task, we will finetune [BERT](https://huggingface.co/bert-base-uncased) on a custom sentiment classification dataset and perform multi-class sequence classification."
   ]
  },
  {
   "cell_type": "code",
   "execution_count": 2,
   "id": "d5529e86-d1c1-4414-b0d3-56d6931f21e5",
   "metadata": {
    "id": "d5529e86-d1c1-4414-b0d3-56d6931f21e5"
   },
   "outputs": [],
   "source": [
    "import os\n",
    "import random\n",
    "import numpy as np\n",
    "from sklearn.metrics import f1_score\n",
    "import matplotlib.pyplot as plt\n",
    "\n",
    "import torch\n",
    "import torch.nn as nn\n",
    "\n",
    "from datasets import load_dataset\n",
    "\n",
    "from transformers import (\n",
    "    Trainer,\n",
    "    TrainingArguments,\n",
    "    AutoTokenizer,\n",
    "    AutoModelForSequenceClassification,\n",
    ")"
   ]
  },
  {
   "cell_type": "code",
   "execution_count": 4,
   "id": "67aefa49-05b1-4b82-ba9d-ad0ebf4742f5",
   "metadata": {
    "id": "67aefa49-05b1-4b82-ba9d-ad0ebf4742f5"
   },
   "outputs": [],
   "source": [
    "device = 'cuda:0' if torch.cuda.is_available() else 'cpu'\n",
    "os.environ['TOKENIZERS_PARALLELISM'] = 'false' # there might be interferences with the parallelism of the Hugging Face Trainer"
   ]
  },
  {
   "cell_type": "markdown",
   "id": "1cdb73ae-5cba-4c54-a65d-7af604c22fd9",
   "metadata": {
    "id": "1cdb73ae-5cba-4c54-a65d-7af604c22fd9"
   },
   "source": [
    "We start by downloading the [DAIR-AI Emotion Dataset](https://huggingface.co/datasets/dair-ai/emotion) from the Hugging Face Hub, which already comes with a train, validation, and test split of 16,000 - 2,000 - 2,000 samples. The dataset consists of tweets with their labeled emotions over 6 different classes.\n",
    "\n",
    "* As the dataset, by default, consists of integer labels, we first create two helper dictionaries\n",
    "    * `idx2lbl`, which maps the integer index to the label string\n",
    "    * `lbl2idx`, which maps the label strings to the integer index\n",
    "    * The downloaded Hugging Face dataset object implements a useful `.features` method for each dataset split, which contains the label strings in the correct order corresponding to the integers (the labels are consistent across each split, so it is enough to only inspect one split)\n",
    "* Try to get an overview of the data and the dataset format by printing 10 random (use the `random` library to sample random numbers!) samples of the train split with their corresponding integer and string labels"
   ]
  },
  {
   "cell_type": "code",
   "execution_count": 5,
   "id": "90261bf4-0b3f-44ae-af4c-2d2ed2d58d36",
   "metadata": {
    "id": "90261bf4-0b3f-44ae-af4c-2d2ed2d58d36"
   },
   "outputs": [],
   "source": [
    "emotion_dataset = load_dataset('dair-ai/emotion')"
   ]
  },
  {
   "cell_type": "code",
   "execution_count": 6,
   "id": "cb96f49b-f101-47cb-8d69-febe03928969",
   "metadata": {
    "id": "cb96f49b-f101-47cb-8d69-febe03928969"
   },
   "outputs": [],
   "source": [
    "idx2lbl = {i: key for i, key in enumerate(emotion_dataset['train'].features['label'].names)}\n",
    "lbl2idx = {key: i for i, key in enumerate(emotion_dataset['train'].features['label'].names)}"
   ]
  },
  {
   "cell_type": "code",
   "execution_count": 7,
   "id": "4a160b43-c6ab-47fb-a727-907ec2a4c04a",
   "metadata": {
    "id": "4a160b43-c6ab-47fb-a727-907ec2a4c04a"
   },
   "outputs": [
    {
     "name": "stdout",
     "output_type": "stream",
     "text": [
      "Sample 10205 // text: i did not feel faster or stronger in that way but i did feel more energetic // label: 1 // string label: joy\n",
      "Sample 6637 // text: i feel after venting to a notebook is amazing // label: 1 // string label: joy\n",
      "Sample 15795 // text: i feel stressed tired worn out out of shape or neglected // label: 0 // string label: sadness\n",
      "Sample 10416 // text: i get to feel virtuous in comparison to him but i don t really have to put out // label: 1 // string label: joy\n",
      "Sample 309 // text: i feel to have these amazing people in my life // label: 5 // string label: surprise\n",
      "Sample 1926 // text: i remember feeling as if i didn t belong and that i wasn t smart enough cool enough or even young enough // label: 1 // string label: joy\n",
      "Sample 8046 // text: i walked away from that encounter feeling blessed too // label: 1 // string label: joy\n",
      "Sample 11566 // text: i feel terrible for him and want to cheer him up // label: 0 // string label: sadness\n",
      "Sample 10761 // text: id really hop to it quickly because i knew theyd cry and yell if they didnt get it quickly and i also knew scott was feeling rotten // label: 0 // string label: sadness\n",
      "Sample 369 // text: i should feel complimented or insulted // label: 3 // string label: anger\n"
     ]
    }
   ],
   "source": [
    "rand_idxs = np.random.choice(len(emotion_dataset['train']), 10)\n",
    "\n",
    "for idx in rand_idxs:\n",
    "    txt = emotion_dataset['train']['text'][idx]\n",
    "    lbl_int = emotion_dataset['train']['label'][idx]\n",
    "    lbl_str = idx2lbl[lbl_int]\n",
    "    print(f'Sample {idx} // text: {txt} // label: {lbl_int} // string label: {lbl_str}')"
   ]
  },
  {
   "cell_type": "markdown",
   "id": "cd221019-21e4-4dcc-9cdb-fb37d10140ab",
   "metadata": {
    "id": "cd221019-21e4-4dcc-9cdb-fb37d10140ab"
   },
   "source": [
    "To start the preprocessing steps, we first need to load the pre-trained tokenizer for our [bert-base-uncased](https://huggingface.co/bert-base-uncased) model, which can be achieved very comfortable using the `AutoTokenizer` [class API](https://huggingface.co/docs/transformers/model_doc/auto#transformers.AutoTokenizer) from Hugging Face."
   ]
  },
  {
   "cell_type": "code",
   "execution_count": 8,
   "id": "46d58ef2-7f79-4985-8dc1-2f8743c96e80",
   "metadata": {
    "id": "46d58ef2-7f79-4985-8dc1-2f8743c96e80"
   },
   "outputs": [
    {
     "name": "stderr",
     "output_type": "stream",
     "text": [
      "c:\\Users\\esual\\miniconda3\\envs\\temp_dl4nlp\\lib\\site-packages\\huggingface_hub\\file_download.py:797: FutureWarning: `resume_download` is deprecated and will be removed in version 1.0.0. Downloads always resume when possible. If you want to force a new download, use `force_download=True`.\n",
      "  warnings.warn(\n"
     ]
    },
    {
     "data": {
      "application/vnd.jupyter.widget-view+json": {
       "model_id": "09145481ccab41f28fcb91ed11f020eb",
       "version_major": 2,
       "version_minor": 0
      },
      "text/plain": [
       "tokenizer_config.json:   0%|          | 0.00/48.0 [00:00<?, ?B/s]"
      ]
     },
     "metadata": {},
     "output_type": "display_data"
    },
    {
     "name": "stderr",
     "output_type": "stream",
     "text": [
      "c:\\Users\\esual\\miniconda3\\envs\\temp_dl4nlp\\lib\\site-packages\\huggingface_hub\\file_download.py:139: UserWarning: `huggingface_hub` cache-system uses symlinks by default to efficiently store duplicated files but your machine does not support them in C:\\Users\\esual\\.cache\\huggingface\\hub\\models--bert-base-uncased. Caching files will still work but in a degraded version that might require more space on your disk. This warning can be disabled by setting the `HF_HUB_DISABLE_SYMLINKS_WARNING` environment variable. For more details, see https://huggingface.co/docs/huggingface_hub/how-to-cache#limitations.\n",
      "To support symlinks on Windows, you either need to activate Developer Mode or to run Python as an administrator. In order to activate developer mode, see this article: https://docs.microsoft.com/en-us/windows/apps/get-started/enable-your-device-for-development\n",
      "  warnings.warn(message)\n"
     ]
    },
    {
     "data": {
      "application/vnd.jupyter.widget-view+json": {
       "model_id": "aad70352fc244dc0a869799bf873caeb",
       "version_major": 2,
       "version_minor": 0
      },
      "text/plain": [
       "config.json:   0%|          | 0.00/570 [00:00<?, ?B/s]"
      ]
     },
     "metadata": {},
     "output_type": "display_data"
    },
    {
     "data": {
      "application/vnd.jupyter.widget-view+json": {
       "model_id": "870f3a5d88ff4d0eb75e307420ed955b",
       "version_major": 2,
       "version_minor": 0
      },
      "text/plain": [
       "vocab.txt:   0%|          | 0.00/232k [00:00<?, ?B/s]"
      ]
     },
     "metadata": {},
     "output_type": "display_data"
    },
    {
     "data": {
      "application/vnd.jupyter.widget-view+json": {
       "model_id": "f393010d5a714648a96f60bbb8b69ed7",
       "version_major": 2,
       "version_minor": 0
      },
      "text/plain": [
       "tokenizer.json:   0%|          | 0.00/466k [00:00<?, ?B/s]"
      ]
     },
     "metadata": {},
     "output_type": "display_data"
    }
   ],
   "source": [
    "tokenizer = AutoTokenizer.from_pretrained('bert-base-uncased', force_download=True)"
   ]
  },
  {
   "cell_type": "markdown",
   "id": "3074cb17-ec06-4ea5-8050-37686c6e0ee4",
   "metadata": {
    "id": "3074cb17-ec06-4ea5-8050-37686c6e0ee4"
   },
   "source": [
    "If we enter an example input from the train set into the tokenizer, we can see that we receive again dictionaries as output, which is the preferred data format from Hugging Face."
   ]
  },
  {
   "cell_type": "code",
   "execution_count": 9,
   "id": "f946f992-2676-49dc-b6a2-c0ecc9e45502",
   "metadata": {
    "id": "f946f992-2676-49dc-b6a2-c0ecc9e45502"
   },
   "outputs": [
    {
     "data": {
      "text/plain": [
       "{'input_ids': [101, 1045, 2134, 2102, 2514, 26608, 102], 'token_type_ids': [0, 0, 0, 0, 0, 0, 0], 'attention_mask': [1, 1, 1, 1, 1, 1, 1]}"
      ]
     },
     "execution_count": 9,
     "metadata": {},
     "output_type": "execute_result"
    }
   ],
   "source": [
    "example_seq = emotion_dataset['train']['text'][0]\n",
    "tokenizer(example_seq)"
   ]
  },
  {
   "cell_type": "markdown",
   "id": "3159455f-03c7-4fe0-ae53-36ab44aafa65",
   "metadata": {
    "id": "3159455f-03c7-4fe0-ae53-36ab44aafa65"
   },
   "source": [
    "* We can see that the dictionary contains `input_ids`, which represent the tokenized sequence *including* specials tokens\n",
    "    * For instance, notice that the sequence begins with `101`, which is used by BERT to mark the `[CLS]` token\n",
    "    * The sequence ends with the `102` token, which BERT uses as a separation mark between sequences, `[SEP]`\n",
    "    * You can check all special tokens using `tokenizer.all_special_tokens` and `tokenizer.all_special_ids`\n",
    "* Secondly, the tokenizer contains `token_type_ids`, which are used to distinguish different segments of input tokens in models that support token-level type embeddings, like BERT and its variants\n",
    "    * These embeddings are useful for tasks like sentence pair classification or question answering, where the model needs to understand which tokens belong to which part of the input. (not needed here)\n",
    "* Thirdly, the tokenizer automatically creates the attention mask, which consists of all `1` in this case\n",
    "    * The attention mask in input sequences is usually only `0` when padding symbols are added, as we don't want to attend to padding symbols"
   ]
  },
  {
   "cell_type": "markdown",
   "id": "02af8005-8c7c-4dce-b34a-074576892e81",
   "metadata": {
    "id": "02af8005-8c7c-4dce-b34a-074576892e81"
   },
   "source": [
    "Following this, we can use the tokenizer to tokenize our entire dataset.\n",
    "\n",
    "* Hugging Face dataset objects provide a way to `map` a function onto every single object using powerful parallel processing operations\n",
    "* There, we need to create a function which acts like it:\n",
    "    * takes in text examples of a data split of our dataset object\n",
    "    * inputs it into the tokenizer\n",
    "        * use the tokenizer with options `truncation=True` and `max_length=512`, since the maximum context size of BERT is 512 tokens\n",
    "        * This shouldn't impact our dataset in any way since the Tweet dataset stems from the times when tweets were limited to 280 characters, but it's better to be safe than sorry and have your training interrupted\n",
    "    * return the output of the tokenizer\n",
    "* Apply the function onto the entire dataset object using its `map` method with the option `batched=True`"
   ]
  },
  {
   "cell_type": "code",
   "execution_count": 11,
   "id": "827f4441-849c-4e8c-b4cf-07721fd1e823",
   "metadata": {
    "id": "827f4441-849c-4e8c-b4cf-07721fd1e823"
   },
   "outputs": [],
   "source": [
    "def tokenize_seqs(examples):\n",
    "    return tokenizer(examples['text'], truncation=True, max_length=512)\n",
    "\n",
    "emotion_dataset = emotion_dataset.map(tokenize_seqs, batched=True)"
   ]
  },
  {
   "cell_type": "markdown",
   "id": "0e4e1605-da0d-4dff-868b-720ae98f06a1",
   "metadata": {
    "id": "0e4e1605-da0d-4dff-868b-720ae98f06a1"
   },
   "source": [
    "* Lastly, the [Hugging Face Trainer](https://huggingface.co/docs/transformers/main_classes/trainer) expects the class labels to be named `labels`, so we need to rename the label column from `label` to `labels`\n",
    "    * Make use of the provided functions in the [Hugging Face Datasets API](https://huggingface.co/docs/datasets/process)"
   ]
  },
  {
   "cell_type": "code",
   "execution_count": 12,
   "id": "488618a4-3598-465f-b4d7-7454cacad50f",
   "metadata": {
    "id": "488618a4-3598-465f-b4d7-7454cacad50f"
   },
   "outputs": [],
   "source": [
    "emotion_dataset = emotion_dataset.rename_column('label', 'labels')"
   ]
  },
  {
   "cell_type": "markdown",
   "id": "972d3411-8b9d-44da-9d80-f5347ec247ea",
   "metadata": {
    "id": "972d3411-8b9d-44da-9d80-f5347ec247ea"
   },
   "source": [
    "* We can now load our pre-trained BERT model [bert-base-uncased](https://huggingface.co/bert-base-uncased) from the Hugging Face Hub\n",
    "    * Use the `AutoModelForSequenceClassification`, see [here](https://huggingface.co/docs/transformers/model_doc/auto#transformers.AutoModelForSequenceClassification)\n",
    "    * Specifically, use the `from_pretrained` [method](https://huggingface.co/docs/transformers/model_doc/auto#transformers.AutoModelForSequenceClassification.from_pretrained) and provide the number of labels, and the `id2lbl` and `lblidx` functions we created earlier\n",
    "    * This will configure a `PretrainedConfig` object, which will behave differently depending on whether we train or fine-tune. Have a look [here](https://huggingface.co/docs/transformers/v4.31.0/en/main_classes/configuration#transformers.PretrainedConfig)"
   ]
  },
  {
   "cell_type": "code",
   "execution_count": 13,
   "id": "05ef4326",
   "metadata": {},
   "outputs": [
    {
     "data": {
      "text/plain": [
       "6"
      ]
     },
     "execution_count": 13,
     "metadata": {},
     "output_type": "execute_result"
    }
   ],
   "source": [
    "len(idx2lbl)"
   ]
  },
  {
   "cell_type": "code",
   "execution_count": 14,
   "id": "a3cb65e0-a4fa-470a-a636-fdd5ea1bf405",
   "metadata": {
    "id": "a3cb65e0-a4fa-470a-a636-fdd5ea1bf405"
   },
   "outputs": [
    {
     "name": "stderr",
     "output_type": "stream",
     "text": [
      "c:\\Users\\esual\\miniconda3\\envs\\temp_dl4nlp\\lib\\site-packages\\huggingface_hub\\file_download.py:797: FutureWarning: `resume_download` is deprecated and will be removed in version 1.0.0. Downloads always resume when possible. If you want to force a new download, use `force_download=True`.\n",
      "  warnings.warn(\n"
     ]
    },
    {
     "data": {
      "application/vnd.jupyter.widget-view+json": {
       "model_id": "61df4b884fb441af9d326ba6bf5df8f3",
       "version_major": 2,
       "version_minor": 0
      },
      "text/plain": [
       "config.json:   0%|          | 0.00/570 [00:00<?, ?B/s]"
      ]
     },
     "metadata": {},
     "output_type": "display_data"
    },
    {
     "name": "stderr",
     "output_type": "stream",
     "text": [
      "c:\\Users\\esual\\miniconda3\\envs\\temp_dl4nlp\\lib\\site-packages\\huggingface_hub\\file_download.py:139: UserWarning: `huggingface_hub` cache-system uses symlinks by default to efficiently store duplicated files but your machine does not support them in C:\\Users\\esual\\.cache\\huggingface\\hub\\models--google-bert--bert-base-uncased. Caching files will still work but in a degraded version that might require more space on your disk. This warning can be disabled by setting the `HF_HUB_DISABLE_SYMLINKS_WARNING` environment variable. For more details, see https://huggingface.co/docs/huggingface_hub/how-to-cache#limitations.\n",
      "To support symlinks on Windows, you either need to activate Developer Mode or to run Python as an administrator. In order to activate developer mode, see this article: https://docs.microsoft.com/en-us/windows/apps/get-started/enable-your-device-for-development\n",
      "  warnings.warn(message)\n"
     ]
    },
    {
     "data": {
      "application/vnd.jupyter.widget-view+json": {
       "model_id": "442ac090f72244ad90ff2eeeab437160",
       "version_major": 2,
       "version_minor": 0
      },
      "text/plain": [
       "pytorch_model.bin:   0%|          | 0.00/440M [00:00<?, ?B/s]"
      ]
     },
     "metadata": {},
     "output_type": "display_data"
    },
    {
     "name": "stderr",
     "output_type": "stream",
     "text": [
      "Some weights of the model checkpoint at google-bert/bert-base-uncased were not used when initializing BertForSequenceClassification: ['cls.predictions.transform.LayerNorm.bias', 'cls.predictions.bias', 'cls.seq_relationship.bias', 'cls.predictions.transform.dense.bias', 'cls.predictions.transform.LayerNorm.weight', 'cls.predictions.transform.dense.weight', 'cls.predictions.decoder.weight', 'cls.seq_relationship.weight']\n",
      "- This IS expected if you are initializing BertForSequenceClassification from the checkpoint of a model trained on another task or with another architecture (e.g. initializing a BertForSequenceClassification model from a BertForPreTraining model).\n",
      "- This IS NOT expected if you are initializing BertForSequenceClassification from the checkpoint of a model that you expect to be exactly identical (initializing a BertForSequenceClassification model from a BertForSequenceClassification model).\n",
      "Some weights of BertForSequenceClassification were not initialized from the model checkpoint at google-bert/bert-base-uncased and are newly initialized: ['classifier.bias', 'classifier.weight']\n",
      "You should probably TRAIN this model on a down-stream task to be able to use it for predictions and inference.\n"
     ]
    }
   ],
   "source": [
    "model = AutoModelForSequenceClassification.from_pretrained(\n",
    "    'google-bert/bert-base-uncased',\n",
    "    num_labels = 6,\n",
    "    id2label = idx2lbl,\n",
    "    label2id = lbl2idx,\n",
    "    force_download = True\n",
    "    )"
   ]
  },
  {
   "cell_type": "markdown",
   "id": "8919626c-23fd-40e7-83c3-35d2f6ee894d",
   "metadata": {
    "id": "8919626c-23fd-40e7-83c3-35d2f6ee894d"
   },
   "source": [
    "Next, we are going to define a function that calculates our desired training objective, in our case, the F1 score. In typical Hugging Face fashion, it needs to return a dictionary\n",
    "* First, the function will be called `compute_metrics`\n",
    "    * In theory, it could be any name, but should include *all* metrics you want the return from training, each with its key-value pair in the dictionary\n",
    "    * The key should always represent the name of the metric, and the value should be the calculated metric  \n",
    "* Secondly, it will take a `eval_preds` parameter\n",
    "    * This is an intermediate result type output from the Hugging Face `Trainer` object\n",
    "    * It is a `NamedTuple` of type [EvalPred](https://huggingface.co/docs/transformers/v4.31.0/en/main_classes/configuration#transformers.PretrainedConfig), which holds our predictions and label ids\n",
    "    * You can access them using the `eval_preds.label_ids`, and `eval_preds.predictions` methods\n",
    "* Extract the predictions and labels\n",
    "* Find the predicted class index using `argmax()` with the correct dimension parameter\n",
    "* Calculate the F1 score using the previously imported sklearn function\n",
    "    * Since we have a multi-class classification problem, use the `average='weighted'` choice\n",
    "    * Other settings can also make sense, but in this case, we use the `'weighted'` option\n",
    "* Return a dictionary in the style `{'f1': f1}`"
   ]
  },
  {
   "cell_type": "code",
   "execution_count": 15,
   "id": "6590d17d-a3c9-4721-b4c4-8313c530d529",
   "metadata": {
    "id": "6590d17d-a3c9-4721-b4c4-8313c530d529"
   },
   "outputs": [],
   "source": [
    "def compute_metrics(eval_preds):\n",
    "    label_ids, predictions = eval_preds.label_ids, eval_preds.predictions\n",
    "    pred_class = np.argmax(predictions, axis=1)\n",
    "    f1 = f1_score(label_ids, pred_class, average='weighted')\n",
    "    return {'f1': f1}"
   ]
  },
  {
   "cell_type": "markdown",
   "id": "f340e5ff-a53c-4e0f-a4bc-958eae5f28eb",
   "metadata": {
    "id": "f340e5ff-a53c-4e0f-a4bc-958eae5f28eb"
   },
   "source": [
    "Finally, we are putting it all together in a [TrainingArguments](https://huggingface.co/docs/transformers/main_classes/trainer#transformers.TrainingArguments) instance. It has *a lot* of options, so go and have a look at the above link to the documentation.\n",
    "\n",
    "In our case, we will set the following:\n",
    "* [output_dir](https://huggingface.co/docs/transformers/main_classes/trainer#transformers.TrainingArguments.output_dir), the directory where you want to save model checkpoints and logging files\n",
    "    * Use something like `'./logs/run1'`, because we will later run more experiments, which should then be named `'./logs/run2/'`, so that everything is contained in one directory\n",
    "* [per_device_train_batch_size](https://huggingface.co/docs/transformers/main_classes/trainer#transformers.TrainingArguments.per_device_train_batch_size), the batch size used for training\n",
    "    * since we need to store all ~110mio. parameters of BERT, the gradient for all parameters, and one tokenized batch on the GPU, this will be a rather small batch size of e.g. 4 or 8 (see below for some tricks we can use to artifically increase the effective training batch size)\n",
    "* [per_device_eval_batch_size](https://huggingface.co/docs/transformers/main_classes/trainer#transformers.TrainingArguments.per_device_eval_batch_size), the batch size used for evaluation\n",
    "    * can be approximately 4x the training batch size\n",
    "* [gradient_accumulation_steps](https://huggingface.co/docs/transformers/main_classes/trainer#transformers.TrainingArguments.gradient_accumulation_steps), adds up the gradients of multiple batches in order to artificially increase the batch size while keeping GPU memory lower\n",
    "    * set it to 2, which approximates training with double our train batch size\n",
    "    * see [here](https://huggingface.co/docs/transformers/v4.18.0/en/performance) and [here](https://huggingface.co/docs/transformers/perf_train_gpu_one) for more memory and training speed tricks\n",
    "* [learning_rate](https://huggingface.co/docs/transformers/main_classes/trainer#transformers.TrainingArguments.learning_rate), the learning rate for [AdamW](https://huggingface.co/docs/transformers/v4.31.0/en/main_classes/optimizer_schedules#transformers.AdamW) optimizier, a popular choice for pure transformer model training and fine-tuning\n",
    "    * set it to `2e-5`, transformers generally use much lower training rates than LSTMs or CNNs\n",
    "* [weight_decay](https://huggingface.co/docs/transformers/main_classes/trainer#transformers.TrainingArguments.weight_decay), weight decay rate used for regularization\n",
    "    * set it to `1e-3`\n",
    "* [num_train_epochs](https://huggingface.co/docs/transformers/main_classes/trainer#transformers.TrainingArguments.num_train_epochs(float,), the number of epochs to train\n",
    "    * set it to 3\n",
    "* [evaluation_strategy](https://huggingface.co/docs/transformers/main_classes/trainer#transformers.TrainingArguments.evaluation_strategy), in which intervals evaluation on the dev set should be performed\n",
    "    * set to `'epoch'`\n",
    "* [logging_strategy](https://huggingface.co/docs/transformers/main_classes/trainer#transformers.TrainingArguments.logging_strategy), at which point during training logging should take place, e.g. at every $N$ steps, or per each epoch\n",
    "    * set it to `'steps'`, which requires us to set the `logging_steps` parameter\n",
    "* [logging_steps](https://huggingface.co/docs/transformers/main_classes/trainer#transformers.TrainingArguments.logging_steps), after how many optimizer steps we should log the loss\n",
    "    * set it to `len(emotion_dataset['train']) / per_device_train_batch_size`\n",
    "* [save_strategy](https://huggingface.co/docs/transformers/main_classes/trainer#transformers.TrainingArguments.save_strategy), when a model checkpoint should be save\n",
    "    * set it to `'epoch'`\n",
    "* [save_total_limit](https://huggingface.co/docs/transformers/main_classes/trainer#transformers.TrainingArguments.save_total_limit), how many checkpoints should be saved\n",
    "    * set it to 1 to save save disk sapce\n",
    "* [seed](https://huggingface.co/docs/transformers/main_classes/trainer#transformers.TrainingArguments.seed), the random seed for model initialization, which is important for experimental reproducibilty\n",
    "    * set it to 42 (it already is, by default, but just to be specific)\n",
    "* [data_seed](https://huggingface.co/docs/transformers/main_classes/trainer#transformers.TrainingArguments.data_seed), the random seed for data loading, also important for experimental reproducibility\n",
    "    * set it also to 42\n",
    "* [fp16](https://huggingface.co/docs/transformers/main_classes/trainer#transformers.TrainingArguments.fp16), whether 16bit floating points should be used for training. This is another trick so save memory (roughly half of memory is used, because the default is 32bit floating points, see the two links above)\n",
    "    * set it to `True`\n",
    "* [dataloader_num_workers](https://huggingface.co/docs/transformers/main_classes/trainer#transformers.TrainingArguments.dataloader_num_workers), how many workers to use for dataloading\n",
    "    * set it to 2\n",
    "* [load_best_model_at_end](https://huggingface.co/docs/transformers/main_classes/trainer#transformers.TrainingArguments.load_best_model_at_end), allows us to automatically keep the best model (according to loss) in addition to the last saved, and load it after training for further prediction on the test set\n",
    "    * Set it to `True`"
   ]
  },
  {
   "cell_type": "code",
   "execution_count": 16,
   "id": "ed0c8448",
   "metadata": {},
   "outputs": [],
   "source": [
    "training_args = TrainingArguments(\n",
    "    output_dir='./logs/run1',\n",
    "    per_device_train_batch_size=8,\n",
    "    per_device_eval_batch_size=32,\n",
    "    gradient_accumulation_steps=2,\n",
    "    learning_rate=2e-5,\n",
    "    weight_decay=1e-3,\n",
    "    num_train_epochs=3,\n",
    "    evaluation_strategy='epoch',\n",
    "    logging_strategy='steps',\n",
    "    logging_steps=len(emotion_dataset['train']) // 8,\n",
    "    save_strategy='epoch',\n",
    "    save_total_limit=1,\n",
    "    seed=42,\n",
    "    data_seed=42,\n",
    "    fp16=True,\n",
    "    dataloader_num_workers=2,\n",
    "    load_best_model_at_end=True\n",
    ")"
   ]
  },
  {
   "cell_type": "markdown",
   "id": "a0d7807c-a6f7-44bc-b72e-235d4f815445",
   "metadata": {
    "id": "a0d7807c-a6f7-44bc-b72e-235d4f815445"
   },
   "source": [
    "* Then, we just instantiate the `Trainer`, feed all arguments (`model`, `training_args`, `compute_metrics`, `train_dataset`, `eval_dataset`, `tokenizer`) into [it](https://huggingface.co/docs/transformers/main_classes/trainer#transformers.Trainer), and start training"
   ]
  },
  {
   "cell_type": "code",
   "execution_count": 17,
   "id": "0b14524e-4acc-4a0a-b82e-eea3dede7b41",
   "metadata": {
    "id": "0b14524e-4acc-4a0a-b82e-eea3dede7b41"
   },
   "outputs": [
    {
     "name": "stderr",
     "output_type": "stream",
     "text": [
      "Using cuda_amp half precision backend\n"
     ]
    }
   ],
   "source": [
    "trainer = Trainer(\n",
    "    model = model,\n",
    "    args = training_args,\n",
    "    compute_metrics = compute_metrics,\n",
    "    train_dataset = emotion_dataset['train'],\n",
    "    eval_dataset = emotion_dataset['validation'],\n",
    "    tokenizer = tokenizer\n",
    ")"
   ]
  },
  {
   "cell_type": "code",
   "execution_count": 18,
   "id": "d9ee3363-5c94-4be3-ae45-883a557c0529",
   "metadata": {
    "id": "d9ee3363-5c94-4be3-ae45-883a557c0529"
   },
   "outputs": [
    {
     "name": "stderr",
     "output_type": "stream",
     "text": [
      "The following columns in the training set don't have a corresponding argument in `BertForSequenceClassification.forward` and have been ignored: text. If text are not expected by `BertForSequenceClassification.forward`,  you can safely ignore this message.\n",
      "c:\\Users\\esual\\miniconda3\\envs\\temp_dl4nlp\\lib\\site-packages\\transformers\\optimization.py:306: FutureWarning: This implementation of AdamW is deprecated and will be removed in a future version. Use the PyTorch implementation torch.optim.AdamW instead, or set `no_deprecation_warning=True` to disable this warning\n",
      "  warnings.warn(\n",
      "***** Running training *****\n",
      "  Num examples = 16000\n",
      "  Num Epochs = 3\n",
      "  Instantaneous batch size per device = 8\n",
      "  Total train batch size (w. parallel, distributed & accumulation) = 16\n",
      "  Gradient Accumulation steps = 2\n",
      "  Total optimization steps = 3000\n",
      "  Number of trainable parameters = 109486854\n"
     ]
    },
    {
     "data": {
      "application/vnd.jupyter.widget-view+json": {
       "model_id": "438ac6f11b1f4f0097e8b7c780bb9496",
       "version_major": 2,
       "version_minor": 0
      },
      "text/plain": [
       "  0%|          | 0/3000 [00:00<?, ?it/s]"
      ]
     },
     "metadata": {},
     "output_type": "display_data"
    },
    {
     "name": "stderr",
     "output_type": "stream",
     "text": [
      "The following columns in the evaluation set don't have a corresponding argument in `BertForSequenceClassification.forward` and have been ignored: text. If text are not expected by `BertForSequenceClassification.forward`,  you can safely ignore this message.\n",
      "***** Running Evaluation *****\n",
      "  Num examples = 2000\n",
      "  Batch size = 32\n"
     ]
    },
    {
     "data": {
      "application/vnd.jupyter.widget-view+json": {
       "model_id": "2c30cf32691f428ea8c60b8ac01a8369",
       "version_major": 2,
       "version_minor": 0
      },
      "text/plain": [
       "  0%|          | 0/63 [00:00<?, ?it/s]"
      ]
     },
     "metadata": {},
     "output_type": "display_data"
    },
    {
     "name": "stderr",
     "output_type": "stream",
     "text": [
      "Saving model checkpoint to ./logs/run1\\checkpoint-1000\n",
      "Configuration saved in ./logs/run1\\checkpoint-1000\\config.json\n"
     ]
    },
    {
     "name": "stdout",
     "output_type": "stream",
     "text": [
      "{'eval_loss': 0.2319028675556183, 'eval_f1': 0.9260381465934119, 'eval_runtime': 12.896, 'eval_samples_per_second': 155.087, 'eval_steps_per_second': 4.885, 'epoch': 1.0}\n"
     ]
    },
    {
     "name": "stderr",
     "output_type": "stream",
     "text": [
      "Model weights saved in ./logs/run1\\checkpoint-1000\\pytorch_model.bin\n",
      "tokenizer config file saved in ./logs/run1\\checkpoint-1000\\tokenizer_config.json\n",
      "Special tokens file saved in ./logs/run1\\checkpoint-1000\\special_tokens_map.json\n"
     ]
    },
    {
     "name": "stdout",
     "output_type": "stream",
     "text": [
      "{'loss': 0.3233, 'learning_rate': 6.6866666666666665e-06, 'epoch': 2.0}\n"
     ]
    },
    {
     "name": "stderr",
     "output_type": "stream",
     "text": [
      "The following columns in the evaluation set don't have a corresponding argument in `BertForSequenceClassification.forward` and have been ignored: text. If text are not expected by `BertForSequenceClassification.forward`,  you can safely ignore this message.\n",
      "***** Running Evaluation *****\n",
      "  Num examples = 2000\n",
      "  Batch size = 32\n"
     ]
    },
    {
     "data": {
      "application/vnd.jupyter.widget-view+json": {
       "model_id": "d7f3e7ed3e6649608b771af1beadd6d6",
       "version_major": 2,
       "version_minor": 0
      },
      "text/plain": [
       "  0%|          | 0/63 [00:00<?, ?it/s]"
      ]
     },
     "metadata": {},
     "output_type": "display_data"
    },
    {
     "name": "stderr",
     "output_type": "stream",
     "text": [
      "Saving model checkpoint to ./logs/run1\\checkpoint-2000\n",
      "Configuration saved in ./logs/run1\\checkpoint-2000\\config.json\n"
     ]
    },
    {
     "name": "stdout",
     "output_type": "stream",
     "text": [
      "{'eval_loss': 0.1698744148015976, 'eval_f1': 0.9311178499358966, 'eval_runtime': 12.1575, 'eval_samples_per_second': 164.508, 'eval_steps_per_second': 5.182, 'epoch': 2.0}\n"
     ]
    },
    {
     "name": "stderr",
     "output_type": "stream",
     "text": [
      "Model weights saved in ./logs/run1\\checkpoint-2000\\pytorch_model.bin\n",
      "tokenizer config file saved in ./logs/run1\\checkpoint-2000\\tokenizer_config.json\n",
      "Special tokens file saved in ./logs/run1\\checkpoint-2000\\special_tokens_map.json\n",
      "The following columns in the evaluation set don't have a corresponding argument in `BertForSequenceClassification.forward` and have been ignored: text. If text are not expected by `BertForSequenceClassification.forward`,  you can safely ignore this message.\n",
      "***** Running Evaluation *****\n",
      "  Num examples = 2000\n",
      "  Batch size = 32\n"
     ]
    },
    {
     "data": {
      "application/vnd.jupyter.widget-view+json": {
       "model_id": "66dc72a4c3cd4af0ad1b62c6c0b4bc3a",
       "version_major": 2,
       "version_minor": 0
      },
      "text/plain": [
       "  0%|          | 0/63 [00:00<?, ?it/s]"
      ]
     },
     "metadata": {},
     "output_type": "display_data"
    },
    {
     "name": "stderr",
     "output_type": "stream",
     "text": [
      "Saving model checkpoint to ./logs/run1\\checkpoint-3000\n",
      "Configuration saved in ./logs/run1\\checkpoint-3000\\config.json\n"
     ]
    },
    {
     "name": "stdout",
     "output_type": "stream",
     "text": [
      "{'eval_loss': 0.18489809334278107, 'eval_f1': 0.9364241769239968, 'eval_runtime': 11.961, 'eval_samples_per_second': 167.21, 'eval_steps_per_second': 5.267, 'epoch': 3.0}\n"
     ]
    },
    {
     "name": "stderr",
     "output_type": "stream",
     "text": [
      "Model weights saved in ./logs/run1\\checkpoint-3000\\pytorch_model.bin\n",
      "tokenizer config file saved in ./logs/run1\\checkpoint-3000\\tokenizer_config.json\n",
      "Special tokens file saved in ./logs/run1\\checkpoint-3000\\special_tokens_map.json\n",
      "Deleting older checkpoint [logs\\run1\\checkpoint-1000] due to args.save_total_limit\n",
      "\n",
      "\n",
      "Training completed. Do not forget to share your model on huggingface.co/models =)\n",
      "\n",
      "\n",
      "Loading best model from ./logs/run1\\checkpoint-2000 (score: 0.1698744148015976).\n",
      "Deleting older checkpoint [logs\\run1\\checkpoint-2000] due to args.save_total_limit\n",
      "Deleting older checkpoint [logs\\run1\\checkpoint-3000] due to args.save_total_limit\n"
     ]
    },
    {
     "name": "stdout",
     "output_type": "stream",
     "text": [
      "{'train_runtime': 549.7397, 'train_samples_per_second': 87.314, 'train_steps_per_second': 5.457, 'train_loss': 0.24728325907389323, 'epoch': 3.0}\n"
     ]
    },
    {
     "data": {
      "text/plain": [
       "TrainOutput(global_step=3000, training_loss=0.24728325907389323, metrics={'train_runtime': 549.7397, 'train_samples_per_second': 87.314, 'train_steps_per_second': 5.457, 'train_loss': 0.24728325907389323, 'epoch': 3.0})"
      ]
     },
     "execution_count": 18,
     "metadata": {},
     "output_type": "execute_result"
    }
   ],
   "source": [
    "trainer.train()"
   ]
  },
  {
   "cell_type": "markdown",
   "id": "b3fe076d-0f0f-4a31-809c-eb370b6144fa",
   "metadata": {
    "id": "b3fe076d-0f0f-4a31-809c-eb370b6144fa"
   },
   "source": [
    "* As we specified in the `Trainer` class, we have already loaded the best model again (independent of whether it was last epoch's model or not).\n",
    "* We can now run one final epoch on the test set using `trainer.predict()`, which [returns](https://huggingface.co/docs/transformers/main_classes/trainer#transformers.Trainer.predict) us a `PredictionOutput` containing, among others, the test F1 score\n",
    "* Print the test F1 score and comment on the test set performance compared to the intermediate training evaluations"
   ]
  },
  {
   "cell_type": "code",
   "execution_count": 21,
   "id": "dabb9700-ba82-40e0-a957-699c8c9bbbf0",
   "metadata": {
    "id": "dabb9700-ba82-40e0-a957-699c8c9bbbf0"
   },
   "outputs": [
    {
     "name": "stderr",
     "output_type": "stream",
     "text": [
      "The following columns in the test set don't have a corresponding argument in `BertForSequenceClassification.forward` and have been ignored: text. If text are not expected by `BertForSequenceClassification.forward`,  you can safely ignore this message.\n",
      "***** Running Prediction *****\n",
      "  Num examples = 2000\n",
      "  Batch size = 32\n"
     ]
    },
    {
     "data": {
      "application/vnd.jupyter.widget-view+json": {
       "model_id": "cb036d5bc7c64f28bd791285efe37a5f",
       "version_major": 2,
       "version_minor": 0
      },
      "text/plain": [
       "  0%|          | 0/63 [00:00<?, ?it/s]"
      ]
     },
     "metadata": {},
     "output_type": "display_data"
    },
    {
     "name": "stdout",
     "output_type": "stream",
     "text": [
      "{'test_loss': 0.17748534679412842, 'test_f1': 0.9301425293987967, 'test_runtime': 13.1703, 'test_samples_per_second': 151.857, 'test_steps_per_second': 4.783}\n"
     ]
    }
   ],
   "source": [
    "test_predictions = trainer.predict(\n",
    "    test_dataset = emotion_dataset['test']\n",
    ")\n",
    "\n",
    "print(test_predictions.metrics)"
   ]
  },
  {
   "cell_type": "markdown",
   "id": "6bb8be22-87d8-41ab-a7a5-130fcebb5ca1",
   "metadata": {
    "id": "6bb8be22-87d8-41ab-a7a5-130fcebb5ca1"
   },
   "source": [
    "___\n",
    "Student answers here: For the test data, both loss and F1 Score are close to what we've achieved with evaluation set during training (intermediate steps & final output). Having a similar F1 score for unseen data is a sign of good generalization (no overfitting or underfitting observed).\n",
    "___"
   ]
  },
  {
   "cell_type": "markdown",
   "id": "bf617e14-5bf9-439b-b880-98fb430ca5f1",
   "metadata": {
    "id": "bf617e14-5bf9-439b-b880-98fb430ca5f1"
   },
   "source": [
    "However, we can go one step further in analyzing the model performances.\n",
    "\n",
    "* Start by creating a plot which shows the percentages of correct and incorrect class predictions per label\n",
    "* For example, you could extract the predicted classes and labels from the test predictions object, and plot a stacked bar chart with a sum that always equals 100%, and each part of the stack is made up of the percentages of correct and incorrect labels\n",
    "* You are also free to use other visualization techniques that show the same kind of information as long as it is clearly visible"
   ]
  },
  {
   "cell_type": "code",
   "execution_count": 22,
   "id": "cfa64910",
   "metadata": {},
   "outputs": [
    {
     "data": {
      "text/plain": [
       "array([[ 6.582 , -1.104 , -2.105 , -0.796 , -1.897 , -1.0625],\n",
       "       [ 6.902 , -2.033 , -1.882 , -0.839 , -1.467 , -1.09  ],\n",
       "       [ 6.87  , -1.985 , -1.828 , -0.845 , -1.589 , -1.029 ],\n",
       "       ...,\n",
       "       [-1.368 ,  6.895 , -0.4004, -2.006 , -2.389 , -1.261 ],\n",
       "       [-1.609 ,  6.84  , -0.7676, -2.09  , -1.728 , -1.071 ],\n",
       "       [-1.243 , -0.9844, -2.113 , -1.733 ,  3.678 ,  3.295 ]],\n",
       "      dtype=float16)"
      ]
     },
     "execution_count": 22,
     "metadata": {},
     "output_type": "execute_result"
    }
   ],
   "source": [
    "# testing\n",
    "test_predictions.predictions"
   ]
  },
  {
   "cell_type": "code",
   "execution_count": 27,
   "id": "c26dd009",
   "metadata": {},
   "outputs": [
    {
     "data": {
      "text/plain": [
       "array([0, 0, 0, ..., 1, 1, 4], dtype=int64)"
      ]
     },
     "execution_count": 27,
     "metadata": {},
     "output_type": "execute_result"
    }
   ],
   "source": [
    "np.argmax(test_predictions.predictions, axis=1)"
   ]
  },
  {
   "cell_type": "code",
   "execution_count": 32,
   "id": "b8241746-06f9-4601-b045-10965cbaf53c",
   "metadata": {
    "id": "b8241746-06f9-4601-b045-10965cbaf53c"
   },
   "outputs": [
    {
     "data": {
      "image/png": "[encoded data removed]",
      "text/plain": [
       "<Figure size 640x480 with 1 Axes>"
      ]
     },
     "metadata": {},
     "output_type": "display_data"
    }
   ],
   "source": [
    "preds = np.argmax(test_predictions.predictions, axis=1)\n",
    "true = test_predictions.label_ids\n",
    "\n",
    "def confusion_matrix(true, preds, n_classes):\n",
    "    m = np.zeros((n_classes, n_classes), dtype=int)\n",
    "\n",
    "    for t, p in zip(true, preds):\n",
    "        m[t][p] += 1\n",
    "\n",
    "    return m\n",
    "\n",
    "cm = confusion_matrix(true=true, preds=preds, n_classes=6)\n",
    "perc_correct = (np.diag(cm) / np.sum(cm, axis=1)) * 100\n",
    "perc_incorrect = 100 - perc_correct\n",
    "\n",
    "plt.style.use('seaborn-v0_8-darkgrid')\n",
    "fig, axs = plt.subplots()\n",
    "\n",
    "plt.bar(lbl2idx.keys(), perc_correct, label = 'Correct')\n",
    "plt.bar(lbl2idx.keys(), perc_incorrect, bottom=perc_correct, label = 'Incorrect')\n",
    "plt.title('True prediction rate per each class')\n",
    "y_ticks = np.arange(0, 101, 20)  \n",
    "plt.yticks(y_ticks, [f'{y}%' for y in y_ticks])\n",
    "plt.legend(loc='lower right')\n",
    "plt.tight_layout()"
   ]
  },
  {
   "cell_type": "markdown",
   "id": "2511b6f7-4370-43f6-a8fd-5c60b3331881",
   "metadata": {
    "id": "2511b6f7-4370-43f6-a8fd-5c60b3331881"
   },
   "source": [
    "* What can we see from this? Briefly explain the problem."
   ]
  },
  {
   "cell_type": "markdown",
   "id": "8fa663bb-4208-477f-bc50-55f653709ce6",
   "metadata": {
    "id": "8fa663bb-4208-477f-bc50-55f653709ce6"
   },
   "source": [
    "___\n",
    "Student answers here: Class: Surprise is far less correctly predicted compared to the others. This might be related to the class distribution within training dataset (a.k.a. imbalanced dataset). Also since surprise and love are considered positive terms, the model might not be able to distinguish their context based on the provided data.\n",
    "___"
   ]
  },
  {
   "cell_type": "markdown",
   "id": "415c7f51-88d7-42be-8897-b34b7332fe75",
   "metadata": {
    "id": "415c7f51-88d7-42be-8897-b34b7332fe75"
   },
   "source": [
    "* To investigate possible reasons for this imbalance, let's look at our dataset\n",
    "* Plot the train set class distribution as normalized percentages\n",
    "    * You can make use of the Hugging Face datasets object's `to_pandas()` method\n",
    "    * Then you can use all available data plotting and data handling techniques"
   ]
  },
  {
   "cell_type": "code",
   "execution_count": 31,
   "id": "ef3617d0-f3e4-4634-8325-2058c636f454",
   "metadata": {
    "id": "ef3617d0-f3e4-4634-8325-2058c636f454"
   },
   "outputs": [
    {
     "data": {
      "image/png": "[encoded data removed]",
      "text/plain": [
       "<Figure size 640x480 with 1 Axes>"
      ]
     },
     "metadata": {},
     "output_type": "display_data"
    }
   ],
   "source": [
    "np_to_pie = emotion_dataset['train'].to_pandas().labels.value_counts(normalize=True).rename(index=idx2lbl)\n",
    "plt.pie(\n",
    "    np_to_pie,\n",
    "    labels=np_to_pie.index,\n",
    "    autopct='%1.1f%%',\n",
    "    )\n",
    "plt.legend()\n",
    "plt.tight_layout()\n",
    "plt.show()"
   ]
  },
  {
   "cell_type": "markdown",
   "id": "940e98ee-ee8d-4cdd-9b05-8055c257a771",
   "metadata": {
    "id": "940e98ee-ee8d-4cdd-9b05-8055c257a771"
   },
   "source": [
    "1) What problems can you imagine when seeing this class distribution?\n",
    "2) What problems could arise if we simply duplicated samples of the classes with fewer available samples?\n",
    "3) What problems could arise if we simply downsampled the majority classes to the number of minority samples?"
   ]
  },
  {
   "cell_type": "markdown",
   "id": "e70943ea-f474-469b-9d85-551b88b5da03",
   "metadata": {
    "id": "e70943ea-f474-469b-9d85-551b88b5da03"
   },
   "source": [
    "___\n",
    "Student answers here:\n",
    "1. Surprise is far less represented in the training dataset. Therefore, our model is biased towards predicting the more frequent labels, as even a constant predictor would incur less loss by estimating joy and sadness. This is a classic case of imbalanced data.\n",
    "\n",
    "2. Duplicating samples will not provide any new information to our model. The classes which have majority in distribution will be still predicted better since they see more variety. Whereas, less represented classes (like surprise) will cause overfitting after we duplicate them.\n",
    "\n",
    "3. Downsampling the majority classes is also a problematic option, given that reduced training data can't be more informative regarding to its lower size. After downsampling, a part of information will be consequently removed and therefore the a decrease in model performance is expected due to more unseen area. \n",
    "___"
   ]
  },
  {
   "cell_type": "markdown",
   "id": "a1e05c3a-0540-4c22-aff7-3642f1c71f3d",
   "metadata": {
    "id": "a1e05c3a-0540-4c22-aff7-3642f1c71f3d"
   },
   "source": [
    "How to deal with this class imbalance?\n",
    "\n",
    "* We can modify the loss function to assign weight coefficients to the losses of certain classes\n",
    "* Therefore, a wrong classification of a certain class is weighted higher or lower, depending on its coefficients we provided\n",
    "* How do we calculate these weights?\n",
    "    * We can make use of the existing normalized frequency distribution we plotted above\n",
    "    * But calculate the element-wise complement per label, i.e. `1 - probability`, so that each resulting label represents a weight between 0 and 1 for its own class\n",
    "    * You can check your calculation by adding element-wise the initial normalized label distribution to your weights, you should receive an array of 6 `1`s (ignoring floating point imprecisions)\n",
    "    * Transform the type to a `torch.float32` tensor, and move the tensor separately to the `device` you want\n",
    "        * Huggingface will use a GPU as soon as it finds one available, but this separate tensor needs to be moved manually\n",
    "* However, since the Hugging Face Trainer we used before abstracted away the option to define our loss function, we need to overwrite the `compute_loss` (see [here](https://huggingface.co/docs/transformers/main_classes/trainer#transformers.Trainer.compute_loss)) function of the Trainer\n",
    "* To accomplish that:\n",
    "    *  we inherint from the `Trainer` class\n",
    "    *  define a `compute_loss` function that takes in a `model`, `inputs`, and a `return_outputs=False` keyword\n",
    "    *  First, we calculate the model `outputs` by giving our model the `inputs`\n",
    "        *  our `inputs` consist of a collated batch of inputs that the tokenizer creates, along with a `'labels'`, all inside a dictionary\n",
    "        *  therefore, we need to use dictionary expansion to assign all keyword arguments in the `model`\n",
    "    *  the `outputs` from Hugging Face transformers, again, are a dictionary, so we need to extract their `'logits'` and assign them to a `logits` variable\n",
    "    *  then, we extract the `labels` from the input\n",
    "    *  create a `criterion` using our well known `nn.CrossEntropyLoss()`\n",
    "        *  inside `nn.CrossEntropyLoss()`, we now use the `weight` argument and assign our calculated weight coefficients to it\n",
    "    *  compute the loss\n",
    "    *  return `(loss, outputs) if return_outputs else loss`"
   ]
  },
  {
   "cell_type": "code",
   "execution_count": 33,
   "id": "3b84fda9-a689-458a-a35a-dbca8dc1affd",
   "metadata": {
    "id": "3b84fda9-a689-458a-a35a-dbca8dc1affd"
   },
   "outputs": [],
   "source": [
    "complement_weights = torch.tensor(\n",
    "    ((1 - emotion_dataset['train'].to_pandas().labels.value_counts(normalize=True)).sort_index()), \n",
    "    dtype=torch.float32,\n",
    "    device=device)"
   ]
  },
  {
   "cell_type": "code",
   "execution_count": 34,
   "id": "eee5f4e2",
   "metadata": {},
   "outputs": [
    {
     "data": {
      "text/plain": [
       "{0: 'sadness', 1: 'joy', 2: 'love', 3: 'anger', 4: 'fear', 5: 'surprise'}"
      ]
     },
     "execution_count": 34,
     "metadata": {},
     "output_type": "execute_result"
    }
   ],
   "source": [
    "idx2lbl"
   ]
  },
  {
   "cell_type": "code",
   "execution_count": 35,
   "id": "b37a4767",
   "metadata": {},
   "outputs": [
    {
     "data": {
      "text/plain": [
       "tensor([0.7084, 0.6649, 0.9185, 0.8651, 0.8789, 0.9643], device='cuda:0')"
      ]
     },
     "execution_count": 35,
     "metadata": {},
     "output_type": "execute_result"
    }
   ],
   "source": [
    "complement_weights"
   ]
  },
  {
   "cell_type": "code",
   "execution_count": 39,
   "id": "929bd669",
   "metadata": {},
   "outputs": [
    {
     "data": {
      "text/plain": [
       "tensor([0, 0, 3,  ..., 1, 3, 0])"
      ]
     },
     "execution_count": 39,
     "metadata": {},
     "output_type": "execute_result"
    }
   ],
   "source": [
    "torch.tensor(emotion_dataset['train']['labels']).view(-1)"
   ]
  },
  {
   "cell_type": "code",
   "execution_count": 40,
   "id": "d509e6b5-e09e-4ca3-bf17-3115f2bbc3f7",
   "metadata": {
    "id": "d509e6b5-e09e-4ca3-bf17-3115f2bbc3f7"
   },
   "outputs": [],
   "source": [
    "class BalancedLossTrainer(Trainer):\n",
    "    def compute_loss(self, model, inputs, return_outputs=False):\n",
    "        outputs = model(**inputs)\n",
    "        logits = outputs.logits\n",
    "        criterion = nn.CrossEntropyLoss(weight=complement_weights)\n",
    "        loss = criterion(logits.view(-1, 6), inputs['labels'].view(-1))\n",
    "        \n",
    "        return (loss, outputs) if return_outputs else loss"
   ]
  },
  {
   "cell_type": "markdown",
   "id": "4acf666a-ffe8-4c09-a2cb-e505c0021788",
   "metadata": {
    "id": "4acf666a-ffe8-4c09-a2cb-e505c0021788"
   },
   "source": [
    "* Now, we can go back and re-create a second `TrainingArguments` instance\n",
    "    * Keep all settings equal, just change the `output_dir` to something like `'./logs/run2'` so that our earlier results aren't overwritten or appended to, and we keep everything in one directory\n",
    "* Re-load a new BERT model, so you start pre-training again from the base pre-trained model\n",
    "* Incorporate the new instance of `TrainingArguments` into our `BalancedLossTrainer`\n",
    "* Run all training, evaluation, and testing steps again\n",
    "* Repeat the plotting of correct and incorrect percentages per class again\n",
    "    * Comment on the new F1 score. Did it change compared to before? Why or why not?\n",
    "    * Comment also on the new results and try to explain what happened"
   ]
  },
  {
   "cell_type": "code",
   "execution_count": 41,
   "id": "d4441570-c458-4868-a274-eac67e4ef650",
   "metadata": {
    "id": "d4441570-c458-4868-a274-eac67e4ef650"
   },
   "outputs": [
    {
     "name": "stderr",
     "output_type": "stream",
     "text": [
      "c:\\Users\\esual\\miniconda3\\envs\\temp_dl4nlp\\lib\\site-packages\\huggingface_hub\\file_download.py:797: FutureWarning: `resume_download` is deprecated and will be removed in version 1.0.0. Downloads always resume when possible. If you want to force a new download, use `force_download=True`.\n",
      "  warnings.warn(\n"
     ]
    },
    {
     "data": {
      "application/vnd.jupyter.widget-view+json": {
       "model_id": "1b5c7334a63c403485a704b52d295a80",
       "version_major": 2,
       "version_minor": 0
      },
      "text/plain": [
       "config.json:   0%|          | 0.00/570 [00:00<?, ?B/s]"
      ]
     },
     "metadata": {},
     "output_type": "display_data"
    },
    {
     "name": "stderr",
     "output_type": "stream",
     "text": [
      "loading configuration file config.json from cache at C:\\Users\\esual/.cache\\huggingface\\hub\\models--google-bert--bert-base-uncased\\snapshots\\86b5e0934494bd15c9632b12f734a8a67f723594\\config.json\n",
      "Model config BertConfig {\n",
      "  \"_name_or_path\": \"google-bert/bert-base-uncased\",\n",
      "  \"architectures\": [\n",
      "    \"BertForMaskedLM\"\n",
      "  ],\n",
      "  \"attention_probs_dropout_prob\": 0.1,\n",
      "  \"classifier_dropout\": null,\n",
      "  \"gradient_checkpointing\": false,\n",
      "  \"hidden_act\": \"gelu\",\n",
      "  \"hidden_dropout_prob\": 0.1,\n",
      "  \"hidden_size\": 768,\n",
      "  \"id2label\": {\n",
      "    \"0\": \"sadness\",\n",
      "    \"1\": \"joy\",\n",
      "    \"2\": \"love\",\n",
      "    \"3\": \"anger\",\n",
      "    \"4\": \"fear\",\n",
      "    \"5\": \"surprise\"\n",
      "  },\n",
      "  \"initializer_range\": 0.02,\n",
      "  \"intermediate_size\": 3072,\n",
      "  \"label2id\": {\n",
      "    \"anger\": 3,\n",
      "    \"fear\": 4,\n",
      "    \"joy\": 1,\n",
      "    \"love\": 2,\n",
      "    \"sadness\": 0,\n",
      "    \"surprise\": 5\n",
      "  },\n",
      "  \"layer_norm_eps\": 1e-12,\n",
      "  \"max_position_embeddings\": 512,\n",
      "  \"model_type\": \"bert\",\n",
      "  \"num_attention_heads\": 12,\n",
      "  \"num_hidden_layers\": 12,\n",
      "  \"pad_token_id\": 0,\n",
      "  \"position_embedding_type\": \"absolute\",\n",
      "  \"transformers_version\": \"4.24.0\",\n",
      "  \"type_vocab_size\": 2,\n",
      "  \"use_cache\": true,\n",
      "  \"vocab_size\": 30522\n",
      "}\n",
      "\n",
      "loading weights file pytorch_model.bin from cache at C:\\Users\\esual/.cache\\huggingface\\hub\\models--google-bert--bert-base-uncased\\snapshots\\86b5e0934494bd15c9632b12f734a8a67f723594\\pytorch_model.bin\n",
      "Some weights of the model checkpoint at google-bert/bert-base-uncased were not used when initializing BertForSequenceClassification: ['cls.predictions.transform.LayerNorm.bias', 'cls.predictions.bias', 'cls.seq_relationship.bias', 'cls.predictions.transform.dense.bias', 'cls.predictions.transform.LayerNorm.weight', 'cls.predictions.transform.dense.weight', 'cls.predictions.decoder.weight', 'cls.seq_relationship.weight']\n",
      "- This IS expected if you are initializing BertForSequenceClassification from the checkpoint of a model trained on another task or with another architecture (e.g. initializing a BertForSequenceClassification model from a BertForPreTraining model).\n",
      "- This IS NOT expected if you are initializing BertForSequenceClassification from the checkpoint of a model that you expect to be exactly identical (initializing a BertForSequenceClassification model from a BertForSequenceClassification model).\n",
      "Some weights of BertForSequenceClassification were not initialized from the model checkpoint at google-bert/bert-base-uncased and are newly initialized: ['classifier.bias', 'classifier.weight']\n",
      "You should probably TRAIN this model on a down-stream task to be able to use it for predictions and inference.\n"
     ]
    }
   ],
   "source": [
    "model = AutoModelForSequenceClassification.from_pretrained(\n",
    "    'google-bert/bert-base-uncased',\n",
    "    num_labels = 6,\n",
    "    id2label = idx2lbl,\n",
    "    label2id = lbl2idx,\n",
    "    force_download = True\n",
    ")"
   ]
  },
  {
   "cell_type": "code",
   "execution_count": 42,
   "id": "a5088fa3-fbad-4b16-abe1-e0ab9e9d1890",
   "metadata": {
    "id": "a5088fa3-fbad-4b16-abe1-e0ab9e9d1890"
   },
   "outputs": [
    {
     "name": "stderr",
     "output_type": "stream",
     "text": [
      "PyTorch: setting up devices\n",
      "The default value for the training argument `--report_to` will change in v5 (from all installed integrations to none). In v5, you will need to use `--report_to all` to get the same behavior as now. You should start updating your code and make this info disappear :-).\n"
     ]
    }
   ],
   "source": [
    "training_args2 = TrainingArguments(\n",
    "    output_dir='./logs/run2',\n",
    "    per_device_train_batch_size=8,\n",
    "    per_device_eval_batch_size=32,\n",
    "    gradient_accumulation_steps=2,\n",
    "    learning_rate=2e-5,\n",
    "    weight_decay=1e-3,\n",
    "    num_train_epochs=3,\n",
    "    evaluation_strategy='epoch',\n",
    "    logging_strategy='steps',\n",
    "    logging_steps=len(emotion_dataset['train']) // 8,\n",
    "    save_strategy='epoch',\n",
    "    save_total_limit=1,\n",
    "    seed=42,\n",
    "    data_seed=42,\n",
    "    fp16=True,\n",
    "    dataloader_num_workers=2,\n",
    "    load_best_model_at_end=True\n",
    ")"
   ]
  },
  {
   "cell_type": "code",
   "execution_count": 44,
   "id": "55f6bbcb-2fb6-4c12-aff9-4cbac1ad0a9e",
   "metadata": {
    "id": "55f6bbcb-2fb6-4c12-aff9-4cbac1ad0a9e"
   },
   "outputs": [
    {
     "name": "stderr",
     "output_type": "stream",
     "text": [
      "Using cuda_amp half precision backend\n"
     ]
    }
   ],
   "source": [
    "trainer = BalancedLossTrainer(\n",
    "    model = model,\n",
    "    args = training_args2,\n",
    "    compute_metrics = compute_metrics,\n",
    "    train_dataset = emotion_dataset['train'],\n",
    "    eval_dataset = emotion_dataset['validation'],\n",
    "    tokenizer = tokenizer\n",
    ")"
   ]
  },
  {
   "cell_type": "code",
   "execution_count": 45,
   "id": "c722db60-ead1-4222-b1e7-0d3c662100ff",
   "metadata": {
    "id": "c722db60-ead1-4222-b1e7-0d3c662100ff"
   },
   "outputs": [
    {
     "name": "stderr",
     "output_type": "stream",
     "text": [
      "The following columns in the training set don't have a corresponding argument in `BertForSequenceClassification.forward` and have been ignored: text. If text are not expected by `BertForSequenceClassification.forward`,  you can safely ignore this message.\n",
      "c:\\Users\\esual\\miniconda3\\envs\\temp_dl4nlp\\lib\\site-packages\\transformers\\optimization.py:306: FutureWarning: This implementation of AdamW is deprecated and will be removed in a future version. Use the PyTorch implementation torch.optim.AdamW instead, or set `no_deprecation_warning=True` to disable this warning\n",
      "  warnings.warn(\n",
      "***** Running training *****\n",
      "  Num examples = 16000\n",
      "  Num Epochs = 3\n",
      "  Instantaneous batch size per device = 8\n",
      "  Total train batch size (w. parallel, distributed & accumulation) = 16\n",
      "  Gradient Accumulation steps = 2\n",
      "  Total optimization steps = 3000\n",
      "  Number of trainable parameters = 109486854\n"
     ]
    },
    {
     "data": {
      "application/vnd.jupyter.widget-view+json": {
       "model_id": "dafb60d2eae44eb0816319880169a140",
       "version_major": 2,
       "version_minor": 0
      },
      "text/plain": [
       "  0%|          | 0/3000 [00:00<?, ?it/s]"
      ]
     },
     "metadata": {},
     "output_type": "display_data"
    },
    {
     "name": "stderr",
     "output_type": "stream",
     "text": [
      "The following columns in the evaluation set don't have a corresponding argument in `BertForSequenceClassification.forward` and have been ignored: text. If text are not expected by `BertForSequenceClassification.forward`,  you can safely ignore this message.\n",
      "***** Running Evaluation *****\n",
      "  Num examples = 2000\n",
      "  Batch size = 32\n"
     ]
    },
    {
     "data": {
      "application/vnd.jupyter.widget-view+json": {
       "model_id": "e30c1a1853074a158df12263c664a8e7",
       "version_major": 2,
       "version_minor": 0
      },
      "text/plain": [
       "  0%|          | 0/63 [00:00<?, ?it/s]"
      ]
     },
     "metadata": {},
     "output_type": "display_data"
    },
    {
     "name": "stderr",
     "output_type": "stream",
     "text": [
      "Saving model checkpoint to ./logs/run2\\checkpoint-1000\n",
      "Configuration saved in ./logs/run2\\checkpoint-1000\\config.json\n"
     ]
    },
    {
     "name": "stdout",
     "output_type": "stream",
     "text": [
      "{'eval_loss': 0.21918249130249023, 'eval_f1': 0.9266841738225775, 'eval_runtime': 19.1052, 'eval_samples_per_second': 104.683, 'eval_steps_per_second': 3.298, 'epoch': 1.0}\n"
     ]
    },
    {
     "name": "stderr",
     "output_type": "stream",
     "text": [
      "Model weights saved in ./logs/run2\\checkpoint-1000\\pytorch_model.bin\n",
      "tokenizer config file saved in ./logs/run2\\checkpoint-1000\\tokenizer_config.json\n",
      "Special tokens file saved in ./logs/run2\\checkpoint-1000\\special_tokens_map.json\n"
     ]
    },
    {
     "name": "stdout",
     "output_type": "stream",
     "text": [
      "{'loss': 0.323, 'learning_rate': 6.693333333333334e-06, 'epoch': 2.0}\n"
     ]
    },
    {
     "name": "stderr",
     "output_type": "stream",
     "text": [
      "The following columns in the evaluation set don't have a corresponding argument in `BertForSequenceClassification.forward` and have been ignored: text. If text are not expected by `BertForSequenceClassification.forward`,  you can safely ignore this message.\n",
      "***** Running Evaluation *****\n",
      "  Num examples = 2000\n",
      "  Batch size = 32\n"
     ]
    },
    {
     "data": {
      "application/vnd.jupyter.widget-view+json": {
       "model_id": "3d3219f68f2b44ce81b14487322db800",
       "version_major": 2,
       "version_minor": 0
      },
      "text/plain": [
       "  0%|          | 0/63 [00:00<?, ?it/s]"
      ]
     },
     "metadata": {},
     "output_type": "display_data"
    },
    {
     "name": "stderr",
     "output_type": "stream",
     "text": [
      "Saving model checkpoint to ./logs/run2\\checkpoint-2000\n",
      "Configuration saved in ./logs/run2\\checkpoint-2000\\config.json\n"
     ]
    },
    {
     "name": "stdout",
     "output_type": "stream",
     "text": [
      "{'eval_loss': 0.17878811061382294, 'eval_f1': 0.9324238991103515, 'eval_runtime': 13.5026, 'eval_samples_per_second': 148.12, 'eval_steps_per_second': 4.666, 'epoch': 2.0}\n"
     ]
    },
    {
     "name": "stderr",
     "output_type": "stream",
     "text": [
      "Model weights saved in ./logs/run2\\checkpoint-2000\\pytorch_model.bin\n",
      "tokenizer config file saved in ./logs/run2\\checkpoint-2000\\tokenizer_config.json\n",
      "Special tokens file saved in ./logs/run2\\checkpoint-2000\\special_tokens_map.json\n",
      "The following columns in the evaluation set don't have a corresponding argument in `BertForSequenceClassification.forward` and have been ignored: text. If text are not expected by `BertForSequenceClassification.forward`,  you can safely ignore this message.\n",
      "***** Running Evaluation *****\n",
      "  Num examples = 2000\n",
      "  Batch size = 32\n"
     ]
    },
    {
     "data": {
      "application/vnd.jupyter.widget-view+json": {
       "model_id": "ef2d2632c33f4cf9a1f27514780b67ad",
       "version_major": 2,
       "version_minor": 0
      },
      "text/plain": [
       "  0%|          | 0/63 [00:00<?, ?it/s]"
      ]
     },
     "metadata": {},
     "output_type": "display_data"
    },
    {
     "name": "stderr",
     "output_type": "stream",
     "text": [
      "Saving model checkpoint to ./logs/run2\\checkpoint-3000\n",
      "Configuration saved in ./logs/run2\\checkpoint-3000\\config.json\n"
     ]
    },
    {
     "name": "stdout",
     "output_type": "stream",
     "text": [
      "{'eval_loss': 0.18820041418075562, 'eval_f1': 0.9365360918750442, 'eval_runtime': 12.8712, 'eval_samples_per_second': 155.386, 'eval_steps_per_second': 4.895, 'epoch': 3.0}\n"
     ]
    },
    {
     "name": "stderr",
     "output_type": "stream",
     "text": [
      "Model weights saved in ./logs/run2\\checkpoint-3000\\pytorch_model.bin\n",
      "tokenizer config file saved in ./logs/run2\\checkpoint-3000\\tokenizer_config.json\n",
      "Special tokens file saved in ./logs/run2\\checkpoint-3000\\special_tokens_map.json\n",
      "Deleting older checkpoint [logs\\run2\\checkpoint-1000] due to args.save_total_limit\n",
      "\n",
      "\n",
      "Training completed. Do not forget to share your model on huggingface.co/models =)\n",
      "\n",
      "\n",
      "Loading best model from ./logs/run2\\checkpoint-2000 (score: 0.17878811061382294).\n",
      "Deleting older checkpoint [logs\\run2\\checkpoint-2000] due to args.save_total_limit\n",
      "Deleting older checkpoint [logs\\run2\\checkpoint-3000] due to args.save_total_limit\n"
     ]
    },
    {
     "name": "stdout",
     "output_type": "stream",
     "text": [
      "{'train_runtime': 677.2177, 'train_samples_per_second': 70.878, 'train_steps_per_second': 4.43, 'train_loss': 0.24867243194580077, 'epoch': 3.0}\n"
     ]
    },
    {
     "data": {
      "text/plain": [
       "TrainOutput(global_step=3000, training_loss=0.24867243194580077, metrics={'train_runtime': 677.2177, 'train_samples_per_second': 70.878, 'train_steps_per_second': 4.43, 'train_loss': 0.24867243194580077, 'epoch': 3.0})"
      ]
     },
     "execution_count": 45,
     "metadata": {},
     "output_type": "execute_result"
    }
   ],
   "source": [
    "trainer.train()"
   ]
  },
  {
   "cell_type": "code",
   "execution_count": 46,
   "id": "d79524c1-0b42-4bfd-ace4-0cb786d2c428",
   "metadata": {
    "id": "d79524c1-0b42-4bfd-ace4-0cb786d2c428"
   },
   "outputs": [
    {
     "name": "stderr",
     "output_type": "stream",
     "text": [
      "The following columns in the test set don't have a corresponding argument in `BertForSequenceClassification.forward` and have been ignored: text. If text are not expected by `BertForSequenceClassification.forward`,  you can safely ignore this message.\n",
      "***** Running Prediction *****\n",
      "  Num examples = 2000\n",
      "  Batch size = 32\n"
     ]
    },
    {
     "data": {
      "application/vnd.jupyter.widget-view+json": {
       "model_id": "6879610545384321a0daeddbbf0e3ce8",
       "version_major": 2,
       "version_minor": 0
      },
      "text/plain": [
       "  0%|          | 0/63 [00:00<?, ?it/s]"
      ]
     },
     "metadata": {},
     "output_type": "display_data"
    },
    {
     "name": "stdout",
     "output_type": "stream",
     "text": [
      "{'test_loss': 0.1770351231098175, 'test_f1': 0.9334860580646495, 'test_runtime': 17.7177, 'test_samples_per_second': 112.882, 'test_steps_per_second': 3.556}\n"
     ]
    }
   ],
   "source": [
    "test_predictions = trainer.predict(\n",
    "    test_dataset = emotion_dataset['test']\n",
    ")\n",
    "\n",
    "print(test_predictions.metrics)"
   ]
  },
  {
   "cell_type": "code",
   "execution_count": 48,
   "id": "83faaec0-6cb9-4956-940e-d00d25469756",
   "metadata": {
    "id": "83faaec0-6cb9-4956-940e-d00d25469756"
   },
   "outputs": [
    {
     "data": {
      "image/png": "[encoded data removed]",
      "text/plain": [
       "<Figure size 640x480 with 1 Axes>"
      ]
     },
     "metadata": {},
     "output_type": "display_data"
    }
   ],
   "source": [
    "preds = np.argmax(test_predictions.predictions, axis=1)\n",
    "true = test_predictions.label_ids\n",
    "\n",
    "def confusion_matrix(true, preds, n_classes):\n",
    "    m = np.zeros((n_classes, n_classes), dtype=int)\n",
    "\n",
    "    for t, p in zip(true, preds):\n",
    "        m[t][p] += 1\n",
    "\n",
    "    return m\n",
    "\n",
    "cm = confusion_matrix(true=true, preds=preds, n_classes=6)\n",
    "perc_correct = (np.diag(cm) / np.sum(cm, axis=1)) * 100\n",
    "perc_incorrect = 100 - perc_correct\n",
    "\n",
    "plt.style.use('seaborn-v0_8-darkgrid')\n",
    "fig, axs = plt.subplots()\n",
    "\n",
    "plt.bar(lbl2idx.keys(), perc_correct, label = 'Correct')\n",
    "plt.bar(lbl2idx.keys(), perc_incorrect, bottom=perc_correct, label = 'Incorrect')\n",
    "plt.title('True prediction rate per each class (after weigthed loss)')\n",
    "y_ticks = np.arange(0, 101, 20)  \n",
    "plt.yticks(y_ticks, [f'{y}%' for y in y_ticks])\n",
    "plt.legend(loc='lower right')\n",
    "plt.tight_layout()"
   ]
  },
  {
   "cell_type": "markdown",
   "id": "61bbea8f-f026-45f9-9bce-ff1fc91e6937",
   "metadata": {
    "id": "61bbea8f-f026-45f9-9bce-ff1fc91e6937"
   },
   "source": [
    "___\n",
    "Student answers here: The model is slightly improved in terms of F1 score. New model can predict better some of the classes like 'love', 'anger' and 'fear'. Yet, it is hard to talk about an improvement for 'surprise'. Regarding these results, we can say that having weighted loss provides an improvement. To achieve better prediction for 'surprise', we might need to tune our model again (we can change the parameters of the trainer like batch size etc.)\n",
    "___"
   ]
  },
  {
   "cell_type": "markdown",
   "id": "37211a4f-1007-43d2-8d64-e6b5e29b513f",
   "metadata": {
    "id": "37211a4f-1007-43d2-8d64-e6b5e29b513f"
   },
   "source": [
    "# Task 2: Text Summarization with T5\n",
    "In this task, we will use the [SamSum](https://huggingface.co/datasets/samsum) dataset, which is a collection of back-and-forth chats between people, and a narrator-style summary of the chat.\n",
    "We will fine-tune our T5 model on this dataset and experiment with it on our own invented chats to see its performance."
   ]
  },
  {
   "cell_type": "code",
   "execution_count": 50,
   "id": "e8b87c73-32c0-441a-910c-91129b5779e0",
   "metadata": {
    "id": "e8b87c73-32c0-441a-910c-91129b5779e0"
   },
   "outputs": [],
   "source": [
    "import os\n",
    "import numpy as np\n",
    "\n",
    "import torch\n",
    "\n",
    "import evaluate\n",
    "from datasets import load_dataset\n",
    "\n",
    "from transformers import (\n",
    "    AutoTokenizer,\n",
    "    pipeline,\n",
    "    Seq2SeqTrainingArguments,\n",
    "    Seq2SeqTrainer,\n",
    "    DataCollatorForSeq2Seq,\n",
    "    AutoModelForSeq2SeqLM,\n",
    ")"
   ]
  },
  {
   "cell_type": "code",
   "execution_count": 51,
   "id": "a254090d-56b9-474c-b3f1-011c8b707692",
   "metadata": {
    "id": "a254090d-56b9-474c-b3f1-011c8b707692"
   },
   "outputs": [],
   "source": [
    "device = 'cuda:0' if torch.cuda.is_available() else 'cpu'\n",
    "os.environ['TOKENIZERS_PARALLELISM'] = 'false' # there might be interferences with the parallelism of the Hugging Face Trainer"
   ]
  },
  {
   "cell_type": "markdown",
   "id": "0e57cc35-bc28-4881-aec1-1e3e02df9b19",
   "metadata": {
    "id": "0e57cc35-bc28-4881-aec1-1e3e02df9b19"
   },
   "source": [
    "* Download the dataset from the Hugging Face Hub"
   ]
  },
  {
   "cell_type": "code",
   "execution_count": 53,
   "id": "575512e5-9b1a-4250-9c61-c6dbc24b5848",
   "metadata": {
    "id": "575512e5-9b1a-4250-9c61-c6dbc24b5848"
   },
   "outputs": [
    {
     "data": {
      "application/vnd.jupyter.widget-view+json": {
       "model_id": "c0085661cc774ceeb66be2d879bf2623",
       "version_major": 2,
       "version_minor": 0
      },
      "text/plain": [
       "corpus.7z:   0%|          | 0.00/2.94M [00:00<?, ?B/s]"
      ]
     },
     "metadata": {},
     "output_type": "display_data"
    },
    {
     "name": "stderr",
     "output_type": "stream",
     "text": [
      "c:\\Users\\esual\\miniconda3\\envs\\temp_dl4nlp\\lib\\site-packages\\huggingface_hub\\file_download.py:139: UserWarning: `huggingface_hub` cache-system uses symlinks by default to efficiently store duplicated files but your machine does not support them in C:\\Users\\esual\\.cache\\huggingface\\hub\\datasets--samsum. Caching files will still work but in a degraded version that might require more space on your disk. This warning can be disabled by setting the `HF_HUB_DISABLE_SYMLINKS_WARNING` environment variable. For more details, see https://huggingface.co/docs/huggingface_hub/how-to-cache#limitations.\n",
      "To support symlinks on Windows, you either need to activate Developer Mode or to run Python as an administrator. In order to activate developer mode, see this article: https://docs.microsoft.com/en-us/windows/apps/get-started/enable-your-device-for-development\n",
      "  warnings.warn(message)\n"
     ]
    },
    {
     "data": {
      "application/vnd.jupyter.widget-view+json": {
       "model_id": "0a701f771e9042ceb282356969e0475e",
       "version_major": 2,
       "version_minor": 0
      },
      "text/plain": [
       "Generating train split:   0%|          | 0/14732 [00:00<?, ? examples/s]"
      ]
     },
     "metadata": {},
     "output_type": "display_data"
    },
    {
     "data": {
      "application/vnd.jupyter.widget-view+json": {
       "model_id": "d78e8f5c597b4178a6791cc922426ee2",
       "version_major": 2,
       "version_minor": 0
      },
      "text/plain": [
       "Generating test split:   0%|          | 0/819 [00:00<?, ? examples/s]"
      ]
     },
     "metadata": {},
     "output_type": "display_data"
    },
    {
     "data": {
      "application/vnd.jupyter.widget-view+json": {
       "model_id": "4ea74a8da20d40dfbda97a2300c8c11f",
       "version_major": 2,
       "version_minor": 0
      },
      "text/plain": [
       "Generating validation split:   0%|          | 0/818 [00:00<?, ? examples/s]"
      ]
     },
     "metadata": {},
     "output_type": "display_data"
    }
   ],
   "source": [
    "samsum = load_dataset('Samsung/samsum', trust_remote_code=True)"
   ]
  },
  {
   "cell_type": "markdown",
   "id": "26d9f4e7-80ff-42ac-9526-884e69f9875c",
   "metadata": {
    "id": "26d9f4e7-80ff-42ac-9526-884e69f9875c"
   },
   "source": [
    "* Use Hugging Face's `pipeline` interface to see the non-finetuned performance of our model.\n",
    "* Load the [T5-small](https://huggingface.co/t5-small) model inside the [pipeline](https://huggingface.co/docs/transformers/main_classes/pipelines#pipelines) object, along with the `task=summarization` attribute.\n",
    "* Pick a sample from the [SamSum Test Set](https://huggingface.co/datasets/samsum/viewer/samsum/test). You can directly copy it from the website if you like.\n",
    "* Input it into the created pipeline object and check the result.\n",
    "    * In case of memory problems later on during fine-tuning, `del` the pipeline object to free up memory afterwards.\n",
    "* Comment: How well did it work?\n"
   ]
  },
  {
   "cell_type": "code",
   "execution_count": 54,
   "id": "b1db252a-ad67-4397-a693-554493564d6f",
   "metadata": {
    "id": "b1db252a-ad67-4397-a693-554493564d6f"
   },
   "outputs": [
    {
     "name": "stderr",
     "output_type": "stream",
     "text": [
      "c:\\Users\\esual\\miniconda3\\envs\\temp_dl4nlp\\lib\\site-packages\\huggingface_hub\\file_download.py:797: FutureWarning: `resume_download` is deprecated and will be removed in version 1.0.0. Downloads always resume when possible. If you want to force a new download, use `force_download=True`.\n",
      "  warnings.warn(\n"
     ]
    },
    {
     "data": {
      "application/vnd.jupyter.widget-view+json": {
       "model_id": "c2eec5723ea747d69f501fff00160d01",
       "version_major": 2,
       "version_minor": 0
      },
      "text/plain": [
       "config.json:   0%|          | 0.00/1.21k [00:00<?, ?B/s]"
      ]
     },
     "metadata": {},
     "output_type": "display_data"
    },
    {
     "name": "stderr",
     "output_type": "stream",
     "text": [
      "c:\\Users\\esual\\miniconda3\\envs\\temp_dl4nlp\\lib\\site-packages\\huggingface_hub\\file_download.py:139: UserWarning: `huggingface_hub` cache-system uses symlinks by default to efficiently store duplicated files but your machine does not support them in C:\\Users\\esual\\.cache\\huggingface\\hub\\models--google-t5--t5-small. Caching files will still work but in a degraded version that might require more space on your disk. This warning can be disabled by setting the `HF_HUB_DISABLE_SYMLINKS_WARNING` environment variable. For more details, see https://huggingface.co/docs/huggingface_hub/how-to-cache#limitations.\n",
      "To support symlinks on Windows, you either need to activate Developer Mode or to run Python as an administrator. In order to activate developer mode, see this article: https://docs.microsoft.com/en-us/windows/apps/get-started/enable-your-device-for-development\n",
      "  warnings.warn(message)\n",
      "loading configuration file config.json from cache at C:\\Users\\esual/.cache\\huggingface\\hub\\models--google-t5--t5-small\\snapshots\\df1b051c49625cf57a3d0d8d3863ed4d13564fe4\\config.json\n",
      "Model config T5Config {\n",
      "  \"_name_or_path\": \"google-t5/t5-small\",\n",
      "  \"architectures\": [\n",
      "    \"T5ForConditionalGeneration\"\n",
      "  ],\n",
      "  \"d_ff\": 2048,\n",
      "  \"d_kv\": 64,\n",
      "  \"d_model\": 512,\n",
      "  \"decoder_start_token_id\": 0,\n",
      "  \"dense_act_fn\": \"relu\",\n",
      "  \"dropout_rate\": 0.1,\n",
      "  \"eos_token_id\": 1,\n",
      "  \"feed_forward_proj\": \"relu\",\n",
      "  \"initializer_factor\": 1.0,\n",
      "  \"is_encoder_decoder\": true,\n",
      "  \"is_gated_act\": false,\n",
      "  \"layer_norm_epsilon\": 1e-06,\n",
      "  \"model_type\": \"t5\",\n",
      "  \"n_positions\": 512,\n",
      "  \"num_decoder_layers\": 6,\n",
      "  \"num_heads\": 8,\n",
      "  \"num_layers\": 6,\n",
      "  \"output_past\": true,\n",
      "  \"pad_token_id\": 0,\n",
      "  \"relative_attention_max_distance\": 128,\n",
      "  \"relative_attention_num_buckets\": 32,\n",
      "  \"task_specific_params\": {\n",
      "    \"summarization\": {\n",
      "      \"early_stopping\": true,\n",
      "      \"length_penalty\": 2.0,\n",
      "      \"max_length\": 200,\n",
      "      \"min_length\": 30,\n",
      "      \"no_repeat_ngram_size\": 3,\n",
      "      \"num_beams\": 4,\n",
      "      \"prefix\": \"summarize: \"\n",
      "    },\n",
      "    \"translation_en_to_de\": {\n",
      "      \"early_stopping\": true,\n",
      "      \"max_length\": 300,\n",
      "      \"num_beams\": 4,\n",
      "      \"prefix\": \"translate English to German: \"\n",
      "    },\n",
      "    \"translation_en_to_fr\": {\n",
      "      \"early_stopping\": true,\n",
      "      \"max_length\": 300,\n",
      "      \"num_beams\": 4,\n",
      "      \"prefix\": \"translate English to French: \"\n",
      "    },\n",
      "    \"translation_en_to_ro\": {\n",
      "      \"early_stopping\": true,\n",
      "      \"max_length\": 300,\n",
      "      \"num_beams\": 4,\n",
      "      \"prefix\": \"translate English to Romanian: \"\n",
      "    }\n",
      "  },\n",
      "  \"transformers_version\": \"4.24.0\",\n",
      "  \"use_cache\": true,\n",
      "  \"vocab_size\": 32128\n",
      "}\n",
      "\n",
      "loading configuration file config.json from cache at C:\\Users\\esual/.cache\\huggingface\\hub\\models--google-t5--t5-small\\snapshots\\df1b051c49625cf57a3d0d8d3863ed4d13564fe4\\config.json\n",
      "Model config T5Config {\n",
      "  \"_name_or_path\": \"google-t5/t5-small\",\n",
      "  \"architectures\": [\n",
      "    \"T5ForConditionalGeneration\"\n",
      "  ],\n",
      "  \"d_ff\": 2048,\n",
      "  \"d_kv\": 64,\n",
      "  \"d_model\": 512,\n",
      "  \"decoder_start_token_id\": 0,\n",
      "  \"dense_act_fn\": \"relu\",\n",
      "  \"dropout_rate\": 0.1,\n",
      "  \"eos_token_id\": 1,\n",
      "  \"feed_forward_proj\": \"relu\",\n",
      "  \"initializer_factor\": 1.0,\n",
      "  \"is_encoder_decoder\": true,\n",
      "  \"is_gated_act\": false,\n",
      "  \"layer_norm_epsilon\": 1e-06,\n",
      "  \"model_type\": \"t5\",\n",
      "  \"n_positions\": 512,\n",
      "  \"num_decoder_layers\": 6,\n",
      "  \"num_heads\": 8,\n",
      "  \"num_layers\": 6,\n",
      "  \"output_past\": true,\n",
      "  \"pad_token_id\": 0,\n",
      "  \"relative_attention_max_distance\": 128,\n",
      "  \"relative_attention_num_buckets\": 32,\n",
      "  \"task_specific_params\": {\n",
      "    \"summarization\": {\n",
      "      \"early_stopping\": true,\n",
      "      \"length_penalty\": 2.0,\n",
      "      \"max_length\": 200,\n",
      "      \"min_length\": 30,\n",
      "      \"no_repeat_ngram_size\": 3,\n",
      "      \"num_beams\": 4,\n",
      "      \"prefix\": \"summarize: \"\n",
      "    },\n",
      "    \"translation_en_to_de\": {\n",
      "      \"early_stopping\": true,\n",
      "      \"max_length\": 300,\n",
      "      \"num_beams\": 4,\n",
      "      \"prefix\": \"translate English to German: \"\n",
      "    },\n",
      "    \"translation_en_to_fr\": {\n",
      "      \"early_stopping\": true,\n",
      "      \"max_length\": 300,\n",
      "      \"num_beams\": 4,\n",
      "      \"prefix\": \"translate English to French: \"\n",
      "    },\n",
      "    \"translation_en_to_ro\": {\n",
      "      \"early_stopping\": true,\n",
      "      \"max_length\": 300,\n",
      "      \"num_beams\": 4,\n",
      "      \"prefix\": \"translate English to Romanian: \"\n",
      "    }\n",
      "  },\n",
      "  \"transformers_version\": \"4.24.0\",\n",
      "  \"use_cache\": true,\n",
      "  \"vocab_size\": 32128\n",
      "}\n",
      "\n"
     ]
    },
    {
     "data": {
      "application/vnd.jupyter.widget-view+json": {
       "model_id": "c289137259b14a3aa96dacc060addfe9",
       "version_major": 2,
       "version_minor": 0
      },
      "text/plain": [
       "pytorch_model.bin:   0%|          | 0.00/242M [00:00<?, ?B/s]"
      ]
     },
     "metadata": {},
     "output_type": "display_data"
    },
    {
     "name": "stderr",
     "output_type": "stream",
     "text": [
      "loading weights file pytorch_model.bin from cache at C:\\Users\\esual/.cache\\huggingface\\hub\\models--google-t5--t5-small\\snapshots\\df1b051c49625cf57a3d0d8d3863ed4d13564fe4\\pytorch_model.bin\n",
      "All model checkpoint weights were used when initializing T5ForConditionalGeneration.\n",
      "\n",
      "All the weights of T5ForConditionalGeneration were initialized from the model checkpoint at google-t5/t5-small.\n",
      "If your task is similar to the task the model of the checkpoint was trained on, you can already use T5ForConditionalGeneration for predictions without further training.\n"
     ]
    },
    {
     "data": {
      "application/vnd.jupyter.widget-view+json": {
       "model_id": "7342b93a9d954cadb8ce7f07a5802d98",
       "version_major": 2,
       "version_minor": 0
      },
      "text/plain": [
       "tokenizer_config.json:   0%|          | 0.00/2.32k [00:00<?, ?B/s]"
      ]
     },
     "metadata": {},
     "output_type": "display_data"
    },
    {
     "data": {
      "application/vnd.jupyter.widget-view+json": {
       "model_id": "0aed31ec42b3478e9375756ec20663c4",
       "version_major": 2,
       "version_minor": 0
      },
      "text/plain": [
       "spiece.model:   0%|          | 0.00/792k [00:00<?, ?B/s]"
      ]
     },
     "metadata": {},
     "output_type": "display_data"
    },
    {
     "data": {
      "application/vnd.jupyter.widget-view+json": {
       "model_id": "0ea3ad8835c74a57a2a176aa14fd0d3b",
       "version_major": 2,
       "version_minor": 0
      },
      "text/plain": [
       "tokenizer.json:   0%|          | 0.00/1.39M [00:00<?, ?B/s]"
      ]
     },
     "metadata": {},
     "output_type": "display_data"
    },
    {
     "name": "stderr",
     "output_type": "stream",
     "text": [
      "loading file spiece.model from cache at C:\\Users\\esual/.cache\\huggingface\\hub\\models--google-t5--t5-small\\snapshots\\df1b051c49625cf57a3d0d8d3863ed4d13564fe4\\spiece.model\n",
      "loading file tokenizer.json from cache at C:\\Users\\esual/.cache\\huggingface\\hub\\models--google-t5--t5-small\\snapshots\\df1b051c49625cf57a3d0d8d3863ed4d13564fe4\\tokenizer.json\n",
      "loading file added_tokens.json from cache at None\n",
      "loading file special_tokens_map.json from cache at None\n",
      "loading file tokenizer_config.json from cache at C:\\Users\\esual/.cache\\huggingface\\hub\\models--google-t5--t5-small\\snapshots\\df1b051c49625cf57a3d0d8d3863ed4d13564fe4\\tokenizer_config.json\n"
     ]
    }
   ],
   "source": [
    "pipe = pipeline(model='google-t5/t5-small', task='summarization')"
   ]
  },
  {
   "cell_type": "code",
   "execution_count": 66,
   "id": "c4eba82f-66b4-4d28-900b-348a63a944d1",
   "metadata": {
    "id": "c4eba82f-66b4-4d28-900b-348a63a944d1"
   },
   "outputs": [
    {
     "name": "stderr",
     "output_type": "stream",
     "text": [
      "Your max_length is set to 200, but you input_length is only 39. You might consider decreasing max_length manually, e.g. summarizer('...', max_length=19)\n"
     ]
    },
    {
     "name": "stdout",
     "output_type": "stream",
     "text": [
      "\n",
      "Sample id 13612174\n",
      "\n",
      "Dialogue: Daniel: Yo, at what time do you get out of work?\n",
      "Missy: At 6.\n",
      "Daniel: Drinks after dinner?\n",
      "Missy: Totally!\n",
      "Daniel: Cool.\n",
      "\n",
      "Model output: missy: At 6. Daniel: Drinks after dinner? Missy: Totally! Daniel: Cool . Daniel: cool, cool and cool .\n",
      "\n"
     ]
    }
   ],
   "source": [
    "np.random.seed(42)\n",
    "random_sample = samsum['test'][np.random.randint(0, len(samsum['test']))]\n",
    "output = pipe(random_sample['dialogue'])\n",
    "\n",
    "\n",
    "print(f'''\n",
    "Sample id {random_sample['id']}\n",
    "\n",
    "Dialogue: {random_sample['dialogue']}\n",
    "\n",
    "Model output: {output[0]['summary_text']}\n",
    "''')"
   ]
  },
  {
   "cell_type": "markdown",
   "id": "d6b258c2-9ecc-4c24-9bc6-8479fffad285",
   "metadata": {
    "id": "d6b258c2-9ecc-4c24-9bc6-8479fffad285"
   },
   "source": [
    "___\n",
    "Student answers here: It did not work well given that the output is not meaningful and not able to summarize the dialogue at all. It mostly copies words from the dialogue and somehow duplicates \"cool\" three times.  \n",
    "___"
   ]
  },
  {
   "cell_type": "markdown",
   "id": "1608e2f0-dde3-4f7b-95f4-cdbaad81f1be",
   "metadata": {
    "id": "1608e2f0-dde3-4f7b-95f4-cdbaad81f1be"
   },
   "source": [
    "* Then, we will load [T5's](https://huggingface.co/t5-small) `t5-small` tokenizer, again using `AutoTokenizer` from before"
   ]
  },
  {
   "cell_type": "code",
   "execution_count": 67,
   "id": "701bfc05-bc7d-405e-afec-6b09b9e42c86",
   "metadata": {
    "id": "701bfc05-bc7d-405e-afec-6b09b9e42c86"
   },
   "outputs": [
    {
     "name": "stderr",
     "output_type": "stream",
     "text": [
      "c:\\Users\\esual\\miniconda3\\envs\\temp_dl4nlp\\lib\\site-packages\\huggingface_hub\\file_download.py:797: FutureWarning: `resume_download` is deprecated and will be removed in version 1.0.0. Downloads always resume when possible. If you want to force a new download, use `force_download=True`.\n",
      "  warnings.warn(\n"
     ]
    },
    {
     "data": {
      "application/vnd.jupyter.widget-view+json": {
       "model_id": "c2ccca47c3754140b5ed232905cd5a79",
       "version_major": 2,
       "version_minor": 0
      },
      "text/plain": [
       "tokenizer_config.json:   0%|          | 0.00/2.32k [00:00<?, ?B/s]"
      ]
     },
     "metadata": {},
     "output_type": "display_data"
    },
    {
     "name": "stderr",
     "output_type": "stream",
     "text": [
      "c:\\Users\\esual\\miniconda3\\envs\\temp_dl4nlp\\lib\\site-packages\\huggingface_hub\\file_download.py:139: UserWarning: `huggingface_hub` cache-system uses symlinks by default to efficiently store duplicated files but your machine does not support them in C:\\Users\\esual\\.cache\\huggingface\\hub\\models--t5-small. Caching files will still work but in a degraded version that might require more space on your disk. This warning can be disabled by setting the `HF_HUB_DISABLE_SYMLINKS_WARNING` environment variable. For more details, see https://huggingface.co/docs/huggingface_hub/how-to-cache#limitations.\n",
      "To support symlinks on Windows, you either need to activate Developer Mode or to run Python as an administrator. In order to activate developer mode, see this article: https://docs.microsoft.com/en-us/windows/apps/get-started/enable-your-device-for-development\n",
      "  warnings.warn(message)\n"
     ]
    },
    {
     "data": {
      "application/vnd.jupyter.widget-view+json": {
       "model_id": "5d5cd4f72cb7461aa74159f52d8b02bd",
       "version_major": 2,
       "version_minor": 0
      },
      "text/plain": [
       "spiece.model:   0%|          | 0.00/792k [00:00<?, ?B/s]"
      ]
     },
     "metadata": {},
     "output_type": "display_data"
    },
    {
     "data": {
      "application/vnd.jupyter.widget-view+json": {
       "model_id": "44547b7f66bc444cbf167cf2c3fb102d",
       "version_major": 2,
       "version_minor": 0
      },
      "text/plain": [
       "tokenizer.json:   0%|          | 0.00/1.39M [00:00<?, ?B/s]"
      ]
     },
     "metadata": {},
     "output_type": "display_data"
    },
    {
     "name": "stderr",
     "output_type": "stream",
     "text": [
      "loading file spiece.model from cache at C:\\Users\\esual/.cache\\huggingface\\hub\\models--t5-small\\snapshots\\df1b051c49625cf57a3d0d8d3863ed4d13564fe4\\spiece.model\n",
      "loading file tokenizer.json from cache at C:\\Users\\esual/.cache\\huggingface\\hub\\models--t5-small\\snapshots\\df1b051c49625cf57a3d0d8d3863ed4d13564fe4\\tokenizer.json\n",
      "loading file added_tokens.json from cache at None\n",
      "loading file special_tokens_map.json from cache at None\n",
      "loading file tokenizer_config.json from cache at C:\\Users\\esual/.cache\\huggingface\\hub\\models--t5-small\\snapshots\\df1b051c49625cf57a3d0d8d3863ed4d13564fe4\\tokenizer_config.json\n"
     ]
    }
   ],
   "source": [
    "tokenizer = AutoTokenizer.from_pretrained('t5-small')"
   ]
  },
  {
   "cell_type": "markdown",
   "id": "4c5ab0c8-4388-4163-95f1-102a8fef3085",
   "metadata": {
    "id": "4c5ab0c8-4388-4163-95f1-102a8fef3085"
   },
   "source": [
    "T5 is a sequence-to-sequence encoder-decoder model, meaning that it takes sequences as input, transforms them, and outputs target sequences. The model can be used for translation, classification, summarization, and much more, given the correct input prompts.\n",
    "\n",
    "As we are dealing with a summarization task, we need to preface our sequences with the necessary `'summarize: '` prompt.\n",
    "* Write a preprocess function which takes in a dataset split and prefaces every input sequence with the string `'summarize: '`\n",
    "* Afterwards, use the tokenizer with the arguments `truncation=True` and `max_length=512` to limit the maximum lengths of all inputs, and tokenize all sequences\n",
    "* Then, separately transform the target sequences using `truncation=True` with a `max_length=128`\n",
    "* Extract the `input_ids` from the transformed target sequences and add them to the the dictionary output of the transformed input sequences with the key `labels`\n",
    "* Return the dictionary object afterwards"
   ]
  },
  {
   "cell_type": "code",
   "execution_count": 79,
   "id": "1d7d0c26-fe49-4224-93a6-40d484c500fc",
   "metadata": {
    "id": "1d7d0c26-fe49-4224-93a6-40d484c500fc"
   },
   "outputs": [],
   "source": [
    "def preprocess_summarization(split):\n",
    "    dialogues = ['summarize: ' + i for i in split['dialogue']]\n",
    "    tokenized_dialogues = tokenizer(dialogues, truncation=True, max_length=512)\n",
    "    targets = split['summary']\n",
    "    tokenized_targets = tokenizer(targets, truncation=True, max_length=128)\n",
    "    tokenized_dialogues['labels'] = tokenized_targets['input_ids']\n",
    "    return tokenized_dialogues"
   ]
  },
  {
   "cell_type": "markdown",
   "id": "0727e745-bfab-4612-aa30-3b78e6defa2e",
   "metadata": {
    "id": "0727e745-bfab-4612-aa30-3b78e6defa2e"
   },
   "source": [
    "* As before with the classification task, `map` the preprocessing function onto the entire dataset using the `batched=True` option"
   ]
  },
  {
   "cell_type": "code",
   "execution_count": 80,
   "id": "310ee61b-5b80-43a0-8a5d-d76c69dddff2",
   "metadata": {
    "id": "310ee61b-5b80-43a0-8a5d-d76c69dddff2"
   },
   "outputs": [
    {
     "data": {
      "application/vnd.jupyter.widget-view+json": {
       "model_id": "b1a325c398914a118f93670740d1f69a",
       "version_major": 2,
       "version_minor": 0
      },
      "text/plain": [
       "Map:   0%|          | 0/14732 [00:00<?, ? examples/s]"
      ]
     },
     "metadata": {},
     "output_type": "display_data"
    },
    {
     "data": {
      "application/vnd.jupyter.widget-view+json": {
       "model_id": "e4395490ed814b35ad35a264e94ea412",
       "version_major": 2,
       "version_minor": 0
      },
      "text/plain": [
       "Map:   0%|          | 0/819 [00:00<?, ? examples/s]"
      ]
     },
     "metadata": {},
     "output_type": "display_data"
    },
    {
     "data": {
      "application/vnd.jupyter.widget-view+json": {
       "model_id": "55eaef772367444eb02e511f464f5049",
       "version_major": 2,
       "version_minor": 0
      },
      "text/plain": [
       "Map:   0%|          | 0/818 [00:00<?, ? examples/s]"
      ]
     },
     "metadata": {},
     "output_type": "display_data"
    }
   ],
   "source": [
    "tokenized_samsum = samsum.map(preprocess_summarization, batched=True)"
   ]
  },
  {
   "cell_type": "markdown",
   "id": "aa2b20fa-e22d-42d1-b40f-4414b9f2a819",
   "metadata": {
    "id": "aa2b20fa-e22d-42d1-b40f-4414b9f2a819"
   },
   "source": [
    "* As the next step, we create a `collator` [object](https://huggingface.co/docs/transformers/v4.31.0/en/main_classes/data_collator#transformers.DataCollatorForSeq2Seq), which takes in the `tokenizer` and our `model`\n",
    "    * At this stage, it is fine to just write `model='t5-small'` as input to the collator"
   ]
  },
  {
   "cell_type": "code",
   "execution_count": 81,
   "id": "611afa55-9d71-4a5f-8017-3abce46ccd51",
   "metadata": {
    "id": "611afa55-9d71-4a5f-8017-3abce46ccd51"
   },
   "outputs": [],
   "source": [
    "collator = DataCollatorForSeq2Seq(\n",
    "    tokenizer=tokenizer,\n",
    "    model='t5-small'\n",
    ")"
   ]
  },
  {
   "cell_type": "markdown",
   "id": "2119c26e-7549-4995-a05d-1374c1e7b85c",
   "metadata": {
    "id": "2119c26e-7549-4995-a05d-1374c1e7b85c"
   },
   "source": [
    "* To evaluate our model's summarization performance, we employ the [ROUGE](https://huggingface.co/spaces/evaluate-metric/rouge) score.\n",
    "* Advantages include:\n",
    "    * The ROUGE (Recall-Oriented Understudy for Gisting Evaluation) is a metric commonly used for evaluating the quality of machine-generated text, particularly summaries\n",
    "    * ROUGE measures the similarity between the generated summary and one or more reference (human-written) summaries\n",
    "    * ROUGE provides a standardized way to evaluate the quality of text summaries, which is important for at-scale comparison between different summarization models\n",
    "    * ROUGE includes multiple metrics, such as ROUGE-N (for n-grams), ROUGE-L (for longest common subsequence), and ROUGE-W (for weighted n-grams). Depending on the task, these metrics capture different aspects of summary quality, allowing a more comprehensive evaluation.\n",
    "* Disadvantages include:\n",
    "    * ROUGE relies on exact word or n-gram matches, which may not capture the semantic meaning well. Two sentences with similar meaning but slightly different phrasing might receive a low ROUGE score. (You can use the above link to play around with some references and generated sequences)\n",
    "    * ROUGE does not consider the order of words or phrases. If a model generates a summary with words or phrases in a different order than the reference, even if the content is correct, the ROUGE score might be lower.\n",
    "    * ROUGE measures lexical overlap and does not consider deeper linguistic structures or coherence in summaries.\n",
    "* Load the `rouge` score from the `evaluate` library"
   ]
  },
  {
   "cell_type": "code",
   "execution_count": 82,
   "id": "cd578c4e-47c9-4d6d-bd4d-91a509cf8129",
   "metadata": {
    "id": "cd578c4e-47c9-4d6d-bd4d-91a509cf8129"
   },
   "outputs": [
    {
     "data": {
      "application/vnd.jupyter.widget-view+json": {
       "model_id": "a845cd082b8442d49b3b5b2610bf18c3",
       "version_major": 2,
       "version_minor": 0
      },
      "text/plain": [
       "Downloading builder script:   0%|          | 0.00/6.27k [00:00<?, ?B/s]"
      ]
     },
     "metadata": {},
     "output_type": "display_data"
    }
   ],
   "source": [
    "rouge = evaluate.load('rouge')"
   ]
  },
  {
   "cell_type": "markdown",
   "id": "ba798853-94c9-4013-9fbb-514e1d166dd7",
   "metadata": {
    "id": "ba798853-94c9-4013-9fbb-514e1d166dd7"
   },
   "source": [
    "* Then, we need to define our `compute_metrics` function, but this time for the ROUGE score\n",
    "* At first, we receive again our tuple of `EvalPred` predictions and labels, which is also the input to our function\n",
    "    * Split up the input tuple by extracting the labels and predictions\n",
    "    * In the T5 case, the predictions are again a tuple of `(logits, hidden_representations)`\n",
    "    * For our task, extract only the logits\n",
    "    * Apply `argmax()` on the last dimension of the logits to get the predictions\n",
    "* Then, we use our `tokenizer` to `batch_decode` the argmaxed logits\n",
    "    * Here, we activate the tokenizer setting `skip_special_tokens=True`, and `clean_up_tokenization_spaces=True`\n",
    "* Before we can decode our labels, we must first replace the padding tokens of the labels batch, represented by the value `-100`, with the actual padding tokens of the tokenizer\n",
    "    * The `-100` are a convention of the `Seq2SeqTrainer`, and don't have any deeper meaning\n",
    "    * the padding token can be accessed by `tokenizer.pad_token_id`\n",
    "* Then, we also `batch_decode` the labels\n",
    "    * Also skip the special tokens, but no need clean up tokenization spaces since we handled them separately\n",
    "* Afterwards, we input both decoded predictions and labels into the `rouge.compute` function\n",
    "* That result dictionary is returned\n",
    "    * Optionally, round all numbers in the result dictionary to 4 or 6 digits, whichever format you prefer"
   ]
  },
  {
   "cell_type": "code",
   "execution_count": 83,
   "id": "ea674e1a",
   "metadata": {},
   "outputs": [
    {
     "data": {
      "text/plain": [
       "0"
      ]
     },
     "execution_count": 83,
     "metadata": {},
     "output_type": "execute_result"
    }
   ],
   "source": [
    "tokenizer.pad_token_id"
   ]
  },
  {
   "cell_type": "code",
   "execution_count": 84,
   "id": "df12172f-7fc2-437d-b167-b843f694d3b1",
   "metadata": {
    "id": "df12172f-7fc2-437d-b167-b843f694d3b1"
   },
   "outputs": [],
   "source": [
    "def compute_metrics(eval_preds):\n",
    "    labels, predictions = eval_preds.label_ids, eval_preds.predictions\n",
    "    logits, _ = predictions\n",
    "    pred_class = np.argmax(logits, axis=-1)\n",
    "    dec_preds = tokenizer.batch_decode(pred_class, skip_special_tokens = True, clean_up_tokenization_spaces = True)\n",
    "    labels = np.where(labels == -100, tokenizer.pad_token_id, labels)\n",
    "    dec_labels = tokenizer.batch_decode(labels, skip_special_tokens=True, clean_up_tokenization_spaces=True)\n",
    "    rouge_score = rouge.compute(predictions=dec_preds, references=dec_labels)\n",
    "    return {'rouge':rouge_score.round(4)}"
   ]
  },
  {
   "cell_type": "markdown",
   "id": "41dff509-090d-4f01-a5dc-b02ecacc7069",
   "metadata": {
    "id": "41dff509-090d-4f01-a5dc-b02ecacc7069"
   },
   "source": [
    "* Then we create a `Seq2SeqTrainingArguments` [instance](https://huggingface.co/docs/transformers/v4.31.0/en/main_classes/trainer#transformers.Seq2SeqTrainingArguments), which is just a specialized version of our general `TrainingArguments` function from before.\n",
    "* In our case, we can base our settings on the training arguments from BERT classification, except:\n",
    "    * Since we now have longer sequences, it might be necessary to reduce batch sizes even more, so experiment a bit with your GPU memory availability\n",
    "        * Try to max-out your GPU memory by increasing the batch size as much as possible to speed up training\n",
    "    * change the `output_dir` to something under the same path from before, e.g. `'./logs/run3/'`\n",
    "* Once created, load the model using the `AutoModelForSeq2SeqLM`\n",
    "* Instantiate a `Seq2SeqTrainer` [object](https://huggingface.co/docs/transformers/v4.31.0/en/main_classes/trainer#transformers.Seq2SeqTrainer) in the same style as before\n",
    "    * This time, we just need to add the `collator` object to the `data_collator` argument\n",
    "* Call the `train()` method and start training\n",
    "* Comment briefly on the training progress"
   ]
  },
  {
   "cell_type": "code",
   "execution_count": null,
   "id": "384c2efe-6aa7-4ad6-9705-bf4dffef05cf",
   "metadata": {
    "id": "384c2efe-6aa7-4ad6-9705-bf4dffef05cf"
   },
   "outputs": [
    {
     "name": "stderr",
     "output_type": "stream",
     "text": [
      "PyTorch: setting up devices\n",
      "The default value for the training argument `--report_to` will change in v5 (from all installed integrations to none). In v5, you will need to use `--report_to all` to get the same behavior as now. You should start updating your code and make this info disappear :-).\n",
      "c:\\Users\\esual\\miniconda3\\envs\\temp_dl4nlp\\lib\\site-packages\\huggingface_hub\\file_download.py:797: FutureWarning: `resume_download` is deprecated and will be removed in version 1.0.0. Downloads always resume when possible. If you want to force a new download, use `force_download=True`.\n",
      "  warnings.warn(\n",
      "loading configuration file config.json from cache at C:\\Users\\esual/.cache\\huggingface\\hub\\models--t5-small\\snapshots\\df1b051c49625cf57a3d0d8d3863ed4d13564fe4\\config.json\n",
      "Model config T5Config {\n",
      "  \"_name_or_path\": \"t5-small\",\n",
      "  \"architectures\": [\n",
      "    \"T5ForConditionalGeneration\"\n",
      "  ],\n",
      "  \"d_ff\": 2048,\n",
      "  \"d_kv\": 64,\n",
      "  \"d_model\": 512,\n",
      "  \"decoder_start_token_id\": 0,\n",
      "  \"dense_act_fn\": \"relu\",\n",
      "  \"dropout_rate\": 0.1,\n",
      "  \"eos_token_id\": 1,\n",
      "  \"feed_forward_proj\": \"relu\",\n",
      "  \"initializer_factor\": 1.0,\n",
      "  \"is_encoder_decoder\": true,\n",
      "  \"is_gated_act\": false,\n",
      "  \"layer_norm_epsilon\": 1e-06,\n",
      "  \"model_type\": \"t5\",\n",
      "  \"n_positions\": 512,\n",
      "  \"num_decoder_layers\": 6,\n",
      "  \"num_heads\": 8,\n",
      "  \"num_layers\": 6,\n",
      "  \"output_past\": true,\n",
      "  \"pad_token_id\": 0,\n",
      "  \"relative_attention_max_distance\": 128,\n",
      "  \"relative_attention_num_buckets\": 32,\n",
      "  \"task_specific_params\": {\n",
      "    \"summarization\": {\n",
      "      \"early_stopping\": true,\n",
      "      \"length_penalty\": 2.0,\n",
      "      \"max_length\": 200,\n",
      "      \"min_length\": 30,\n",
      "      \"no_repeat_ngram_size\": 3,\n",
      "      \"num_beams\": 4,\n",
      "      \"prefix\": \"summarize: \"\n",
      "    },\n",
      "    \"translation_en_to_de\": {\n",
      "      \"early_stopping\": true,\n",
      "      \"max_length\": 300,\n",
      "      \"num_beams\": 4,\n",
      "      \"prefix\": \"translate English to German: \"\n",
      "    },\n",
      "    \"translation_en_to_fr\": {\n",
      "      \"early_stopping\": true,\n",
      "      \"max_length\": 300,\n",
      "      \"num_beams\": 4,\n",
      "      \"prefix\": \"translate English to French: \"\n",
      "    },\n",
      "    \"translation_en_to_ro\": {\n",
      "      \"early_stopping\": true,\n",
      "      \"max_length\": 300,\n",
      "      \"num_beams\": 4,\n",
      "      \"prefix\": \"translate English to Romanian: \"\n",
      "    }\n",
      "  },\n",
      "  \"transformers_version\": \"4.24.0\",\n",
      "  \"use_cache\": true,\n",
      "  \"vocab_size\": 32128\n",
      "}\n",
      "\n",
      "loading weights file pytorch_model.bin from cache at C:\\Users\\esual/.cache\\huggingface\\hub\\models--t5-small\\snapshots\\df1b051c49625cf57a3d0d8d3863ed4d13564fe4\\pytorch_model.bin\n",
      "All model checkpoint weights were used when initializing T5ForConditionalGeneration.\n",
      "\n",
      "All the weights of T5ForConditionalGeneration were initialized from the model checkpoint at t5-small.\n",
      "If your task is similar to the task the model of the checkpoint was trained on, you can already use T5ForConditionalGeneration for predictions without further training.\n",
      "Using cuda_amp half precision backend\n",
      "The following columns in the training set don't have a corresponding argument in `T5ForConditionalGeneration.forward` and have been ignored: dialogue, id, summary. If dialogue, id, summary are not expected by `T5ForConditionalGeneration.forward`,  you can safely ignore this message.\n",
      "c:\\Users\\esual\\miniconda3\\envs\\temp_dl4nlp\\lib\\site-packages\\transformers\\optimization.py:306: FutureWarning: This implementation of AdamW is deprecated and will be removed in a future version. Use the PyTorch implementation torch.optim.AdamW instead, or set `no_deprecation_warning=True` to disable this warning\n",
      "  warnings.warn(\n",
      "***** Running training *****\n",
      "  Num examples = 14732\n",
      "  Num Epochs = 3\n",
      "  Instantaneous batch size per device = 2\n",
      "  Total train batch size (w. parallel, distributed & accumulation) = 4\n",
      "  Gradient Accumulation steps = 2\n",
      "  Total optimization steps = 11049\n",
      "  Number of trainable parameters = 60506624\n"
     ]
    },
    {
     "data": {
      "application/vnd.jupyter.widget-view+json": {
       "model_id": "a7c08302b08f48b68aa602393d2453c0",
       "version_major": 2,
       "version_minor": 0
      },
      "text/plain": [
       "  0%|          | 0/11049 [00:00<?, ?it/s]"
      ]
     },
     "metadata": {},
     "output_type": "display_data"
    },
    {
     "ename": "KeyboardInterrupt",
     "evalue": "",
     "output_type": "error",
     "traceback": [
      "\u001b[1;31m---------------------------------------------------------------------------\u001b[0m",
      "\u001b[1;31mKeyboardInterrupt\u001b[0m                         Traceback (most recent call last)",
      "Cell \u001b[1;32mIn[90], line 35\u001b[0m\n\u001b[0;32m     21\u001b[0m model \u001b[38;5;241m=\u001b[39m AutoModelForSeq2SeqLM\u001b[38;5;241m.\u001b[39mfrom_pretrained(\n\u001b[0;32m     22\u001b[0m     \u001b[38;5;124m'\u001b[39m\u001b[38;5;124mt5-small\u001b[39m\u001b[38;5;124m'\u001b[39m\n\u001b[0;32m     23\u001b[0m )\n\u001b[0;32m     25\u001b[0m trainer \u001b[38;5;241m=\u001b[39m Seq2SeqTrainer(\n\u001b[0;32m     26\u001b[0m     model\u001b[38;5;241m=\u001b[39mmodel,\n\u001b[0;32m     27\u001b[0m     data_collator\u001b[38;5;241m=\u001b[39mcollator,\n\u001b[1;32m   (...)\u001b[0m\n\u001b[0;32m     32\u001b[0m     tokenizer\u001b[38;5;241m=\u001b[39mtokenizer\n\u001b[0;32m     33\u001b[0m )\n\u001b[1;32m---> 35\u001b[0m \u001b[43mtrainer\u001b[49m\u001b[38;5;241;43m.\u001b[39;49m\u001b[43mtrain\u001b[49m\u001b[43m(\u001b[49m\u001b[43m)\u001b[49m\n",
      "File \u001b[1;32mc:\\Users\\esual\\miniconda3\\envs\\temp_dl4nlp\\lib\\site-packages\\transformers\\trainer.py:1501\u001b[0m, in \u001b[0;36mTrainer.train\u001b[1;34m(self, resume_from_checkpoint, trial, ignore_keys_for_eval, **kwargs)\u001b[0m\n\u001b[0;32m   1496\u001b[0m     \u001b[38;5;28mself\u001b[39m\u001b[38;5;241m.\u001b[39mmodel_wrapped \u001b[38;5;241m=\u001b[39m \u001b[38;5;28mself\u001b[39m\u001b[38;5;241m.\u001b[39mmodel\n\u001b[0;32m   1498\u001b[0m inner_training_loop \u001b[38;5;241m=\u001b[39m find_executable_batch_size(\n\u001b[0;32m   1499\u001b[0m     \u001b[38;5;28mself\u001b[39m\u001b[38;5;241m.\u001b[39m_inner_training_loop, \u001b[38;5;28mself\u001b[39m\u001b[38;5;241m.\u001b[39m_train_batch_size, args\u001b[38;5;241m.\u001b[39mauto_find_batch_size\n\u001b[0;32m   1500\u001b[0m )\n\u001b[1;32m-> 1501\u001b[0m \u001b[38;5;28;01mreturn\u001b[39;00m \u001b[43minner_training_loop\u001b[49m\u001b[43m(\u001b[49m\n\u001b[0;32m   1502\u001b[0m \u001b[43m    \u001b[49m\u001b[43margs\u001b[49m\u001b[38;5;241;43m=\u001b[39;49m\u001b[43margs\u001b[49m\u001b[43m,\u001b[49m\n\u001b[0;32m   1503\u001b[0m \u001b[43m    \u001b[49m\u001b[43mresume_from_checkpoint\u001b[49m\u001b[38;5;241;43m=\u001b[39;49m\u001b[43mresume_from_checkpoint\u001b[49m\u001b[43m,\u001b[49m\n\u001b[0;32m   1504\u001b[0m \u001b[43m    \u001b[49m\u001b[43mtrial\u001b[49m\u001b[38;5;241;43m=\u001b[39;49m\u001b[43mtrial\u001b[49m\u001b[43m,\u001b[49m\n\u001b[0;32m   1505\u001b[0m \u001b[43m    \u001b[49m\u001b[43mignore_keys_for_eval\u001b[49m\u001b[38;5;241;43m=\u001b[39;49m\u001b[43mignore_keys_for_eval\u001b[49m\u001b[43m,\u001b[49m\n\u001b[0;32m   1506\u001b[0m \u001b[43m\u001b[49m\u001b[43m)\u001b[49m\n",
      "File \u001b[1;32mc:\\Users\\esual\\miniconda3\\envs\\temp_dl4nlp\\lib\\site-packages\\transformers\\trainer.py:1749\u001b[0m, in \u001b[0;36mTrainer._inner_training_loop\u001b[1;34m(self, batch_size, args, resume_from_checkpoint, trial, ignore_keys_for_eval)\u001b[0m\n\u001b[0;32m   1747\u001b[0m         tr_loss_step \u001b[38;5;241m=\u001b[39m \u001b[38;5;28mself\u001b[39m\u001b[38;5;241m.\u001b[39mtraining_step(model, inputs)\n\u001b[0;32m   1748\u001b[0m \u001b[38;5;28;01melse\u001b[39;00m:\n\u001b[1;32m-> 1749\u001b[0m     tr_loss_step \u001b[38;5;241m=\u001b[39m \u001b[38;5;28;43mself\u001b[39;49m\u001b[38;5;241;43m.\u001b[39;49m\u001b[43mtraining_step\u001b[49m\u001b[43m(\u001b[49m\u001b[43mmodel\u001b[49m\u001b[43m,\u001b[49m\u001b[43m \u001b[49m\u001b[43minputs\u001b[49m\u001b[43m)\u001b[49m\n\u001b[0;32m   1751\u001b[0m \u001b[38;5;28;01mif\u001b[39;00m (\n\u001b[0;32m   1752\u001b[0m     args\u001b[38;5;241m.\u001b[39mlogging_nan_inf_filter\n\u001b[0;32m   1753\u001b[0m     \u001b[38;5;129;01mand\u001b[39;00m \u001b[38;5;129;01mnot\u001b[39;00m is_torch_tpu_available()\n\u001b[0;32m   1754\u001b[0m     \u001b[38;5;129;01mand\u001b[39;00m (torch\u001b[38;5;241m.\u001b[39misnan(tr_loss_step) \u001b[38;5;129;01mor\u001b[39;00m torch\u001b[38;5;241m.\u001b[39misinf(tr_loss_step))\n\u001b[0;32m   1755\u001b[0m ):\n\u001b[0;32m   1756\u001b[0m     \u001b[38;5;66;03m# if loss is nan or inf simply add the average of previous logged losses\u001b[39;00m\n\u001b[0;32m   1757\u001b[0m     tr_loss \u001b[38;5;241m+\u001b[39m\u001b[38;5;241m=\u001b[39m tr_loss \u001b[38;5;241m/\u001b[39m (\u001b[38;5;241m1\u001b[39m \u001b[38;5;241m+\u001b[39m \u001b[38;5;28mself\u001b[39m\u001b[38;5;241m.\u001b[39mstate\u001b[38;5;241m.\u001b[39mglobal_step \u001b[38;5;241m-\u001b[39m \u001b[38;5;28mself\u001b[39m\u001b[38;5;241m.\u001b[39m_globalstep_last_logged)\n",
      "File \u001b[1;32mc:\\Users\\esual\\miniconda3\\envs\\temp_dl4nlp\\lib\\site-packages\\transformers\\trainer.py:2508\u001b[0m, in \u001b[0;36mTrainer.training_step\u001b[1;34m(self, model, inputs)\u001b[0m\n\u001b[0;32m   2505\u001b[0m     \u001b[38;5;28;01mreturn\u001b[39;00m loss_mb\u001b[38;5;241m.\u001b[39mreduce_mean()\u001b[38;5;241m.\u001b[39mdetach()\u001b[38;5;241m.\u001b[39mto(\u001b[38;5;28mself\u001b[39m\u001b[38;5;241m.\u001b[39margs\u001b[38;5;241m.\u001b[39mdevice)\n\u001b[0;32m   2507\u001b[0m \u001b[38;5;28;01mwith\u001b[39;00m \u001b[38;5;28mself\u001b[39m\u001b[38;5;241m.\u001b[39mcompute_loss_context_manager():\n\u001b[1;32m-> 2508\u001b[0m     loss \u001b[38;5;241m=\u001b[39m \u001b[38;5;28;43mself\u001b[39;49m\u001b[38;5;241;43m.\u001b[39;49m\u001b[43mcompute_loss\u001b[49m\u001b[43m(\u001b[49m\u001b[43mmodel\u001b[49m\u001b[43m,\u001b[49m\u001b[43m \u001b[49m\u001b[43minputs\u001b[49m\u001b[43m)\u001b[49m\n\u001b[0;32m   2510\u001b[0m \u001b[38;5;28;01mif\u001b[39;00m \u001b[38;5;28mself\u001b[39m\u001b[38;5;241m.\u001b[39margs\u001b[38;5;241m.\u001b[39mn_gpu \u001b[38;5;241m>\u001b[39m \u001b[38;5;241m1\u001b[39m:\n\u001b[0;32m   2511\u001b[0m     loss \u001b[38;5;241m=\u001b[39m loss\u001b[38;5;241m.\u001b[39mmean()  \u001b[38;5;66;03m# mean() to average on multi-gpu parallel training\u001b[39;00m\n",
      "File \u001b[1;32mc:\\Users\\esual\\miniconda3\\envs\\temp_dl4nlp\\lib\\site-packages\\transformers\\trainer.py:2540\u001b[0m, in \u001b[0;36mTrainer.compute_loss\u001b[1;34m(self, model, inputs, return_outputs)\u001b[0m\n\u001b[0;32m   2538\u001b[0m \u001b[38;5;28;01melse\u001b[39;00m:\n\u001b[0;32m   2539\u001b[0m     labels \u001b[38;5;241m=\u001b[39m \u001b[38;5;28;01mNone\u001b[39;00m\n\u001b[1;32m-> 2540\u001b[0m outputs \u001b[38;5;241m=\u001b[39m model(\u001b[38;5;241m*\u001b[39m\u001b[38;5;241m*\u001b[39minputs)\n\u001b[0;32m   2541\u001b[0m \u001b[38;5;66;03m# Save past state if it exists\u001b[39;00m\n\u001b[0;32m   2542\u001b[0m \u001b[38;5;66;03m# TODO: this needs to be fixed and made cleaner later.\u001b[39;00m\n\u001b[0;32m   2543\u001b[0m \u001b[38;5;28;01mif\u001b[39;00m \u001b[38;5;28mself\u001b[39m\u001b[38;5;241m.\u001b[39margs\u001b[38;5;241m.\u001b[39mpast_index \u001b[38;5;241m>\u001b[39m\u001b[38;5;241m=\u001b[39m \u001b[38;5;241m0\u001b[39m:\n",
      "File \u001b[1;32mc:\\Users\\esual\\miniconda3\\envs\\temp_dl4nlp\\lib\\site-packages\\torch\\nn\\modules\\module.py:1501\u001b[0m, in \u001b[0;36mModule._call_impl\u001b[1;34m(self, *args, **kwargs)\u001b[0m\n\u001b[0;32m   1496\u001b[0m \u001b[38;5;66;03m# If we don't have any hooks, we want to skip the rest of the logic in\u001b[39;00m\n\u001b[0;32m   1497\u001b[0m \u001b[38;5;66;03m# this function, and just call forward.\u001b[39;00m\n\u001b[0;32m   1498\u001b[0m \u001b[38;5;28;01mif\u001b[39;00m \u001b[38;5;129;01mnot\u001b[39;00m (\u001b[38;5;28mself\u001b[39m\u001b[38;5;241m.\u001b[39m_backward_hooks \u001b[38;5;129;01mor\u001b[39;00m \u001b[38;5;28mself\u001b[39m\u001b[38;5;241m.\u001b[39m_backward_pre_hooks \u001b[38;5;129;01mor\u001b[39;00m \u001b[38;5;28mself\u001b[39m\u001b[38;5;241m.\u001b[39m_forward_hooks \u001b[38;5;129;01mor\u001b[39;00m \u001b[38;5;28mself\u001b[39m\u001b[38;5;241m.\u001b[39m_forward_pre_hooks\n\u001b[0;32m   1499\u001b[0m         \u001b[38;5;129;01mor\u001b[39;00m _global_backward_pre_hooks \u001b[38;5;129;01mor\u001b[39;00m _global_backward_hooks\n\u001b[0;32m   1500\u001b[0m         \u001b[38;5;129;01mor\u001b[39;00m _global_forward_hooks \u001b[38;5;129;01mor\u001b[39;00m _global_forward_pre_hooks):\n\u001b[1;32m-> 1501\u001b[0m     \u001b[38;5;28;01mreturn\u001b[39;00m forward_call(\u001b[38;5;241m*\u001b[39margs, \u001b[38;5;241m*\u001b[39m\u001b[38;5;241m*\u001b[39mkwargs)\n\u001b[0;32m   1502\u001b[0m \u001b[38;5;66;03m# Do not call functions when jit is used\u001b[39;00m\n\u001b[0;32m   1503\u001b[0m full_backward_hooks, non_full_backward_hooks \u001b[38;5;241m=\u001b[39m [], []\n",
      "File \u001b[1;32mc:\\Users\\esual\\miniconda3\\envs\\temp_dl4nlp\\lib\\site-packages\\transformers\\models\\t5\\modeling_t5.py:1648\u001b[0m, in \u001b[0;36mT5ForConditionalGeneration.forward\u001b[1;34m(self, input_ids, attention_mask, decoder_input_ids, decoder_attention_mask, head_mask, decoder_head_mask, cross_attn_head_mask, encoder_outputs, past_key_values, inputs_embeds, decoder_inputs_embeds, labels, use_cache, output_attentions, output_hidden_states, return_dict)\u001b[0m\n\u001b[0;32m   1645\u001b[0m         decoder_attention_mask \u001b[38;5;241m=\u001b[39m decoder_attention_mask\u001b[38;5;241m.\u001b[39mto(\u001b[38;5;28mself\u001b[39m\u001b[38;5;241m.\u001b[39mdecoder\u001b[38;5;241m.\u001b[39mfirst_device)\n\u001b[0;32m   1647\u001b[0m \u001b[38;5;66;03m# Decode\u001b[39;00m\n\u001b[1;32m-> 1648\u001b[0m decoder_outputs \u001b[38;5;241m=\u001b[39m \u001b[38;5;28;43mself\u001b[39;49m\u001b[38;5;241;43m.\u001b[39;49m\u001b[43mdecoder\u001b[49m\u001b[43m(\u001b[49m\n\u001b[0;32m   1649\u001b[0m \u001b[43m    \u001b[49m\u001b[43minput_ids\u001b[49m\u001b[38;5;241;43m=\u001b[39;49m\u001b[43mdecoder_input_ids\u001b[49m\u001b[43m,\u001b[49m\n\u001b[0;32m   1650\u001b[0m \u001b[43m    \u001b[49m\u001b[43mattention_mask\u001b[49m\u001b[38;5;241;43m=\u001b[39;49m\u001b[43mdecoder_attention_mask\u001b[49m\u001b[43m,\u001b[49m\n\u001b[0;32m   1651\u001b[0m \u001b[43m    \u001b[49m\u001b[43minputs_embeds\u001b[49m\u001b[38;5;241;43m=\u001b[39;49m\u001b[43mdecoder_inputs_embeds\u001b[49m\u001b[43m,\u001b[49m\n\u001b[0;32m   1652\u001b[0m \u001b[43m    \u001b[49m\u001b[43mpast_key_values\u001b[49m\u001b[38;5;241;43m=\u001b[39;49m\u001b[43mpast_key_values\u001b[49m\u001b[43m,\u001b[49m\n\u001b[0;32m   1653\u001b[0m \u001b[43m    \u001b[49m\u001b[43mencoder_hidden_states\u001b[49m\u001b[38;5;241;43m=\u001b[39;49m\u001b[43mhidden_states\u001b[49m\u001b[43m,\u001b[49m\n\u001b[0;32m   1654\u001b[0m \u001b[43m    \u001b[49m\u001b[43mencoder_attention_mask\u001b[49m\u001b[38;5;241;43m=\u001b[39;49m\u001b[43mattention_mask\u001b[49m\u001b[43m,\u001b[49m\n\u001b[0;32m   1655\u001b[0m \u001b[43m    \u001b[49m\u001b[43mhead_mask\u001b[49m\u001b[38;5;241;43m=\u001b[39;49m\u001b[43mdecoder_head_mask\u001b[49m\u001b[43m,\u001b[49m\n\u001b[0;32m   1656\u001b[0m \u001b[43m    \u001b[49m\u001b[43mcross_attn_head_mask\u001b[49m\u001b[38;5;241;43m=\u001b[39;49m\u001b[43mcross_attn_head_mask\u001b[49m\u001b[43m,\u001b[49m\n\u001b[0;32m   1657\u001b[0m \u001b[43m    \u001b[49m\u001b[43muse_cache\u001b[49m\u001b[38;5;241;43m=\u001b[39;49m\u001b[43muse_cache\u001b[49m\u001b[43m,\u001b[49m\n\u001b[0;32m   1658\u001b[0m \u001b[43m    \u001b[49m\u001b[43moutput_attentions\u001b[49m\u001b[38;5;241;43m=\u001b[39;49m\u001b[43moutput_attentions\u001b[49m\u001b[43m,\u001b[49m\n\u001b[0;32m   1659\u001b[0m \u001b[43m    \u001b[49m\u001b[43moutput_hidden_states\u001b[49m\u001b[38;5;241;43m=\u001b[39;49m\u001b[43moutput_hidden_states\u001b[49m\u001b[43m,\u001b[49m\n\u001b[0;32m   1660\u001b[0m \u001b[43m    \u001b[49m\u001b[43mreturn_dict\u001b[49m\u001b[38;5;241;43m=\u001b[39;49m\u001b[43mreturn_dict\u001b[49m\u001b[43m,\u001b[49m\n\u001b[0;32m   1661\u001b[0m \u001b[43m\u001b[49m\u001b[43m)\u001b[49m\n\u001b[0;32m   1663\u001b[0m sequence_output \u001b[38;5;241m=\u001b[39m decoder_outputs[\u001b[38;5;241m0\u001b[39m]\n\u001b[0;32m   1665\u001b[0m \u001b[38;5;66;03m# Set device for model parallelism\u001b[39;00m\n",
      "File \u001b[1;32mc:\\Users\\esual\\miniconda3\\envs\\temp_dl4nlp\\lib\\site-packages\\torch\\nn\\modules\\module.py:1501\u001b[0m, in \u001b[0;36mModule._call_impl\u001b[1;34m(self, *args, **kwargs)\u001b[0m\n\u001b[0;32m   1496\u001b[0m \u001b[38;5;66;03m# If we don't have any hooks, we want to skip the rest of the logic in\u001b[39;00m\n\u001b[0;32m   1497\u001b[0m \u001b[38;5;66;03m# this function, and just call forward.\u001b[39;00m\n\u001b[0;32m   1498\u001b[0m \u001b[38;5;28;01mif\u001b[39;00m \u001b[38;5;129;01mnot\u001b[39;00m (\u001b[38;5;28mself\u001b[39m\u001b[38;5;241m.\u001b[39m_backward_hooks \u001b[38;5;129;01mor\u001b[39;00m \u001b[38;5;28mself\u001b[39m\u001b[38;5;241m.\u001b[39m_backward_pre_hooks \u001b[38;5;129;01mor\u001b[39;00m \u001b[38;5;28mself\u001b[39m\u001b[38;5;241m.\u001b[39m_forward_hooks \u001b[38;5;129;01mor\u001b[39;00m \u001b[38;5;28mself\u001b[39m\u001b[38;5;241m.\u001b[39m_forward_pre_hooks\n\u001b[0;32m   1499\u001b[0m         \u001b[38;5;129;01mor\u001b[39;00m _global_backward_pre_hooks \u001b[38;5;129;01mor\u001b[39;00m _global_backward_hooks\n\u001b[0;32m   1500\u001b[0m         \u001b[38;5;129;01mor\u001b[39;00m _global_forward_hooks \u001b[38;5;129;01mor\u001b[39;00m _global_forward_pre_hooks):\n\u001b[1;32m-> 1501\u001b[0m     \u001b[38;5;28;01mreturn\u001b[39;00m forward_call(\u001b[38;5;241m*\u001b[39margs, \u001b[38;5;241m*\u001b[39m\u001b[38;5;241m*\u001b[39mkwargs)\n\u001b[0;32m   1502\u001b[0m \u001b[38;5;66;03m# Do not call functions when jit is used\u001b[39;00m\n\u001b[0;32m   1503\u001b[0m full_backward_hooks, non_full_backward_hooks \u001b[38;5;241m=\u001b[39m [], []\n",
      "File \u001b[1;32mc:\\Users\\esual\\miniconda3\\envs\\temp_dl4nlp\\lib\\site-packages\\transformers\\models\\t5\\modeling_t5.py:1040\u001b[0m, in \u001b[0;36mT5Stack.forward\u001b[1;34m(self, input_ids, attention_mask, encoder_hidden_states, encoder_attention_mask, inputs_embeds, head_mask, cross_attn_head_mask, past_key_values, use_cache, output_attentions, output_hidden_states, return_dict)\u001b[0m\n\u001b[0;32m   1027\u001b[0m     layer_outputs \u001b[38;5;241m=\u001b[39m checkpoint(\n\u001b[0;32m   1028\u001b[0m         create_custom_forward(layer_module),\n\u001b[0;32m   1029\u001b[0m         hidden_states,\n\u001b[1;32m   (...)\u001b[0m\n\u001b[0;32m   1037\u001b[0m         \u001b[38;5;28;01mNone\u001b[39;00m,  \u001b[38;5;66;03m# past_key_value is always None with gradient checkpointing\u001b[39;00m\n\u001b[0;32m   1038\u001b[0m     )\n\u001b[0;32m   1039\u001b[0m \u001b[38;5;28;01melse\u001b[39;00m:\n\u001b[1;32m-> 1040\u001b[0m     layer_outputs \u001b[38;5;241m=\u001b[39m \u001b[43mlayer_module\u001b[49m\u001b[43m(\u001b[49m\n\u001b[0;32m   1041\u001b[0m \u001b[43m        \u001b[49m\u001b[43mhidden_states\u001b[49m\u001b[43m,\u001b[49m\n\u001b[0;32m   1042\u001b[0m \u001b[43m        \u001b[49m\u001b[43mattention_mask\u001b[49m\u001b[38;5;241;43m=\u001b[39;49m\u001b[43mextended_attention_mask\u001b[49m\u001b[43m,\u001b[49m\n\u001b[0;32m   1043\u001b[0m \u001b[43m        \u001b[49m\u001b[43mposition_bias\u001b[49m\u001b[38;5;241;43m=\u001b[39;49m\u001b[43mposition_bias\u001b[49m\u001b[43m,\u001b[49m\n\u001b[0;32m   1044\u001b[0m \u001b[43m        \u001b[49m\u001b[43mencoder_hidden_states\u001b[49m\u001b[38;5;241;43m=\u001b[39;49m\u001b[43mencoder_hidden_states\u001b[49m\u001b[43m,\u001b[49m\n\u001b[0;32m   1045\u001b[0m \u001b[43m        \u001b[49m\u001b[43mencoder_attention_mask\u001b[49m\u001b[38;5;241;43m=\u001b[39;49m\u001b[43mencoder_extended_attention_mask\u001b[49m\u001b[43m,\u001b[49m\n\u001b[0;32m   1046\u001b[0m \u001b[43m        \u001b[49m\u001b[43mencoder_decoder_position_bias\u001b[49m\u001b[38;5;241;43m=\u001b[39;49m\u001b[43mencoder_decoder_position_bias\u001b[49m\u001b[43m,\u001b[49m\n\u001b[0;32m   1047\u001b[0m \u001b[43m        \u001b[49m\u001b[43mlayer_head_mask\u001b[49m\u001b[38;5;241;43m=\u001b[39;49m\u001b[43mlayer_head_mask\u001b[49m\u001b[43m,\u001b[49m\n\u001b[0;32m   1048\u001b[0m \u001b[43m        \u001b[49m\u001b[43mcross_attn_layer_head_mask\u001b[49m\u001b[38;5;241;43m=\u001b[39;49m\u001b[43mcross_attn_layer_head_mask\u001b[49m\u001b[43m,\u001b[49m\n\u001b[0;32m   1049\u001b[0m \u001b[43m        \u001b[49m\u001b[43mpast_key_value\u001b[49m\u001b[38;5;241;43m=\u001b[39;49m\u001b[43mpast_key_value\u001b[49m\u001b[43m,\u001b[49m\n\u001b[0;32m   1050\u001b[0m \u001b[43m        \u001b[49m\u001b[43muse_cache\u001b[49m\u001b[38;5;241;43m=\u001b[39;49m\u001b[43muse_cache\u001b[49m\u001b[43m,\u001b[49m\n\u001b[0;32m   1051\u001b[0m \u001b[43m        \u001b[49m\u001b[43moutput_attentions\u001b[49m\u001b[38;5;241;43m=\u001b[39;49m\u001b[43moutput_attentions\u001b[49m\u001b[43m,\u001b[49m\n\u001b[0;32m   1052\u001b[0m \u001b[43m    \u001b[49m\u001b[43m)\u001b[49m\n\u001b[0;32m   1054\u001b[0m \u001b[38;5;66;03m# layer_outputs is a tuple with:\u001b[39;00m\n\u001b[0;32m   1055\u001b[0m \u001b[38;5;66;03m# hidden-states, key-value-states, (self-attention position bias), (self-attention weights), (cross-attention position bias), (cross-attention weights)\u001b[39;00m\n\u001b[0;32m   1056\u001b[0m \u001b[38;5;28;01mif\u001b[39;00m use_cache \u001b[38;5;129;01mis\u001b[39;00m \u001b[38;5;28;01mFalse\u001b[39;00m:\n",
      "File \u001b[1;32mc:\\Users\\esual\\miniconda3\\envs\\temp_dl4nlp\\lib\\site-packages\\torch\\nn\\modules\\module.py:1501\u001b[0m, in \u001b[0;36mModule._call_impl\u001b[1;34m(self, *args, **kwargs)\u001b[0m\n\u001b[0;32m   1496\u001b[0m \u001b[38;5;66;03m# If we don't have any hooks, we want to skip the rest of the logic in\u001b[39;00m\n\u001b[0;32m   1497\u001b[0m \u001b[38;5;66;03m# this function, and just call forward.\u001b[39;00m\n\u001b[0;32m   1498\u001b[0m \u001b[38;5;28;01mif\u001b[39;00m \u001b[38;5;129;01mnot\u001b[39;00m (\u001b[38;5;28mself\u001b[39m\u001b[38;5;241m.\u001b[39m_backward_hooks \u001b[38;5;129;01mor\u001b[39;00m \u001b[38;5;28mself\u001b[39m\u001b[38;5;241m.\u001b[39m_backward_pre_hooks \u001b[38;5;129;01mor\u001b[39;00m \u001b[38;5;28mself\u001b[39m\u001b[38;5;241m.\u001b[39m_forward_hooks \u001b[38;5;129;01mor\u001b[39;00m \u001b[38;5;28mself\u001b[39m\u001b[38;5;241m.\u001b[39m_forward_pre_hooks\n\u001b[0;32m   1499\u001b[0m         \u001b[38;5;129;01mor\u001b[39;00m _global_backward_pre_hooks \u001b[38;5;129;01mor\u001b[39;00m _global_backward_hooks\n\u001b[0;32m   1500\u001b[0m         \u001b[38;5;129;01mor\u001b[39;00m _global_forward_hooks \u001b[38;5;129;01mor\u001b[39;00m _global_forward_pre_hooks):\n\u001b[1;32m-> 1501\u001b[0m     \u001b[38;5;28;01mreturn\u001b[39;00m forward_call(\u001b[38;5;241m*\u001b[39margs, \u001b[38;5;241m*\u001b[39m\u001b[38;5;241m*\u001b[39mkwargs)\n\u001b[0;32m   1502\u001b[0m \u001b[38;5;66;03m# Do not call functions when jit is used\u001b[39;00m\n\u001b[0;32m   1503\u001b[0m full_backward_hooks, non_full_backward_hooks \u001b[38;5;241m=\u001b[39m [], []\n",
      "File \u001b[1;32mc:\\Users\\esual\\miniconda3\\envs\\temp_dl4nlp\\lib\\site-packages\\transformers\\models\\t5\\modeling_t5.py:725\u001b[0m, in \u001b[0;36mT5Block.forward\u001b[1;34m(self, hidden_states, attention_mask, position_bias, encoder_hidden_states, encoder_attention_mask, encoder_decoder_position_bias, layer_head_mask, cross_attn_layer_head_mask, past_key_value, use_cache, output_attentions, return_dict)\u001b[0m\n\u001b[0;32m    722\u001b[0m     attention_outputs \u001b[38;5;241m=\u001b[39m attention_outputs \u001b[38;5;241m+\u001b[39m cross_attention_outputs[\u001b[38;5;241m2\u001b[39m:]\n\u001b[0;32m    724\u001b[0m \u001b[38;5;66;03m# Apply Feed Forward layer\u001b[39;00m\n\u001b[1;32m--> 725\u001b[0m hidden_states \u001b[38;5;241m=\u001b[39m \u001b[38;5;28;43mself\u001b[39;49m\u001b[38;5;241;43m.\u001b[39;49m\u001b[43mlayer\u001b[49m\u001b[43m[\u001b[49m\u001b[38;5;241;43m-\u001b[39;49m\u001b[38;5;241;43m1\u001b[39;49m\u001b[43m]\u001b[49m\u001b[43m(\u001b[49m\u001b[43mhidden_states\u001b[49m\u001b[43m)\u001b[49m\n\u001b[0;32m    727\u001b[0m \u001b[38;5;66;03m# clamp inf values to enable fp16 training\u001b[39;00m\n\u001b[0;32m    728\u001b[0m \u001b[38;5;28;01mif\u001b[39;00m hidden_states\u001b[38;5;241m.\u001b[39mdtype \u001b[38;5;241m==\u001b[39m torch\u001b[38;5;241m.\u001b[39mfloat16 \u001b[38;5;129;01mand\u001b[39;00m torch\u001b[38;5;241m.\u001b[39misinf(hidden_states)\u001b[38;5;241m.\u001b[39many():\n",
      "File \u001b[1;32mc:\\Users\\esual\\miniconda3\\envs\\temp_dl4nlp\\lib\\site-packages\\torch\\nn\\modules\\module.py:1501\u001b[0m, in \u001b[0;36mModule._call_impl\u001b[1;34m(self, *args, **kwargs)\u001b[0m\n\u001b[0;32m   1496\u001b[0m \u001b[38;5;66;03m# If we don't have any hooks, we want to skip the rest of the logic in\u001b[39;00m\n\u001b[0;32m   1497\u001b[0m \u001b[38;5;66;03m# this function, and just call forward.\u001b[39;00m\n\u001b[0;32m   1498\u001b[0m \u001b[38;5;28;01mif\u001b[39;00m \u001b[38;5;129;01mnot\u001b[39;00m (\u001b[38;5;28mself\u001b[39m\u001b[38;5;241m.\u001b[39m_backward_hooks \u001b[38;5;129;01mor\u001b[39;00m \u001b[38;5;28mself\u001b[39m\u001b[38;5;241m.\u001b[39m_backward_pre_hooks \u001b[38;5;129;01mor\u001b[39;00m \u001b[38;5;28mself\u001b[39m\u001b[38;5;241m.\u001b[39m_forward_hooks \u001b[38;5;129;01mor\u001b[39;00m \u001b[38;5;28mself\u001b[39m\u001b[38;5;241m.\u001b[39m_forward_pre_hooks\n\u001b[0;32m   1499\u001b[0m         \u001b[38;5;129;01mor\u001b[39;00m _global_backward_pre_hooks \u001b[38;5;129;01mor\u001b[39;00m _global_backward_hooks\n\u001b[0;32m   1500\u001b[0m         \u001b[38;5;129;01mor\u001b[39;00m _global_forward_hooks \u001b[38;5;129;01mor\u001b[39;00m _global_forward_pre_hooks):\n\u001b[1;32m-> 1501\u001b[0m     \u001b[38;5;28;01mreturn\u001b[39;00m forward_call(\u001b[38;5;241m*\u001b[39margs, \u001b[38;5;241m*\u001b[39m\u001b[38;5;241m*\u001b[39mkwargs)\n\u001b[0;32m   1502\u001b[0m \u001b[38;5;66;03m# Do not call functions when jit is used\u001b[39;00m\n\u001b[0;32m   1503\u001b[0m full_backward_hooks, non_full_backward_hooks \u001b[38;5;241m=\u001b[39m [], []\n",
      "File \u001b[1;32mc:\\Users\\esual\\miniconda3\\envs\\temp_dl4nlp\\lib\\site-packages\\transformers\\models\\t5\\modeling_t5.py:328\u001b[0m, in \u001b[0;36mT5LayerFF.forward\u001b[1;34m(self, hidden_states)\u001b[0m\n\u001b[0;32m    326\u001b[0m \u001b[38;5;28;01mdef\u001b[39;00m \u001b[38;5;21mforward\u001b[39m(\u001b[38;5;28mself\u001b[39m, hidden_states):\n\u001b[0;32m    327\u001b[0m     forwarded_states \u001b[38;5;241m=\u001b[39m \u001b[38;5;28mself\u001b[39m\u001b[38;5;241m.\u001b[39mlayer_norm(hidden_states)\n\u001b[1;32m--> 328\u001b[0m     forwarded_states \u001b[38;5;241m=\u001b[39m \u001b[38;5;28;43mself\u001b[39;49m\u001b[38;5;241;43m.\u001b[39;49m\u001b[43mDenseReluDense\u001b[49m\u001b[43m(\u001b[49m\u001b[43mforwarded_states\u001b[49m\u001b[43m)\u001b[49m\n\u001b[0;32m    329\u001b[0m     hidden_states \u001b[38;5;241m=\u001b[39m hidden_states \u001b[38;5;241m+\u001b[39m \u001b[38;5;28mself\u001b[39m\u001b[38;5;241m.\u001b[39mdropout(forwarded_states)\n\u001b[0;32m    330\u001b[0m     \u001b[38;5;28;01mreturn\u001b[39;00m hidden_states\n",
      "File \u001b[1;32mc:\\Users\\esual\\miniconda3\\envs\\temp_dl4nlp\\lib\\site-packages\\torch\\nn\\modules\\module.py:1501\u001b[0m, in \u001b[0;36mModule._call_impl\u001b[1;34m(self, *args, **kwargs)\u001b[0m\n\u001b[0;32m   1496\u001b[0m \u001b[38;5;66;03m# If we don't have any hooks, we want to skip the rest of the logic in\u001b[39;00m\n\u001b[0;32m   1497\u001b[0m \u001b[38;5;66;03m# this function, and just call forward.\u001b[39;00m\n\u001b[0;32m   1498\u001b[0m \u001b[38;5;28;01mif\u001b[39;00m \u001b[38;5;129;01mnot\u001b[39;00m (\u001b[38;5;28mself\u001b[39m\u001b[38;5;241m.\u001b[39m_backward_hooks \u001b[38;5;129;01mor\u001b[39;00m \u001b[38;5;28mself\u001b[39m\u001b[38;5;241m.\u001b[39m_backward_pre_hooks \u001b[38;5;129;01mor\u001b[39;00m \u001b[38;5;28mself\u001b[39m\u001b[38;5;241m.\u001b[39m_forward_hooks \u001b[38;5;129;01mor\u001b[39;00m \u001b[38;5;28mself\u001b[39m\u001b[38;5;241m.\u001b[39m_forward_pre_hooks\n\u001b[0;32m   1499\u001b[0m         \u001b[38;5;129;01mor\u001b[39;00m _global_backward_pre_hooks \u001b[38;5;129;01mor\u001b[39;00m _global_backward_hooks\n\u001b[0;32m   1500\u001b[0m         \u001b[38;5;129;01mor\u001b[39;00m _global_forward_hooks \u001b[38;5;129;01mor\u001b[39;00m _global_forward_pre_hooks):\n\u001b[1;32m-> 1501\u001b[0m     \u001b[38;5;28;01mreturn\u001b[39;00m forward_call(\u001b[38;5;241m*\u001b[39margs, \u001b[38;5;241m*\u001b[39m\u001b[38;5;241m*\u001b[39mkwargs)\n\u001b[0;32m   1502\u001b[0m \u001b[38;5;66;03m# Do not call functions when jit is used\u001b[39;00m\n\u001b[0;32m   1503\u001b[0m full_backward_hooks, non_full_backward_hooks \u001b[38;5;241m=\u001b[39m [], []\n",
      "File \u001b[1;32mc:\\Users\\esual\\miniconda3\\envs\\temp_dl4nlp\\lib\\site-packages\\transformers\\models\\t5\\modeling_t5.py:293\u001b[0m, in \u001b[0;36mT5DenseActDense.forward\u001b[1;34m(self, hidden_states)\u001b[0m\n\u001b[0;32m    291\u001b[0m hidden_states \u001b[38;5;241m=\u001b[39m \u001b[38;5;28mself\u001b[39m\u001b[38;5;241m.\u001b[39mact(hidden_states)\n\u001b[0;32m    292\u001b[0m hidden_states \u001b[38;5;241m=\u001b[39m \u001b[38;5;28mself\u001b[39m\u001b[38;5;241m.\u001b[39mdropout(hidden_states)\n\u001b[1;32m--> 293\u001b[0m hidden_states \u001b[38;5;241m=\u001b[39m \u001b[38;5;28;43mself\u001b[39;49m\u001b[38;5;241;43m.\u001b[39;49m\u001b[43mwo\u001b[49m\u001b[43m(\u001b[49m\u001b[43mhidden_states\u001b[49m\u001b[43m)\u001b[49m\n\u001b[0;32m    294\u001b[0m \u001b[38;5;28;01mreturn\u001b[39;00m hidden_states\n",
      "File \u001b[1;32mc:\\Users\\esual\\miniconda3\\envs\\temp_dl4nlp\\lib\\site-packages\\torch\\nn\\modules\\module.py:1501\u001b[0m, in \u001b[0;36mModule._call_impl\u001b[1;34m(self, *args, **kwargs)\u001b[0m\n\u001b[0;32m   1496\u001b[0m \u001b[38;5;66;03m# If we don't have any hooks, we want to skip the rest of the logic in\u001b[39;00m\n\u001b[0;32m   1497\u001b[0m \u001b[38;5;66;03m# this function, and just call forward.\u001b[39;00m\n\u001b[0;32m   1498\u001b[0m \u001b[38;5;28;01mif\u001b[39;00m \u001b[38;5;129;01mnot\u001b[39;00m (\u001b[38;5;28mself\u001b[39m\u001b[38;5;241m.\u001b[39m_backward_hooks \u001b[38;5;129;01mor\u001b[39;00m \u001b[38;5;28mself\u001b[39m\u001b[38;5;241m.\u001b[39m_backward_pre_hooks \u001b[38;5;129;01mor\u001b[39;00m \u001b[38;5;28mself\u001b[39m\u001b[38;5;241m.\u001b[39m_forward_hooks \u001b[38;5;129;01mor\u001b[39;00m \u001b[38;5;28mself\u001b[39m\u001b[38;5;241m.\u001b[39m_forward_pre_hooks\n\u001b[0;32m   1499\u001b[0m         \u001b[38;5;129;01mor\u001b[39;00m _global_backward_pre_hooks \u001b[38;5;129;01mor\u001b[39;00m _global_backward_hooks\n\u001b[0;32m   1500\u001b[0m         \u001b[38;5;129;01mor\u001b[39;00m _global_forward_hooks \u001b[38;5;129;01mor\u001b[39;00m _global_forward_pre_hooks):\n\u001b[1;32m-> 1501\u001b[0m     \u001b[38;5;28;01mreturn\u001b[39;00m forward_call(\u001b[38;5;241m*\u001b[39margs, \u001b[38;5;241m*\u001b[39m\u001b[38;5;241m*\u001b[39mkwargs)\n\u001b[0;32m   1502\u001b[0m \u001b[38;5;66;03m# Do not call functions when jit is used\u001b[39;00m\n\u001b[0;32m   1503\u001b[0m full_backward_hooks, non_full_backward_hooks \u001b[38;5;241m=\u001b[39m [], []\n",
      "File \u001b[1;32mc:\\Users\\esual\\miniconda3\\envs\\temp_dl4nlp\\lib\\site-packages\\torch\\nn\\modules\\linear.py:114\u001b[0m, in \u001b[0;36mLinear.forward\u001b[1;34m(self, input)\u001b[0m\n\u001b[0;32m    113\u001b[0m \u001b[38;5;28;01mdef\u001b[39;00m \u001b[38;5;21mforward\u001b[39m(\u001b[38;5;28mself\u001b[39m, \u001b[38;5;28minput\u001b[39m: Tensor) \u001b[38;5;241m-\u001b[39m\u001b[38;5;241m>\u001b[39m Tensor:\n\u001b[1;32m--> 114\u001b[0m     \u001b[38;5;28;01mreturn\u001b[39;00m \u001b[43mF\u001b[49m\u001b[38;5;241;43m.\u001b[39;49m\u001b[43mlinear\u001b[49m\u001b[43m(\u001b[49m\u001b[38;5;28;43minput\u001b[39;49m\u001b[43m,\u001b[49m\u001b[43m \u001b[49m\u001b[38;5;28;43mself\u001b[39;49m\u001b[38;5;241;43m.\u001b[39;49m\u001b[43mweight\u001b[49m\u001b[43m,\u001b[49m\u001b[43m \u001b[49m\u001b[38;5;28;43mself\u001b[39;49m\u001b[38;5;241;43m.\u001b[39;49m\u001b[43mbias\u001b[49m\u001b[43m)\u001b[49m\n",
      "\u001b[1;31mKeyboardInterrupt\u001b[0m: "
     ]
    }
   ],
   "source": [
    "training_args3 = Seq2SeqTrainingArguments(\n",
    "    output_dir='./logs/run3',\n",
    "    per_device_train_batch_size=2,\n",
    "    per_device_eval_batch_size=8,\n",
    "    gradient_accumulation_steps=2,\n",
    "    learning_rate=2e-5,\n",
    "    weight_decay=1e-3,\n",
    "    num_train_epochs=3,\n",
    "    evaluation_strategy='epoch',\n",
    "    logging_strategy='steps',\n",
    "    logging_steps=len(tokenized_samsum['train']) // 2,\n",
    "    save_strategy='epoch',\n",
    "    save_total_limit=1,\n",
    "    seed=42,\n",
    "    data_seed=42,\n",
    "    fp16=True,\n",
    "    dataloader_num_workers=2,\n",
    "    load_best_model_at_end=True\n",
    ")\n",
    "\n",
    "model = AutoModelForSeq2SeqLM.from_pretrained(\n",
    "    't5-small'\n",
    ")\n",
    "\n",
    "trainer = Seq2SeqTrainer(\n",
    "    model=model,\n",
    "    data_collator=collator,\n",
    "    args=training_args3,\n",
    "    compute_metrics=compute_metrics,\n",
    "    train_dataset=tokenized_samsum['train'],\n",
    "    eval_dataset=tokenized_samsum['validation'],\n",
    "    tokenizer=tokenizer\n",
    ")\n",
    "\n",
    "trainer.train()"
   ]
  },
  {
   "cell_type": "markdown",
   "id": "248d3881-7ffc-493f-ba2e-0594560e3e98",
   "metadata": {
    "id": "248d3881-7ffc-493f-ba2e-0594560e3e98"
   },
   "source": [
    "___\n",
    "Student answers here:\n",
    "___"
   ]
  },
  {
   "cell_type": "markdown",
   "id": "3ad1afc9-c18a-4eef-9026-b569dff590ec",
   "metadata": {
    "id": "3ad1afc9-c18a-4eef-9026-b569dff590ec"
   },
   "source": [
    "* As the last step of this exercise, move the `model`, which represents the already loaded best model due to our `Seq2SeqTrainingArguments` settings, to the CPU and input it into a new `pipeline` object as the `model=` keyword.\n",
    "* Additionally, prove the `tokenizer=` argument\n",
    "* Then, fill in your chosen test set sample from before\n",
    "* Compare the results to your initial, pre fine-tuning output and discuss what got better or worse\n",
    "* Comment on whether the narrator-style summary performance increased"
   ]
  },
  {
   "cell_type": "code",
   "execution_count": null,
   "id": "a74f6176-f248-4582-83bb-16c440774ce1",
   "metadata": {
    "id": "a74f6176-f248-4582-83bb-16c440774ce1"
   },
   "outputs": [],
   "source": [
    "pipe = # TODO"
   ]
  },
  {
   "cell_type": "code",
   "execution_count": null,
   "id": "f048bdb0-42f9-4586-8a30-e49bd48a8f22",
   "metadata": {
    "id": "f048bdb0-42f9-4586-8a30-e49bd48a8f22"
   },
   "outputs": [],
   "source": [
    "# TODO"
   ]
  },
  {
   "cell_type": "markdown",
   "id": "a5c8ac38-1b16-4a42-aa24-e85c2a14a536",
   "metadata": {
    "id": "a5c8ac38-1b16-4a42-aa24-e85c2a14a536"
   },
   "source": [
    "___\n",
    "Student answers here:\n",
    "___"
   ]
  },
  {
   "cell_type": "markdown",
   "id": "0e576fcf-04ba-497d-9bc7-734bcff18979",
   "metadata": {
    "id": "0e576fcf-04ba-497d-9bc7-734bcff18979"
   },
   "source": [
    "# Inspect and share all your experiment results via TensorBoard (bonus)"
   ]
  },
  {
   "cell_type": "markdown",
   "id": "acb91278-d706-4daa-9521-8baa50996218",
   "metadata": {
    "id": "acb91278-d706-4daa-9521-8baa50996218"
   },
   "source": [
    "* While we now only had 3 runtime variations, in practice we often have tens or hundreds of hyperparameter and/or model combinatinations\n",
    "* To assemble manual train/val/test plots, scale all x- and y-axes for various units, and plot all desired combinations side by side is very cumbersome and time consuming\n",
    "* Services like [tensorboard-dev](https://tensorboard.dev/) and [tensorboard in general](https://www.tensorflow.org/tensorboard) offer the possibility to simply read in our created `'logs'` directory, which enables us to browse through an online interface of automatically generated plots for all our tracked metrics\n",
    "* Install (if you don't already have it) `tensorboard` via `pip install -U tensorboard)` and either:\n",
    "    * Upload your `'logs'` directly to Google (requires a Google account and consent to store the specific `'logs'` directory on Google's servers)\n",
    "        * execute on your command line `tensorboard dev upload --logdir logs --name \"whatever-name-you-want-to-call-it\"`\n",
    "        * then you will need to login to your Google account, consent to uploading the `'logs'` directory, and a shareable link will appear as command line output\n",
    "        * the link will lead you to the hosted experiment plots\n",
    "        * FYI: it is also possible to delete uploaded tensorboards via `tensorboard dev delete --experiment_id EXPERIMENT_ID`\n",
    "    * If you don't want to upload your experiments to Google or don't have a Google account, you can achieve the same browsable layout on your local machine\n",
    "    * execute on your command line `tensorboard --logdir logs`\n",
    "    * a localhost instance, usually on `https://localhost:6006/`, will open\n",
    "* Choose one of the above options to visualize your experiments in tensorboard\n",
    "* Include a screenshot of the results in the notebook submission of this exercise\n",
    "    * You can embed images in Jupyerlab in markdown cells [as described here](https://stackoverflow.com/questions/41604263/how-do-i-display-local-image-in-markdown)\n",
    "    * Also send us the screenshot file with it, otherwise we can't see your embedded image in the notebook\n",
    "* Last note: You aren't dependend on Hugging Face experiments to upload and visualize results to tensorboard\n",
    "    * You can upload every folder that is generated in the same format to tensorboard\n",
    "    * For instance, the same can be achived using [PyTorch](https://pytorch.org/tutorials/recipes/recipes/tensorboard_with_pytorch.html) and the SummaryWriter\n"
   ]
  },
  {
   "cell_type": "code",
   "execution_count": null,
   "id": "0e8f75ed-1263-474b-9a99-1eacc6cfc733",
   "metadata": {
    "id": "0e8f75ed-1263-474b-9a99-1eacc6cfc733"
   },
   "outputs": [],
   "source": []
  }
 ],
 "metadata": {
  "colab": {
   "provenance": []
  },
  "kernelspec": {
   "display_name": "temp_dl4nlp",
   "language": "python",
   "name": "python3"
  },
  "language_info": {
   "codemirror_mode": {
    "name": "ipython",
    "version": 3
   },
   "file_extension": ".py",
   "mimetype": "text/x-python",
   "name": "python",
   "nbconvert_exporter": "python",
   "pygments_lexer": "ipython3",
   "version": "3.9.20"
  }
 },
 "nbformat": 4,
 "nbformat_minor": 5
}
