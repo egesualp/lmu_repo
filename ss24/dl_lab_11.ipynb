{
    "cells": [
        {
            "cell_type": "markdown",
            "id": "7dbb09d3",
            "metadata": {
                "pycharm": {
                    "name": "#%% md\n"
                }
            },
            "source": [
                "# Lab 11\n",
                "\n",
                "**Lecture**: Deep Learning (Prof. Dr. David Rügamer, Emanuel Sommer)\n",
                "\n",
                "## Imports"
            ]
        },
        {
            "cell_type": "code",
            "execution_count": 1,
            "id": "8e0ac56d",
            "metadata": {
                "execution": {
                    "iopub.execute_input": "2024-06-26T14:34:35.718558Z",
                    "iopub.status.busy": "2024-06-26T14:34:35.718319Z",
                    "iopub.status.idle": "2024-06-26T14:34:36.915532Z",
                    "shell.execute_reply": "2024-06-26T14:34:36.914781Z"
                },
                "pycharm": {
                    "name": "#%%\n"
                }
            },
            "outputs": [],
            "source": [
                "from math import ceil\n",
                "from typing import List, Tuple\n",
                "\n",
                "import matplotlib.pyplot as plt\n",
                "import torch\n",
                "from matplotlib_inline.backend_inline import set_matplotlib_formats\n",
                "from torch import nn, Tensor\n",
                "from torch.distributions import Normal\n",
                "from torch.optim import Adam, Optimizer\n",
                "from torch.utils.data import DataLoader\n",
                "from torchvision.datasets import MNIST\n",
                "from torchvision.transforms import ToTensor\n",
                "from torchvision.utils import make_grid\n",
                "from torchsummary import summary\n",
                "\n",
                "set_matplotlib_formats('png', 'pdf')"
            ]
        },
        {
            "cell_type": "markdown",
            "id": "71c5608a",
            "metadata": {},
            "source": [
                "# Exercise 1\n",
                "\n",
                "In this exercise, we will implement a denoising autoencoder (DAE). We will use the MNIST dataset for this task. The autoencoder will be trained on noisy images and should be able to remove the noise from the images."
            ]
        },
        {
            "cell_type": "code",
            "execution_count": 2,
            "id": "aa5d4ef4",
            "metadata": {
                "execution": {
                    "iopub.execute_input": "2024-06-26T14:34:36.917926Z",
                    "iopub.status.busy": "2024-06-26T14:34:36.917784Z",
                    "iopub.status.idle": "2024-06-26T14:34:36.959744Z",
                    "shell.execute_reply": "2024-06-26T14:34:36.959257Z"
                }
            },
            "outputs": [],
            "source": [
                "train_x = MNIST(root='.data', download=True, transform=ToTensor())"
            ]
        },
        {
            "cell_type": "markdown",
            "id": "45364102",
            "metadata": {},
            "source": [
                "Let's first construct a basic fully connected autoencoder."
            ]
        },
        {
            "cell_type": "code",
            "execution_count": 33,
            "id": "b8921d36",
            "metadata": {
                "execution": {
                    "iopub.execute_input": "2024-06-26T14:34:36.961936Z",
                    "iopub.status.busy": "2024-06-26T14:34:36.961656Z",
                    "iopub.status.idle": "2024-06-26T14:34:36.966574Z",
                    "shell.execute_reply": "2024-06-26T14:34:36.966254Z"
                }
            },
            "outputs": [],
            "source": [
                "\n",
                "class AE(nn.Module):\n",
                "    def __init__(self):\n",
                "        super(AE, self).__init__()\n",
                "# TODO: define self.encoder and self.decoder as fully connected neural networks with 2 hidden layers of 128 and 64 neurons respectively\n",
                "# The encoder should take an input of size a flattened 28x28 image.\n",
                "        self.encoder = nn.Sequential(\n",
                "            nn.Linear(in_features=784, out_features=128),\n",
                "            nn.ReLU(),\n",
                "            nn.Linear(in_features=128, out_features=64),\n",
                "            nn.ReLU()\n",
                "        )\n",
                "\n",
                "        self.decoder = nn.Sequential(\n",
                "            nn.Linear(64, 128),\n",
                "            nn.ReLU(),\n",
                "            nn.Linear(128, 28*28),\n",
                "            nn.Sigmoid() # we don't want to reduce output neurons to 0\n",
                "        )\n",
                "\n",
                "    def forward(self, x):\n",
                "# TODO: implement the forward pass of the autoencoder\n",
                "        z = self.encoder(x)\n",
                "        x = self.decoder(z)\n",
                "        return x"
            ]
        },
        {
            "cell_type": "markdown",
            "id": "5fb9a2aa",
            "metadata": {},
            "source": [
                "Let's define the denoising autoencoder class which will add Gaussian noise to the input images before passing them through the autoencoder."
            ]
        },
        {
            "cell_type": "code",
            "execution_count": 34,
            "id": "071e9602",
            "metadata": {
                "execution": {
                    "iopub.execute_input": "2024-06-26T14:34:36.967897Z",
                    "iopub.status.busy": "2024-06-26T14:34:36.967786Z",
                    "iopub.status.idle": "2024-06-26T14:34:37.001403Z",
                    "shell.execute_reply": "2024-06-26T14:34:37.000843Z"
                }
            },
            "outputs": [],
            "source": [
                "\n",
                "class DAE(nn.Module):\n",
                "    def __init__(self, autoencoder):\n",
                "        super(DAE, self).__init__()\n",
                "        self.autoencoder = autoencoder\n",
                "\n",
                "    def forward(self, x, noise_factor=0.5):\n",
                "# TODO: implement the forward pass of the denoising autoencoder\n",
                "# Add Gaussian noise to the input x (torch.randn_like() might be useful) and scale the noise by noise_factor\n",
                "# Then pass the noisy input through the autoencoder and return the reconstructed image\n",
                "        x_noisy = x + noise_factor * torch.rand_like(x)\n",
                "        x_recon = self.autoencoder(x_noisy)\n",
                "        return x_recon"
            ]
        },
        {
            "cell_type": "markdown",
            "id": "0ddc85b5",
            "metadata": {},
            "source": [
                "First let's look at some original images and their noisy versions with varying noise factors."
            ]
        },
        {
            "cell_type": "code",
            "execution_count": 35,
            "id": "0e290690",
            "metadata": {
                "execution": {
                    "iopub.execute_input": "2024-06-26T14:34:37.003215Z",
                    "iopub.status.busy": "2024-06-26T14:34:37.003096Z",
                    "iopub.status.idle": "2024-06-26T14:34:37.008339Z",
                    "shell.execute_reply": "2024-06-26T14:34:37.007875Z"
                }
            },
            "outputs": [
                {
                    "data": {
                        "application/pdf": "[encoded data removed]",
                        "image/png": "[encoded data removed]",
                        "text/plain": [
                            "<Figure size 1200x400 with 8 Axes>"
                        ]
                    },
                    "metadata": {},
                    "output_type": "display_data"
                }
            ],
            "source": [
                "\n",
                "# plot original and noisy images\n",
                "noise_fcts = [0.0, 0.1, 0.5, 1.0]\n",
                "fig, axs = plt.subplots(2, len(noise_fcts), figsize=(12, 4))\n",
                "for i, noise_fct in enumerate(noise_fcts):\n",
                "    for ax, x in zip(axs[:, i], train_x):\n",
                "        x = x[0]\n",
                "# TODO: add Gaussian noise to the image x and scale it by noise_fct\n",
                "        x_noisy = x + noise_fct * torch.rand_like(x)\n",
                "        ax.imshow(x_noisy.squeeze().numpy(), cmap='gray')\n",
                "    axs[0, i].set_title(f'Noise factor {noise_fct}')\n",
                "    axs[0, i].set_xticks([])\n",
                "    axs[0, i].set_yticks([])\n",
                "    axs[1, i].set_xticks([])\n",
                "    axs[1, i].set_yticks([])"
            ]
        },
        {
            "cell_type": "markdown",
            "id": "fcf5d3aa",
            "metadata": {},
            "source": [
                "Let's write a simple training loop to train the DAE on the MNIST dataset."
            ]
        },
        {
            "cell_type": "code",
            "execution_count": 36,
            "id": "c6f81786",
            "metadata": {},
            "outputs": [
                {
                    "name": "stdout",
                    "output_type": "stream",
                    "text": [
                        "Original Shape: torch.Size([60000, 28, 28])\n",
                        "ReShape: torch.Size([60000, 784])\n"
                    ]
                }
            ],
            "source": [
                "print(f'Original Shape: {train_x.data.shape}')\n",
                "print(f'ReShape: {train_x.data.view(-1, 28*28).shape}')"
            ]
        },
        {
            "cell_type": "code",
            "execution_count": 37,
            "id": "93cd946b",
            "metadata": {
                "execution": {
                    "iopub.execute_input": "2024-06-26T14:34:37.010043Z",
                    "iopub.status.busy": "2024-06-26T14:34:37.009872Z",
                    "iopub.status.idle": "2024-06-26T14:34:37.014761Z",
                    "shell.execute_reply": "2024-06-26T14:34:37.014293Z"
                }
            },
            "outputs": [
                {
                    "name": "stdout",
                    "output_type": "stream",
                    "text": [
                        "Epoch 1, Loss: 0.0263\n",
                        "Epoch 2, Loss: 0.0277\n"
                    ]
                }
            ],
            "source": [
                "\n",
                "autoencoder = AE()\n",
                "dae = DAE(autoencoder)\n",
                "\n",
                "device = torch.device(\"cuda\" if torch.cuda.is_available() else \"cpu\")\n",
                "dae = dae.to(device)\n",
                "\n",
                "optimizer = torch.optim.Adam(dae.parameters(), lr=0.001)\n",
                "criterion = (\n",
                "# TODO: define the loss function (mean squared error loss)\n",
                "    nn.MSELoss()\n",
                ")\n",
                "for epoch in range(2):\n",
                "    for i, (images, _) in enumerate(train_x):\n",
                "        # flatten the images\n",
                "# TODO: flatten the images\n",
                "        images = images.view(-1, 28*28).to(device)\n",
                "        images_recon = dae(images, noise_factor=0.5)\n",
                "        loss = criterion(images_recon, images)\n",
                "        optimizer.zero_grad()\n",
                "        loss.backward()\n",
                "        optimizer.step()\n",
                "    print(f'Epoch {epoch+1}, Loss: {loss.item():.4f}')"
            ]
        },
        {
            "cell_type": "code",
            "execution_count": 38,
            "id": "687584e9",
            "metadata": {
                "execution": {
                    "iopub.execute_input": "2024-06-26T14:34:37.016588Z",
                    "iopub.status.busy": "2024-06-26T14:34:37.016392Z",
                    "iopub.status.idle": "2024-06-26T14:34:37.021330Z",
                    "shell.execute_reply": "2024-06-26T14:34:37.020992Z"
                }
            },
            "outputs": [
                {
                    "name": "stdout",
                    "output_type": "stream",
                    "text": [
                        "----------------------------------------------------------------\n",
                        "        Layer (type)               Output Shape         Param #\n",
                        "================================================================\n",
                        "            Linear-1                  [-1, 128]         100,480\n",
                        "              ReLU-2                  [-1, 128]               0\n",
                        "            Linear-3                   [-1, 64]           8,256\n",
                        "              ReLU-4                   [-1, 64]               0\n",
                        "            Linear-5                  [-1, 128]           8,320\n",
                        "              ReLU-6                  [-1, 128]               0\n",
                        "            Linear-7                  [-1, 784]         101,136\n",
                        "           Sigmoid-8                  [-1, 784]               0\n",
                        "                AE-9                  [-1, 784]               0\n",
                        "================================================================\n",
                        "Total params: 218,192\n",
                        "Trainable params: 218,192\n",
                        "Non-trainable params: 0\n",
                        "----------------------------------------------------------------\n",
                        "Input size (MB): 0.00\n",
                        "Forward/backward pass size (MB): 0.02\n",
                        "Params size (MB): 0.83\n",
                        "Estimated Total Size (MB): 0.86\n",
                        "----------------------------------------------------------------\n"
                    ]
                }
            ],
            "source": [
                "\n",
                "summary(dae, (28*28,))"
            ]
        },
        {
            "cell_type": "markdown",
            "id": "95ef963d",
            "metadata": {},
            "source": [
                "The loss decreased during training, which is a good sign. Let's now visualize the original images, noisy images, and the denoised images."
            ]
        },
        {
            "cell_type": "code",
            "execution_count": 39,
            "id": "07c4a293",
            "metadata": {
                "execution": {
                    "iopub.execute_input": "2024-06-26T14:34:37.023798Z",
                    "iopub.status.busy": "2024-06-26T14:34:37.023595Z",
                    "iopub.status.idle": "2024-06-26T14:34:37.028241Z",
                    "shell.execute_reply": "2024-06-26T14:34:37.027883Z"
                }
            },
            "outputs": [
                {
                    "data": {
                        "application/pdf": "[encoded data removed]",
                        "image/png": "[encoded data removed]",
                        "text/plain": [
                            "<Figure size 600x600 with 9 Axes>"
                        ]
                    },
                    "metadata": {},
                    "output_type": "display_data"
                }
            ],
            "source": [
                "\n",
                "# plot original, noisy and reconstructed images\n",
                "\n",
                "fig, axs = plt.subplots(3, 3, figsize=(6, 6))\n",
                "for i, (images, _) in enumerate(train_x):\n",
                "    images = images.view(-1, 28*28).to(device)\n",
                "    noisy_imges = images + 0.5 * torch.randn_like(images)\n",
                "    recon_images = dae.autoencoder(images)\n",
                "    for ax, img in zip(axs[i, :], [images, noisy_imges, recon_images]):\n",
                "        ax.imshow(img.view(28, 28).cpu().detach().numpy(), cmap='gray')\n",
                "        ax.set_xticks([])\n",
                "        ax.set_yticks([])\n",
                "    if i == 2:\n",
                "        break"
            ]
        },
        {
            "cell_type": "markdown",
            "id": "2cb095a9",
            "metadata": {},
            "source": [
                "Let's try to be much more parameter efficient by using a convolutional autoencoder."
            ]
        },
        {
            "cell_type": "code",
            "execution_count": 40,
            "id": "0a72a899",
            "metadata": {
                "execution": {
                    "iopub.execute_input": "2024-06-26T14:34:37.030350Z",
                    "iopub.status.busy": "2024-06-26T14:34:37.030167Z",
                    "iopub.status.idle": "2024-06-26T14:34:37.036023Z",
                    "shell.execute_reply": "2024-06-26T14:34:37.035647Z"
                }
            },
            "outputs": [
                {
                    "ename": "RuntimeError",
                    "evalue": "Expected all tensors to be on the same device, but found at least two devices, cpu and cuda:0! (when checking argument for argument weight in method wrapper_CUDA___slow_conv2d_forward)",
                    "output_type": "error",
                    "traceback": [
                        "\u001b[1;31m---------------------------------------------------------------------------\u001b[0m",
                        "\u001b[1;31mRuntimeError\u001b[0m                              Traceback (most recent call last)",
                        "Cell \u001b[1;32mIn[40], line 45\u001b[0m\n\u001b[0;32m     42\u001b[0m \u001b[38;5;28;01mfor\u001b[39;00m epoch \u001b[38;5;129;01min\u001b[39;00m \u001b[38;5;28mrange\u001b[39m(\u001b[38;5;241m2\u001b[39m):\n\u001b[0;32m     43\u001b[0m     \u001b[38;5;28;01mfor\u001b[39;00m i, (images, _) \u001b[38;5;129;01min\u001b[39;00m \u001b[38;5;28menumerate\u001b[39m(train_x):\n\u001b[0;32m     44\u001b[0m         \u001b[38;5;66;03m# note that we do not flatten the images here\u001b[39;00m\n\u001b[1;32m---> 45\u001b[0m         images_recon \u001b[38;5;241m=\u001b[39m \u001b[43mdae\u001b[49m\u001b[43m(\u001b[49m\u001b[43mimages\u001b[49m\u001b[43m)\u001b[49m\n\u001b[0;32m     46\u001b[0m         \u001b[38;5;66;03m# flatten the images for the loss calculation\u001b[39;00m\n\u001b[0;32m     47\u001b[0m         images \u001b[38;5;241m=\u001b[39m images\u001b[38;5;241m.\u001b[39mview(\u001b[38;5;241m-\u001b[39m\u001b[38;5;241m1\u001b[39m, \u001b[38;5;241m28\u001b[39m\u001b[38;5;241m*\u001b[39m\u001b[38;5;241m28\u001b[39m)\u001b[38;5;241m.\u001b[39mto(device)\n",
                        "File \u001b[1;32mc:\\Users\\esual\\Locals\\local_repos\\venvLmu\\Lib\\site-packages\\torch\\nn\\modules\\module.py:1532\u001b[0m, in \u001b[0;36mModule._wrapped_call_impl\u001b[1;34m(self, *args, **kwargs)\u001b[0m\n\u001b[0;32m   1530\u001b[0m     \u001b[38;5;28;01mreturn\u001b[39;00m \u001b[38;5;28mself\u001b[39m\u001b[38;5;241m.\u001b[39m_compiled_call_impl(\u001b[38;5;241m*\u001b[39margs, \u001b[38;5;241m*\u001b[39m\u001b[38;5;241m*\u001b[39mkwargs)  \u001b[38;5;66;03m# type: ignore[misc]\u001b[39;00m\n\u001b[0;32m   1531\u001b[0m \u001b[38;5;28;01melse\u001b[39;00m:\n\u001b[1;32m-> 1532\u001b[0m     \u001b[38;5;28;01mreturn\u001b[39;00m \u001b[38;5;28;43mself\u001b[39;49m\u001b[38;5;241;43m.\u001b[39;49m\u001b[43m_call_impl\u001b[49m\u001b[43m(\u001b[49m\u001b[38;5;241;43m*\u001b[39;49m\u001b[43margs\u001b[49m\u001b[43m,\u001b[49m\u001b[43m \u001b[49m\u001b[38;5;241;43m*\u001b[39;49m\u001b[38;5;241;43m*\u001b[39;49m\u001b[43mkwargs\u001b[49m\u001b[43m)\u001b[49m\n",
                        "File \u001b[1;32mc:\\Users\\esual\\Locals\\local_repos\\venvLmu\\Lib\\site-packages\\torch\\nn\\modules\\module.py:1541\u001b[0m, in \u001b[0;36mModule._call_impl\u001b[1;34m(self, *args, **kwargs)\u001b[0m\n\u001b[0;32m   1536\u001b[0m \u001b[38;5;66;03m# If we don't have any hooks, we want to skip the rest of the logic in\u001b[39;00m\n\u001b[0;32m   1537\u001b[0m \u001b[38;5;66;03m# this function, and just call forward.\u001b[39;00m\n\u001b[0;32m   1538\u001b[0m \u001b[38;5;28;01mif\u001b[39;00m \u001b[38;5;129;01mnot\u001b[39;00m (\u001b[38;5;28mself\u001b[39m\u001b[38;5;241m.\u001b[39m_backward_hooks \u001b[38;5;129;01mor\u001b[39;00m \u001b[38;5;28mself\u001b[39m\u001b[38;5;241m.\u001b[39m_backward_pre_hooks \u001b[38;5;129;01mor\u001b[39;00m \u001b[38;5;28mself\u001b[39m\u001b[38;5;241m.\u001b[39m_forward_hooks \u001b[38;5;129;01mor\u001b[39;00m \u001b[38;5;28mself\u001b[39m\u001b[38;5;241m.\u001b[39m_forward_pre_hooks\n\u001b[0;32m   1539\u001b[0m         \u001b[38;5;129;01mor\u001b[39;00m _global_backward_pre_hooks \u001b[38;5;129;01mor\u001b[39;00m _global_backward_hooks\n\u001b[0;32m   1540\u001b[0m         \u001b[38;5;129;01mor\u001b[39;00m _global_forward_hooks \u001b[38;5;129;01mor\u001b[39;00m _global_forward_pre_hooks):\n\u001b[1;32m-> 1541\u001b[0m     \u001b[38;5;28;01mreturn\u001b[39;00m \u001b[43mforward_call\u001b[49m\u001b[43m(\u001b[49m\u001b[38;5;241;43m*\u001b[39;49m\u001b[43margs\u001b[49m\u001b[43m,\u001b[49m\u001b[43m \u001b[49m\u001b[38;5;241;43m*\u001b[39;49m\u001b[38;5;241;43m*\u001b[39;49m\u001b[43mkwargs\u001b[49m\u001b[43m)\u001b[49m\n\u001b[0;32m   1543\u001b[0m \u001b[38;5;28;01mtry\u001b[39;00m:\n\u001b[0;32m   1544\u001b[0m     result \u001b[38;5;241m=\u001b[39m \u001b[38;5;28;01mNone\u001b[39;00m\n",
                        "Cell \u001b[1;32mIn[34], line 11\u001b[0m, in \u001b[0;36mDAE.forward\u001b[1;34m(self, x, noise_factor)\u001b[0m\n\u001b[0;32m      6\u001b[0m     \u001b[38;5;28;01mdef\u001b[39;00m \u001b[38;5;21mforward\u001b[39m(\u001b[38;5;28mself\u001b[39m, x, noise_factor\u001b[38;5;241m=\u001b[39m\u001b[38;5;241m0.5\u001b[39m):\n\u001b[0;32m      7\u001b[0m \u001b[38;5;66;03m# TODO: implement the forward pass of the denoising autoencoder\u001b[39;00m\n\u001b[0;32m      8\u001b[0m \u001b[38;5;66;03m# Add Gaussian noise to the input x (torch.randn_like() might be useful) and scale the noise by noise_factor\u001b[39;00m\n\u001b[0;32m      9\u001b[0m \u001b[38;5;66;03m# Then pass the noisy input through the autoencoder and return the reconstructed image\u001b[39;00m\n\u001b[0;32m     10\u001b[0m         x_noisy \u001b[38;5;241m=\u001b[39m x \u001b[38;5;241m+\u001b[39m noise_factor \u001b[38;5;241m*\u001b[39m torch\u001b[38;5;241m.\u001b[39mrand_like(x)\n\u001b[1;32m---> 11\u001b[0m         x_recon \u001b[38;5;241m=\u001b[39m \u001b[38;5;28;43mself\u001b[39;49m\u001b[38;5;241;43m.\u001b[39;49m\u001b[43mautoencoder\u001b[49m\u001b[43m(\u001b[49m\u001b[43mx_noisy\u001b[49m\u001b[43m)\u001b[49m\n\u001b[0;32m     12\u001b[0m         \u001b[38;5;28;01mreturn\u001b[39;00m x_recon\n",
                        "File \u001b[1;32mc:\\Users\\esual\\Locals\\local_repos\\venvLmu\\Lib\\site-packages\\torch\\nn\\modules\\module.py:1532\u001b[0m, in \u001b[0;36mModule._wrapped_call_impl\u001b[1;34m(self, *args, **kwargs)\u001b[0m\n\u001b[0;32m   1530\u001b[0m     \u001b[38;5;28;01mreturn\u001b[39;00m \u001b[38;5;28mself\u001b[39m\u001b[38;5;241m.\u001b[39m_compiled_call_impl(\u001b[38;5;241m*\u001b[39margs, \u001b[38;5;241m*\u001b[39m\u001b[38;5;241m*\u001b[39mkwargs)  \u001b[38;5;66;03m# type: ignore[misc]\u001b[39;00m\n\u001b[0;32m   1531\u001b[0m \u001b[38;5;28;01melse\u001b[39;00m:\n\u001b[1;32m-> 1532\u001b[0m     \u001b[38;5;28;01mreturn\u001b[39;00m \u001b[38;5;28;43mself\u001b[39;49m\u001b[38;5;241;43m.\u001b[39;49m\u001b[43m_call_impl\u001b[49m\u001b[43m(\u001b[49m\u001b[38;5;241;43m*\u001b[39;49m\u001b[43margs\u001b[49m\u001b[43m,\u001b[49m\u001b[43m \u001b[49m\u001b[38;5;241;43m*\u001b[39;49m\u001b[38;5;241;43m*\u001b[39;49m\u001b[43mkwargs\u001b[49m\u001b[43m)\u001b[49m\n",
                        "File \u001b[1;32mc:\\Users\\esual\\Locals\\local_repos\\venvLmu\\Lib\\site-packages\\torch\\nn\\modules\\module.py:1541\u001b[0m, in \u001b[0;36mModule._call_impl\u001b[1;34m(self, *args, **kwargs)\u001b[0m\n\u001b[0;32m   1536\u001b[0m \u001b[38;5;66;03m# If we don't have any hooks, we want to skip the rest of the logic in\u001b[39;00m\n\u001b[0;32m   1537\u001b[0m \u001b[38;5;66;03m# this function, and just call forward.\u001b[39;00m\n\u001b[0;32m   1538\u001b[0m \u001b[38;5;28;01mif\u001b[39;00m \u001b[38;5;129;01mnot\u001b[39;00m (\u001b[38;5;28mself\u001b[39m\u001b[38;5;241m.\u001b[39m_backward_hooks \u001b[38;5;129;01mor\u001b[39;00m \u001b[38;5;28mself\u001b[39m\u001b[38;5;241m.\u001b[39m_backward_pre_hooks \u001b[38;5;129;01mor\u001b[39;00m \u001b[38;5;28mself\u001b[39m\u001b[38;5;241m.\u001b[39m_forward_hooks \u001b[38;5;129;01mor\u001b[39;00m \u001b[38;5;28mself\u001b[39m\u001b[38;5;241m.\u001b[39m_forward_pre_hooks\n\u001b[0;32m   1539\u001b[0m         \u001b[38;5;129;01mor\u001b[39;00m _global_backward_pre_hooks \u001b[38;5;129;01mor\u001b[39;00m _global_backward_hooks\n\u001b[0;32m   1540\u001b[0m         \u001b[38;5;129;01mor\u001b[39;00m _global_forward_hooks \u001b[38;5;129;01mor\u001b[39;00m _global_forward_pre_hooks):\n\u001b[1;32m-> 1541\u001b[0m     \u001b[38;5;28;01mreturn\u001b[39;00m \u001b[43mforward_call\u001b[49m\u001b[43m(\u001b[49m\u001b[38;5;241;43m*\u001b[39;49m\u001b[43margs\u001b[49m\u001b[43m,\u001b[49m\u001b[43m \u001b[49m\u001b[38;5;241;43m*\u001b[39;49m\u001b[38;5;241;43m*\u001b[39;49m\u001b[43mkwargs\u001b[49m\u001b[43m)\u001b[49m\n\u001b[0;32m   1543\u001b[0m \u001b[38;5;28;01mtry\u001b[39;00m:\n\u001b[0;32m   1544\u001b[0m     result \u001b[38;5;241m=\u001b[39m \u001b[38;5;28;01mNone\u001b[39;00m\n",
                        "Cell \u001b[1;32mIn[40], line 25\u001b[0m, in \u001b[0;36mCAE.forward\u001b[1;34m(self, x)\u001b[0m\n\u001b[0;32m     24\u001b[0m \u001b[38;5;28;01mdef\u001b[39;00m \u001b[38;5;21mforward\u001b[39m(\u001b[38;5;28mself\u001b[39m, x):\n\u001b[1;32m---> 25\u001b[0m     x \u001b[38;5;241m=\u001b[39m \u001b[38;5;28;43mself\u001b[39;49m\u001b[38;5;241;43m.\u001b[39;49m\u001b[43mencoder\u001b[49m\u001b[43m(\u001b[49m\u001b[43mx\u001b[49m\u001b[43m)\u001b[49m\n\u001b[0;32m     26\u001b[0m     x \u001b[38;5;241m=\u001b[39m \u001b[38;5;28mself\u001b[39m\u001b[38;5;241m.\u001b[39mdecoder(x)\n\u001b[0;32m     27\u001b[0m     \u001b[38;5;28;01mreturn\u001b[39;00m x\n",
                        "File \u001b[1;32mc:\\Users\\esual\\Locals\\local_repos\\venvLmu\\Lib\\site-packages\\torch\\nn\\modules\\module.py:1532\u001b[0m, in \u001b[0;36mModule._wrapped_call_impl\u001b[1;34m(self, *args, **kwargs)\u001b[0m\n\u001b[0;32m   1530\u001b[0m     \u001b[38;5;28;01mreturn\u001b[39;00m \u001b[38;5;28mself\u001b[39m\u001b[38;5;241m.\u001b[39m_compiled_call_impl(\u001b[38;5;241m*\u001b[39margs, \u001b[38;5;241m*\u001b[39m\u001b[38;5;241m*\u001b[39mkwargs)  \u001b[38;5;66;03m# type: ignore[misc]\u001b[39;00m\n\u001b[0;32m   1531\u001b[0m \u001b[38;5;28;01melse\u001b[39;00m:\n\u001b[1;32m-> 1532\u001b[0m     \u001b[38;5;28;01mreturn\u001b[39;00m \u001b[38;5;28;43mself\u001b[39;49m\u001b[38;5;241;43m.\u001b[39;49m\u001b[43m_call_impl\u001b[49m\u001b[43m(\u001b[49m\u001b[38;5;241;43m*\u001b[39;49m\u001b[43margs\u001b[49m\u001b[43m,\u001b[49m\u001b[43m \u001b[49m\u001b[38;5;241;43m*\u001b[39;49m\u001b[38;5;241;43m*\u001b[39;49m\u001b[43mkwargs\u001b[49m\u001b[43m)\u001b[49m\n",
                        "File \u001b[1;32mc:\\Users\\esual\\Locals\\local_repos\\venvLmu\\Lib\\site-packages\\torch\\nn\\modules\\module.py:1541\u001b[0m, in \u001b[0;36mModule._call_impl\u001b[1;34m(self, *args, **kwargs)\u001b[0m\n\u001b[0;32m   1536\u001b[0m \u001b[38;5;66;03m# If we don't have any hooks, we want to skip the rest of the logic in\u001b[39;00m\n\u001b[0;32m   1537\u001b[0m \u001b[38;5;66;03m# this function, and just call forward.\u001b[39;00m\n\u001b[0;32m   1538\u001b[0m \u001b[38;5;28;01mif\u001b[39;00m \u001b[38;5;129;01mnot\u001b[39;00m (\u001b[38;5;28mself\u001b[39m\u001b[38;5;241m.\u001b[39m_backward_hooks \u001b[38;5;129;01mor\u001b[39;00m \u001b[38;5;28mself\u001b[39m\u001b[38;5;241m.\u001b[39m_backward_pre_hooks \u001b[38;5;129;01mor\u001b[39;00m \u001b[38;5;28mself\u001b[39m\u001b[38;5;241m.\u001b[39m_forward_hooks \u001b[38;5;129;01mor\u001b[39;00m \u001b[38;5;28mself\u001b[39m\u001b[38;5;241m.\u001b[39m_forward_pre_hooks\n\u001b[0;32m   1539\u001b[0m         \u001b[38;5;129;01mor\u001b[39;00m _global_backward_pre_hooks \u001b[38;5;129;01mor\u001b[39;00m _global_backward_hooks\n\u001b[0;32m   1540\u001b[0m         \u001b[38;5;129;01mor\u001b[39;00m _global_forward_hooks \u001b[38;5;129;01mor\u001b[39;00m _global_forward_pre_hooks):\n\u001b[1;32m-> 1541\u001b[0m     \u001b[38;5;28;01mreturn\u001b[39;00m \u001b[43mforward_call\u001b[49m\u001b[43m(\u001b[49m\u001b[38;5;241;43m*\u001b[39;49m\u001b[43margs\u001b[49m\u001b[43m,\u001b[49m\u001b[43m \u001b[49m\u001b[38;5;241;43m*\u001b[39;49m\u001b[38;5;241;43m*\u001b[39;49m\u001b[43mkwargs\u001b[49m\u001b[43m)\u001b[49m\n\u001b[0;32m   1543\u001b[0m \u001b[38;5;28;01mtry\u001b[39;00m:\n\u001b[0;32m   1544\u001b[0m     result \u001b[38;5;241m=\u001b[39m \u001b[38;5;28;01mNone\u001b[39;00m\n",
                        "File \u001b[1;32mc:\\Users\\esual\\Locals\\local_repos\\venvLmu\\Lib\\site-packages\\torch\\nn\\modules\\container.py:217\u001b[0m, in \u001b[0;36mSequential.forward\u001b[1;34m(self, input)\u001b[0m\n\u001b[0;32m    215\u001b[0m \u001b[38;5;28;01mdef\u001b[39;00m \u001b[38;5;21mforward\u001b[39m(\u001b[38;5;28mself\u001b[39m, \u001b[38;5;28minput\u001b[39m):\n\u001b[0;32m    216\u001b[0m     \u001b[38;5;28;01mfor\u001b[39;00m module \u001b[38;5;129;01min\u001b[39;00m \u001b[38;5;28mself\u001b[39m:\n\u001b[1;32m--> 217\u001b[0m         \u001b[38;5;28minput\u001b[39m \u001b[38;5;241m=\u001b[39m \u001b[43mmodule\u001b[49m\u001b[43m(\u001b[49m\u001b[38;5;28;43minput\u001b[39;49m\u001b[43m)\u001b[49m\n\u001b[0;32m    218\u001b[0m     \u001b[38;5;28;01mreturn\u001b[39;00m \u001b[38;5;28minput\u001b[39m\n",
                        "File \u001b[1;32mc:\\Users\\esual\\Locals\\local_repos\\venvLmu\\Lib\\site-packages\\torch\\nn\\modules\\module.py:1532\u001b[0m, in \u001b[0;36mModule._wrapped_call_impl\u001b[1;34m(self, *args, **kwargs)\u001b[0m\n\u001b[0;32m   1530\u001b[0m     \u001b[38;5;28;01mreturn\u001b[39;00m \u001b[38;5;28mself\u001b[39m\u001b[38;5;241m.\u001b[39m_compiled_call_impl(\u001b[38;5;241m*\u001b[39margs, \u001b[38;5;241m*\u001b[39m\u001b[38;5;241m*\u001b[39mkwargs)  \u001b[38;5;66;03m# type: ignore[misc]\u001b[39;00m\n\u001b[0;32m   1531\u001b[0m \u001b[38;5;28;01melse\u001b[39;00m:\n\u001b[1;32m-> 1532\u001b[0m     \u001b[38;5;28;01mreturn\u001b[39;00m \u001b[38;5;28;43mself\u001b[39;49m\u001b[38;5;241;43m.\u001b[39;49m\u001b[43m_call_impl\u001b[49m\u001b[43m(\u001b[49m\u001b[38;5;241;43m*\u001b[39;49m\u001b[43margs\u001b[49m\u001b[43m,\u001b[49m\u001b[43m \u001b[49m\u001b[38;5;241;43m*\u001b[39;49m\u001b[38;5;241;43m*\u001b[39;49m\u001b[43mkwargs\u001b[49m\u001b[43m)\u001b[49m\n",
                        "File \u001b[1;32mc:\\Users\\esual\\Locals\\local_repos\\venvLmu\\Lib\\site-packages\\torch\\nn\\modules\\module.py:1541\u001b[0m, in \u001b[0;36mModule._call_impl\u001b[1;34m(self, *args, **kwargs)\u001b[0m\n\u001b[0;32m   1536\u001b[0m \u001b[38;5;66;03m# If we don't have any hooks, we want to skip the rest of the logic in\u001b[39;00m\n\u001b[0;32m   1537\u001b[0m \u001b[38;5;66;03m# this function, and just call forward.\u001b[39;00m\n\u001b[0;32m   1538\u001b[0m \u001b[38;5;28;01mif\u001b[39;00m \u001b[38;5;129;01mnot\u001b[39;00m (\u001b[38;5;28mself\u001b[39m\u001b[38;5;241m.\u001b[39m_backward_hooks \u001b[38;5;129;01mor\u001b[39;00m \u001b[38;5;28mself\u001b[39m\u001b[38;5;241m.\u001b[39m_backward_pre_hooks \u001b[38;5;129;01mor\u001b[39;00m \u001b[38;5;28mself\u001b[39m\u001b[38;5;241m.\u001b[39m_forward_hooks \u001b[38;5;129;01mor\u001b[39;00m \u001b[38;5;28mself\u001b[39m\u001b[38;5;241m.\u001b[39m_forward_pre_hooks\n\u001b[0;32m   1539\u001b[0m         \u001b[38;5;129;01mor\u001b[39;00m _global_backward_pre_hooks \u001b[38;5;129;01mor\u001b[39;00m _global_backward_hooks\n\u001b[0;32m   1540\u001b[0m         \u001b[38;5;129;01mor\u001b[39;00m _global_forward_hooks \u001b[38;5;129;01mor\u001b[39;00m _global_forward_pre_hooks):\n\u001b[1;32m-> 1541\u001b[0m     \u001b[38;5;28;01mreturn\u001b[39;00m \u001b[43mforward_call\u001b[49m\u001b[43m(\u001b[49m\u001b[38;5;241;43m*\u001b[39;49m\u001b[43margs\u001b[49m\u001b[43m,\u001b[49m\u001b[43m \u001b[49m\u001b[38;5;241;43m*\u001b[39;49m\u001b[38;5;241;43m*\u001b[39;49m\u001b[43mkwargs\u001b[49m\u001b[43m)\u001b[49m\n\u001b[0;32m   1543\u001b[0m \u001b[38;5;28;01mtry\u001b[39;00m:\n\u001b[0;32m   1544\u001b[0m     result \u001b[38;5;241m=\u001b[39m \u001b[38;5;28;01mNone\u001b[39;00m\n",
                        "File \u001b[1;32mc:\\Users\\esual\\Locals\\local_repos\\venvLmu\\Lib\\site-packages\\torch\\nn\\modules\\conv.py:460\u001b[0m, in \u001b[0;36mConv2d.forward\u001b[1;34m(self, input)\u001b[0m\n\u001b[0;32m    459\u001b[0m \u001b[38;5;28;01mdef\u001b[39;00m \u001b[38;5;21mforward\u001b[39m(\u001b[38;5;28mself\u001b[39m, \u001b[38;5;28minput\u001b[39m: Tensor) \u001b[38;5;241m-\u001b[39m\u001b[38;5;241m>\u001b[39m Tensor:\n\u001b[1;32m--> 460\u001b[0m     \u001b[38;5;28;01mreturn\u001b[39;00m \u001b[38;5;28;43mself\u001b[39;49m\u001b[38;5;241;43m.\u001b[39;49m\u001b[43m_conv_forward\u001b[49m\u001b[43m(\u001b[49m\u001b[38;5;28;43minput\u001b[39;49m\u001b[43m,\u001b[49m\u001b[43m \u001b[49m\u001b[38;5;28;43mself\u001b[39;49m\u001b[38;5;241;43m.\u001b[39;49m\u001b[43mweight\u001b[49m\u001b[43m,\u001b[49m\u001b[43m \u001b[49m\u001b[38;5;28;43mself\u001b[39;49m\u001b[38;5;241;43m.\u001b[39;49m\u001b[43mbias\u001b[49m\u001b[43m)\u001b[49m\n",
                        "File \u001b[1;32mc:\\Users\\esual\\Locals\\local_repos\\venvLmu\\Lib\\site-packages\\torch\\nn\\modules\\conv.py:456\u001b[0m, in \u001b[0;36mConv2d._conv_forward\u001b[1;34m(self, input, weight, bias)\u001b[0m\n\u001b[0;32m    452\u001b[0m \u001b[38;5;28;01mif\u001b[39;00m \u001b[38;5;28mself\u001b[39m\u001b[38;5;241m.\u001b[39mpadding_mode \u001b[38;5;241m!=\u001b[39m \u001b[38;5;124m'\u001b[39m\u001b[38;5;124mzeros\u001b[39m\u001b[38;5;124m'\u001b[39m:\n\u001b[0;32m    453\u001b[0m     \u001b[38;5;28;01mreturn\u001b[39;00m F\u001b[38;5;241m.\u001b[39mconv2d(F\u001b[38;5;241m.\u001b[39mpad(\u001b[38;5;28minput\u001b[39m, \u001b[38;5;28mself\u001b[39m\u001b[38;5;241m.\u001b[39m_reversed_padding_repeated_twice, mode\u001b[38;5;241m=\u001b[39m\u001b[38;5;28mself\u001b[39m\u001b[38;5;241m.\u001b[39mpadding_mode),\n\u001b[0;32m    454\u001b[0m                     weight, bias, \u001b[38;5;28mself\u001b[39m\u001b[38;5;241m.\u001b[39mstride,\n\u001b[0;32m    455\u001b[0m                     _pair(\u001b[38;5;241m0\u001b[39m), \u001b[38;5;28mself\u001b[39m\u001b[38;5;241m.\u001b[39mdilation, \u001b[38;5;28mself\u001b[39m\u001b[38;5;241m.\u001b[39mgroups)\n\u001b[1;32m--> 456\u001b[0m \u001b[38;5;28;01mreturn\u001b[39;00m \u001b[43mF\u001b[49m\u001b[38;5;241;43m.\u001b[39;49m\u001b[43mconv2d\u001b[49m\u001b[43m(\u001b[49m\u001b[38;5;28;43minput\u001b[39;49m\u001b[43m,\u001b[49m\u001b[43m \u001b[49m\u001b[43mweight\u001b[49m\u001b[43m,\u001b[49m\u001b[43m \u001b[49m\u001b[43mbias\u001b[49m\u001b[43m,\u001b[49m\u001b[43m \u001b[49m\u001b[38;5;28;43mself\u001b[39;49m\u001b[38;5;241;43m.\u001b[39;49m\u001b[43mstride\u001b[49m\u001b[43m,\u001b[49m\n\u001b[0;32m    457\u001b[0m \u001b[43m                \u001b[49m\u001b[38;5;28;43mself\u001b[39;49m\u001b[38;5;241;43m.\u001b[39;49m\u001b[43mpadding\u001b[49m\u001b[43m,\u001b[49m\u001b[43m \u001b[49m\u001b[38;5;28;43mself\u001b[39;49m\u001b[38;5;241;43m.\u001b[39;49m\u001b[43mdilation\u001b[49m\u001b[43m,\u001b[49m\u001b[43m \u001b[49m\u001b[38;5;28;43mself\u001b[39;49m\u001b[38;5;241;43m.\u001b[39;49m\u001b[43mgroups\u001b[49m\u001b[43m)\u001b[49m\n",
                        "\u001b[1;31mRuntimeError\u001b[0m: Expected all tensors to be on the same device, but found at least two devices, cpu and cuda:0! (when checking argument for argument weight in method wrapper_CUDA___slow_conv2d_forward)"
                    ]
                }
            ],
            "source": [
                "\n",
                "class CAE(nn.Module):\n",
                "    def __init__(self):\n",
                "        super(CAE, self).__init__()\n",
                "        self.encoder = nn.Sequential(\n",
                "            nn.Conv2d(1,16,3,padding=1),\n",
                "            nn.ReLU(),\n",
                "            nn.MaxPool2d(2,2),\n",
                "            nn.Conv2d(16,32,3,padding=1),\n",
                "            nn.ReLU(),\n",
                "            nn.MaxPool2d(2,2),\n",
                "            nn.Conv2d(32,64,3,padding=1),\n",
                "            nn.ReLU(),\n",
                "            nn.MaxPool2d(2,2)\n",
                "        )\n",
                "        self.decoder = nn.Sequential(\n",
                "            nn.ConvTranspose2d(64,32,3,stride=2),\n",
                "            nn.ReLU(),\n",
                "            nn.ConvTranspose2d(32,16,2,stride=2),\n",
                "            nn.ReLU(),\n",
                "            nn.ConvTranspose2d(16,1,2,stride=2),\n",
                "            nn.Sigmoid()\n",
                "        )\n",
                "\n",
                "    def forward(self, x):\n",
                "        x = self.encoder(x)\n",
                "        x = self.decoder(x)\n",
                "        return x\n",
                "\n",
                "autoencoder = CAE()\n",
                "dae = DAE(autoencoder)\n",
                "\n",
                "dae = dae.to(device)\n",
                "\n",
                "optimizer = torch.optim.Adam(dae.parameters(), lr=0.001)\n",
                "\n",
                "# Define the loss function and the training loop\n",
                "\n",
                "criterion = (\n",
                "    nn.MSELoss()\n",
                ")\n",
                "\n",
                "for epoch in range(2):\n",
                "    for i, (images, _) in enumerate(train_x):\n",
                "        # note that we do not flatten the images here\n",
                "        images_recon = dae(images)\n",
                "        # flatten the images for the loss calculation\n",
                "        images = images.view(-1, 28*28).to(device)\n",
                "        images_recon = images_recon.view(-1, 28*28).to(device)\n",
                "        loss = criterion(images_recon, images)\n",
                "        optimizer.zero_grad()\n",
                "        loss.backward()\n",
                "        optimizer.step()\n",
                "    print(f'Epoch {epoch+1}, Loss: {loss.item():.4f}')"
            ]
        },
        {
            "cell_type": "code",
            "execution_count": 10,
            "id": "0870b1e5",
            "metadata": {
                "execution": {
                    "iopub.execute_input": "2024-06-26T14:34:37.037487Z",
                    "iopub.status.busy": "2024-06-26T14:34:37.037263Z",
                    "iopub.status.idle": "2024-06-26T14:34:37.041104Z",
                    "shell.execute_reply": "2024-06-26T14:34:37.040720Z"
                }
            },
            "outputs": [
                {
                    "name": "stdout",
                    "output_type": "stream",
                    "text": [
                        "\n"
                    ]
                }
            ],
            "source": [
                "\n",
                "summary(dae, (1, 28, 28))"
            ]
        },
        {
            "cell_type": "code",
            "execution_count": 11,
            "id": "b3f53bfa",
            "metadata": {
                "execution": {
                    "iopub.execute_input": "2024-06-26T14:34:37.042658Z",
                    "iopub.status.busy": "2024-06-26T14:34:37.042511Z",
                    "iopub.status.idle": "2024-06-26T14:34:37.046365Z",
                    "shell.execute_reply": "2024-06-26T14:34:37.046035Z"
                }
            },
            "outputs": [
                {
                    "name": "stdout",
                    "output_type": "stream",
                    "text": [
                        "\n"
                    ]
                }
            ],
            "source": [
                "# visualize original, noisy and reconstructed images\n",
                "fig, axs = plt.subplots(3, 3, figsize=(6, 6))\n",
                "for i, (images, _) in enumerate(train_x):\n",
                "    images = images.to(device)\n",
                "    noisy_imges = images + 0.5 * torch.randn_like(images)\n",
                "    recon_images = dae.autoencoder(images)\n",
                "    for ax, img in zip(axs[i, :], [images, noisy_imges, recon_images]):\n",
                "        ax.imshow(img.view(28, 28).cpu().detach().numpy(), cmap='gray')\n",
                "        ax.set_xticks([])\n",
                "        ax.set_yticks([])\n",
                "    if i == 2:\n",
                "        break"
            ]
        },
        {
            "cell_type": "markdown",
            "id": "ffeb686e",
            "metadata": {},
            "source": [
                "The results are competitive with the fully connected autoencoder, but the convolutional autoencoder is much more parameter efficient (about 7 times less parameters)."
            ]
        },
        {
            "cell_type": "markdown",
            "id": "263de847",
            "metadata": {
                "pycharm": {
                    "name": "#%% md\n"
                }
            },
            "source": [
                "## Exercise 2\n",
                "\n",
                "In this exercise we will get acquainted with the KL divergence for normal distributions.\n",
                "\n",
                "\n",
                "**(a)** First, let $p(x)=\\mathcal{N}(\\mu_1,\\sigma_1^2)$ and $q(x)=\\mathcal{N}(\\mu_2,\\sigma_2^2)$\n",
                "and show that\n",
                "\n",
                "\\begin{equation*}\n",
                "\\text{KL}(q||p)\n",
                "= \\mathbb{E}_{x\\sim q}\\left[\\log\\frac{q(x)}{p(x)}\\right]\n",
                "=\\log\\frac{\\sigma_1}{\\sigma_2}+\\frac{\\sigma_2^2+(\\mu_1-\\mu_2)^2}{2\\sigma_1^2} -\\frac 1 2\n",
                "\\end{equation*}\n",
                "\n",
                "**(b)** Now, consider a variational autoencoder that takes a vector as input $\\textbf{x}$ and\n",
                "transforms it into a mean vector $\\mu(\\textbf{x})$ and a variance vector $\\sigma(\\textbf{x})^2$.\n",
                "From these, we derive the latent code $\\textbf{z}\\sim q(\\textbf{z})=\\mathcal{N}(\\mu(\\textbf{x}),\\text{diag}(\\sigma(\\textbf{x})^2))$,\n",
                "i.e. a multivariate Gaussian in $d$ dimensions with a given mean vector and diagonal\n",
                "covariance matrix. The prior distribution for $\\textbf{z}$ is another $d$-dimensional\n",
                "multivariate Gaussian $p=\\mathcal{N}(\\textbf{0},\\textbf{1})$.\n",
                "\n",
                "Now show that:\n",
                "\n",
                "\\begin{equation*}\n",
                "\\text{KL}(q||p)= -\\frac 1 2 \\sum_{i=1}^d \\left(1+\\log\\sigma_i(\\textbf{x})^2-\\sigma_i(\\textbf{x})^2 - \\mu_i(\\textbf{x})^2 \\right)\n",
                "\\end{equation*}\n",
                "\n",
                "Hint: start by showing that $p$ and $q$ can be factorized into a product of independent\n",
                "Gaussian components, one for each dimension, then apply the formula for the KL\n",
                "divergence for the univariate case.\n",
                "\n",
                "\n",
                "\n",
                "## Exercise 3 (optional)\n",
                "\n",
                "In this exercise we are going to implement variational autoencoders (VAEs) on the MNIST\n",
                "dataset."
            ]
        },
        {
            "cell_type": "code",
            "execution_count": 12,
            "id": "8ba7344b",
            "metadata": {
                "execution": {
                    "iopub.execute_input": "2024-06-26T14:34:37.047831Z",
                    "iopub.status.busy": "2024-06-26T14:34:37.047694Z",
                    "iopub.status.idle": "2024-06-26T14:34:37.080060Z",
                    "shell.execute_reply": "2024-06-26T14:34:37.079663Z"
                },
                "pycharm": {
                    "name": "#%%\n"
                }
            },
            "outputs": [],
            "source": [
                "train_x = MNIST(root='.data', download=True, transform=ToTensor())"
            ]
        },
        {
            "cell_type": "markdown",
            "id": "ecaa3e06",
            "metadata": {
                "pycharm": {
                    "name": "#%% md\n"
                }
            },
            "source": [
                "In a VAE, the encoder outputs mean and variance of a multivariate Gaussian distribution\n",
                "of the latent codes. Nothing prevents you from using a more complicated distribution in\n",
                "the same framework, but this is the usual choice. The expected log likelihood is then\n",
                "approximated by decoding a single sample from this distribution. Moreover, since we need\n",
                "the model to be differentiable end-to-end, sampling from the latent codes is\n",
                "re-formulated via the reparametrization trick.\n",
                "\n",
                "In the following we define a custom VAE module with a few utility functions that allow\n",
                "convenient managing of the VAE functionalities."
            ]
        },
        {
            "cell_type": "code",
            "execution_count": 13,
            "id": "f67f9ebe",
            "metadata": {
                "execution": {
                    "iopub.execute_input": "2024-06-26T14:34:37.082076Z",
                    "iopub.status.busy": "2024-06-26T14:34:37.081909Z",
                    "iopub.status.idle": "2024-06-26T14:34:37.086818Z",
                    "shell.execute_reply": "2024-06-26T14:34:37.086529Z"
                },
                "pycharm": {
                    "name": "#%%\n"
                }
            },
            "outputs": [
                {
                    "name": "stdout",
                    "output_type": "stream",
                    "text": [
                        "\n"
                    ]
                }
            ],
            "source": [
                "\n",
                "class VAE(nn.Module):\n",
                "\n",
                "    # We pass the encoder and decoder over the constructor, which gives us more flexibility.\n",
                "    def __init__(\n",
                "            self,\n",
                "            encoder: nn.Module,\n",
                "            decoder: nn.Module,\n",
                "            device: torch.device):\n",
                "        super().__init__()\n",
                "        self.encoder = encoder.to(device)\n",
                "        self.decoder = decoder.to(device)\n",
                "        self.device = device\n",
                "\n",
                "        # We need a normal distribution for the reparametrization trick\n",
                "        self.distribution = Normal(0, 1)\n",
                "\n",
                "    # We define a utility function for sampling the eps with correct shape and device\n",
                "    def sample_eps(self, sample_shape: Tuple) -> Tensor:\n",
                "        sampled_eps: Tensor = self.distribution.sample(sample_shape)\n",
                "        if str(self.device) != 'cpu':\n",
                "            sampled_eps = sampled_eps.cuda()\n",
                "        return sampled_eps\n",
                "\n",
                "    # We output the reconstructed x as well as the latent mu and log variance.\n",
                "    def forward(self, x: Tensor) -> Tuple[Tensor, Tensor, Tensor]:\n",
                "        mu, log_var = self.encoder(x)\n",
                "# TODO: Generate a sample z via the reparametrization trick.\n",
                "        x_hat = self.decoder(z)\n",
                "        return x_hat, mu, log_var\n",
                "\n",
                "    # We define an inference method for encoding input tensors.\n",
                "    def encode(self, x: Tensor) -> Tensor:\n",
                "        with torch.no_grad():\n",
                "# TODO: Obtain mu.\n",
                "        return mu\n",
                "\n",
                "    # We define an inference method for reconstructing z tensors.\n",
                "    def reconstruct(self, z: Tensor) -> Tensor:\n",
                "        with torch.no_grad():\n",
                "# TODO: Obtain x hat.\n",
                "        return x_hat\n"
            ]
        },
        {
            "cell_type": "markdown",
            "id": "bdf2263b",
            "metadata": {
                "pycharm": {
                    "name": "#%% md\n"
                }
            },
            "source": [
                "Next, we create our encoder and decoder.\n",
                "The encoder will have two outputs, which is easily done via the `nn.Module` container."
            ]
        },
        {
            "cell_type": "code",
            "execution_count": 14,
            "id": "e88b1a13",
            "metadata": {
                "execution": {
                    "iopub.execute_input": "2024-06-26T14:34:37.088453Z",
                    "iopub.status.busy": "2024-06-26T14:34:37.088288Z",
                    "iopub.status.idle": "2024-06-26T14:34:37.092772Z",
                    "shell.execute_reply": "2024-06-26T14:34:37.092394Z"
                },
                "pycharm": {
                    "name": "#%%\n"
                }
            },
            "outputs": [
                {
                    "name": "stdout",
                    "output_type": "stream",
                    "text": [
                        "\n"
                    ]
                }
            ],
            "source": [
                "\n",
                "class Encoder(nn.Module):\n",
                "    def __init__(self, input_size: int, latent_size: int):\n",
                "        super().__init__()\n",
                "        self.net = nn.Sequential(\n",
                "# TODO: Add a few fully connected layers and activation functions.\n",
                "# TODO: Choose an appropriate complex model. The output dimension should be 64.\n",
                "        )\n",
                "\n",
                "        self.mu = nn.Sequential(\n",
                "            nn.Linear(in_features=64, out_features=32),\n",
                "            nn.LeakyReLU(),\n",
                "            nn.Linear(in_features=32, out_features=latent_size),\n",
                "            nn.LeakyReLU()\n",
                "        )\n",
                "\n",
                "        self.log_var = nn.Sequential(\n",
                "            nn.Linear(in_features=64, out_features=32),\n",
                "            nn.LeakyReLU(),\n",
                "            nn.Linear(in_features=32, out_features=latent_size),\n",
                "            nn.LeakyReLU()\n",
                "        )\n",
                "\n",
                "    def forward(self, x:Tensor) -> Tuple[Tensor, Tensor]:\n",
                "        x = self.net(x)\n",
                "        return self.mu(x), self.log_var(x)\n",
                "\n",
                "\n",
                "class Decoder(nn.Module):\n",
                "    def __init__(self, output_size: int, latent_size: int):\n",
                "        super().__init__()\n",
                "        self.net = nn.Sequential(\n",
                "# TODO: Add a few fully connected layers and activation functions.\n",
                "# TODO: Choose an appropriate complex model.\n",
                "        )\n",
                "\n",
                "    def forward(self, x:Tensor) -> Tuple[Tensor, Tensor]:\n",
                "        return self.net(x)\n"
            ]
        },
        {
            "cell_type": "markdown",
            "id": "a168619a",
            "metadata": {
                "pycharm": {
                    "name": "#%% md\n"
                }
            },
            "source": [
                "A missing component is a Kullback-Leibler loss function, which we will define\n",
                "now for two Gaussians:"
            ]
        },
        {
            "cell_type": "code",
            "execution_count": 15,
            "id": "0b5371c5",
            "metadata": {
                "execution": {
                    "iopub.execute_input": "2024-06-26T14:34:37.094420Z",
                    "iopub.status.busy": "2024-06-26T14:34:37.094192Z",
                    "iopub.status.idle": "2024-06-26T14:34:37.098661Z",
                    "shell.execute_reply": "2024-06-26T14:34:37.098302Z"
                },
                "pycharm": {
                    "name": "#%%\n"
                }
            },
            "outputs": [
                {
                    "name": "stdout",
                    "output_type": "stream",
                    "text": [
                        "\n"
                    ]
                }
            ],
            "source": [
                "\n",
                "class KLDivergence:\n",
                "    def __call__(self, mu: Tensor, log_var: Tensor) -> Tensor:\n",
                "        return (\n",
                "# TODO: Compute the KL Loss for a batch of mus and log vars.\n",
                "# TODO: Use the VAE object to compress/reconstruct x\n",
                "# TODO: Compute the reconstruction batch_loss per sample\n",
                "# TODO: Compute the batch KL divergence\n",
                "# Hint: Divide the obtained KL loss by the number of pixels (for correct KL scale)\n",
                "# TODO: Compute the total loss\n",
                "# TODO: Do the backward pass and apply optimizer\n",
                "\n",
                "            if batch_idx % 10 == 0:\n",
                "                print('TRAINING BATCH:\\t({:5} / {:5})\\tREC LOSS:\\t{:2.3f}\\tKL LOSS:\\t{:2.3f}'\n",
                "                      .format(batch_idx, num_train_batches, float(batch_rec_loss), float(batch_kl_loss)), end='\\r')\n",
                "\n",
                "            total_ep_loss += float(total_loss)\n",
                "\n",
                "        train_losses.append(total_ep_loss / num_train_batches)\n",
                "        print('EPOCH:\\t{:5}\\tTRAIN LOSS:\\t{:.3f}'.format(ep, train_losses[-1], end='\\r'))\n",
                "\n",
                "    return train_losses\n"
            ]
        },
        {
            "cell_type": "markdown",
            "id": "e5c1e20b",
            "metadata": {
                "pycharm": {
                    "name": "#%% md\n"
                }
            },
            "source": [
                "Finally, we can initialize all our classes and start the training!\n",
                "We will choose a latent size of 8."
            ]
        },
        {
            "cell_type": "code",
            "execution_count": 16,
            "id": "3880a4e0",
            "metadata": {
                "execution": {
                    "iopub.execute_input": "2024-06-26T14:34:37.100678Z",
                    "iopub.status.busy": "2024-06-26T14:34:37.100435Z",
                    "iopub.status.idle": "2024-06-26T14:34:37.104450Z",
                    "shell.execute_reply": "2024-06-26T14:34:37.104094Z"
                },
                "pycharm": {
                    "name": "#%%\n"
                }
            },
            "outputs": [
                {
                    "name": "stdout",
                    "output_type": "stream",
                    "text": [
                        "\n"
                    ]
                }
            ],
            "source": [
                "latent_size = 8\n",
                "epochs = 2\n",
                "batch_size = 128\n",
                "\n",
                "\n",
                "encoder = (\n",
                "# TODO: Create an encoder.\n",
                ")\n",
                "\n",
                "decoder = (\n",
                "# TODO: Create a decoder.\n",
                ")\n",
                "\n",
                "vae = (\n",
                "# TODO: Create a VAE object.\n",
                ")\n",
                "\n",
                "optimizer = (\n",
                "# TODO: Define an optimizer.\n",
                ")\n",
                "\n",
                "train_autoencoder(vae, optimizer, train_x, epochs, batch_size)"
            ]
        },
        {
            "cell_type": "markdown",
            "id": "5ffbd7d8",
            "metadata": {
                "pycharm": {
                    "name": "#%% md\n"
                }
            },
            "source": [
                "Let us check the reconstruction of a digit:"
            ]
        },
        {
            "cell_type": "code",
            "execution_count": 17,
            "id": "0c10abfa",
            "metadata": {
                "execution": {
                    "iopub.execute_input": "2024-06-26T14:34:37.106249Z",
                    "iopub.status.busy": "2024-06-26T14:34:37.105954Z",
                    "iopub.status.idle": "2024-06-26T14:34:37.110516Z",
                    "shell.execute_reply": "2024-06-26T14:34:37.110020Z"
                },
                "pycharm": {
                    "name": "#%%\n"
                }
            },
            "outputs": [
                {
                    "name": "stdout",
                    "output_type": "stream",
                    "text": [
                        "\n"
                    ]
                }
            ],
            "source": [
                "\n",
                "def plot_reconstruction_grid(vae: nn.Module, mnist_dataset: MNIST) -> None:\n",
                "    x_samples = mnist_dataset.data[:100] / 255\n",
                "    z = vae.encode(x_samples.to(vae.device).view(100, -1))\n",
                "    x_hat = vae.reconstruct(z).detach().cpu().view(100, 28, 28)\n",
                "\n",
                "    cur_col = 0\n",
                "    image_list = []\n",
                "    for _ in range(4):\n",
                "        image_list.extend(x_samples[cur_col:cur_col + 25])\n",
                "        image_list.extend(x_hat[cur_col:cur_col + 25])\n",
                "        cur_col += 25\n",
                "\n",
                "    image_batch = torch.stack(image_list).unsqueeze(1)\n",
                "    image_grid = make_grid(image_batch, nrow=25)\n",
                "    plt.imshow(image_grid.permute(1, 2, 0))\n",
                "    plt.axis('off')\n",
                "    plt.show()"
            ]
        },
        {
            "cell_type": "code",
            "execution_count": 18,
            "id": "d8f23cbf",
            "metadata": {
                "execution": {
                    "iopub.execute_input": "2024-06-26T14:34:37.112254Z",
                    "iopub.status.busy": "2024-06-26T14:34:37.111974Z",
                    "iopub.status.idle": "2024-06-26T14:34:37.116067Z",
                    "shell.execute_reply": "2024-06-26T14:34:37.115702Z"
                },
                "pycharm": {
                    "name": "#%%\n"
                }
            },
            "outputs": [
                {
                    "name": "stdout",
                    "output_type": "stream",
                    "text": [
                        "\n"
                    ]
                }
            ],
            "source": [
                "plot_reconstruction_grid(vae, train_x)"
            ]
        },
        {
            "cell_type": "markdown",
            "id": "d366a112",
            "metadata": {
                "pycharm": {
                    "name": "#%% md\n"
                }
            },
            "source": [
                "It is already quite good for only two training epochs!\n",
                "Now try to remove the division of the KL by 784, train again and visualize the result.\n",
                "\n",
                "You should see a gray blob that looks a bit like the average of many digits.\n",
                "This phenomenon is named _mode collapse_, i.e. the distribution of the generator\n",
                "collapsed to a single mode that covers the entire dataset, instead of (at least)\n",
                "one mode for every digit. In VAEs, this is typically caused by a KL term that is\n",
                "very strong at the beginning of training, and dominates the reconstruction loss.\n",
                "The optimizer will focus most of its efforts to reduce this term, ending up in a poor local minimum.\n",
                "\n",
                "A popular method to deal with this issue is _KL annealing_.\n",
                "It consists in training the network without the KL regularizer for some time, then slowly\n",
                "increasing the weight of the KL. This procedure allows the network to first learn how to\n",
                "perform good reconstructions, then to adjust the latent code to conform to a Normal\n",
                "distribution without erasing progress on the reconstruction.\n",
                "\n",
                "To implement this behaviour, we define a small object that is able to return the\n",
                "desired KL weight in the respective epoch."
            ]
        },
        {
            "cell_type": "code",
            "execution_count": 19,
            "id": "99bfde81",
            "metadata": {
                "execution": {
                    "iopub.execute_input": "2024-06-26T14:34:37.117738Z",
                    "iopub.status.busy": "2024-06-26T14:34:37.117487Z",
                    "iopub.status.idle": "2024-06-26T14:34:37.121842Z",
                    "shell.execute_reply": "2024-06-26T14:34:37.121472Z"
                },
                "pycharm": {
                    "name": "#%%\n"
                }
            },
            "outputs": [
                {
                    "name": "stdout",
                    "output_type": "stream",
                    "text": [
                        "\n"
                    ]
                }
            ],
            "source": [
                "class KLWeightManager:\n",
                "    \"\"\"\n",
                "    Manager to get the desired KL weight.\n",
                "\n",
                "    Warm up rounds specify the starting epochs until which the KL weight will be zero.\n",
                "    The annealing rounds describe the duration of the annealing process.\n",
                "    E.g., warm up is 5 and and there are 10 annealing rounds, then the first 5 epochs\n",
                "    will have a KL weight of 0 and from epoch 5 to 15 the weight will be annealed to 1.\n",
                "    \"\"\"\n",
                "    def __init__(self, warm_up_rounds: int, annealing_rounds: int):\n",
                "        self.warm_up = warm_up_rounds\n",
                "        self.annealing_rounds = annealing_rounds\n",
                "\n",
                "\n",
                "    def __call__(self, cur_epoch: int) -> float:\n",
                "        if cur_epoch < self.warm_up:\n",
                "            return 0.0\n",
                "        elif cur_epoch >= self.warm_up + self.annealing_rounds:\n",
                "            return 1.0\n",
                "        else:\n",
                "            progress = cur_epoch - self.warm_up\n",
                "            return progress / self.annealing_rounds\n"
            ]
        },
        {
            "cell_type": "markdown",
            "id": "2c10105a",
            "metadata": {
                "pycharm": {
                    "name": "#%% md\n"
                }
            },
            "source": [
                "Let's remove the scaling term in the training loop and integrate the `KLWeightManager`:"
            ]
        },
        {
            "cell_type": "code",
            "execution_count": 20,
            "id": "3846b9c9",
            "metadata": {
                "execution": {
                    "iopub.execute_input": "2024-06-26T14:34:37.123731Z",
                    "iopub.status.busy": "2024-06-26T14:34:37.123396Z",
                    "iopub.status.idle": "2024-06-26T14:34:37.127870Z",
                    "shell.execute_reply": "2024-06-26T14:34:37.127508Z"
                },
                "pycharm": {
                    "name": "#%%\n"
                }
            },
            "outputs": [
                {
                    "name": "stdout",
                    "output_type": "stream",
                    "text": [
                        "\n"
                    ]
                }
            ],
            "source": [
                "\n",
                "def train_autoencoder(\n",
                "        vae: VAE,\n",
                "        optimizer: Optimizer,\n",
                "        mnist_dataset: MNIST,\n",
                "        epochs: int,\n",
                "        batch_size: int,\n",
                ") -> List[float]:\n",
                "\n",
                "    rec_loss = nn.MSELoss(reduction='sum')\n",
                "    kl_loss = KLDivergence()\n",
                "    kl_weighting = KLWeightManager(warm_up_rounds=0, annealing_rounds=5)\n",
                "\n",
                "    train_losses = []\n",
                "\n",
                "    num_train_batches = ceil(len(mnist_dataset) / batch_size)\n",
                "    train_loader = DataLoader(mnist_dataset, batch_size, shuffle=True)\n",
                "\n",
                "    for ep in range(1, epochs + 1):\n",
                "        total_ep_loss = 0\n",
                "\n",
                "        for batch_idx, (x, _) in enumerate(train_loader):\n",
                "            x = x.to(vae.device).view(x.shape[0], -1)\n",
                "\n",
                "# TODO: Use the VAE object to compress/reconstruct x\n",
                "# TODO: Compute the reconstruction batch_loss per sample\n",
                "# TODO: Compute the batch KL divergence\n",
                "# TODO: Obtain the KL weight and reweight the KL loss\n",
                "# TODO: Compute the total loss\n",
                "# TODO: Do the backward pass and apply optimizer\n",
                "\n",
                "            if batch_idx % 10 == 0:\n",
                "                print('TRAINING BATCH:\\t({:5} / {:5})\\tREC LOSS:\\t{:2.3f}\\tKL LOSS:\\t{:2.3f}'\n",
                "                      .format(batch_idx, num_train_batches, float(batch_rec_loss), float(batch_kl_loss)), end='\\r')\n",
                "\n",
                "            total_ep_loss += float(total_loss)\n",
                "\n",
                "        train_losses.append(total_ep_loss / num_train_batches)\n",
                "        print('EPOCH:\\t{:5}\\tTRAIN LOSS:\\t{:.3f}\\tKL WEIGHT:\\t{:.2f}'\n",
                "              .format(ep, train_losses[-1], kl_weighting(ep), end='\\r'))\n",
                "\n",
                "    return train_losses"
            ]
        },
        {
            "cell_type": "code",
            "execution_count": 21,
            "id": "6cafa27f",
            "metadata": {
                "execution": {
                    "iopub.execute_input": "2024-06-26T14:34:37.129551Z",
                    "iopub.status.busy": "2024-06-26T14:34:37.129272Z",
                    "iopub.status.idle": "2024-06-26T14:34:37.133354Z",
                    "shell.execute_reply": "2024-06-26T14:34:37.133004Z"
                },
                "pycharm": {
                    "name": "#%%\n"
                }
            },
            "outputs": [
                {
                    "name": "stdout",
                    "output_type": "stream",
                    "text": [
                        "\n"
                    ]
                }
            ],
            "source": [
                "latent_size = 8\n",
                "epochs = 15\n",
                "batch_size = 128\n",
                "\n",
                "\n",
                "encoder = (\n",
                "# TODO: Create an encoder.\n",
                ")\n",
                "\n",
                "decoder = (\n",
                "# TODO: Create a decoder.\n",
                ")\n",
                "\n",
                "vae = (\n",
                "# TODO: Create a VAE object.\n",
                ")\n",
                "\n",
                "optimizer = (\n",
                "# TODO: Define an optimizer.\n",
                ")\n",
                "\n",
                "losses = train_autoencoder(vae, optimizer, train_x, epochs, batch_size)"
            ]
        },
        {
            "cell_type": "code",
            "execution_count": 22,
            "id": "f3b1fa06",
            "metadata": {
                "execution": {
                    "iopub.execute_input": "2024-06-26T14:34:37.134920Z",
                    "iopub.status.busy": "2024-06-26T14:34:37.134737Z",
                    "iopub.status.idle": "2024-06-26T14:34:37.138777Z",
                    "shell.execute_reply": "2024-06-26T14:34:37.138438Z"
                },
                "pycharm": {
                    "name": "#%%\n"
                }
            },
            "outputs": [
                {
                    "name": "stdout",
                    "output_type": "stream",
                    "text": [
                        "\n"
                    ]
                }
            ],
            "source": [
                "plot_reconstruction_grid(vae, train_x)\n"
            ]
        },
        {
            "cell_type": "markdown",
            "id": "b93a2353",
            "metadata": {
                "pycharm": {
                    "name": "#%% md\n"
                }
            },
            "source": [
                "It seems like we don't suffer from posterior collaps and our reconstructions look rather\n",
                "good. It has been shown, that choosing KL weights larger than one can lead to overall\n",
                "better representations with the downside of worse reconstructions. This framework is\n",
                "found in literatures as $\\beta$-VAE. The correct choice of the KL weight is a difficult\n",
                "one and depends on the distribution of your dataset and also its dimensionality.\n",
                "\n",
                "With a VAE we also have a generative model. We could e.g. sample zs from a uniform range\n",
                "and see what the generator will reconstruct:"
            ]
        },
        {
            "cell_type": "code",
            "execution_count": 23,
            "id": "40302e34",
            "metadata": {
                "execution": {
                    "iopub.execute_input": "2024-06-26T14:34:37.140372Z",
                    "iopub.status.busy": "2024-06-26T14:34:37.140106Z",
                    "iopub.status.idle": "2024-06-26T14:34:37.143992Z",
                    "shell.execute_reply": "2024-06-26T14:34:37.143607Z"
                },
                "pycharm": {
                    "name": "#%%\n"
                }
            },
            "outputs": [
                {
                    "name": "stdout",
                    "output_type": "stream",
                    "text": [
                        "\n"
                    ]
                }
            ],
            "source": [
                "rand_z = torch.rand((100, latent_size), device=vae.device)\n",
                "generated_samples = vae.reconstruct(rand_z).view(100, 1, 28, 28).detach().cpu()\n",
                "\n",
                "image_grid = make_grid(generated_samples, nrow=25)\n",
                "plt.imshow(image_grid.permute(1, 2, 0))\n",
                "plt.axis('off')\n",
                "plt.show()"
            ]
        },
        {
            "cell_type": "markdown",
            "id": "894f382a",
            "metadata": {
                "pycharm": {
                    "name": "#%% md\n"
                }
            },
            "source": [
                "We can also use the generative decoder to smoothly interpolate between random samples:\n",
                "(Execute the cell a few times to see the interpolation between other random digits)"
            ]
        },
        {
            "cell_type": "code",
            "execution_count": 24,
            "id": "1db9b3e6",
            "metadata": {
                "execution": {
                    "iopub.execute_input": "2024-06-26T14:34:37.145550Z",
                    "iopub.status.busy": "2024-06-26T14:34:37.145384Z",
                    "iopub.status.idle": "2024-06-26T14:34:37.150265Z",
                    "shell.execute_reply": "2024-06-26T14:34:37.149903Z"
                },
                "pycharm": {
                    "name": "#%%\n"
                }
            },
            "outputs": [
                {
                    "name": "stdout",
                    "output_type": "stream",
                    "text": [
                        "\n"
                    ]
                }
            ],
            "source": [
                "def interpolate_linear(x: Tensor, y: Tensor, steps: int,) -> Tensor:\n",
                "    cur_weight = 0.0\n",
                "    weight_incr = 1 / (steps - 1)\n",
                "\n",
                "    result = torch.zeros((steps, *x.shape))\n",
                "    if x.is_cuda:\n",
                "        result = result.cuda()\n",
                "\n",
                "    for step in range(steps):\n",
                "        result[step] = torch.lerp(x, y, cur_weight)\n",
                "        cur_weight += weight_incr\n",
                "\n",
                "    return result\n",
                "\n",
                "x_one = train_x.data[torch.randint(0, 60000, (1,))] / 255.\n",
                "z_one = vae.encode(x_one.view(1, -1).to(vae.device))\n",
                "\n",
                "x_two = train_x.data[torch.randint(0, 60000, (1,))] / 255.\n",
                "z_two = vae.encode(x_two.view(1, -1).to(vae.device))\n",
                "\n",
                "zs = interpolate_linear(z_one, z_two, steps=20)\n",
                "x_hats = vae.reconstruct(zs).view(20, 1, 28, 28).detach().cpu()\n",
                "\n",
                "image_grid = make_grid(x_hats, nrow=20)\n",
                "plt.imshow(image_grid.permute(1, 2, 0))\n",
                "plt.axis('off')\n",
                "plt.show()\n"
            ]
        }
    ],
    "metadata": {
        "kernelspec": {
            "display_name": "Python 3",
            "language": "python",
            "name": "python3"
        },
        "language_info": {
            "codemirror_mode": {
                "name": "ipython",
                "version": 3
            },
            "file_extension": ".py",
            "mimetype": "text/x-python",
            "name": "python",
            "nbconvert_exporter": "python",
            "pygments_lexer": "ipython3",
            "version": "3.11.9"
        }
    },
    "nbformat": 4,
    "nbformat_minor": 5
}
