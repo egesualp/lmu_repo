{
 "cells": [
  {
   "cell_type": "code",
   "execution_count": 11,
   "metadata": {},
   "outputs": [
    {
     "name": "stdout",
     "output_type": "stream",
     "text": [
      "Observed mean: 79.99985804010655\n",
      "Observed t-score: 13007.649803637774\n",
      "P-value: 0.4996\n"
     ]
    }
   ],
   "source": [
    "import numpy as np\n",
    "\n",
    "# Define the population mean under the null hypothesis\n",
    "population_mean = 50\n",
    "\n",
    "# Generate sample data (example)\n",
    "np.random.seed(42)  # For reproducibility\n",
    "sample_data = np.random.normal(loc=80, scale=0.4, size=30000)  # Sample mean is 73, std dev is 10, sample size is 30\n",
    "\n",
    "# Calculate the observed sample mean\n",
    "observed_mean = np.mean(sample_data)\n",
    "observed_mean\n",
    "\n",
    "# Calculate the observed test statistic (t-score)\n",
    "sample_size = len(sample_data)\n",
    "sample_std_dev = np.std(sample_data, ddof=1)\n",
    "standard_error = sample_std_dev / np.sqrt(sample_size)\n",
    "t_score_observed = (observed_mean - population_mean) / standard_error\n",
    "t_score_observed\n",
    "\n",
    "# Simulation: Shuffle data and calculate test statistics\n",
    "num_simulations = 10000\n",
    "simulated_means = np.zeros(num_simulations)\n",
    "\n",
    "for i in range(num_simulations):\n",
    "    shuffled_data = np.random.choice(sample_data, size=sample_size, replace=True)\n",
    "    simulated_means[i] = np.mean(shuffled_data)\n",
    "\n",
    "# Calculate test statistics for the shuffled data\n",
    "simulated_t_scores = (simulated_means - population_mean) / standard_error\n",
    "\n",
    "# Calculate the p-value\n",
    "p_value = np.mean(np.abs(simulated_t_scores) >= np.abs(t_score_observed))\n",
    "p_value\n",
    "\n",
    "# Print the results\n",
    "print(f\"Observed mean: {observed_mean}\")\n",
    "print(f\"Observed t-score: {t_score_observed}\")\n",
    "print(f\"P-value: {p_value}\")\n"
   ]
  },
  {
   "cell_type": "code",
   "execution_count": 14,
   "metadata": {},
   "outputs": [
    {
     "name": "stdout",
     "output_type": "stream",
     "text": [
      "Observed mean: 72.81185310414895\n",
      "Observed t-score: 17.11227083098026\n",
      "P-value: 0.0\n"
     ]
    }
   ],
   "source": [
    "import numpy as np\n",
    "\n",
    "# Define the population mean under the null hypothesis\n",
    "population_mean = 70\n",
    "\n",
    "# Generate sample data (example)\n",
    "np.random.seed(42)  # For reproducibility\n",
    "sample_data = np.random.normal(loc=73, scale=1, size=30)  # Sample mean is 73, std dev is 10, sample size is 30\n",
    "\n",
    "# Calculate the observed sample mean and t-score\n",
    "observed_mean = np.mean(sample_data)\n",
    "sample_size = len(sample_data)\n",
    "sample_std_dev = np.std(sample_data, ddof=1)\n",
    "standard_error = sample_std_dev / np.sqrt(sample_size)\n",
    "t_score_observed = (observed_mean - population_mean) / standard_error\n",
    "\n",
    "# Simulation: Combine data under the null hypothesis\n",
    "combined_data = sample_data - np.mean(sample_data) + population_mean\n",
    "\n",
    "# Perform permutation test\n",
    "num_simulations = 10000\n",
    "permuted_t_scores = np.zeros(num_simulations)\n",
    "\n",
    "for i in range(num_simulations):\n",
    "    permuted_sample = np.random.choice(combined_data, size=sample_size, replace=True)\n",
    "    permuted_mean = np.mean(permuted_sample)\n",
    "    permuted_t_scores[i] = (permuted_mean - population_mean) / standard_error\n",
    "\n",
    "# Calculate the p-value\n",
    "p_value = np.mean(np.abs(permuted_t_scores) >= np.abs(t_score_observed))\n",
    "\n",
    "# Print the results\n",
    "print(f\"Observed mean: {observed_mean}\")\n",
    "print(f\"Observed t-score: {t_score_observed}\")\n",
    "print(f\"P-value: {p_value}\")"
   ]
  },
  {
   "cell_type": "code",
   "execution_count": null,
   "metadata": {},
   "outputs": [],
   "source": []
  }
 ],
 "metadata": {
  "kernelspec": {
   "display_name": "venvLmu",
   "language": "python",
   "name": "python3"
  },
  "language_info": {
   "codemirror_mode": {
    "name": "ipython",
    "version": 3
   },
   "file_extension": ".py",
   "mimetype": "text/x-python",
   "name": "python",
   "nbconvert_exporter": "python",
   "pygments_lexer": "ipython3",
   "version": "3.11.9"
  }
 },
 "nbformat": 4,
 "nbformat_minor": 2
}
