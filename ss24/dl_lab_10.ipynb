{
    "cells": [
        {
            "cell_type": "markdown",
            "id": "4c0aa620",
            "metadata": {
                "pycharm": {
                    "name": "#%% md\n"
                }
            },
            "source": [
                "# Lab 10\n",
                "\n",
                "**Lecture**: Deep Learning (Prof. Dr. David Rügamer, Emanuel Sommer)\n",
                "\n",
                "## Imports"
            ]
        },
        {
            "cell_type": "code",
            "execution_count": 2,
            "id": "1a90091a",
            "metadata": {
                "execution": {
                    "iopub.execute_input": "2024-06-11T11:38:05.913346Z",
                    "iopub.status.busy": "2024-06-11T11:38:05.913077Z",
                    "iopub.status.idle": "2024-06-11T11:38:08.085194Z",
                    "shell.execute_reply": "2024-06-11T11:38:08.084637Z"
                },
                "pycharm": {
                    "name": "#%%\n"
                }
            },
            "outputs": [],
            "source": [
                "import string\n",
                "from collections import Counter\n",
                "from math import ceil\n",
                "from typing import List, Optional, Tuple, Dict\n",
                "import random\n",
                "\n",
                "import matplotlib.pyplot as plt\n",
                "import torch\n",
                "from matplotlib_inline.backend_inline import set_matplotlib_formats\n",
                "from torch import nn, Tensor\n",
                "from torch.nn.utils.rnn import pad_sequence\n",
                "from torch.optim import Adam, Optimizer\n",
                "from torch.utils.data import DataLoader, Dataset\n",
                "from keras.datasets import imdb\n",
                "from torchvision.datasets import MNIST\n",
                "from torchvision.utils import make_grid\n",
                "\n",
                "set_matplotlib_formats('png', 'pdf')"
            ]
        },
        {
            "cell_type": "markdown",
            "id": "89da253d",
            "metadata": {
                "pycharm": {
                    "name": "#%% md\n"
                }
            },
            "source": [
                "## Exercise 1\n",
                "\n",
                "In this exercise, we are going to revise the sentiment classifier for IMDB reviews we\n",
                "developed in a previous lab. Earlier, we encoded each review as a single \"bag-of-words\"\n",
                "vector which had one element for each word in our dictionary set to one if that word was\n",
                "found in the review, zero otherwise. This allowed us to use a simple fully-connected\n",
                "neural network but, on the flip side, we lost all information contained in the ordering\n",
                "and of the words and possible multiple repetitions. Recurrent neural networks, however,\n",
                "are able to process reviews directly. Let's see how!\n",
                "\n",
                "The first step is to load the data and preprocess it like it in exercise 6, so if you\n",
                "still remember what we did there, feel free to skip this part.\n",
                "For brevity, we only use the 10000 most common words\n",
                "and truncate reviews to 250 words, but if you can use a GPU then feel free to\n",
                "use the full length reviews and all words!"
            ]
        },
        {
            "cell_type": "code",
            "execution_count": 2,
            "id": "48e98927",
            "metadata": {
                "execution": {
                    "iopub.execute_input": "2024-06-11T11:38:08.087595Z",
                    "iopub.status.busy": "2024-06-11T11:38:08.087386Z",
                    "iopub.status.idle": "2024-06-11T11:38:09.648714Z",
                    "shell.execute_reply": "2024-06-11T11:38:09.648086Z"
                },
                "pycharm": {
                    "name": "#%%\n"
                }
            },
            "outputs": [],
            "source": [
                "(train_x, train_y), (test_x, test_y) = imdb.load_data()\n",
                "train_x = [train_x[i] for i in range(len(train_x))]\n",
                "train_y = [train_y[i] for i in range(len(train_y))]\n",
                "test_x = [test_x[i] for i in range(len(test_x))]\n",
                "test_y = [test_y[i] for i in range(len(test_y))]\n",
                "\n",
                "word2enc = imdb.get_word_index()\n",
                "enc2word = {v: k for k, v in word2enc.items()}"
            ]
        },
        {
            "cell_type": "code",
            "execution_count": 3,
            "id": "260e6d58",
            "metadata": {
                "execution": {
                    "iopub.execute_input": "2024-06-11T11:38:09.650754Z",
                    "iopub.status.busy": "2024-06-11T11:38:09.650631Z",
                    "iopub.status.idle": "2024-06-11T11:38:09.653747Z",
                    "shell.execute_reply": "2024-06-11T11:38:09.653247Z"
                }
            },
            "outputs": [
                {
                    "name": "stdout",
                    "output_type": "stream",
                    "text": [
                        "Sentiment: Positive\n",
                        "Review:\n",
                        "of with effects miller miss she role but so see next reason farthing comes it shame tried one end then for that like actors with tuesday own br over in br finally character miller miss rather understand good with film out possible get face bad well br help who film trusted hugely any with there's her split not miller miss seem in seem rather with film out possible up do i'm down character thing br seem seem rather with film out bottom so see ahead not shana been vs it remember soldiers in always over mess one macabre this say stopped not br she's only with by higher but br convincing film science you about little purely terrible but pianos first anytime scenes aspect was was with massey's small war br convincing\n"
                    ]
                }
            ],
            "source": [
                "test_id = random.randint(0, len(train_x) - 1)\n",
                "print(f\"Sentiment: {'Positive' if train_y[test_id] == 1 else 'Negative'}\")\n",
                "print(\"Review:\")\n",
                "print(\" \".join([enc2word[enc+3] for enc in train_x[test_id]]))"
            ]
        },
        {
            "cell_type": "code",
            "execution_count": 4,
            "id": "68606ea7",
            "metadata": {},
            "outputs": [
                {
                    "data": {
                        "text/plain": [
                            "tensor([[-0.0126,  0.9909,  0.1914, -1.3543, -1.5555, -0.3019,  0.5614, -1.1325,\n",
                            "          0.3567,  0.8905],\n",
                            "        [ 0.2781, -0.1033,  1.7541, -2.3226,  0.3788, -0.1192,  0.9439,  0.6254,\n",
                            "         -1.4950, -1.6075],\n",
                            "        [-1.5829, -0.0545,  0.3822, -1.1697, -0.0797, -1.0614,  1.6229, -0.8544,\n",
                            "         -0.6614,  0.2189]], device='cuda:0')"
                        ]
                    },
                    "execution_count": 4,
                    "metadata": {},
                    "output_type": "execute_result"
                }
            ],
            "source": [
                "data = torch.randn((3,10), device=torch.device(\"cuda\"))\n",
                "data"
            ]
        },
        {
            "cell_type": "code",
            "execution_count": 5,
            "id": "1d51ff89",
            "metadata": {
                "execution": {
                    "iopub.execute_input": "2024-06-11T11:38:09.655288Z",
                    "iopub.status.busy": "2024-06-11T11:38:09.655135Z",
                    "iopub.status.idle": "2024-06-11T11:38:10.280980Z",
                    "shell.execute_reply": "2024-06-11T11:38:10.280365Z"
                },
                "pycharm": {
                    "name": "#%%\n"
                }
            },
            "outputs": [],
            "source": [
                "# Discard words that are not in the top 10000\n",
                "# Truncate sequences to a length of 250\n",
                "# Remove Nones\n",
                "\n",
                "def filter_word_ranks(\n",
                "        word_list: List[Optional[int]],\n",
                "        max_rank: int = 10000,\n",
                "        max_seq_len: int = 250\n",
                ") -> List[int]:\n",
                "    output = []\n",
                "    seq_len = 0\n",
                "    for word_rank in word_list:\n",
                "        if seq_len >= max_seq_len:\n",
                "            return output\n",
                "        elif word_rank is None:\n",
                "            continue\n",
                "        elif word_rank <= max_rank:\n",
                "            output.append(word_rank)\n",
                "            seq_len += 1\n",
                "    return output\n",
                "\n",
                "\n",
                "train_x = [filter_word_ranks(word_list) for word_list in train_x]\n",
                "test_x = [filter_word_ranks(word_list) for word_list in test_x]"
            ]
        },
        {
            "cell_type": "markdown",
            "id": "27bcbf3a",
            "metadata": {
                "pycharm": {
                    "name": "#%% md\n"
                }
            },
            "source": [
                "Now, each review is a list of numbers, each corresponding to a different word:"
            ]
        },
        {
            "cell_type": "code",
            "execution_count": 6,
            "id": "e42326c5",
            "metadata": {
                "execution": {
                    "iopub.execute_input": "2024-06-11T11:38:10.282950Z",
                    "iopub.status.busy": "2024-06-11T11:38:10.282760Z",
                    "iopub.status.idle": "2024-06-11T11:38:10.285739Z",
                    "shell.execute_reply": "2024-06-11T11:38:10.285138Z"
                },
                "pycharm": {
                    "name": "#%%\n"
                }
            },
            "outputs": [
                {
                    "name": "stdout",
                    "output_type": "stream",
                    "text": [
                        "[1, 14, 22, 16, 43, 530, 973, 1622, 1385, 65, 458, 4468, 66, 3941, 4, 173, 36, 256, 5, 25, 100, 43, 838, 112, 50, 670, 9, 35, 480, 284, 5, 150, 4, 172, 112, 167, 336, 385, 39, 4, 172, 4536, 1111, 17, 546, 38, 13, 447, 4, 192, 50, 16, 6, 147, 2025, 19, 14, 22, 4, 1920, 4613, 469, 4, 22, 71, 87, 12, 16, 43, 530, 38, 76, 15, 13, 1247, 4, 22, 17, 515, 17, 12, 16, 626, 18, 5, 62, 386, 12, 8, 316, 8, 106, 5, 4, 2223, 5244, 16, 480, 66, 3785, 33, 4, 130, 12, 16, 38, 619, 5, 25, 124, 51, 36, 135, 48, 25, 1415, 33, 6, 22, 12, 215, 28, 77, 52, 5, 14, 407, 16, 82, 8, 4, 107, 117, 5952, 15, 256, 4, 7, 3766, 5, 723, 36, 71, 43, 530, 476, 26, 400, 317, 46, 7, 4, 1029, 13, 104, 88, 4, 381, 15, 297, 98, 32, 2071, 56, 26, 141, 6, 194, 7486, 18, 4, 226, 22, 21, 134, 476, 26, 480, 5, 144, 30, 5535, 18, 51, 36, 28, 224, 92, 25, 104, 4, 226, 65, 16, 38, 1334, 88, 12, 16, 283, 5, 16, 4472, 113, 103, 32, 15, 16, 5345, 19, 178, 32]\n"
                    ]
                }
            ],
            "source": [
                "print(train_x[0])"
            ]
        },
        {
            "cell_type": "markdown",
            "id": "3596f57f",
            "metadata": {
                "pycharm": {
                    "name": "#%% md\n"
                }
            },
            "source": [
                "Even though RNNs can process sequences of arbitrary length, all sequences in the same\n",
                "batch must be of the same length, while sequences in different batches can have different\n",
                "length. In this case, however, we pad all sequences to the same length as this makes for\n",
                "much simpler code.\n",
                "PyTorch provides a function to do so for you called `pad_sequence` (read the documentation!).\n",
                "Hint: It might be good to set the argument `batch_first` to `True.\n",
                "Beforehand, we need to convert the data to tensors. Let's also define our device and push\n",
                "the newly created padded tensor to it."
            ]
        },
        {
            "cell_type": "code",
            "execution_count": 7,
            "id": "71949caa",
            "metadata": {
                "execution": {
                    "iopub.execute_input": "2024-06-11T11:38:10.287352Z",
                    "iopub.status.busy": "2024-06-11T11:38:10.287173Z",
                    "iopub.status.idle": "2024-06-11T11:38:10.311491Z",
                    "shell.execute_reply": "2024-06-11T11:38:10.310901Z"
                },
                "pycharm": {
                    "name": "#%%\n"
                }
            },
            "outputs": [],
            "source": [
                "device = (\n",
                "# TODO: Define the device you want to use.\n",
                "    torch.device('cuda')\n",
                ")\n",
                "\n",
                "train_x = [torch.tensor(word_list, dtype=torch.int) for word_list in train_x]\n",
                "test_x = [torch.tensor(word_list, dtype=torch.int) for word_list in test_x]\n",
                "\n",
                "train_x = (\n",
                "# TODO: Pad the sequences and push the result to your device.\n",
                "    pad_sequence(train_x, batch_first=True).to(device)\n",
                ")\n",
                "\n",
                "test_x = (\n",
                "# TODO: Pad the sequences and push the result to your device.\n",
                "    pad_sequence(test_x, batch_first=True).to(device)\n",
                ")\n",
                "\n",
                "train_y = torch.tensor(train_y, dtype=torch.float, device=device)\n",
                "test_y = torch.tensor(test_y, dtype=torch.float, device=device)"
            ]
        },
        {
            "cell_type": "code",
            "execution_count": 8,
            "id": "5a12ee15",
            "metadata": {
                "execution": {
                    "iopub.execute_input": "2024-06-11T11:38:10.313584Z",
                    "iopub.status.busy": "2024-06-11T11:38:10.313397Z",
                    "iopub.status.idle": "2024-06-11T11:38:10.318266Z",
                    "shell.execute_reply": "2024-06-11T11:38:10.317790Z"
                },
                "pycharm": {
                    "name": "#%%\n"
                }
            },
            "outputs": [
                {
                    "name": "stdout",
                    "output_type": "stream",
                    "text": [
                        "torch.Size([25000, 250])\n"
                    ]
                }
            ],
            "source": [
                "print(train_x.shape)"
            ]
        },
        {
            "cell_type": "code",
            "execution_count": 9,
            "id": "4233691c",
            "metadata": {},
            "outputs": [
                {
                    "name": "stdout",
                    "output_type": "stream",
                    "text": [
                        "torch.Size([25000, 250, 1])\n"
                    ]
                }
            ],
            "source": [
                "print(train_x.unsqueeze(-1).shape)"
            ]
        },
        {
            "cell_type": "markdown",
            "id": "72be81bf",
            "metadata": {
                "pycharm": {
                    "name": "#%% md\n"
                }
            },
            "source": [
                "The data is now an array of shape `(num_samples x seq_len)`.\n",
                "A PyTorch RNN with `batch_first=True` option expects the input to be of shape\n",
                "`(num_samples x seq_len x features)`. Although we have a univariate timeseries, we still\n",
                "need to add this additional last dimension."
            ]
        },
        {
            "cell_type": "code",
            "execution_count": 10,
            "id": "32491493",
            "metadata": {
                "execution": {
                    "iopub.execute_input": "2024-06-11T11:38:10.320294Z",
                    "iopub.status.busy": "2024-06-11T11:38:10.320087Z",
                    "iopub.status.idle": "2024-06-11T11:38:10.324700Z",
                    "shell.execute_reply": "2024-06-11T11:38:10.324205Z"
                },
                "pycharm": {
                    "name": "#%%\n"
                }
            },
            "outputs": [],
            "source": [
                "train_x = (\n",
                "# TODO: Add the feature dimension.\n",
                "    train_x.unsqueeze(-1)\n",
                ")\n",
                "\n",
                "test_x = (\n",
                "# TODO: Add the feature dimension.\n",
                "    test_x.unsqueeze(-1)\n",
                ")"
            ]
        },
        {
            "cell_type": "markdown",
            "id": "c03c6bd9",
            "metadata": {
                "pycharm": {
                    "name": "#%% md\n"
                }
            },
            "source": [
                "Finally let's create our `IMDBDataset` object:"
            ]
        },
        {
            "cell_type": "code",
            "execution_count": 11,
            "id": "2f1bfbfb",
            "metadata": {
                "execution": {
                    "iopub.execute_input": "2024-06-11T11:38:10.326705Z",
                    "iopub.status.busy": "2024-06-11T11:38:10.326495Z",
                    "iopub.status.idle": "2024-06-11T11:38:10.331231Z",
                    "shell.execute_reply": "2024-06-11T11:38:10.330763Z"
                },
                "pycharm": {
                    "name": "#%%\n"
                }
            },
            "outputs": [],
            "source": [
                "\n",
                "class IMDBDataset(Dataset):\n",
                "    def __init__(self, data: Tensor, labels: Tensor):\n",
                "        self.data = data\n",
                "        self.labels = labels\n",
                "\n",
                "    @property\n",
                "    def shape(self) -> Tuple:\n",
                "        return self.data.shape\n",
                "\n",
                "    def __len__(self) -> int:\n",
                "        return len(self.labels)\n",
                "\n",
                "    def __getitem__(self, idx: int) -> Tuple[Tensor, Tensor]:\n",
                "# TODO: Return the correct review and label for the index.\n",
                "        return self.data[idx], self.labels[idx]"
            ]
        },
        {
            "cell_type": "markdown",
            "id": "ef2ea6bc",
            "metadata": {
                "pycharm": {
                    "name": "#%% md\n"
                }
            },
            "source": [
                "Next, we define our sequential model. The first layer is an _Embedding_ layer that\n",
                "associates a vector of numbers to each word in the vocabulary. These numbers are updated\n",
                "during training just like all other weights in the network. Crucially, thanks to this\n",
                "embedding layer we do not have to one-hot-encode the reviews but we can use the word\n",
                "indices directly, making the process much more efficient.\n",
                "\n",
                "Note the parameter `padding_idx`: this indicates that zeros in the input sequences are\n",
                "used for padding (verify that this is the case!). Internally, this is used by the RNN to\n",
                "ignore padding tokens, preventing them from contributing to the gradients (read more in\n",
                "the user guide, [link](https://pytorch.org/docs/stable/generated/torch.nn.Embedding.html/)!)\n",
                "\n",
                "We also make use of a `nn.Module` container, where we will define our model. This\n",
                "gives us more flexibility in the flow of the network. Here we add the model blocks\n",
                "as class attributes and define a forward pass, which is enough for the autograd engine.\n",
                "\n",
                "The shapes and dimensions of tensors can now be a bit tricky. It helps if you print\n",
                "the resulting shape of each transformation to console and investigate what happened!"
            ]
        },
        {
            "cell_type": "code",
            "execution_count": 12,
            "id": "624f1518",
            "metadata": {
                "execution": {
                    "iopub.execute_input": "2024-06-11T11:38:10.333332Z",
                    "iopub.status.busy": "2024-06-11T11:38:10.333026Z",
                    "iopub.status.idle": "2024-06-11T11:38:10.337909Z",
                    "shell.execute_reply": "2024-06-11T11:38:10.337444Z"
                },
                "pycharm": {
                    "name": "#%%\n"
                }
            },
            "outputs": [],
            "source": [
                "class LSTMModel(nn.Module):\n",
                "    def __init__(self):\n",
                "        # A class that inherits from nn.Module needs to call the constructor from the\n",
                "        # parent class\n",
                "        super().__init__()\n",
                "\n",
                "        self.embedding = nn.Embedding(\n",
                "            num_embeddings=10001,\n",
                "            embedding_dim=64,\n",
                "            padding_idx=0\n",
                "        )\n",
                "        self.lstm = nn.LSTM(\n",
                "            input_size=64,\n",
                "            hidden_size=32,\n",
                "            num_layers=2,\n",
                "            batch_first=True,\n",
                "            dropout=0.5\n",
                "        )\n",
                "\n",
                "        self.fc = nn.Linear(in_features=32, out_features=1)\n",
                "        self.sigmoid = nn.Sigmoid()\n",
                "\n",
                "    def forward(self, x: Tensor) -> Tensor:\n",
                "    # TODO: Implement the forward pass.\n",
                "        # The output needs to be reshaped or otherwise we have a dimension too much\n",
                "        x = self.embedding(x).squeeze(2)\n",
                "\n",
                "        # The LSTM module gives a variety of outputs. \n",
                "        # Here 'hidden' contains the final hidden states \n",
                "        # from the last layer for every sample in the batch\n",
                "        _, (hidden, _) = self.lstm(x)\n",
                "\n",
                "        # We need to extract the last hidden state\n",
                "        y_score = self.fc(hidden[-1])\n",
                "        y_hat = self.sigmoid(y_score).squeeze(-1)\n",
                "        return y_hat"
            ]
        },
        {
            "cell_type": "code",
            "execution_count": 13,
            "id": "67307990",
            "metadata": {},
            "outputs": [],
            "source": [
                "# GRU Model\n",
                "\n",
                "class GRUModel(nn.Module):\n",
                "    def __init__(self):\n",
                "        # A class that inherits from nn.Module needs to call the constructor from the\n",
                "        # parent class\n",
                "        super().__init__()\n",
                "\n",
                "        self.embedding = nn.Embedding(\n",
                "            num_embeddings=10001,\n",
                "            embedding_dim=64,\n",
                "            padding_idx=0\n",
                "        )\n",
                "        self.gru = nn.GRU(\n",
                "            input_size=64,\n",
                "            hidden_size=32,\n",
                "            num_layers=2,\n",
                "            batch_first=True,\n",
                "            dropout=0.5\n",
                "        )\n",
                "\n",
                "        self.fc = nn.Linear(in_features=32, out_features=1)\n",
                "        self.sigmoid = nn.Sigmoid()\n",
                "\n",
                "    def forward(self, x: Tensor) -> Tensor:\n",
                "        # Implement the forward pass.\n",
                "        # The output needs to be reshaped or otherwise we have a dimension too much\n",
                "        x = self.embedding(x).squeeze(2)\n",
                "\n",
                "        # The GRU module gives a variety of outputs.\n",
                "        # Here 'hidden' contains the final hidden states \n",
                "        # from the last layer for every sample in the batch\n",
                "        _, hidden = self.gru(x)\n",
                "\n",
                "        # We need to extract the last hidden state\n",
                "        y_score = self.fc(hidden[-1])\n",
                "        y_hat = self.sigmoid(y_score).squeeze(-1)\n",
                "        return y_hat\n",
                "\n",
                "# Example usage:\n",
                "# model = GRUModel()\n",
                "# x = torch.randint(0, 10001, (32, 50))  # Example input: batch of 32 sequences, each of length 50\n",
                "# output = model(x)\n",
                "# print(output.shape)  # Should output: torch.Size([32])\n"
            ]
        },
        {
            "cell_type": "markdown",
            "id": "9ddb2f43",
            "metadata": {
                "pycharm": {
                    "name": "#%% md\n"
                }
            },
            "source": [
                "In the next step, we once again need our beloved training loop."
            ]
        },
        {
            "cell_type": "code",
            "execution_count": 14,
            "id": "4af1c84f",
            "metadata": {
                "execution": {
                    "iopub.execute_input": "2024-06-11T11:38:10.339938Z",
                    "iopub.status.busy": "2024-06-11T11:38:10.339716Z",
                    "iopub.status.idle": "2024-06-11T11:38:10.344836Z",
                    "shell.execute_reply": "2024-06-11T11:38:10.344379Z"
                },
                "pycharm": {
                    "name": "#%%\n"
                }
            },
            "outputs": [],
            "source": [
                "\n",
                "def train(\n",
                "        model: nn.Module,\n",
                "        loss: nn.Module,\n",
                "        optimizer: Optimizer,\n",
                "        train_dataset: Dataset,\n",
                "        test_dataset: Dataset,\n",
                "        epochs: int,\n",
                "        batch_size: int\n",
                ") -> Dict:\n",
                "    metrics: Dict = {\n",
                "        'train_loss': [],\n",
                "        'train_acc': [],\n",
                "        'test_loss': [],\n",
                "        'test_acc': [],\n",
                "    }\n",
                "\n",
                "    num_train_batches = ceil(len(train_dataset) / batch_size)\n",
                "    num_test_batches = ceil(len(test_dataset) / batch_size)\n",
                "\n",
                "    train_loader = DataLoader(train_dataset, batch_size, shuffle=True)\n",
                "    test_loader = DataLoader(test_dataset, batch_size)\n",
                "\n",
                "    for ep in range(1, epochs + 1):\n",
                "        total_loss = 0\n",
                "        num_correct = 0\n",
                "\n",
                "        ################################################################################\n",
                "        # TRAINING LOOP\n",
                "        ################################################################################\n",
                "\n",
                "        for batch_idx, (x, y) in enumerate(train_loader):\n",
                "            # TODO: Add forward pass + batch loss, backpropagation and apply gradients\n",
                "\n",
                "            y_hat = model(x)\n",
                "            batch_loss = loss(y_hat, y)\n",
                "            optimizer.zero_grad()\n",
                "\n",
                "            batch_loss.backward()\n",
                "            optimizer.step()\n",
                "\n",
                "\n",
                "            if batch_idx % 10 == 0:\n",
                "                print('TRAINING BATCH:\\t({:5} / {:5})\\tLOSS:\\t{:.3f}'\n",
                "                      .format(batch_idx, num_train_batches, float(batch_loss)),\n",
                "                      end='\\r')\n",
                "\n",
                "            total_loss += float(batch_loss)\n",
                "            num_correct += int(torch.sum(torch.where(y_hat > 0.5, 1, 0) == y))\n",
                "\n",
                "        ep_train_loss = total_loss / len(train_dataset)\n",
                "        ep_train_acc = num_correct / len(train_dataset)\n",
                "\n",
                "        total_loss = 0\n",
                "        num_correct = 0\n",
                "\n",
                "        ################################################################################\n",
                "        # TEST LOOP\n",
                "        ################################################################################\n",
                "\n",
                "        for batch_idx, (x, y) in enumerate(test_loader):\n",
                "# TODO: Do a forward pass and get the batch loss\n",
                "            y_hat = model(x)\n",
                "            batch_loss = loss(y_hat, y)\n",
                "            if batch_idx % 50 == 0:\n",
                "                print('TEST BATCH:\\t({:5} / {:5})\\tLOSS:\\t{:.3f}'\n",
                "                      .format(batch_idx, num_test_batches, float(batch_loss)), end='\\r')\n",
                "\n",
                "            total_loss += float(batch_loss)\n",
                "            num_correct += int(torch.sum(torch.where(y_hat > 0.5, 1, 0) == y))\n",
                "\n",
                "        ep_test_loss = total_loss / len(test_dataset)\n",
                "        ep_test_acc = num_correct / len(test_dataset)\n",
                "\n",
                "        metrics['train_loss'].append(ep_train_loss)\n",
                "        metrics['train_acc'].append(ep_train_acc)\n",
                "        metrics['test_loss'].append(ep_test_loss)\n",
                "        metrics['test_acc'].append(ep_test_acc)\n",
                "\n",
                "        print('EPOCH:\\t{:5}\\tTRAIN LOSS:\\t{:.3f}\\tTRAIN ACCURACY:\\t{:.3f}\\tTEST LOSS:\\t'\n",
                "              '{:.3f}\\tTEST ACCURACY:\\t{:.3f}'\n",
                "              .format(ep, ep_train_loss, ep_train_acc, ep_test_loss, ep_test_acc))\n",
                "    return metrics"
            ]
        },
        {
            "cell_type": "markdown",
            "id": "c60a1a2c",
            "metadata": {
                "pycharm": {
                    "name": "#%% md\n"
                }
            },
            "source": [
                "We declare model, optimizer, datasets, loss, epochs, batch size and then start training!"
            ]
        },
        {
            "cell_type": "code",
            "execution_count": 15,
            "id": "4d03e029",
            "metadata": {
                "execution": {
                    "iopub.execute_input": "2024-06-11T11:38:10.346795Z",
                    "iopub.status.busy": "2024-06-11T11:38:10.346626Z",
                    "iopub.status.idle": "2024-06-11T11:38:10.351533Z",
                    "shell.execute_reply": "2024-06-11T11:38:10.351083Z"
                },
                "pycharm": {
                    "name": "#%%\n"
                }
            },
            "outputs": [
                {
                    "name": "stdout",
                    "output_type": "stream",
                    "text": [
                        "EPOCH:\t    1\tTRAIN LOSS:\t0.029\tTRAIN ACCURACY:\t0.507\tTEST LOSS:\t0.029\tTEST ACCURACY:\t0.509\n",
                        "EPOCH:\t    2\tTRAIN LOSS:\t0.028\tTRAIN ACCURACY:\t0.566\tTEST LOSS:\t0.028\tTEST ACCURACY:\t0.566\n",
                        "EPOCH:\t    3\tTRAIN LOSS:\t0.021\tTRAIN ACCURACY:\t0.762\tTEST LOSS:\t0.018\tTEST ACCURACY:\t0.804\n",
                        "EPOCH:\t    4\tTRAIN LOSS:\t0.014\tTRAIN ACCURACY:\t0.862\tTEST LOSS:\t0.016\tTEST ACCURACY:\t0.842\n",
                        "EPOCH:\t    5\tTRAIN LOSS:\t0.011\tTRAIN ACCURACY:\t0.900\tTEST LOSS:\t0.016\tTEST ACCURACY:\t0.845\n",
                        "EPOCH:\t    6\tTRAIN LOSS:\t0.010\tTRAIN ACCURACY:\t0.913\tTEST LOSS:\t0.016\tTEST ACCURACY:\t0.844\n",
                        "EPOCH:\t    7\tTRAIN LOSS:\t0.009\tTRAIN ACCURACY:\t0.920\tTEST LOSS:\t0.016\tTEST ACCURACY:\t0.848\n",
                        "EPOCH:\t    8\tTRAIN LOSS:\t0.009\tTRAIN ACCURACY:\t0.921\tTEST LOSS:\t0.016\tTEST ACCURACY:\t0.838\n",
                        "EPOCH:\t    9\tTRAIN LOSS:\t0.008\tTRAIN ACCURACY:\t0.937\tTEST LOSS:\t0.018\tTEST ACCURACY:\t0.852\n",
                        "EPOCH:\t   10\tTRAIN LOSS:\t0.006\tTRAIN ACCURACY:\t0.951\tTEST LOSS:\t0.018\tTEST ACCURACY:\t0.855\n",
                        "EPOCH:\t   11\tTRAIN LOSS:\t0.006\tTRAIN ACCURACY:\t0.956\tTEST LOSS:\t0.018\tTEST ACCURACY:\t0.847\n",
                        "EPOCH:\t   12\tTRAIN LOSS:\t0.005\tTRAIN ACCURACY:\t0.961\tTEST LOSS:\t0.018\tTEST ACCURACY:\t0.848\n",
                        "EPOCH:\t   13\tTRAIN LOSS:\t0.005\tTRAIN ACCURACY:\t0.965\tTEST LOSS:\t0.021\tTEST ACCURACY:\t0.837\n",
                        "EPOCH:\t   14\tTRAIN LOSS:\t0.004\tTRAIN ACCURACY:\t0.966\tTEST LOSS:\t0.019\tTEST ACCURACY:\t0.848\n",
                        "EPOCH:\t   15\tTRAIN LOSS:\t0.004\tTRAIN ACCURACY:\t0.970\tTEST LOSS:\t0.020\tTEST ACCURACY:\t0.847\n"
                    ]
                }
            ],
            "source": [
                "epochs = 15\n",
                "batch_size = 24\n",
                "\n",
                "model = (\n",
                "# Initialize the model and push it to your device.\n",
                "    LSTMModel().to(device)\n",
                ")\n",
                "\n",
                "optimizer = (\n",
                "# TODO: Define an optimizer.\n",
                "    Adam(model.parameters(), lr=5e-3)\n",
                ")\n",
                "\n",
                "loss = (\n",
                "# TODO: Define the matching loss function.\n",
                "    nn.BCELoss()\n",
                ")\n",
                "\n",
                "train_dataset = (\n",
                "# TODO: Define the train dataset.\n",
                "    IMDBDataset(train_x, train_y)\n",
                ")\n",
                "\n",
                "test_dataset = (\n",
                "# TODO: Define the train dataset.\n",
                "    IMDBDataset(test_x, test_y)\n",
                ")\n",
                "\n",
                "metrics = train(model, loss, optimizer, train_dataset, test_dataset, epochs, batch_size)"
            ]
        },
        {
            "cell_type": "code",
            "execution_count": 50,
            "id": "42c24c11",
            "metadata": {
                "execution": {
                    "iopub.execute_input": "2024-06-11T11:38:10.353556Z",
                    "iopub.status.busy": "2024-06-11T11:38:10.353351Z",
                    "iopub.status.idle": "2024-06-11T11:38:10.358354Z",
                    "shell.execute_reply": "2024-06-11T11:38:10.357936Z"
                },
                "pycharm": {
                    "name": "#%%\n"
                }
            },
            "outputs": [
                {
                    "data": {
                        "application/pdf": "[encoded data removed]",
                        "image/png": "[encoded data removed]",
                        "text/plain": [
                            "<Figure size 700x200 with 2 Axes>"
                        ]
                    },
                    "metadata": {},
                    "output_type": "display_data"
                }
            ],
            "source": [
                "\n",
                "def get_training_progress_plot(\n",
                "        train_losses: List[float],\n",
                "        train_accs: List[float],\n",
                "        val_losses: List[float],\n",
                "        val_accs: List[float],\n",
                ") -> None:\n",
                "    fig, (ax1, ax2) = plt.subplots(1, 2, figsize=(7, 2))\n",
                "\n",
                "    ax1.set_title('Loss')\n",
                "    ax1.plot(train_losses, label='Train Loss')\n",
                "    ax1.plot(val_losses, label='Test Loss')\n",
                "    ax1.legend()\n",
                "\n",
                "    ax2.set_title('Accuracy')\n",
                "    ax2.plot(train_accs, label='Train Accuracy')\n",
                "    ax2.plot(val_accs, label='Test Accuracy')\n",
                "    ax2.set_ylim(0, 1)\n",
                "    ax2.legend()\n",
                "\n",
                "\n",
                "get_training_progress_plot(\n",
                "    metrics['train_loss'],\n",
                "    metrics['train_acc'],\n",
                "    metrics['test_loss'],\n",
                "    metrics['test_acc'],\n",
                ")"
            ]
        },
        {
            "cell_type": "code",
            "execution_count": 17,
            "id": "f424aeb5",
            "metadata": {},
            "outputs": [
                {
                    "data": {
                        "text/plain": [
                            "{'train_loss': [0.021645582535266876,\n",
                            "  0.01723880692780018,\n",
                            "  0.0083005106818676,\n",
                            "  0.004714474985748529,\n",
                            "  0.002660671517532319,\n",
                            "  0.0018094129994139076,\n",
                            "  0.0012906075394898654,\n",
                            "  0.0010332417533360423,\n",
                            "  0.0010955879517877474,\n",
                            "  0.000825189434858039],\n",
                            " 'train_acc': [0.51908,\n",
                            "  0.70916,\n",
                            "  0.89536,\n",
                            "  0.9464,\n",
                            "  0.97288,\n",
                            "  0.98284,\n",
                            "  0.98836,\n",
                            "  0.99068,\n",
                            "  0.9896,\n",
                            "  0.99264],\n",
                            " 'test_loss': [0.021626854689121247,\n",
                            "  0.011467045933604241,\n",
                            "  0.009396498838365078,\n",
                            "  0.012714626773893832,\n",
                            "  0.012344557337760926,\n",
                            "  0.01488331974260509,\n",
                            "  0.015279011545330286,\n",
                            "  0.017383271663989872,\n",
                            "  0.017560400378927588,\n",
                            "  0.018656937640160322],\n",
                            " 'test_acc': [0.51972,\n",
                            "  0.84368,\n",
                            "  0.8732,\n",
                            "  0.85608,\n",
                            "  0.8626,\n",
                            "  0.86372,\n",
                            "  0.8596,\n",
                            "  0.85776,\n",
                            "  0.86016,\n",
                            "  0.85828]}"
                        ]
                    },
                    "execution_count": 17,
                    "metadata": {},
                    "output_type": "execute_result"
                }
            ],
            "source": [
                "metrics"
            ]
        },
        {
            "cell_type": "markdown",
            "id": "13dda254",
            "metadata": {},
            "source": [
                "The model seems to be learning more easily than the simple baseline we created time ago,\n",
                "which had an accuracy of 85-88% on the test data.\n",
                "Let it train for longer and tune the\n",
                "architecture above to reach as high accuracy as possible! (note that evaluating on the\n",
                "same data that you used for early stopping is cheating). Can you detect other problems we discussed in the previous labs?\n",
                "\n",
                "\n",
                "## Exercise 2\n",
                "\n",
                "In this exercise, we are going to build a model that is able to sum two numbers, each given as a sequence\n",
                "of images of handwritten digits. The network will first use a convolutional encoder to transform each\n",
                "digit into a feature vector. These feature vectors will then be processed by a LSTM that will produce as\n",
                "output each digit of the sum.\n",
                "\n",
                "### Dataset\n",
                "We are now going to create a synthetic dataset using images from MNIST.\n",
                "\n",
                "First, we define some auxiliary functions.\n",
                "We need a function that converts an integer to a padded tensor."
            ]
        },
        {
            "cell_type": "code",
            "execution_count": 3,
            "id": "eb59dfc6",
            "metadata": {
                "execution": {
                    "iopub.execute_input": "2024-06-11T11:38:10.360020Z",
                    "iopub.status.busy": "2024-06-11T11:38:10.359856Z",
                    "iopub.status.idle": "2024-06-11T11:38:10.364058Z",
                    "shell.execute_reply": "2024-06-11T11:38:10.363642Z"
                },
                "pycharm": {
                    "name": "#%%\n"
                }
            },
            "outputs": [],
            "source": [
                "def convert_int_to_vector(num: int, length: int) -> Tensor:\n",
                "    \"\"\"\n",
                "    Take an integer and convert it to a vector.\n",
                "\n",
                "    Example: 123 with a length of 3 returns a tensor with [1, 2, 3].\n",
                "    5 with a length of 3 returns [0, 0, 5]\n",
                "    \"\"\"\n",
                "# TODO: Fill the function.\n",
                "\n",
                "    num_str = str(num)\n",
                "    num_str = num_str.zfill(length)\n",
                "    num_list = [int(d) for d in num_str]\n",
                "    return torch.tensor(num_list, dtype=torch.float)\n"
            ]
        },
        {
            "cell_type": "code",
            "execution_count": 4,
            "id": "aaf445fb",
            "metadata": {},
            "outputs": [
                {
                    "data": {
                        "text/plain": [
                            "tensor([0., 0., 0., 0., 0., 0., 0., 1., 2., 3.])"
                        ]
                    },
                    "execution_count": 4,
                    "metadata": {},
                    "output_type": "execute_result"
                }
            ],
            "source": [
                "convert_int_to_vector(123, 10)"
            ]
        },
        {
            "cell_type": "markdown",
            "id": "40ab4dd0",
            "metadata": {
                "pycharm": {
                    "name": "#%% md\n"
                }
            },
            "source": [
                "Then, we need a function that generates our training labels.\n",
                "The result of the function should be a dictionary that contains 3 tensors (first numbers, second numbers, sum of first + second) of shape `(num_samples, max_length)`.\n",
                "We need the summands for drawing matching images later, while the latter is our actual label."
            ]
        },
        {
            "cell_type": "code",
            "execution_count": 29,
            "id": "ce0534e5",
            "metadata": {
                "execution": {
                    "iopub.execute_input": "2024-06-11T11:38:10.365971Z",
                    "iopub.status.busy": "2024-06-11T11:38:10.365762Z",
                    "iopub.status.idle": "2024-06-11T11:38:10.370379Z",
                    "shell.execute_reply": "2024-06-11T11:38:10.369988Z"
                },
                "pycharm": {
                    "name": "#%%\n"
                }
            },
            "outputs": [],
            "source": [
                "\n",
                "def generate_labels(num_samples: int, max_length: int) -> Dict:\n",
                "    \"\"\"\n",
                "    Generate random numbers, whose sum does not exceed maximum length.\n",
                "\n",
                "    We will pad numbers that are less than max_length with zeros.\n",
                "    \"\"\"\n",
                "\n",
                "    num_1s = []\n",
                "    num_2s = []\n",
                "    sums = []\n",
                "\n",
                "    for _ in range(num_samples):\n",
                "\n",
                "        # Ensure the sum always has at most max_len digits\n",
                "        num_1 = torch.randint(10**max_length // 2 - 1, (1,))\n",
                "        num_2 = torch.randint(10**max_length // 2 - 1, (1,))\n",
                "\n",
                "        num_1s.append(convert_int_to_vector(int(num_1), max_length))\n",
                "        num_2s.append(convert_int_to_vector(int(num_2), max_length))\n",
                "\n",
                "# TODO: Add the two numbers and save the result as padded tensor\n",
                "        sums.append(convert_int_to_vector(int(num_1 + num_2), max_length))\n",
                "\n",
                "        \n",
                "\n",
                "    return {\n",
                "        'num_1': torch.stack(num_1s),\n",
                "        'num_2': torch.stack(num_2s),\n",
                "        'sum': torch.stack(sums)\n",
                "    }"
            ]
        },
        {
            "cell_type": "code",
            "execution_count": 17,
            "id": "053570e9",
            "metadata": {},
            "outputs": [
                {
                    "data": {
                        "text/plain": [
                            "{'num_1': tensor([[2., 3., 7., 9., 7.],\n",
                            "         [1., 5., 3., 9., 7.]]),\n",
                            " 'num_2': tensor([[4., 4., 8., 2., 1.],\n",
                            "         [4., 6., 5., 8., 5.]]),\n",
                            " 'sum': tensor([[6., 8., 6., 1., 8.],\n",
                            "         [6., 1., 9., 8., 2.]])}"
                        ]
                    },
                    "execution_count": 17,
                    "metadata": {},
                    "output_type": "execute_result"
                }
            ],
            "source": [
                "# Explanation of usage\n",
                "# labels = generate_labels(2, 5)\n",
                "# It generates 2 samples with a maximum length of 5 digits.\n",
                "# Then it sums the two numbers and pads the result to the maximum length, which is 5 in this case.\n",
                "generate_labels(2, 5)"
            ]
        },
        {
            "cell_type": "markdown",
            "id": "ab207d5f",
            "metadata": {
                "pycharm": {
                    "name": "#%% md\n"
                }
            },
            "source": [
                "For our training, we need our `Dataset` object. Here, we will also draw the images to create our input tensors. One image is of shape `(1 x 28 x 28)`.\n",
                "Thus, a constructed input tensor is of shape `(max_length x 1 x 28 x 28)`"
            ]
        },
        {
            "cell_type": "code",
            "execution_count": 21,
            "id": "2180c8c9",
            "metadata": {
                "execution": {
                    "iopub.execute_input": "2024-06-11T11:38:10.372383Z",
                    "iopub.status.busy": "2024-06-11T11:38:10.371980Z",
                    "iopub.status.idle": "2024-06-11T11:38:10.376836Z",
                    "shell.execute_reply": "2024-06-11T11:38:10.376416Z"
                },
                "pycharm": {
                    "name": "#%%\n"
                }
            },
            "outputs": [],
            "source": [
                "\n",
                "class NumberMNIST(Dataset):\n",
                "    def __init__(\n",
                "            self,\n",
                "            max_length: int = 3,\n",
                "            train: bool = True\n",
                "    ) -> None:\n",
                "        mnist_base = MNIST('.data', train=train, download=True)\n",
                "        mnist_base.data = mnist_base.data.float() / 255 # images are normalized by dividing each pixel value by 255. \n",
                "        # This normalization step scales the pixel values to a range of 0 to 1\n",
                "\n",
                "        self.max_length = max_length\n",
                "        # We choose 20k samples for training and 5k for testing.\n",
                "        self.num_samples = 20000 if train else 5000\n",
                "        self.digit_idxs = NumberMNIST._generate_digit_groups(mnist_base.targets)\n",
                "\n",
                "        self.labels = generate_labels(self.num_samples, self.max_length)\n",
                "\n",
                "        self.num_1s = torch.zeros(self.num_samples, self.max_length, 1, 28, 28)\n",
                "        self.num_2s = torch.zeros(self.num_samples, self.max_length, 1, 28, 28)\n",
                "\n",
                "        for i in range(self.num_samples):\n",
                "\n",
                "            imgs = []\n",
                "            for num_1_digit in self.labels['num_1'][i]:\n",
                "                # Get corresponding index group\n",
                "                digit_idxs = self.digit_idxs[int(num_1_digit)]\n",
                "                # Sample a random index from the digit class\n",
                "                rand_idx = digit_idxs[torch.randint(len(digit_idxs), (1, ))]\n",
                "                # Obtain image for the sampled index\n",
                "                imgs.append(mnist_base.data[rand_idx])\n",
                "            # Add images to main tensor.\n",
                "            self.num_1s[i] = torch.stack(imgs)\n",
                "\n",
                "# TODO: Repeat the procedure for the second number\n",
                "            imgs = []\n",
                "            for num_2_digit in self.labels['num_2'][i]:\n",
                "                digit_idxs = self.digit_idxs[int(num_2_digit)]\n",
                "                rand_idx = digit_idxs[torch.randint(len(digit_idxs), (1, ))]\n",
                "                imgs.append(mnist_base.data[rand_idx])\n",
                "            self.num_2s[i] = torch.stack(imgs)\n",
                "\n",
                "    @staticmethod\n",
                "    def _generate_digit_groups(targets: Tensor) -> Dict:\n",
                "        \"\"\"Separates the dataset in groups based on the label. Returns a Dict with indices.\"\"\"\n",
                "        res = {}\n",
                "        for i in range(10):\n",
                "            idxs = (targets == i).nonzero().squeeze(-1)\n",
                "            res.update({i: idxs})\n",
                "        return res\n",
                "\n",
                "    @property\n",
                "    def shape(self) -> Tuple:\n",
                "        return self.data.shape\n",
                "\n",
                "    def __len__(self) -> int:\n",
                "        return len(self.num_1s)\n",
                "\n",
                "    def __getitem__(self, idx: int) -> Dict:\n",
                "# TODO: Given an index return a dictionary with images\n",
                "# for the first and second digit (Keys: 'num_1' and 'num_2') & sum as label (Key: 'label').\n",
                "        return {\n",
                "            'num_1': self.num_1s[idx],\n",
                "            'num_2': self.num_2s[idx],\n",
                "            'label': self.labels['sum'][idx]\n",
                "        }"
            ]
        },
        {
            "cell_type": "markdown",
            "id": "f6c62d89",
            "metadata": {
                "pycharm": {
                    "name": "#%% md\n"
                }
            },
            "source": [
                "Let's initialize our datasets and see if everything works as expected."
            ]
        },
        {
            "cell_type": "code",
            "execution_count": 22,
            "id": "db00dd26",
            "metadata": {
                "execution": {
                    "iopub.execute_input": "2024-06-11T11:38:10.378900Z",
                    "iopub.status.busy": "2024-06-11T11:38:10.378711Z",
                    "iopub.status.idle": "2024-06-11T11:38:10.382999Z",
                    "shell.execute_reply": "2024-06-11T11:38:10.382499Z"
                },
                "pycharm": {
                    "name": "#%%\n"
                }
            },
            "outputs": [],
            "source": [
                "train_dataset = NumberMNIST(train=True, max_length=3)\n",
                "test_dataset = NumberMNIST(train=False, max_length=3)"
            ]
        },
        {
            "cell_type": "code",
            "execution_count": 23,
            "id": "35811545",
            "metadata": {
                "execution": {
                    "iopub.execute_input": "2024-06-11T11:38:10.384960Z",
                    "iopub.status.busy": "2024-06-11T11:38:10.384821Z",
                    "iopub.status.idle": "2024-06-11T11:38:10.389330Z",
                    "shell.execute_reply": "2024-06-11T11:38:10.388946Z"
                },
                "pycharm": {
                    "name": "#%%\n"
                }
            },
            "outputs": [
                {
                    "name": "stdout",
                    "output_type": "stream",
                    "text": [
                        "Sum: [6, 5, 7]\n"
                    ]
                },
                {
                    "data": {
                        "application/pdf": "[encoded data removed]",
                        "image/png": "[encoded data removed]",
                        "text/plain": [
                            "<Figure size 640x480 with 1 Axes>"
                        ]
                    },
                    "metadata": {},
                    "output_type": "display_data"
                }
            ],
            "source": [
                "def plot_digits(num_1: Tensor, num_2: Tensor) -> None:\n",
                "    grid_img = make_grid(torch.cat([num_1, num_2]), nrow=3)\n",
                "    plt.imshow(grid_img.permute(1, 2, 0))\n",
                "    plt.show()\n",
                "\n",
                "idx = int(torch.randint(len(test_dataset), (1,)))\n",
                "sample = test_dataset[idx]\n",
                "\n",
                "print('Sum:', [int(i) for i in sample['label']])\n",
                "plot_digits(sample['num_1'], sample['num_2'])"
            ]
        },
        {
            "cell_type": "code",
            "execution_count": 24,
            "id": "f1a70d72",
            "metadata": {},
            "outputs": [
                {
                    "name": "stdout",
                    "output_type": "stream",
                    "text": [
                        "Sum: [4, 7, 6]\n"
                    ]
                },
                {
                    "data": {
                        "application/pdf": "[encoded data removed]",
                        "image/png": "[encoded data removed]",
                        "text/plain": [
                            "<Figure size 640x480 with 1 Axes>"
                        ]
                    },
                    "metadata": {},
                    "output_type": "display_data"
                }
            ],
            "source": [
                "idx = int(torch.randint(len(test_dataset), (1,)))\n",
                "sample = test_dataset[idx]\n",
                "\n",
                "print('Sum:', [int(i) for i in sample['label']])\n",
                "plot_digits(sample['num_1'], sample['num_2'])"
            ]
        },
        {
            "cell_type": "markdown",
            "id": "ad0b4e07",
            "metadata": {
                "pycharm": {
                    "name": "#%% md\n"
                }
            },
            "source": [
                "### The model\n",
                "\n",
                "Let's now see how to create the model.\n",
                "\n",
                "This network will have two inputs, one for each number. The numbers have three digits, each of which is an image of size 1 x 28 x 28."
            ]
        },
        {
            "cell_type": "code",
            "execution_count": 25,
            "id": "1e5aa489",
            "metadata": {
                "execution": {
                    "iopub.execute_input": "2024-06-11T11:38:10.391516Z",
                    "iopub.status.busy": "2024-06-11T11:38:10.391288Z",
                    "iopub.status.idle": "2024-06-11T11:38:10.396686Z",
                    "shell.execute_reply": "2024-06-11T11:38:10.396310Z"
                },
                "pycharm": {
                    "name": "#%%\n"
                }
            },
            "outputs": [],
            "source": [
                "class AdditionModel(nn.Module):\n",
                "    def __init__(self):\n",
                "        super().__init__()\n",
                "        self.latent_dim = 128\n",
                "\n",
                "        # The network will use the same convolutional encoder for all digits in both numbers.\n",
                "        # Let us first define this encoder as its own submodule, a normal CNN:\n",
                "\n",
                "        self.digit_encoder = nn.Sequential(\n",
                "# TODO: Add some convolutional and pooling layers as you see fit.\n",
                "# Note: We will encode each digit on its own. Expect an input one single grayscale mnist image.\n",
                "# The output should be a latent vector of size latent_dim.\n",
                "            nn.Conv2d(in_channels=1, out_channels=32, kernel_size=(3,3)),\n",
                "            nn.ReLU(),\n",
                "            nn.MaxPool2d((2,2)),\n",
                "            nn.Conv2d(in_channels=32, out_channels=64, kernel_size=(3,3)),\n",
                "            nn.ReLU(),\n",
                "            nn.MaxPool2d((2, 2)),\n",
                "            nn.Conv2d(in_channels=64, out_channels=self.latent_dim, kernel_size=(3,3)),\n",
                "            nn.ReLU(),\n",
                "            nn.MaxPool2d((2, 2)),\n",
                "            nn.AdaptiveAvgPool2d((1, 1)) # This will make sure that the output has the correct shape\n",
                "        )\n",
                "\n",
                "        # Our second model in this szenario will be a bidrectional LSTM.\n",
                "        # The input for this model are the concatenated latent vectors that we obtained from\n",
                "        # the digit encoder.\n",
                "        # For flexibility, we do not use a sequential but have the final layers as single attributes in this module class.\n",
                "\n",
                "        # Let's also apply a bit of dropout to prevent overfitting too much.\n",
                "        self.dropout = (\n",
                "# TODO: Add a dropout layer.\n",
                "                nn.Dropout(0.3)\n",
                "\n",
                "        )\n",
                "\n",
                "        self.lstm = (\n",
                "# TODO: Add a bidirectional LSTM.\n",
                "# LSTM works for each digit place \n",
                "                nn.LSTM(\n",
                "                    input_size=self.latent_dim * 2, # We have two digits, each encoded to a latent vector of size latent_dim\n",
                "                    hidden_size=64,\n",
                "                    batch_first=True,\n",
                "                    bidirectional=True\n",
                "                )\n",
                "        )\n",
                "\n",
                "        # Finally, we add a fully connected layer as output.\n",
                "        # Note that the input size of the linear layer should be twice the hidden size\n",
                "        # of the LSTM (bidirectional).\n",
                "        self.fc = (\n",
                "# TODO: Add an output linear layer.\n",
                "                nn.Linear(128, 10)\n",
                "        )\n",
                "\n",
                "\n",
                "    def forward(self, num_1: Tensor, num_2: Tensor) -> Tensor:\n",
                "        # Note: num_1 and num_2 are of shape (batch_size x max_length x 1 x 28 x 28)\n",
                "        batch_size = num_1.shape[0]\n",
                "        max_length = num_1.shape[1]\n",
                "\n",
                "        enc_1 = torch.zeros(batch_size, max_length, self.latent_dim, device=num_1.device)\n",
                "        enc_2 = torch.zeros(batch_size, max_length, self.latent_dim, device=num_1.device)\n",
                "# TODO: Encode each digit of the batched tensors with the encoder.\n",
                "# TODO: Fill enc_1 and enc_2 with the results\n",
                "        for i in range(max_length):\n",
                "                enc_1[:, i] = self.digit_encoder(num_1[:, i]).view(batch_size, -1)\n",
                "                enc_2[:, i] = self.digit_encoder(num_2[:, i]).view(batch_size, -1)\n",
                "\n",
                "        # After we apply the CNN to both numbers, we need to \"merge\" the two sequence of vectors.\n",
                "        # There are several options here, here we choose to concatenate the two tensor in each time-step\n",
                "        # to produce a single tensor of shape (batch_size, max_len, latent_dim * 2).\n",
                "        enc_total = (\n",
                "# TODO: Concat enc_1 and enc_2 as described above\n",
                "                torch.cat([enc_1, enc_2], dim=2)\n",
                "        )\n",
                "\n",
                "        # Now, we pass the total encoded tensor (CNN Output) through the dropout, lstm and output layer.\n",
                "        enc_total = self.dropout(enc_total)\n",
                "\n",
                "        # We obtain all hidden states from each timestep resulting in a tensor of shape (batch_size, max_length, lstm_hidden_dim)\n",
                "        out, _ = self.lstm(enc_total)\n",
                "        # Due to broadcasting, we can feed this tensor directly to the fully connected layer.\n",
                "        out = self.fc(out)\n",
                "        # Our loss function does accept a tensor of shape (batch_size, num_classes, max_length)\n",
                "        # So we reshape before returning the network output.\n",
                "        return out.permute(0, 2, 1)"
            ]
        },
        {
            "cell_type": "markdown",
            "id": "d1458b96",
            "metadata": {
                "pycharm": {
                    "name": "#%% md\n"
                }
            },
            "source": [
                "We can mainly reuse the training loop from the exercise before, but we need to change the computation of the accuracy and dataloading.\n",
                "Let's initialize our modules and start training!"
            ]
        },
        {
            "cell_type": "code",
            "execution_count": 26,
            "id": "e1a139e1",
            "metadata": {
                "execution": {
                    "iopub.execute_input": "2024-06-11T11:38:10.398849Z",
                    "iopub.status.busy": "2024-06-11T11:38:10.398674Z",
                    "iopub.status.idle": "2024-06-11T11:38:10.403993Z",
                    "shell.execute_reply": "2024-06-11T11:38:10.403583Z"
                },
                "pycharm": {
                    "name": "#%%\n"
                }
            },
            "outputs": [],
            "source": [
                "device = (\n",
                "'cuda' if torch.cuda.is_available() else 'cpu'\n",
                ")\n",
                "\n",
                "def train(\n",
                "        model: AdditionModel,\n",
                "        loss: nn.Module,\n",
                "        optimizer: Optimizer,\n",
                "        train_dataset: Dataset,\n",
                "        test_dataset: Dataset,\n",
                "        epochs: int,\n",
                "        batch_size: int\n",
                ") -> Dict:\n",
                "    metrics: Dict = {\n",
                "        'train_loss': [],\n",
                "        'train_acc': [],\n",
                "        'test_loss': [],\n",
                "        'test_acc': [],\n",
                "    }\n",
                "\n",
                "    num_train_batches = ceil(len(train_dataset) / batch_size)\n",
                "    num_test_batches = ceil(len(test_dataset) / batch_size)\n",
                "\n",
                "    train_loader = DataLoader(train_dataset, batch_size, shuffle=True)\n",
                "    test_loader = DataLoader(test_dataset, batch_size)\n",
                "\n",
                "    for ep in range(1, epochs + 1):\n",
                "        total_loss = 0\n",
                "        num_correct = 0\n",
                "\n",
                "        ################################################################################\n",
                "        # TRAINING LOOP\n",
                "        ################################################################################\n",
                "\n",
                "        for batch_idx, sample in enumerate(train_loader):\n",
                "\n",
                "            num_1 = sample['num_1'].to(device)\n",
                "            num_2 = sample['num_2'].to(device)\n",
                "            y = sample['label'].to(device)\n",
                "\n",
                "\n",
                "# TODO: Add forward pass + batch loss, backpropagation and apply gradients\n",
                "            y_hat = model(num_1, num_2)\n",
                "            batch_loss = loss(y_hat, y)\n",
                "            optimizer.zero_grad()\n",
                "\n",
                "            batch_loss.backward()\n",
                "            optimizer.step()\n",
                "\n",
                "            if batch_idx % 10 == 0:\n",
                "                print('TRAINING BATCH:\\t({:5} / {:5})\\tLOSS:\\t{:.3f}'\n",
                "                      .format(batch_idx, num_train_batches, float(batch_loss)),\n",
                "                      end='\\r')\n",
                "\n",
                "            total_loss += float(batch_loss)\n",
                "\n",
                "            num_correct += int(torch.sum(torch.all(torch.eq(torch.argmax(y_hat, dim=1), y), dim=1)))\n",
                "\n",
                "        ep_train_loss = total_loss / len(train_dataset)\n",
                "        ep_train_acc = num_correct / len(train_dataset)\n",
                "\n",
                "        total_loss = 0\n",
                "        num_correct = 0\n",
                "\n",
                "        ################################################################################\n",
                "        # TEST LOOP\n",
                "        ################################################################################\n",
                "\n",
                "        for batch_idx, sample in enumerate(test_loader):\n",
                "            num_1 = sample['num_1'].to(device)\n",
                "            num_2 = sample['num_2'].to(device)\n",
                "            y = sample['label'].to(device)\n",
                "\n",
                "            with torch.no_grad():\n",
                "# TODO: Do a forward pass and get the batch loss\n",
                "                y_hat = model(num_1, num_2)\n",
                "                batch_loss = loss(y_hat, y)\n",
                "\n",
                "            if batch_idx % 50 == 0:\n",
                "                print('TEST BATCH:\\t({:5} / {:5})\\tLOSS:\\t{:.3f}'\n",
                "                      .format(batch_idx, num_test_batches, float(batch_loss)), end='\\r')\n",
                "\n",
                "            total_loss += float(batch_loss)\n",
                "\n",
                "            num_correct += int(torch.sum(torch.all(torch.eq(torch.argmax(y_hat, dim=1), y), dim=1)))\n",
                "\n",
                "        ep_test_loss = total_loss / len(test_dataset)\n",
                "        ep_test_acc = num_correct / len(test_dataset)\n",
                "\n",
                "        metrics['train_loss'].append(ep_train_loss)\n",
                "        metrics['train_acc'].append(ep_train_acc)\n",
                "        metrics['test_loss'].append(ep_test_loss)\n",
                "        metrics['test_acc'].append(ep_test_acc)\n",
                "\n",
                "        print('EPOCH:\\t{:5}\\tTRAIN LOSS:\\t{:.3f}\\tTRAIN ACCURACY:\\t{:.3f}\\tTEST LOSS:\\t'\n",
                "              '{:.3f}\\tTEST ACCURACY:\\t{:.3f}'\n",
                "              .format(ep, ep_train_loss, ep_train_acc, ep_test_loss, ep_test_acc))\n",
                "    return metrics"
            ]
        },
        {
            "cell_type": "markdown",
            "id": "fa0ac8d3",
            "metadata": {
                "pycharm": {
                    "name": "#%% md\n"
                }
            },
            "source": [
                "Let's initialize our modules and start training!\n"
            ]
        },
        {
            "cell_type": "code",
            "execution_count": 28,
            "id": "fd793b02",
            "metadata": {
                "execution": {
                    "iopub.execute_input": "2024-06-11T11:38:10.406184Z",
                    "iopub.status.busy": "2024-06-11T11:38:10.406017Z",
                    "iopub.status.idle": "2024-06-11T11:38:10.410531Z",
                    "shell.execute_reply": "2024-06-11T11:38:10.410138Z"
                },
                "pycharm": {
                    "name": "#%%\n"
                }
            },
            "outputs": [
                {
                    "ename": "RuntimeError",
                    "evalue": "expected scalar type Long but found Float",
                    "output_type": "error",
                    "traceback": [
                        "\u001b[1;31m---------------------------------------------------------------------------\u001b[0m",
                        "\u001b[1;31mRuntimeError\u001b[0m                              Traceback (most recent call last)",
                        "Cell \u001b[1;32mIn[28], line 19\u001b[0m\n\u001b[0;32m      9\u001b[0m optimizer \u001b[38;5;241m=\u001b[39m (\n\u001b[0;32m     10\u001b[0m \u001b[38;5;66;03m# TODO: Define an optimizer.\u001b[39;00m\n\u001b[0;32m     11\u001b[0m     Adam(model\u001b[38;5;241m.\u001b[39mparameters()) \u001b[38;5;66;03m# lr=5e-3\u001b[39;00m\n\u001b[0;32m     12\u001b[0m )\n\u001b[0;32m     14\u001b[0m loss \u001b[38;5;241m=\u001b[39m (\n\u001b[0;32m     15\u001b[0m \u001b[38;5;66;03m# TODO: Define the matching loss function.\u001b[39;00m\n\u001b[0;32m     16\u001b[0m     nn\u001b[38;5;241m.\u001b[39mCrossEntropyLoss()\n\u001b[0;32m     17\u001b[0m )\n\u001b[1;32m---> 19\u001b[0m metrics \u001b[38;5;241m=\u001b[39m \u001b[43mtrain\u001b[49m\u001b[43m(\u001b[49m\u001b[43mmodel\u001b[49m\u001b[43m,\u001b[49m\u001b[43m \u001b[49m\u001b[43mloss\u001b[49m\u001b[43m,\u001b[49m\u001b[43m \u001b[49m\u001b[43moptimizer\u001b[49m\u001b[43m,\u001b[49m\u001b[43m \u001b[49m\u001b[43mtrain_dataset\u001b[49m\u001b[43m,\u001b[49m\u001b[43m \u001b[49m\u001b[43mtest_dataset\u001b[49m\u001b[43m,\u001b[49m\u001b[43m \u001b[49m\u001b[43mepochs\u001b[49m\u001b[43m,\u001b[49m\u001b[43m \u001b[49m\u001b[43mbatch_size\u001b[49m\u001b[43m)\u001b[49m\n",
                        "Cell \u001b[1;32mIn[26], line 44\u001b[0m, in \u001b[0;36mtrain\u001b[1;34m(model, loss, optimizer, train_dataset, test_dataset, epochs, batch_size)\u001b[0m\n\u001b[0;32m     42\u001b[0m \u001b[38;5;66;03m# TODO: Add forward pass + batch loss, backpropagation and apply gradients\u001b[39;00m\n\u001b[0;32m     43\u001b[0m             y_hat \u001b[38;5;241m=\u001b[39m model(num_1, num_2)\n\u001b[1;32m---> 44\u001b[0m             batch_loss \u001b[38;5;241m=\u001b[39m \u001b[43mloss\u001b[49m\u001b[43m(\u001b[49m\u001b[43my_hat\u001b[49m\u001b[43m,\u001b[49m\u001b[43m \u001b[49m\u001b[43my\u001b[49m\u001b[43m)\u001b[49m\n\u001b[0;32m     45\u001b[0m             optimizer\u001b[38;5;241m.\u001b[39mzero_grad()\n\u001b[0;32m     47\u001b[0m             batch_loss\u001b[38;5;241m.\u001b[39mbackward()\n",
                        "File \u001b[1;32mc:\\Users\\esual\\Locals\\local_repos\\venvLmu\\Lib\\site-packages\\torch\\nn\\modules\\module.py:1532\u001b[0m, in \u001b[0;36mModule._wrapped_call_impl\u001b[1;34m(self, *args, **kwargs)\u001b[0m\n\u001b[0;32m   1530\u001b[0m     \u001b[38;5;28;01mreturn\u001b[39;00m \u001b[38;5;28mself\u001b[39m\u001b[38;5;241m.\u001b[39m_compiled_call_impl(\u001b[38;5;241m*\u001b[39margs, \u001b[38;5;241m*\u001b[39m\u001b[38;5;241m*\u001b[39mkwargs)  \u001b[38;5;66;03m# type: ignore[misc]\u001b[39;00m\n\u001b[0;32m   1531\u001b[0m \u001b[38;5;28;01melse\u001b[39;00m:\n\u001b[1;32m-> 1532\u001b[0m     \u001b[38;5;28;01mreturn\u001b[39;00m \u001b[38;5;28;43mself\u001b[39;49m\u001b[38;5;241;43m.\u001b[39;49m\u001b[43m_call_impl\u001b[49m\u001b[43m(\u001b[49m\u001b[38;5;241;43m*\u001b[39;49m\u001b[43margs\u001b[49m\u001b[43m,\u001b[49m\u001b[43m \u001b[49m\u001b[38;5;241;43m*\u001b[39;49m\u001b[38;5;241;43m*\u001b[39;49m\u001b[43mkwargs\u001b[49m\u001b[43m)\u001b[49m\n",
                        "File \u001b[1;32mc:\\Users\\esual\\Locals\\local_repos\\venvLmu\\Lib\\site-packages\\torch\\nn\\modules\\module.py:1541\u001b[0m, in \u001b[0;36mModule._call_impl\u001b[1;34m(self, *args, **kwargs)\u001b[0m\n\u001b[0;32m   1536\u001b[0m \u001b[38;5;66;03m# If we don't have any hooks, we want to skip the rest of the logic in\u001b[39;00m\n\u001b[0;32m   1537\u001b[0m \u001b[38;5;66;03m# this function, and just call forward.\u001b[39;00m\n\u001b[0;32m   1538\u001b[0m \u001b[38;5;28;01mif\u001b[39;00m \u001b[38;5;129;01mnot\u001b[39;00m (\u001b[38;5;28mself\u001b[39m\u001b[38;5;241m.\u001b[39m_backward_hooks \u001b[38;5;129;01mor\u001b[39;00m \u001b[38;5;28mself\u001b[39m\u001b[38;5;241m.\u001b[39m_backward_pre_hooks \u001b[38;5;129;01mor\u001b[39;00m \u001b[38;5;28mself\u001b[39m\u001b[38;5;241m.\u001b[39m_forward_hooks \u001b[38;5;129;01mor\u001b[39;00m \u001b[38;5;28mself\u001b[39m\u001b[38;5;241m.\u001b[39m_forward_pre_hooks\n\u001b[0;32m   1539\u001b[0m         \u001b[38;5;129;01mor\u001b[39;00m _global_backward_pre_hooks \u001b[38;5;129;01mor\u001b[39;00m _global_backward_hooks\n\u001b[0;32m   1540\u001b[0m         \u001b[38;5;129;01mor\u001b[39;00m _global_forward_hooks \u001b[38;5;129;01mor\u001b[39;00m _global_forward_pre_hooks):\n\u001b[1;32m-> 1541\u001b[0m     \u001b[38;5;28;01mreturn\u001b[39;00m \u001b[43mforward_call\u001b[49m\u001b[43m(\u001b[49m\u001b[38;5;241;43m*\u001b[39;49m\u001b[43margs\u001b[49m\u001b[43m,\u001b[49m\u001b[43m \u001b[49m\u001b[38;5;241;43m*\u001b[39;49m\u001b[38;5;241;43m*\u001b[39;49m\u001b[43mkwargs\u001b[49m\u001b[43m)\u001b[49m\n\u001b[0;32m   1543\u001b[0m \u001b[38;5;28;01mtry\u001b[39;00m:\n\u001b[0;32m   1544\u001b[0m     result \u001b[38;5;241m=\u001b[39m \u001b[38;5;28;01mNone\u001b[39;00m\n",
                        "File \u001b[1;32mc:\\Users\\esual\\Locals\\local_repos\\venvLmu\\Lib\\site-packages\\torch\\nn\\modules\\loss.py:1185\u001b[0m, in \u001b[0;36mCrossEntropyLoss.forward\u001b[1;34m(self, input, target)\u001b[0m\n\u001b[0;32m   1184\u001b[0m \u001b[38;5;28;01mdef\u001b[39;00m \u001b[38;5;21mforward\u001b[39m(\u001b[38;5;28mself\u001b[39m, \u001b[38;5;28minput\u001b[39m: Tensor, target: Tensor) \u001b[38;5;241m-\u001b[39m\u001b[38;5;241m>\u001b[39m Tensor:\n\u001b[1;32m-> 1185\u001b[0m     \u001b[38;5;28;01mreturn\u001b[39;00m \u001b[43mF\u001b[49m\u001b[38;5;241;43m.\u001b[39;49m\u001b[43mcross_entropy\u001b[49m\u001b[43m(\u001b[49m\u001b[38;5;28;43minput\u001b[39;49m\u001b[43m,\u001b[49m\u001b[43m \u001b[49m\u001b[43mtarget\u001b[49m\u001b[43m,\u001b[49m\u001b[43m \u001b[49m\u001b[43mweight\u001b[49m\u001b[38;5;241;43m=\u001b[39;49m\u001b[38;5;28;43mself\u001b[39;49m\u001b[38;5;241;43m.\u001b[39;49m\u001b[43mweight\u001b[49m\u001b[43m,\u001b[49m\n\u001b[0;32m   1186\u001b[0m \u001b[43m                           \u001b[49m\u001b[43mignore_index\u001b[49m\u001b[38;5;241;43m=\u001b[39;49m\u001b[38;5;28;43mself\u001b[39;49m\u001b[38;5;241;43m.\u001b[39;49m\u001b[43mignore_index\u001b[49m\u001b[43m,\u001b[49m\u001b[43m \u001b[49m\u001b[43mreduction\u001b[49m\u001b[38;5;241;43m=\u001b[39;49m\u001b[38;5;28;43mself\u001b[39;49m\u001b[38;5;241;43m.\u001b[39;49m\u001b[43mreduction\u001b[49m\u001b[43m,\u001b[49m\n\u001b[0;32m   1187\u001b[0m \u001b[43m                           \u001b[49m\u001b[43mlabel_smoothing\u001b[49m\u001b[38;5;241;43m=\u001b[39;49m\u001b[38;5;28;43mself\u001b[39;49m\u001b[38;5;241;43m.\u001b[39;49m\u001b[43mlabel_smoothing\u001b[49m\u001b[43m)\u001b[49m\n",
                        "File \u001b[1;32mc:\\Users\\esual\\Locals\\local_repos\\venvLmu\\Lib\\site-packages\\torch\\nn\\functional.py:3086\u001b[0m, in \u001b[0;36mcross_entropy\u001b[1;34m(input, target, weight, size_average, ignore_index, reduce, reduction, label_smoothing)\u001b[0m\n\u001b[0;32m   3084\u001b[0m \u001b[38;5;28;01mif\u001b[39;00m size_average \u001b[38;5;129;01mis\u001b[39;00m \u001b[38;5;129;01mnot\u001b[39;00m \u001b[38;5;28;01mNone\u001b[39;00m \u001b[38;5;129;01mor\u001b[39;00m reduce \u001b[38;5;129;01mis\u001b[39;00m \u001b[38;5;129;01mnot\u001b[39;00m \u001b[38;5;28;01mNone\u001b[39;00m:\n\u001b[0;32m   3085\u001b[0m     reduction \u001b[38;5;241m=\u001b[39m _Reduction\u001b[38;5;241m.\u001b[39mlegacy_get_string(size_average, reduce)\n\u001b[1;32m-> 3086\u001b[0m \u001b[38;5;28;01mreturn\u001b[39;00m \u001b[43mtorch\u001b[49m\u001b[38;5;241;43m.\u001b[39;49m\u001b[43m_C\u001b[49m\u001b[38;5;241;43m.\u001b[39;49m\u001b[43m_nn\u001b[49m\u001b[38;5;241;43m.\u001b[39;49m\u001b[43mcross_entropy_loss\u001b[49m\u001b[43m(\u001b[49m\u001b[38;5;28;43minput\u001b[39;49m\u001b[43m,\u001b[49m\u001b[43m \u001b[49m\u001b[43mtarget\u001b[49m\u001b[43m,\u001b[49m\u001b[43m \u001b[49m\u001b[43mweight\u001b[49m\u001b[43m,\u001b[49m\u001b[43m \u001b[49m\u001b[43m_Reduction\u001b[49m\u001b[38;5;241;43m.\u001b[39;49m\u001b[43mget_enum\u001b[49m\u001b[43m(\u001b[49m\u001b[43mreduction\u001b[49m\u001b[43m)\u001b[49m\u001b[43m,\u001b[49m\u001b[43m \u001b[49m\u001b[43mignore_index\u001b[49m\u001b[43m,\u001b[49m\u001b[43m \u001b[49m\u001b[43mlabel_smoothing\u001b[49m\u001b[43m)\u001b[49m\n",
                        "\u001b[1;31mRuntimeError\u001b[0m: expected scalar type Long but found Float"
                    ]
                }
            ],
            "source": [
                "epochs = 20\n",
                "batch_size = 32\n",
                "\n",
                "model = (\n",
                "# Initialize the model and push it to your device.\n",
                "    AdditionModel().to(device)\n",
                ")\n",
                "\n",
                "optimizer = (\n",
                "# TODO: Define an optimizer.\n",
                "    Adam(model.parameters()) # lr=5e-3\n",
                ")\n",
                "\n",
                "loss = (\n",
                "# TODO: Define the matching loss function.\n",
                "    nn.CrossEntropyLoss()\n",
                ")\n",
                "\n",
                "metrics = train(model, loss, optimizer, train_dataset, test_dataset, epochs, batch_size)"
            ]
        },
        {
            "cell_type": "code",
            "execution_count": 22,
            "id": "1be9c544",
            "metadata": {
                "execution": {
                    "iopub.execute_input": "2024-06-11T11:38:10.412570Z",
                    "iopub.status.busy": "2024-06-11T11:38:10.412394Z",
                    "iopub.status.idle": "2024-06-11T11:38:10.416775Z",
                    "shell.execute_reply": "2024-06-11T11:38:10.416394Z"
                },
                "pycharm": {
                    "name": "#%%\n"
                }
            },
            "outputs": [
                {
                    "name": "stdout",
                    "output_type": "stream",
                    "text": [
                        "\n"
                    ]
                }
            ],
            "source": [
                "get_training_progress_plot(\n",
                "    metrics['train_loss'],\n",
                "    metrics['train_acc'],\n",
                "    metrics['test_loss'],\n",
                "    metrics['test_acc'],\n",
                ")"
            ]
        },
        {
            "cell_type": "markdown",
            "id": "e8a1d86b",
            "metadata": {
                "pycharm": {
                    "name": "#%% md\n"
                }
            },
            "source": [
                "It is amazing what we achieved with such a small (for the standard of deep learning) model and dataset! Lets indulge in some more examples on the test set!"
            ]
        },
        {
            "cell_type": "code",
            "execution_count": 23,
            "id": "1658b6ef",
            "metadata": {
                "execution": {
                    "iopub.execute_input": "2024-06-11T11:38:10.418714Z",
                    "iopub.status.busy": "2024-06-11T11:38:10.418577Z",
                    "iopub.status.idle": "2024-06-11T11:38:10.422723Z",
                    "shell.execute_reply": "2024-06-11T11:38:10.422344Z"
                }
            },
            "outputs": [
                {
                    "name": "stdout",
                    "output_type": "stream",
                    "text": [
                        "\n"
                    ]
                }
            ],
            "source": [
                "\n",
                "# look at some predictions\n",
                "def plot_prediction(model: nn.Module, dataset: Dataset, idx: int) -> None:\n",
                "    sample = dataset[idx]\n",
                "    num_1 = sample['num_1'].unsqueeze(0).to(device)\n",
                "    num_2 = sample['num_2'].unsqueeze(0).to(device)\n",
                "    y = sample['label'].unsqueeze(0).to(device)\n",
                "\n",
                "    y_hat = model(num_1, num_2)\n",
                "    y_hat = torch.argmax(y_hat, dim=1).squeeze(0)\n",
                "\n",
                "    print('Prediction:', ''.join([str(int(i)) for i in y_hat]))\n",
                "    print('Label:', ''.join([str(int(i)) for i in y.squeeze(0)]))\n",
                "\n",
                "    plot_digits(num_1.squeeze(0), num_2.squeeze(0))\n",
                "\n",
                "plot_prediction(model, test_dataset, int(torch.randint(len(test_dataset), (1, ))))\n",
                "plot_prediction(model, test_dataset, int(torch.randint(len(test_dataset), (1, ))))"
            ]
        }
    ],
    "metadata": {
        "kernelspec": {
            "display_name": "Python 3",
            "language": "python",
            "name": "python3"
        },
        "language_info": {
            "codemirror_mode": {
                "name": "ipython",
                "version": 3
            },
            "file_extension": ".py",
            "mimetype": "text/x-python",
            "name": "python",
            "nbconvert_exporter": "python",
            "pygments_lexer": "ipython3",
            "version": "3.11.9"
        }
    },
    "nbformat": 4,
    "nbformat_minor": 5
}
