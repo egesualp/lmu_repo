{
    "cells": [
        {
            "cell_type": "markdown",
            "id": "9046cfd0",
            "metadata": {
                "pycharm": {
                    "name": "#%% md\n"
                }
            },
            "source": [
                "# Lab 5\n",
                "\n",
                "**Lecture**: Deep Learning (Prof. Dr. David Rügamer, Emanuel Sommer)\n",
                "\n",
                "Welcome to the fifth lab. We will first implement a simple scalar automatic\n",
                "differentiation engine to compute partial derivatives for us,\n",
                "then do a theoretical exercise about L2 regularization.\n",
                "\n",
                "## Imports\n"
            ]
        },
        {
            "cell_type": "code",
            "execution_count": 2,
            "id": "84b8263e",
            "metadata": {
                "execution": {
                    "iopub.execute_input": "2024-04-23T15:23:59.801307Z",
                    "iopub.status.busy": "2024-04-23T15:23:59.800989Z",
                    "iopub.status.idle": "2024-04-23T15:24:00.066605Z",
                    "shell.execute_reply": "2024-04-23T15:24:00.066006Z"
                },
                "pycharm": {
                    "name": "#%%\n"
                }
            },
            "outputs": [],
            "source": [
                "import math\n",
                "from abc import ABC, abstractmethod\n",
                "from random import uniform\n",
                "from typing import Optional, List, Union, Dict\n",
                "\n",
                "import matplotlib.pyplot as plt\n",
                "from matplotlib_inline.backend_inline import set_matplotlib_formats\n",
                "\n",
                "set_matplotlib_formats('png', 'pdf')"
            ]
        },
        {
            "cell_type": "markdown",
            "id": "ef79cc27",
            "metadata": {
                "pycharm": {
                    "name": "#%% md\n"
                }
            },
            "source": [
                "## Exercise 1\n",
                "\n",
                "Modern deep learning frameworks compute gradients automatically,\n",
                "so that you only need to define how to perform the forward pass in your code.\n",
                "Under the hood, the framework constructs a computational graph based on the operations\n",
                "you used. For example, consider the node:\n",
                "\n",
                "$$\n",
                "4xy+e^{-y}\n",
                "$$\n",
                "\n",
                "It can be translated into a graph that looks like this:\n",
                "\n",
                "![](../utils/05-lab-graph1.png)\n",
                "\n",
                "Where we have 'leaf' nodes at the top for variables and constants, and 'internal' nodes\n",
                "for operations. To make things simpler, in this exercise we will only work with\n",
                "scalar operations and scalar variables, but what we are going to create could, in\n",
                "principle, be extended to work with vectors and matrices. Section 6 of chapter 5 of the\n",
                "_Mathematics for Machine Learning_ book (https://mml-book.github.io/) is a good\n",
                "supplementary read.\n",
                "\n",
                "The naming of the classes responds to:\n",
                "\n",
                " - `Sum` for Addition $x+y$\n",
                " - `Sub` for Subtraction $x-y$\n",
                " - `Mul` for Product $x\\cdot y$\n",
                " - `Div` for Division $x / y$\n",
                " - `Exp` for Exponentiation $e^x$\n",
                " - `TanH` for Hyperbolic tangent $\\tanh(x)$\n",
                " - `Log` for Logarithm $\\log(x)$\n",
                "\n",
                "\n",
                "We first define some utilities to easily create nodes.\n",
                "An abstract class gives us a common interface across all the respective nodes that\n",
                "we will derive from it. This doesn't make sense now, as the class is basically empty,\n",
                "but we will extend the definition over the course of the exercise."
            ]
        },
        {
            "cell_type": "code",
            "execution_count": 3,
            "id": "7f07df57",
            "metadata": {
                "execution": {
                    "iopub.execute_input": "2024-04-23T15:24:00.068945Z",
                    "iopub.status.busy": "2024-04-23T15:24:00.068737Z",
                    "iopub.status.idle": "2024-04-23T15:24:00.073498Z",
                    "shell.execute_reply": "2024-04-23T15:24:00.072919Z"
                },
                "pycharm": {
                    "name": "#%%\n"
                }
            },
            "outputs": [],
            "source": [
                "class BaseNode(ABC):\n",
                "    pass\n",
                "\n",
                "\n",
                "class Const(BaseNode):\n",
                "    def __init__(self, value: Union[float, int]):\n",
                "        self.value = value\n",
                "\n",
                "\n",
                "class Var(BaseNode):\n",
                "    def __init__(self, name: str):\n",
                "        self.name = name\n",
                "\n",
                "\n",
                "class BinaryOperation(BaseNode, ABC):\n",
                "    def __init__(self, x: BaseNode, y: BaseNode):\n",
                "        self.x = x\n",
                "        self.y = y\n",
                "\n",
                "\n",
                "class Sum(BinaryOperation):\n",
                "    pass\n",
                "\n",
                "\n",
                "class Sub(BinaryOperation):\n",
                "    pass\n",
                "\n",
                "\n",
                "class Mul(BinaryOperation):\n",
                "    pass\n",
                "\n",
                "\n",
                "class Div(BinaryOperation):\n",
                "    pass\n",
                "\n",
                "\n",
                "class Function(BaseNode, ABC):\n",
                "    def __init__(self, x: BaseNode):\n",
                "        self.x = x\n",
                "\n",
                "\n",
                "class Exp(Function):\n",
                "    pass\n",
                "\n",
                "\n",
                "class Log(Function):\n",
                "    pass\n",
                "\n",
                "\n",
                "class TanH(Function):\n",
                "    pass"
            ]
        },
        {
            "cell_type": "markdown",
            "id": "a31af935",
            "metadata": {},
            "source": [
                "$$\n",
                "4xy+e^{-y}\n",
                "$$"
            ]
        },
        {
            "cell_type": "code",
            "execution_count": 4,
            "id": "49c8c222",
            "metadata": {
                "execution": {
                    "iopub.execute_input": "2024-04-23T15:24:00.076036Z",
                    "iopub.status.busy": "2024-04-23T15:24:00.075840Z",
                    "iopub.status.idle": "2024-04-23T15:24:00.079733Z",
                    "shell.execute_reply": "2024-04-23T15:24:00.079242Z"
                },
                "pycharm": {
                    "name": "#%%\n"
                }
            },
            "outputs": [
                {
                    "name": "stdout",
                    "output_type": "stream",
                    "text": [
                        "<__main__.Sum object at 0x0000019EAFD76710>\n",
                        "<__main__.Mul object at 0x0000019EB0FE2B10>\n",
                        "<__main__.Exp object at 0x0000019EB0E48090>\n"
                    ]
                }
            ],
            "source": [
                "# We then define the graph from the equation before.\n",
                "x = Var('x')\n",
                "y = Var('y')\n",
                "\n",
                "z = Sum(\n",
                "    x=Mul(\n",
                "        x=Mul(\n",
                "            x=Const(4),\n",
                "            y=x\n",
                "        ),\n",
                "        y=y,\n",
                "    ),\n",
                "    y=Exp(\n",
                "        x=Mul(\n",
                "            x=Const(-1),\n",
                "            y=y\n",
                "    ))\n",
                ")\n",
                "\n",
                "print(z)\n",
                "print(z.x.x)\n",
                "print(z.y)"
            ]
        },
        {
            "cell_type": "code",
            "execution_count": 5,
            "id": "481b5ad5",
            "metadata": {},
            "outputs": [
                {
                    "data": {
                        "text/plain": [
                            "<__main__.Var at 0x19eb1258790>"
                        ]
                    },
                    "execution_count": 5,
                    "metadata": {},
                    "output_type": "execute_result"
                }
            ],
            "source": [
                "z.x.y"
            ]
        },
        {
            "cell_type": "markdown",
            "id": "a41a3d0a",
            "metadata": {
                "pycharm": {
                    "name": "#%% md\n"
                }
            },
            "source": [
                "This structure of nested objects contains the computational graph for the node above.\n",
                "Now, we can write code to manipulate this expression as we please.\n",
                "In the course of this exercise, we will see how:\n",
                "\n",
                " 1. Print an expression,\n",
                " 2. Compute its value, given the values of the variables involved,\n",
                " 3. Differentiate it to automatically find partial derivatives with respect to any given variable,\n",
                " 4. Transform it into simpler expressions that are cheaper to handle, and\n",
                " 5. Write code to train a neural network without getting our hands dirty with derivatives ever again.\n",
                "\n",
                "\n",
                "### Printing an expression\n",
                "First, since it is quite hard to understand the node from the representation above,\n",
                "let us extend the classes to convert a computational graph into a string representation\n",
                "that is easier to understand. For example, the expression $x+2y$ should be converted to"
            ]
        },
        {
            "cell_type": "code",
            "execution_count": 6,
            "id": "34204292",
            "metadata": {
                "execution": {
                    "iopub.execute_input": "2024-04-23T15:24:00.081432Z",
                    "iopub.status.busy": "2024-04-23T15:24:00.081164Z",
                    "iopub.status.idle": "2024-04-23T15:24:00.085143Z",
                    "shell.execute_reply": "2024-04-23T15:24:00.084719Z"
                },
                "pycharm": {
                    "name": "#%%\n"
                }
            },
            "outputs": [
                {
                    "data": {
                        "text/plain": [
                            "['(', 'x', '+', '(', '2', '*', 'y', ')', ')']"
                        ]
                    },
                    "execution_count": 6,
                    "metadata": {},
                    "output_type": "execute_result"
                }
            ],
            "source": [
                "['(', 'x', '+', '(', '2', '*', 'y', ')', ')']"
            ]
        },
        {
            "cell_type": "code",
            "execution_count": 7,
            "id": "a3e7670e",
            "metadata": {},
            "outputs": [
                {
                    "data": {
                        "text/plain": [
                            "'(x+(2*y))'"
                        ]
                    },
                    "execution_count": 7,
                    "metadata": {},
                    "output_type": "execute_result"
                }
            ],
            "source": [
                "\"\".join(['(', 'x', '+', '(', '2', '*', 'y', ')', ')'])"
            ]
        },
        {
            "cell_type": "markdown",
            "id": "551d81c1",
            "metadata": {
                "pycharm": {
                    "name": "#%% md\n"
                }
            },
            "source": [
                "Which can be printed easily using `\" \".join(<list>)`, resulting in `( x + ( 2 * y ) )`.\n",
                "\n",
                "Such a function should be _recursive_. This means that when simplifying a complicated\n",
                "expression it will call itself on each constituting piece of that expression, and\n",
                "\"assemble\" the results together.\n",
                "Conceptually, the procedure is similar to the factorial operation,\n",
                "which is recursively defined in terms of the factorial of a smaller number:\n",
                "\n",
                "\\begin{equation}\n",
                "n!=\\begin{cases}\n",
                "1 & \\text{if }n < 1 \\\\\n",
                "n\\cdot(n-1)! & \\text{otherwise}\n",
                "\\end{cases}\n",
                "\\end{equation}\n",
                "\n",
                "This definition can be converted into Python as:"
            ]
        },
        {
            "cell_type": "code",
            "execution_count": 8,
            "id": "5e349d81",
            "metadata": {
                "execution": {
                    "iopub.execute_input": "2024-04-23T15:24:00.087090Z",
                    "iopub.status.busy": "2024-04-23T15:24:00.086866Z",
                    "iopub.status.idle": "2024-04-23T15:24:00.089981Z",
                    "shell.execute_reply": "2024-04-23T15:24:00.089600Z"
                },
                "pycharm": {
                    "name": "#%%\n"
                }
            },
            "outputs": [
                {
                    "name": "stdout",
                    "output_type": "stream",
                    "text": [
                        "24\n"
                    ]
                }
            ],
            "source": [
                "def factorial(n: int) -> int:\n",
                "    if n < 1:\n",
                "        return 1\n",
                "    else:\n",
                "        return n * factorial(n - 1)\n",
                "\n",
                "print(factorial(4))"
            ]
        },
        {
            "cell_type": "markdown",
            "id": "5aa290d6",
            "metadata": {
                "pycharm": {
                    "name": "#%% md\n"
                }
            },
            "source": [
                "In a similar way, we extend the classes with `__str__`, which is a Python utility to\n",
                "obtain a custom string representation of an object. If we define it correctly, we\n",
                "are able to traverse through the tree and print the expression."
            ]
        },
        {
            "cell_type": "code",
            "execution_count": 9,
            "id": "3753ba1b",
            "metadata": {
                "execution": {
                    "iopub.execute_input": "2024-04-23T15:24:00.092133Z",
                    "iopub.status.busy": "2024-04-23T15:24:00.091872Z",
                    "iopub.status.idle": "2024-04-23T15:24:00.097721Z",
                    "shell.execute_reply": "2024-04-23T15:24:00.097345Z"
                },
                "pycharm": {
                    "name": "#%%\n"
                }
            },
            "outputs": [],
            "source": [
                "\n",
                "class BaseNode(ABC): # ABC is the Abstract Base Class module. Used for abstract classes and methods.\n",
                "    @abstractmethod # This is an abstract method that must be implemented by the child classes.\n",
                "    def __str__(self) -> str: # This method returns a string based on the object.\n",
                "        pass\n",
                "\n",
                "\n",
                "class Const(BaseNode):\n",
                "    def __init__(self, value: Union[float, int]):\n",
                "        self.value = value\n",
                "\n",
                "    def __str__(self) -> str:\n",
                "        return str(self.value)\n",
                "\n",
                "\n",
                "class Var(BaseNode):\n",
                "    def __init__(self, name: str):\n",
                "        self.name = name\n",
                "\n",
                "    def __str__(self) -> str:\n",
                "        return self.name\n",
                "\n",
                "\n",
                "class BinaryOperation(BaseNode, ABC):\n",
                "    def __init__(self, x: BaseNode, y: BaseNode):\n",
                "        self.x = x\n",
                "        self.y = y\n",
                "\n",
                "\n",
                "class Sum(BinaryOperation):\n",
                "    def __str__(self) -> str:\n",
                "        # Formulate an expression to print the operation recursively.\n",
                "        return str(f\"{self.x} + {self.y}\")\n",
                "\n",
                "class Sub(BinaryOperation):\n",
                "    def __str__(self) -> str:\n",
                "        # Formulate an expression to print the operation recursively.\n",
                "        return str(f\"{self.x} - {self.y}\")\n",
                "\n",
                "class Mul(BinaryOperation):\n",
                "    def __str__(self) -> str:\n",
                "        # Formulate an expression to print the operation recursively.\n",
                "        return str(f\"{self.x} * {self.y}\")\n",
                "\n",
                "class Div(BinaryOperation):\n",
                "    def __str__(self) -> str:\n",
                "        # Formulate an expression to print the operation recursively.\n",
                "        return str(f\"{self.x} / {self.y}\")\n",
                "\n",
                "class Function(BaseNode, ABC):\n",
                "    def __init__(self, x: BaseNode):\n",
                "        self.x = x\n",
                "\n",
                "class Exp(Function):\n",
                "    def __str__(self) -> str:\n",
                "        # Formulate an expression to print the operation recursively.\n",
                "        return str(f\"exp({self.x})\")\n",
                "\n",
                "class Log(Function):\n",
                "    def __str__(self) -> str:\n",
                "        # Formulate an expression to print the operation recursively.\n",
                "        return str(f\"log({self.x})\")\n",
                "\n",
                "\n",
                "class TanH(Function):\n",
                "    def __str__(self) -> str:\n",
                "        # Formulate an expression to print the operation recursively.\n",
                "        return str(f\"TanH({self.x})\")\n"
            ]
        },
        {
            "cell_type": "code",
            "execution_count": 10,
            "id": "f3d7e690",
            "metadata": {
                "execution": {
                    "iopub.execute_input": "2024-04-23T15:24:00.099320Z",
                    "iopub.status.busy": "2024-04-23T15:24:00.099046Z",
                    "iopub.status.idle": "2024-04-23T15:24:00.130559Z",
                    "shell.execute_reply": "2024-04-23T15:24:00.130158Z"
                },
                "pycharm": {
                    "name": "#%%\n"
                }
            },
            "outputs": [
                {
                    "name": "stdout",
                    "output_type": "stream",
                    "text": [
                        "4 * x * y + exp(-1 * y)\n"
                    ]
                }
            ],
            "source": [
                "x = Var('x')\n",
                "y = Var('y')\n",
                "\n",
                "z = Sum(\n",
                "    x=Mul(\n",
                "        x=Mul(\n",
                "            x=Const(4),\n",
                "            y=x\n",
                "        ),\n",
                "        y=y,\n",
                "    ),\n",
                "    y=Exp(\n",
                "        x=Mul(\n",
                "            x=Const(-1),\n",
                "            y=y\n",
                "    ))\n",
                ")\n",
                "\n",
                "print(z)"
            ]
        },
        {
            "cell_type": "markdown",
            "id": "9eb73acb",
            "metadata": {
                "pycharm": {
                    "name": "#%% md\n"
                }
            },
            "source": [
                "This is much simpler to read!\n",
                "\n",
                "### Computing the value of an expression\n",
                "We can now extend the classes to compute the value of an expression given values for\n",
                "the variables. The methods should be recursive too."
            ]
        },
        {
            "cell_type": "code",
            "execution_count": 11,
            "id": "7612f5d6",
            "metadata": {
                "execution": {
                    "iopub.execute_input": "2024-04-23T15:24:00.132319Z",
                    "iopub.status.busy": "2024-04-23T15:24:00.132107Z",
                    "iopub.status.idle": "2024-04-23T15:24:00.138099Z",
                    "shell.execute_reply": "2024-04-23T15:24:00.137539Z"
                },
                "pycharm": {
                    "name": "#%%\n"
                }
            },
            "outputs": [],
            "source": [
                "\n",
                "class BaseNode(ABC):\n",
                "    @abstractmethod\n",
                "    def __str__(self) -> str:\n",
                "        pass\n",
                "\n",
                "    @abstractmethod\n",
                "    def eval(self) -> Union[float, int]:\n",
                "        pass\n",
                "\n",
                "\n",
                "class Const(BaseNode):\n",
                "    def __init__(self, value: Union[float, int]):\n",
                "        self.value = value\n",
                "\n",
                "    def __str__(self) -> str:\n",
                "        return str(self.value)\n",
                "\n",
                "    def eval(self) -> Union[float, int]:\n",
                "        return self.value\n",
                "\n",
                "\n",
                "class Var(BaseNode):\n",
                "    def __init__(self, name: str, value: Optional[Union[float, int]] = None):\n",
                "        self.name = name\n",
                "        self.value = value\n",
                "        \n",
                "    def set_value(self, value: Union[float, int]) -> None:\n",
                "        self.value = value\n",
                "\n",
                "    def __str__(self) -> str:\n",
                "        return self.name\n",
                "    \n",
                "    def eval(self) -> Union[float, int]:\n",
                "        if self.value is None:\n",
                "            raise ValueError('Value is not set. Evaluation is not possible.')\n",
                "        return self.value\n",
                "\n",
                "\n",
                "class BinaryOperation(BaseNode, ABC):\n",
                "    def __init__(self, x: BaseNode, y: BaseNode):\n",
                "        self.x = x\n",
                "        self.y = y\n",
                "\n",
                "\n",
                "class Sum(BinaryOperation):\n",
                "    def __str__(self) -> str:\n",
                "        return '({} + {})'.format(self.x, self.y)\n",
                "    \n",
                "    def eval(self) -> Union[float, int]:\n",
                "        return self.x.eval() + self.y.eval()\n",
                "\n",
                "\n",
                "class Sub(BinaryOperation):\n",
                "    def __str__(self) -> str:\n",
                "        return '({} - {})'.format(self.x, self.y)\n",
                "\n",
                "    def eval(self) -> Union[float, int]:\n",
                "        return self.x.eval() - self.y.eval()\n",
                "\n",
                "\n",
                "class Mul(BinaryOperation):\n",
                "    def __str__(self) -> str:\n",
                "        return '({} * {})'.format(self.x, self.y)\n",
                "\n",
                "    def eval(self) -> Union[float, int]:\n",
                "        return self.x.eval() * self.y.eval()\n",
                "\n",
                "\n",
                "class Div(BinaryOperation):\n",
                "    def __str__(self) -> str:\n",
                "        return '({} / {})'.format(self.x, self.y)\n",
                "\n",
                "    def eval(self) -> Union[float, int]:\n",
                "        return self.x.eval() / self.y.eval()\n",
                "\n",
                "\n",
                "class Function(BaseNode, ABC):\n",
                "    def __init__(self, x: BaseNode):\n",
                "        self.x = x\n",
                "\n",
                "\n",
                "class Exp(Function):\n",
                "    def __str__(self) -> str:\n",
                "        return 'exp({})'.format(self.x)\n",
                "\n",
                "    def eval(self) -> Union[float, int]:\n",
                "        return math.exp(self.x.eval())\n",
                "\n",
                "class Log(Function):\n",
                "    def __str__(self) -> str:\n",
                "        return 'log({})'.format(self.x)\n",
                "\n",
                "    def eval(self) -> Union[float, int]:\n",
                "        return math.log(self.x.eval())\n",
                "\n",
                "class TanH(Function):\n",
                "    def __str__(self) -> str:\n",
                "        return 'tanh({})'.format(self.x)\n",
                "\n",
                "    def eval(self) -> Union[float, int]:\n",
                "        return math.tanh(self.x.eval())"
            ]
        },
        {
            "cell_type": "code",
            "execution_count": 12,
            "id": "f9409885",
            "metadata": {
                "execution": {
                    "iopub.execute_input": "2024-04-23T15:24:00.140112Z",
                    "iopub.status.busy": "2024-04-23T15:24:00.139906Z",
                    "iopub.status.idle": "2024-04-23T15:24:00.145376Z",
                    "shell.execute_reply": "2024-04-23T15:24:00.144901Z"
                },
                "pycharm": {
                    "name": "#%%\n"
                }
            },
            "outputs": [
                {
                    "name": "stdout",
                    "output_type": "stream",
                    "text": [
                        "24.0498\n"
                    ]
                }
            ],
            "source": [
                "x = Var('x', value=2)\n",
                "y = Var('y', value=3)\n",
                "\n",
                "z = Sum(\n",
                "    x=Mul(\n",
                "        x=Mul(\n",
                "            x=Const(4),\n",
                "            y=x\n",
                "        ),\n",
                "        y=y,\n",
                "    ),\n",
                "    y=Exp(\n",
                "        x=Mul(\n",
                "            x=Const(-1),\n",
                "            y=y\n",
                "    ))\n",
                ")\n",
                "\n",
                "print(round(z.eval(), 4))"
            ]
        },
        {
            "cell_type": "code",
            "execution_count": 13,
            "id": "4a38cdae",
            "metadata": {},
            "outputs": [
                {
                    "ename": "AttributeError",
                    "evalue": "'int' object has no attribute 'eval'",
                    "output_type": "error",
                    "traceback": [
                        "\u001b[1;31m---------------------------------------------------------------------------\u001b[0m",
                        "\u001b[1;31mAttributeError\u001b[0m                            Traceback (most recent call last)",
                        "Cell \u001b[1;32mIn[13], line 20\u001b[0m\n\u001b[0;32m      3\u001b[0m y \u001b[38;5;241m=\u001b[39m Var(\u001b[38;5;124m'\u001b[39m\u001b[38;5;124my\u001b[39m\u001b[38;5;124m'\u001b[39m, value\u001b[38;5;241m=\u001b[39m\u001b[38;5;241m3\u001b[39m)\n\u001b[0;32m      5\u001b[0m z \u001b[38;5;241m=\u001b[39m Sum(\n\u001b[0;32m      6\u001b[0m     x\u001b[38;5;241m=\u001b[39mMul(\n\u001b[0;32m      7\u001b[0m         x\u001b[38;5;241m=\u001b[39mMul(\n\u001b[1;32m   (...)\u001b[0m\n\u001b[0;32m     17\u001b[0m     ))\n\u001b[0;32m     18\u001b[0m )\n\u001b[1;32m---> 20\u001b[0m \u001b[38;5;28mprint\u001b[39m(\u001b[38;5;28mround\u001b[39m(\u001b[43mz\u001b[49m\u001b[38;5;241;43m.\u001b[39;49m\u001b[43meval\u001b[49m\u001b[43m(\u001b[49m\u001b[43m)\u001b[49m, \u001b[38;5;241m4\u001b[39m))\n",
                        "Cell \u001b[1;32mIn[11], line 50\u001b[0m, in \u001b[0;36mSum.eval\u001b[1;34m(self)\u001b[0m\n\u001b[0;32m     49\u001b[0m \u001b[38;5;28;01mdef\u001b[39;00m \u001b[38;5;21meval\u001b[39m(\u001b[38;5;28mself\u001b[39m) \u001b[38;5;241m-\u001b[39m\u001b[38;5;241m>\u001b[39m Union[\u001b[38;5;28mfloat\u001b[39m, \u001b[38;5;28mint\u001b[39m]:\n\u001b[1;32m---> 50\u001b[0m     \u001b[38;5;28;01mreturn\u001b[39;00m \u001b[38;5;28;43mself\u001b[39;49m\u001b[38;5;241;43m.\u001b[39;49m\u001b[43mx\u001b[49m\u001b[38;5;241;43m.\u001b[39;49m\u001b[43meval\u001b[49m\u001b[43m(\u001b[49m\u001b[43m)\u001b[49m \u001b[38;5;241m+\u001b[39m \u001b[38;5;28mself\u001b[39m\u001b[38;5;241m.\u001b[39my\u001b[38;5;241m.\u001b[39meval()\n",
                        "Cell \u001b[1;32mIn[11], line 66\u001b[0m, in \u001b[0;36mMul.eval\u001b[1;34m(self)\u001b[0m\n\u001b[0;32m     65\u001b[0m \u001b[38;5;28;01mdef\u001b[39;00m \u001b[38;5;21meval\u001b[39m(\u001b[38;5;28mself\u001b[39m) \u001b[38;5;241m-\u001b[39m\u001b[38;5;241m>\u001b[39m Union[\u001b[38;5;28mfloat\u001b[39m, \u001b[38;5;28mint\u001b[39m]:\n\u001b[1;32m---> 66\u001b[0m     \u001b[38;5;28;01mreturn\u001b[39;00m \u001b[38;5;28;43mself\u001b[39;49m\u001b[38;5;241;43m.\u001b[39;49m\u001b[43mx\u001b[49m\u001b[38;5;241;43m.\u001b[39;49m\u001b[43meval\u001b[49m\u001b[43m(\u001b[49m\u001b[43m)\u001b[49m \u001b[38;5;241m*\u001b[39m \u001b[38;5;28mself\u001b[39m\u001b[38;5;241m.\u001b[39my\u001b[38;5;241m.\u001b[39meval()\n",
                        "Cell \u001b[1;32mIn[11], line 66\u001b[0m, in \u001b[0;36mMul.eval\u001b[1;34m(self)\u001b[0m\n\u001b[0;32m     65\u001b[0m \u001b[38;5;28;01mdef\u001b[39;00m \u001b[38;5;21meval\u001b[39m(\u001b[38;5;28mself\u001b[39m) \u001b[38;5;241m-\u001b[39m\u001b[38;5;241m>\u001b[39m Union[\u001b[38;5;28mfloat\u001b[39m, \u001b[38;5;28mint\u001b[39m]:\n\u001b[1;32m---> 66\u001b[0m     \u001b[38;5;28;01mreturn\u001b[39;00m \u001b[38;5;28;43mself\u001b[39;49m\u001b[38;5;241;43m.\u001b[39;49m\u001b[43mx\u001b[49m\u001b[38;5;241;43m.\u001b[39;49m\u001b[43meval\u001b[49m() \u001b[38;5;241m*\u001b[39m \u001b[38;5;28mself\u001b[39m\u001b[38;5;241m.\u001b[39my\u001b[38;5;241m.\u001b[39meval()\n",
                        "\u001b[1;31mAttributeError\u001b[0m: 'int' object has no attribute 'eval'"
                    ]
                }
            ],
            "source": [
                "# This is why we are using Base Node\n",
                "x = 15\n",
                "y = Var('y', value=3)\n",
                "\n",
                "z = Sum(\n",
                "    x=Mul(\n",
                "        x=Mul(\n",
                "            x=4,\n",
                "            y=x\n",
                "        ),\n",
                "        y=y,\n",
                "    ),\n",
                "    y=Exp(\n",
                "        x=Mul(\n",
                "            x=Const(-1),\n",
                "            y=y\n",
                "    ))\n",
                ")\n",
                "\n",
                "print(round(z.eval(), 4))"
            ]
        },
        {
            "cell_type": "markdown",
            "id": "0274652b",
            "metadata": {
                "pycharm": {
                    "name": "#%% md\n"
                }
            },
            "source": [
                "The result that we expect is, of course:"
            ]
        },
        {
            "cell_type": "code",
            "execution_count": 14,
            "id": "2eea9713",
            "metadata": {
                "execution": {
                    "iopub.execute_input": "2024-04-23T15:24:00.147217Z",
                    "iopub.status.busy": "2024-04-23T15:24:00.146966Z",
                    "iopub.status.idle": "2024-04-23T15:24:00.149797Z",
                    "shell.execute_reply": "2024-04-23T15:24:00.149363Z"
                },
                "pycharm": {
                    "name": "#%%\n"
                }
            },
            "outputs": [
                {
                    "name": "stdout",
                    "output_type": "stream",
                    "text": [
                        "24.0498\n"
                    ]
                }
            ],
            "source": [
                "print(round(4 * 2 * 3 + math.exp(-3), 4))"
            ]
        },
        {
            "cell_type": "markdown",
            "id": "a64d47ac",
            "metadata": {
                "pycharm": {
                    "name": "#%% md\n"
                }
            },
            "source": [
                "### Differentiating an expression\n",
                "\n",
                "We can finally see how to differentiate an expression with respect to a variable.\n",
                "We do this again through extending the classes to differentiates each argument\n",
                "and merge the result. Note that this should return a new computational\n",
                "graph that contains the operations necessary to compute the partial derivative\n",
                "we are interested in.\n",
                "Each `differentiate` method gets the argument `var` that specifies the name of the\n",
                "variable of which we are computing the gradient.\n",
                "\n",
                "Remember to use the chain rule where appropriate!"
            ]
        },
        {
            "cell_type": "code",
            "execution_count": 15,
            "id": "e06de526",
            "metadata": {
                "execution": {
                    "iopub.execute_input": "2024-04-23T15:24:00.151688Z",
                    "iopub.status.busy": "2024-04-23T15:24:00.151497Z",
                    "iopub.status.idle": "2024-04-23T15:24:00.157533Z",
                    "shell.execute_reply": "2024-04-23T15:24:00.157090Z"
                },
                "pycharm": {
                    "name": "#%%\n"
                }
            },
            "outputs": [],
            "source": [
                "# Attempt 1\n",
                "class BaseNode(ABC):\n",
                "    @abstractmethod\n",
                "    def __str__(self) -> str:\n",
                "        pass\n",
                "\n",
                "    @abstractmethod\n",
                "    def eval(self) -> Union[float, int]:\n",
                "        pass\n",
                "\n",
                "    @abstractmethod\n",
                "    def differentiate(self, var: str) -> BaseNode:\n",
                "        pass\n",
                "\n",
                "\n",
                "class Const(BaseNode):\n",
                "    def __init__(self, value: Union[float, int]):\n",
                "        self.value = value\n",
                "\n",
                "    def __str__(self) -> str:\n",
                "        return str(self.value)\n",
                "\n",
                "    def eval(self) -> Union[float, int]:\n",
                "        return self.value\n",
                "\n",
                "    def differentiate(self, var: str) -> BaseNode:\n",
                "        return Const(0)\n",
                "\n",
                "\n",
                "class Var(BaseNode):\n",
                "    def __init__(self, name: str, value: Optional[Union[float, int]] = None):\n",
                "        self.name = name\n",
                "        self.value = value\n",
                "\n",
                "    def set_value(self, value: Union[float, int]) -> None:\n",
                "        self.value = value\n",
                "\n",
                "    def __str__(self) -> str:\n",
                "        return self.name\n",
                "\n",
                "    def eval(self) -> Union[float, int]:\n",
                "        if self.value is None:\n",
                "            raise ValueError('Value is not set. Evaluation is not possible.')\n",
                "        return self.value\n",
                "\n",
                "    def differentiate(self, var: str) -> BaseNode:\n",
                "        return Const(1) if self.name == var else Const(0)\n",
                "\n",
                "\n",
                "class BinaryOperation(BaseNode, ABC):\n",
                "    def __init__(self, x: BaseNode, y: BaseNode):\n",
                "        self.x = x\n",
                "        self.y = y\n",
                "\n",
                "\n",
                "class Sum(BinaryOperation):\n",
                "    def __str__(self) -> str:\n",
                "        return '({} + {})'.format(self.x, self.y)\n",
                "\n",
                "    def eval(self) -> Union[float, int]:\n",
                "        return self.x.eval() + self.y.eval()\n",
                "\n",
                "    def differentiate(self, var: str) -> BaseNode:\n",
                "# TODO Return a new node that sums the derivatives of the left and right part.\n",
                "# Note: We are returning a new graph node that connects the two\n",
                "# graphs representing the derivatives of the left and right parts\n",
                "        return Sum(self.x.differentiate(var), self.y.differentiate(var))\n",
                "\n",
                "\n",
                "class Sub(BinaryOperation):\n",
                "    def __str__(self) -> str:\n",
                "        return '({} - {})'.format(self.x, self.y)\n",
                "\n",
                "    def eval(self) -> Union[float, int]:\n",
                "        return self.x.eval() - self.y.eval()\n",
                "\n",
                "    def differentiate(self, var: str) -> BaseNode:\n",
                "# TODO Return a new node that subtracts the derivatives of the left and right part.\n",
                "        return Sub(self.x.differentiate(var), self.y.differentiate(var))\n",
                "\n",
                "class Mul(BinaryOperation):\n",
                "    def __str__(self) -> str:\n",
                "        return '({} * {})'.format(self.x, self.y)\n",
                "\n",
                "    def eval(self) -> Union[float, int]:\n",
                "        return self.x.eval() * self.y.eval()\n",
                "\n",
                "    def differentiate(self, var: str) -> BaseNode:\n",
                "# TODO differentiate the product x * y. (Hint: Product rule)\n",
                "        return Sum(Mul(self.x.eval(), self.y.differentiate(var)), Mul(self.y.eval(), self.x.differentiate(var)))\n",
                "\n",
                "\n",
                "class Div(BinaryOperation):\n",
                "    def __str__(self) -> str:\n",
                "        return '({} / {})'.format(self.x, self.y)\n",
                "\n",
                "    def eval(self) -> Union[float, int]:\n",
                "        return self.x.eval() / self.y.eval()\n",
                "\n",
                "    def differentiate(self, var: str) -> BaseNode:\n",
                "# TODO differentiate the quotient x / y. (Hint: Quotient rule)\n",
                "        return Div(\n",
                "            x = Sub(\n",
                "                x = Mul(self.x.differentiate(var), self.y.eval()), \n",
                "                y = Mul(self.x.eval(), self.y.differentiate(var))\n",
                "                ), \n",
                "                y = Mul(self.y.eval(), self.y.eval())\n",
                "        )\n",
                "\n",
                "\n",
                "class Function(BaseNode, ABC):\n",
                "    def __init__(self, x: BaseNode):\n",
                "        self.x = x\n",
                "\n",
                "\n",
                "class Exp(Function):\n",
                "    def __str__(self) -> str:\n",
                "        return 'exp({})'.format(self.x)\n",
                "\n",
                "    def eval(self) -> Union[float, int]:\n",
                "        return math.exp(self.x.eval())\n",
                "\n",
                "    def differentiate(self, var: str) -> BaseNode:\n",
                "# TODO differentiate exp(x). (Hint: Chain rule)\n",
                "        return Mul(\n",
                "            x = Exp(self.x.eval()),\n",
                "            y = self.x.differentiate(var)\n",
                "            )\n",
                "\n",
                "class Log(Function):\n",
                "    def __str__(self) -> str:\n",
                "        return 'log({})'.format(self.x)\n",
                "\n",
                "    def eval(self) -> Union[float, int]:\n",
                "        return math.log(self.x.eval())\n",
                "\n",
                "    def differentiate(self, var: str) -> BaseNode:\n",
                "# TODO differentiate log(x). (Hint: Chain rule)\n",
                "        return Div(\n",
                "                x = self.x.differentiate(var), \n",
                "                y = Log(self.x.eval())\n",
                "                )\n",
                "                \n",
                "\n",
                "class TanH(Function):\n",
                "    def __str__(self) -> str:\n",
                "        return 'tanh({})'.format(self.x)\n",
                "\n",
                "    def eval(self) -> Union[float, int]:\n",
                "        return math.tanh(self.x.eval())\n",
                "\n",
                "    def differentiate(self, var: str) -> BaseNode:\n",
                "# TODO differentiate tanh(x). (Hint: Chain rule)\n",
                "        def differentiate(self, var: str) -> BaseNode:\n",
                "            return Mul(\n",
                "                x=Sub(\n",
                "                    x=Const(1),\n",
                "                    y=Mul(TanH(self.x), TanH(self.x))\n",
                "                ),\n",
                "                y=self.x.differentiate(var)\n",
                "            )"
            ]
        },
        {
            "cell_type": "code",
            "execution_count": 16,
            "id": "6121c4a3",
            "metadata": {},
            "outputs": [],
            "source": [
                "# Attempt 2\n",
                "class BaseNode(ABC):\n",
                "    @abstractmethod\n",
                "    def __str__(self) -> str:\n",
                "        pass\n",
                "\n",
                "    @abstractmethod\n",
                "    def eval(self) -> Union[float, int]:\n",
                "        pass\n",
                "\n",
                "    @abstractmethod\n",
                "    def differentiate(self, var: str) -> BaseNode:\n",
                "        pass\n",
                "\n",
                "\n",
                "class Const(BaseNode):\n",
                "    def __init__(self, value: Union[float, int]):\n",
                "        self.value = value\n",
                "\n",
                "    def __str__(self) -> str:\n",
                "        return str(self.value)\n",
                "\n",
                "    def eval(self) -> Union[float, int]:\n",
                "        return self.value\n",
                "\n",
                "    def differentiate(self, var: str) -> BaseNode:\n",
                "        return Const(0)\n",
                "\n",
                "\n",
                "class Var(BaseNode):\n",
                "    def __init__(self, name: str, value: Optional[Union[float, int]] = None):\n",
                "        self.name = name\n",
                "        self.value = value\n",
                "\n",
                "    def set_value(self, value: Union[float, int]) -> None:\n",
                "        self.value = value\n",
                "\n",
                "    def __str__(self) -> str:\n",
                "        return self.name\n",
                "\n",
                "    def eval(self) -> Union[float, int]:\n",
                "        if self.value is None:\n",
                "            raise ValueError('Value is not set. Evaluation is not possible.')\n",
                "        return self.value\n",
                "\n",
                "    def differentiate(self, var: str) -> BaseNode:\n",
                "        return Const(1) if self.name == var else Const(0)\n",
                "\n",
                "\n",
                "class BinaryOperation(BaseNode, ABC):\n",
                "    def __init__(self, x: BaseNode, y: BaseNode):\n",
                "        self.x = x\n",
                "        self.y = y\n",
                "\n",
                "\n",
                "class Sum(BinaryOperation):\n",
                "    def __str__(self) -> str:\n",
                "        return '({} + {})'.format(self.x, self.y)\n",
                "\n",
                "    def eval(self) -> Union[float, int]:\n",
                "        return self.x.eval() + self.y.eval()\n",
                "\n",
                "    def differentiate(self, var: str) -> BaseNode:\n",
                "# TODO Return a new node that sums the derivatives of the left and right part.\n",
                "# Note: We are returning a new graph node that connects the two\n",
                "# graphs representing the derivatives of the left and right parts\n",
                "        return Sum(self.x.differentiate(var), self.y.differentiate(var))\n",
                "\n",
                "\n",
                "class Sub(BinaryOperation):\n",
                "    def __str__(self) -> str:\n",
                "        return '({} - {})'.format(self.x, self.y)\n",
                "\n",
                "    def eval(self) -> Union[float, int]:\n",
                "        return self.x.eval() - self.y.eval()\n",
                "\n",
                "    def differentiate(self, var: str) -> BaseNode:\n",
                "# TODO Return a new node that subtracts the derivatives of the left and right part.\n",
                "        return Sub(self.x.differentiate(var), self.y.differentiate(var))\n",
                "\n",
                "class Mul(BinaryOperation):\n",
                "    def __str__(self) -> str:\n",
                "        return '({} * {})'.format(self.x, self.y)\n",
                "\n",
                "    def eval(self) -> Union[float, int]:\n",
                "        return self.x.eval() * self.y.eval()\n",
                "\n",
                "    def differentiate(self, var: str) -> BaseNode:\n",
                "# TODO differentiate the product x * y. (Hint: Product rule)\n",
                "        return Sum(\n",
                "            x = Mul(\n",
                "                x = self.x, \n",
                "                y = self.y.differentiate(var)\n",
                "                ), \n",
                "            y = Mul(\n",
                "                x = self.x.differentiate(var), \n",
                "                y = self.y))\n",
                "\n",
                "\n",
                "class Div(BinaryOperation):\n",
                "    def __str__(self) -> str:\n",
                "        return '({} / {})'.format(self.x, self.y)\n",
                "\n",
                "    def eval(self) -> Union[float, int]:\n",
                "        return self.x.eval() / self.y.eval()\n",
                "\n",
                "    def differentiate(self, var: str) -> BaseNode:\n",
                "# TODO differentiate the quotient x / y. (Hint: Quotient rule)\n",
                "        return Div(\n",
                "            x = Sub(\n",
                "                x = Mul(self.x.differentiate(var), self.y), \n",
                "                y = Mul(self.y.differentiate(var), self.x)\n",
                "                ), \n",
                "                y = Mul(self.y, self.y)\n",
                "        )\n",
                "\n",
                "\n",
                "class Function(BaseNode, ABC):\n",
                "    def __init__(self, x: BaseNode):\n",
                "        self.x = x\n",
                "\n",
                "\n",
                "class Exp(Function):\n",
                "    def __str__(self) -> str:\n",
                "        return 'exp({})'.format(self.x)\n",
                "\n",
                "    def eval(self) -> Union[float, int]:\n",
                "        return math.exp(self.x.eval())\n",
                "\n",
                "    def differentiate(self, var: str) -> BaseNode:\n",
                "# TODO differentiate exp(x). (Hint: Chain rule)\n",
                "        return Mul(\n",
                "            x = Exp(self.x),\n",
                "            y = self.x.differentiate(var)\n",
                "            )\n",
                "\n",
                "class Log(Function):\n",
                "    def __str__(self) -> str:\n",
                "        return 'log({})'.format(self.x)\n",
                "\n",
                "    def eval(self) -> Union[float, int]:\n",
                "        return math.log(self.x.eval())\n",
                "\n",
                "    def differentiate(self, var: str) -> BaseNode:\n",
                "        return Div(\n",
                "            x=self.x.differentiate(var),\n",
                "            y=self.x\n",
                "        )\n",
                "                \n",
                "class TanH(Function):\n",
                "    def __str__(self) -> str:\n",
                "        return 'tanh({})'.format(self.x)\n",
                "\n",
                "    def eval(self) -> Union[float, int]:\n",
                "        return math.tanh(self.x.eval())\n",
                "\n",
                "    def differentiate(self, var: str) -> BaseNode:\n",
                "# TODO differentiate tanh(x). (Hint: Chain rule)\n",
                "        return Mul(\n",
                "            x=Sub(\n",
                "                x=Const(1),\n",
                "                y=Mul(TanH(self.x), TanH(self.x))\n",
                "            ),\n",
                "            y=self.x.differentiate(var)\n",
                "        )"
            ]
        },
        {
            "cell_type": "code",
            "execution_count": 47,
            "id": "9e5d2a49",
            "metadata": {},
            "outputs": [],
            "source": [
                "# Solution from dl_lab_5_sol\n",
                "\n",
                "class BaseNode(ABC):\n",
                "    @abstractmethod\n",
                "    def __str__(self) -> str:\n",
                "        pass\n",
                "\n",
                "    @abstractmethod\n",
                "    def eval(self) -> Union[float, int]:\n",
                "        pass\n",
                "\n",
                "    @abstractmethod\n",
                "    def differentiate(self, var: str) -> BaseNode:\n",
                "        pass\n",
                "\n",
                "\n",
                "class Const(BaseNode):\n",
                "    def __init__(self, value: Union[float, int]):\n",
                "        self.value = value\n",
                "\n",
                "    def __str__(self) -> str:\n",
                "        return str(self.value)\n",
                "\n",
                "    def eval(self) -> Union[float, int]:\n",
                "        return self.value\n",
                "\n",
                "    def differentiate(self, var: str) -> BaseNode:\n",
                "        return Const(0)\n",
                "\n",
                "\n",
                "class Var(BaseNode):\n",
                "    def __init__(self, name: str, value: Optional[Union[float, int]] = None):\n",
                "        self.name = name\n",
                "        self.value = value\n",
                "\n",
                "    def set_value(self, value: Union[float, int]) -> None:\n",
                "        self.value = value\n",
                "\n",
                "    def __str__(self) -> str:\n",
                "        return self.name\n",
                "\n",
                "    def eval(self) -> Union[float, int]:\n",
                "        if self.value is None:\n",
                "            raise ValueError('Value is not set. Evaluation is not possible.')\n",
                "        return self.value\n",
                "\n",
                "    def differentiate(self, var: str) -> BaseNode:\n",
                "        return Const(1) if self.name == var else Const(0)\n",
                "\n",
                "\n",
                "class BinaryOperation(BaseNode, ABC):\n",
                "    def __init__(self, x: BaseNode, y: BaseNode):\n",
                "        self.x = x\n",
                "        self.y = y\n",
                "\n",
                "\n",
                "class Sum(BinaryOperation):\n",
                "    def __str__(self) -> str:\n",
                "        return '({} + {})'.format(self.x, self.y)\n",
                "\n",
                "    def eval(self) -> Union[float, int]:\n",
                "        return self.x.eval() + self.y.eval()\n",
                "\n",
                "    def differentiate(self, var: str) -> BaseNode:\n",
                "        return Sum(self.x.differentiate(var), self.y.differentiate(var))\n",
                "\n",
                "\n",
                "class Sub(BinaryOperation):\n",
                "    def __str__(self) -> str:\n",
                "        return '({} - {})'.format(self.x, self.y)\n",
                "\n",
                "    def eval(self) -> Union[float, int]:\n",
                "        return self.x.eval() - self.y.eval()\n",
                "\n",
                "    def differentiate(self, var: str) -> BaseNode:\n",
                "        return Sub(self.x.differentiate(var), self.y.differentiate(var))\n",
                "\n",
                "\n",
                "class Mul(BinaryOperation):\n",
                "    def __str__(self) -> str:\n",
                "        return '({} * {})'.format(self.x, self.y)\n",
                "\n",
                "    def eval(self) -> Union[float, int]:\n",
                "        return self.x.eval() * self.y.eval()\n",
                "\n",
                "    def differentiate(self, var: str) -> BaseNode:\n",
                "        return Sum(\n",
                "            x=Mul(self.x.differentiate(var), self.y),\n",
                "            y=Mul(self.x, self.y.differentiate(var))\n",
                "        )\n",
                "\n",
                "\n",
                "class Div(BinaryOperation):\n",
                "    def __str__(self) -> str:\n",
                "        return '({} / {})'.format(self.x, self.y)\n",
                "\n",
                "    def eval(self) -> Union[float, int]:\n",
                "        return self.x.eval() / self.y.eval()\n",
                "\n",
                "    def differentiate(self, var: str) -> BaseNode:\n",
                "        return Div(\n",
                "            x=Sub(\n",
                "                x=Mul(self.x.differentiate(var), self.y),\n",
                "                y=Mul(self.y.differentiate(var), self.x)\n",
                "            ),\n",
                "            y=Mul(self.y, self.y)\n",
                "        )\n",
                "\n",
                "\n",
                "class Function(BaseNode, ABC):\n",
                "    def __init__(self, x: BaseNode):\n",
                "        self.x = x\n",
                "\n",
                "\n",
                "class Exp(Function):\n",
                "    def __str__(self) -> str:\n",
                "        return 'exp({})'.format(self.x)\n",
                "\n",
                "    def eval(self) -> Union[float, int]:\n",
                "        return math.exp(self.x.eval())\n",
                "\n",
                "    def differentiate(self, var: str) -> BaseNode:\n",
                "        return Mul(\n",
                "            x=Exp(self.x),\n",
                "            y=self.x.differentiate(var)\n",
                "        )\n",
                "\n",
                "\n",
                "class Log(Function):\n",
                "    def __str__(self) -> str:\n",
                "        return 'log({})'.format(self.x)\n",
                "\n",
                "    def eval(self) -> Union[float, int]:\n",
                "        return math.log(self.x.eval())\n",
                "\n",
                "    def differentiate(self, var: str) -> BaseNode:\n",
                "        return Div(\n",
                "            x=self.x.differentiate(var),\n",
                "            y=self.x\n",
                "        )\n",
                "\n",
                "\n",
                "class TanH(Function):\n",
                "    def __str__(self) -> str:\n",
                "        return 'tanh({})'.format(self.x)\n",
                "\n",
                "    def eval(self) -> Union[float, int]:\n",
                "        return math.tanh(self.x.eval())\n",
                "\n",
                "    def differentiate(self, var: str) -> BaseNode:\n",
                "        return Mul(\n",
                "            x=Sub(\n",
                "                x=Const(1),\n",
                "                y=Mul(TanH(self.x), TanH(self.x))\n",
                "            ),\n",
                "            y=self.x.differentiate(var)\n",
                "        )"
            ]
        },
        {
            "cell_type": "code",
            "execution_count": 17,
            "id": "f3914b6e",
            "metadata": {},
            "outputs": [
                {
                    "name": "stdout",
                    "output_type": "stream",
                    "text": [
                        "(((1 * y) - (0 * x)) / (y * y))\n"
                    ]
                }
            ],
            "source": [
                "x = Var('x', value=2)\n",
                "y = Var('y', value=3)\n",
                "\n",
                "Z = Div(x=x, y=y)\n",
                "dz = Z.differentiate('x')\n",
                "print(dz)"
            ]
        },
        {
            "cell_type": "code",
            "execution_count": 18,
            "id": "f3da8634",
            "metadata": {
                "execution": {
                    "iopub.execute_input": "2024-04-23T15:24:00.159635Z",
                    "iopub.status.busy": "2024-04-23T15:24:00.159432Z",
                    "iopub.status.idle": "2024-04-23T15:24:00.163775Z",
                    "shell.execute_reply": "2024-04-23T15:24:00.163379Z"
                },
                "pycharm": {
                    "name": "#%%\n"
                }
            },
            "outputs": [
                {
                    "name": "stdout",
                    "output_type": "stream",
                    "text": [
                        "((((4 * x) * 0) + (((4 * 1) + (0 * x)) * y)) + (exp((-1 * y)) * ((-1 * 0) + (0 * y))))\n"
                    ]
                }
            ],
            "source": [
                "x = Var('x', value=2)\n",
                "y = Var('y', value=3)\n",
                "\n",
                "z = Sum(\n",
                "    x=Mul(\n",
                "        x=Mul(\n",
                "            x=Const(4),\n",
                "            y=x\n",
                "        ),\n",
                "        y=y,\n",
                "    ),\n",
                "    y=Exp(\n",
                "        x=Mul(\n",
                "            x=Const(-1),\n",
                "            y=y\n",
                "    ))\n",
                ")\n",
                "\n",
                "dz = z.differentiate('x')\n",
                "print(dz)"
            ]
        },
        {
            "cell_type": "markdown",
            "id": "d257e299",
            "metadata": {
                "pycharm": {
                    "name": "#%% md\n"
                }
            },
            "source": [
                "This looks a bit complicated, but by applying some trivial simplifications we see it is correct:\n",
                "\n",
                "\\begin{align*}\n",
                "& ( ( ( ( ( 0 \\cdot x ) + ( 4 \\cdot 1 ) ) \\cdot y ) + ( ( 4 \\cdot x ) \\cdot 0 ) ) + ( exp ( ( -1 \\cdot y ) ) \\cdot ( ( 0 \\cdot y ) + ( -1 \\cdot 0 ) ) ) )  \\\\\n",
                "&\\qquad= ( ( ( 0 + 4 ) \\cdot y ) + 0 ) + ( exp ( ( -1 \\cdot y ) ) \\cdot ( 0 + 0 ) ) ) \\\\\n",
                "&\\qquad= ( 4 \\cdot y ) + ( exp ( ( -1 \\cdot y ) ) \\cdot 0 ) ) \\\\\n",
                "&\\qquad= ( 4 \\cdot y ) + 0 \\\\\n",
                "&\\qquad= 4 \\cdot y \\\\\n",
                "&\\qquad= \\frac{\\text{d}}{\\text{d}x} \\left(4xy+e^{-y}\\right)\n",
                "\\end{align*}\n",
                "\n",
                "These simplification rules are trivial arithmetic identities:\n",
                "\n",
                " - $0+x=x$\n",
                " - $0\\cdot x=0$\n",
                " - $1\\cdot x=x$\n",
                " - $0/x=0$\n",
                "\n",
                "Let us extend the classes that use these identities to automatically simplify `dz` in\n",
                "the same way we just did. As with differentiation, this should return a\n",
                "new computational graph."
            ]
        },
        {
            "cell_type": "code",
            "execution_count": 19,
            "id": "3af00777",
            "metadata": {
                "execution": {
                    "iopub.execute_input": "2024-04-23T15:24:00.165861Z",
                    "iopub.status.busy": "2024-04-23T15:24:00.165684Z",
                    "iopub.status.idle": "2024-04-23T15:24:00.172674Z",
                    "shell.execute_reply": "2024-04-23T15:24:00.172206Z"
                },
                "pycharm": {
                    "name": "#%%\n"
                }
            },
            "outputs": [],
            "source": [
                "\n",
                "class BaseNode(ABC):\n",
                "    @abstractmethod\n",
                "    def __str__(self) -> str:\n",
                "        pass\n",
                "\n",
                "    @abstractmethod\n",
                "    def eval(self) -> Union[float, int]:\n",
                "        pass\n",
                "\n",
                "    @abstractmethod\n",
                "    def differentiate(self, var: str) -> BaseNode:\n",
                "        pass\n",
                "\n",
                "    @abstractmethod\n",
                "    def simplify(self):\n",
                "        pass\n",
                "\n",
                "\n",
                "class Const(BaseNode):\n",
                "    def __init__(self, value: Union[float, int]):\n",
                "        self.value = value\n",
                "\n",
                "    def __str__(self) -> str:\n",
                "        return str(self.value)\n",
                "\n",
                "    def eval(self) -> Union[float, int]:\n",
                "        return self.value\n",
                "\n",
                "    def differentiate(self, var: str) -> BaseNode:\n",
                "        return Const(0)\n",
                "\n",
                "    def simplify(self):\n",
                "        return self\n",
                "\n",
                "\n",
                "class Var(BaseNode):\n",
                "    def __init__(self, name: str, value: Optional[Union[float, int]] = None):\n",
                "        self.name = name\n",
                "        self.value = value\n",
                "\n",
                "    def set_value(self, value: Union[float, int]) -> None:\n",
                "        self.value = value\n",
                "\n",
                "    def __str__(self) -> str:\n",
                "        return self.name\n",
                "\n",
                "    def eval(self) -> Union[float, int]:\n",
                "        if self.value is None:\n",
                "            raise ValueError('Value is not set. Evaluation is not possible.')\n",
                "        return self.value\n",
                "\n",
                "    def differentiate(self, var: str) -> BaseNode:\n",
                "        return Const(1) if self.name == var else Const(0)\n",
                "\n",
                "    def simplify(self):\n",
                "        return self\n",
                "\n",
                "\n",
                "class BinaryOperation(BaseNode, ABC):\n",
                "    def __init__(self, x: BaseNode, y: BaseNode):\n",
                "        self.x = x\n",
                "        self.y = y\n",
                "\n",
                "\n",
                "class Sum(BinaryOperation):\n",
                "    def __str__(self) -> str:\n",
                "        return '({} + {})'.format(self.x, self.y)\n",
                "\n",
                "    def eval(self) -> Union[float, int]:\n",
                "        return self.x.eval() + self.y.eval()\n",
                "\n",
                "    def differentiate(self, var: str) -> BaseNode:\n",
                "        return Sum(self.x.differentiate(var), self.y.differentiate(var))\n",
                "\n",
                "    def simplify(self):\n",
                "        simple_x = (\n",
                "            self.x.simplify()\n",
                "        )\n",
                "\n",
                "        simple_y = (\n",
                "            self.y.simplify()\n",
                "        )\n",
                "\n",
                "        if isinstance(simple_x, Const):\n",
                "            if simple_x.value == 0:\n",
                "                # Rule: 0 + y = y\n",
                "                return simple_y\n",
                "\n",
                "        if isinstance(simple_y, Const):\n",
                "            if simple_y.value == 0:\n",
                "                # Rule: x + 0 = x\n",
                "                return simple_x\n",
                "\n",
                "        if isinstance(simple_x, Const) and isinstance(simple_y, Const):\n",
                "            # If both arguments are constants we can perform the sum immediately\n",
                "            return Const(simple_x.value + simple_y.value)\n",
                "\n",
                "        # Cannot simplify further. Return a new sum node with the simplified operands.\n",
                "        return Sum(simple_x, simple_y)\n",
                "\n",
                "\n",
                "class Sub(BinaryOperation):\n",
                "    def __str__(self) -> str:\n",
                "        return '({} - {})'.format(self.x, self.y)\n",
                "\n",
                "    def eval(self) -> Union[float, int]:\n",
                "        return self.x.eval() - self.y.eval()\n",
                "\n",
                "    def differentiate(self, var: str) -> BaseNode:\n",
                "        return Sub(self.x.differentiate(var), self.y.differentiate(var))\n",
                "\n",
                "    def simplify(self):\n",
                "        simple_x = (\n",
                "            self.x.simplify()\n",
                "        )\n",
                "\n",
                "        simple_y = (\n",
                "            self.y.simplify()\n",
                "        )\n",
                "\n",
                "        if isinstance(simple_x, Const):\n",
                "            if simple_x.value == 0:\n",
                "                # Rule: 0 - y = -y\n",
                "                return Mul(Const(-1), simple_y)\n",
                "\n",
                "        if isinstance(simple_y, Const):\n",
                "            if simple_y.value == 0:\n",
                "                # Rule: x - 0 = x\n",
                "                return simple_x\n",
                "            \n",
                "        if isinstance(simple_x, Const) and isinstance(simple_y, Const):\n",
                "            # If both arguments are constants we can perform the subtract immediately\n",
                "            return Const(simple_x.value - simple_y.value)\n",
                "\n",
                "        # Cannot simplify further\n",
                "        return Sub(simple_x, simple_y)\n",
                "\n",
                "\n",
                "\n",
                "class Mul(BinaryOperation):\n",
                "    def __str__(self) -> str:\n",
                "        return '({} * {})'.format(self.x, self.y)\n",
                "\n",
                "    def eval(self) -> Union[float, int]:\n",
                "        return self.x.eval() * self.y.eval()\n",
                "\n",
                "    def differentiate(self, var: str) -> BaseNode:\n",
                "        return Sum(\n",
                "            x=Mul(self.x.differentiate(var), self.y),\n",
                "            y=Mul(self.x, self.y.differentiate(var))\n",
                "        )\n",
                "\n",
                "    def simplify(self):\n",
                "        simple_x = (\n",
                "            self.x.simplify()\n",
                "        )\n",
                "\n",
                "        simple_y = (\n",
                "            self.y.simplify()\n",
                "        )\n",
                "\n",
                "        if isinstance(simple_x, Const):\n",
                "            if simple_x.value == 0:\n",
                "                # Rule: 0 * y = 0\n",
                "                return Const(0)\n",
                "            elif simple_x.value == 1:\n",
                "                return simple_y\n",
                "        \n",
                "        if isinstance(simple_y, Const):\n",
                "            if simple_y.value == 0:\n",
                "                # Rule x * 0 = 0\n",
                "                return Const(0)\n",
                "            elif simple_y.value == 1:\n",
                "                return simple_x\n",
                "            \n",
                "        if isinstance(simple_x, Const) and isinstance(simple_y, Const):\n",
                "            return Const(simple_x.value * simple_y.value)\n",
                "        \n",
                "        # Cannot simplify further\n",
                "        return Mul(simple_x, simple_y)\n",
                "\n",
                "class Div(BinaryOperation):\n",
                "    def __str__(self) -> str:\n",
                "        return '({} / {})'.format(self.x, self.y)\n",
                "\n",
                "    def eval(self) -> Union[float, int]:\n",
                "        return self.x.eval() / self.y.eval()\n",
                "\n",
                "    def differentiate(self, var: str) -> BaseNode:\n",
                "        return Div(\n",
                "            x=Sub(\n",
                "                x=Mul(self.x.differentiate(var), self.y),\n",
                "                y=Mul(self.y.differentiate(var), self.x)\n",
                "            ),\n",
                "            y=Mul(self.y, self.y)\n",
                "        )\n",
                "\n",
                "    def simplify(self):\n",
                "        simple_x = (\n",
                "            self.x.simplify()\n",
                "        )\n",
                "\n",
                "        simple_y = (\n",
                "            self.y.simplify()\n",
                "        )\n",
                "\n",
                "        if isinstance(simple_x, Const):\n",
                "            if simple_x.value == 0:\n",
                "                # Rule: 0 * y = 0\n",
                "                return Const(0)\n",
                "        \n",
                "        if isinstance(simple_y, Const):\n",
                "            if simple_y.value == 0:\n",
                "                # Rule x * 0 = 0\n",
                "                raise ZeroDivisionError()\n",
                "            elif simple_y.value == 1:\n",
                "                return simple_x\n",
                "            \n",
                "        if isinstance(simple_x, Const) and isinstance(simple_y, Const):\n",
                "            return Const(simple_x.value / simple_y.value)\n",
                "        \n",
                "        # Cannot simplify further\n",
                "        return Div(simple_x, simple_y)\n",
                "\n",
                "class Function(BaseNode, ABC):\n",
                "    def __init__(self, x: BaseNode):\n",
                "        self.x = x\n",
                "\n",
                "\n",
                "class Exp(Function):\n",
                "    def __str__(self) -> str:\n",
                "        return 'exp({})'.format(self.x)\n",
                "\n",
                "    def eval(self) -> Union[float, int]:\n",
                "        return math.exp(self.x.eval())\n",
                "\n",
                "    def differentiate(self, var: str) -> BaseNode:\n",
                "        return Mul(\n",
                "            x=Exp(self.x),\n",
                "            y=self.x.differentiate(var)\n",
                "        )\n",
                "\n",
                "    def simplify(self):\n",
                "        simple_x = (\n",
                "            self.x.simplify()\n",
                "        )\n",
                "\n",
                "        if isinstance(simple_x, Const):\n",
                "            if simple_x.value == 0:\n",
                "                # Rule: 0 * y = 0\n",
                "                return Const(1)\n",
                "            return Const(math.exp(simple_x.value))\n",
                "            \n",
                "        # Cannot simplify further\n",
                "        return Exp(simple_x)\n",
                "\n",
                "\n",
                "class Log(Function):\n",
                "    def __str__(self) -> str:\n",
                "        return 'log({})'.format(self.x)\n",
                "\n",
                "    def eval(self) -> Union[float, int]:\n",
                "        return math.log(self.x.eval())\n",
                "\n",
                "    def differentiate(self, var: str) -> BaseNode:\n",
                "        return Div(\n",
                "            x=self.x.differentiate(var),\n",
                "            y=self.x\n",
                "        )\n",
                "\n",
                "    def simplify(self):\n",
                "        simple_x = self.x.simplify()\n",
                "\n",
                "        if isinstance(simple_x, Const):\n",
                "            if simple_x <= 0:\n",
                "                raise ValueError(\"Not defined logarithm due to non-positive input.\")\n",
                "            elif simple_x == 1:\n",
                "                return Const(0)\n",
                "            else: return Const(math.log(simple_x.value))\n",
                "\n",
                "        # Cannot simplify further\n",
                "        return Log(simple_x)\n",
                "\n",
                "\n",
                "class TanH(Function):\n",
                "    def __str__(self) -> str:\n",
                "        return 'tanh({})'.format(self.x)\n",
                "\n",
                "    def eval(self) -> Union[float, int]:\n",
                "        return math.tanh(self.x.eval())\n",
                "\n",
                "    def differentiate(self, var: str) -> BaseNode:\n",
                "        return Mul(\n",
                "            x=Sub(\n",
                "                x=Const(1),\n",
                "                y=Mul(TanH(self.x), TanH(self.x))\n",
                "            ),\n",
                "            y=self.x.differentiate(var)\n",
                "        )\n",
                "\n",
                "    def simplify(self):\n",
                "        simple_x = self.x.simplify()\n",
                "        if isinstance(simple_x, Const):\n",
                "            if simple_x.value == 0:\n",
                "            # Rule: tanh(0) = 0\n",
                "                return Const(0)\n",
                "            # Perform the operation if possible\n",
                "            return Const(math.tanh(simple_x.value))\n",
                "        # Cannot simplify further.\n",
                "        return TanH(simple_x)\n"
            ]
        },
        {
            "cell_type": "code",
            "execution_count": 21,
            "id": "6dcb0f59",
            "metadata": {
                "execution": {
                    "iopub.execute_input": "2024-04-23T15:24:00.174939Z",
                    "iopub.status.busy": "2024-04-23T15:24:00.174813Z",
                    "iopub.status.idle": "2024-04-23T15:24:00.180857Z",
                    "shell.execute_reply": "2024-04-23T15:24:00.180464Z"
                },
                "pycharm": {
                    "name": "#%%\n"
                }
            },
            "outputs": [
                {
                    "name": "stdout",
                    "output_type": "stream",
                    "text": [
                        "(4 * y)\n"
                    ]
                }
            ],
            "source": [
                "x = Var('x', value=2)\n",
                "y = Var('y', value=3)\n",
                "\n",
                "z = Sum(\n",
                "    x=Mul(\n",
                "        x=Mul(\n",
                "            x=Const(4),\n",
                "            y=x\n",
                "        ),\n",
                "        y=y,\n",
                "    ),\n",
                "    y=Exp(\n",
                "        x=Mul(\n",
                "            x=Const(-1),\n",
                "            y=y\n",
                "    ))\n",
                ")\n",
                "\n",
                "dz = z.differentiate('x')\n",
                "print(dz.simplify())"
            ]
        },
        {
            "cell_type": "markdown",
            "id": "dc80e3dc",
            "metadata": {
                "pycharm": {
                    "name": "#%% md\n"
                }
            },
            "source": [
                "The result matches what we showed above, $4y$. Simplifying the graph with these and\n",
                "other, more advanced tricks, can greatly speed up code.\n",
                "\n",
                "Now we are also equipped to perform differentiation of any order,\n",
                "for example $\\partial z / \\partial x\\partial y$ is simply:"
            ]
        },
        {
            "cell_type": "code",
            "execution_count": 22,
            "id": "6ab2a32f",
            "metadata": {
                "execution": {
                    "iopub.execute_input": "2024-04-23T15:24:00.182834Z",
                    "iopub.status.busy": "2024-04-23T15:24:00.182665Z",
                    "iopub.status.idle": "2024-04-23T15:24:00.188117Z",
                    "shell.execute_reply": "2024-04-23T15:24:00.187421Z"
                },
                "pycharm": {
                    "name": "#%%\n"
                }
            },
            "outputs": [
                {
                    "name": "stdout",
                    "output_type": "stream",
                    "text": [
                        "(((((((0 * x) + (0 * 0)) + ((0 * 1) + (4 * 0))) * y) + (((0 * x) + (4 * 1)) * 1)) + ((((0 * x) + (4 * 0)) * 0) + ((4 * x) * 0))) + (((exp((-1 * y)) * ((0 * y) + (-1 * 1))) * ((0 * y) + (-1 * 0))) + (exp((-1 * y)) * (((0 * y) + (0 * 1)) + ((0 * 0) + (-1 * 0))))))\n",
                        "4\n",
                        "4.0\n"
                    ]
                }
            ],
            "source": [
                "print(z.differentiate('x').differentiate('y'))\n",
                "print(z.differentiate('x').differentiate('y').simplify())\n",
                "print(z.differentiate('x').differentiate('y').eval())"
            ]
        },
        {
            "cell_type": "markdown",
            "id": "053d7274",
            "metadata": {
                "pycharm": {
                    "name": "#%% md\n"
                }
            },
            "source": [
                "### Training a network\n",
                "\n",
                "Let us now define a computational graph that performs the forward pass of a\n",
                "simple network, and use the functions above to compute the gradients of the parameters.\n",
                "We will use the same network we used in the third lab, reproduced below, and, as usual,\n",
                "we will test the code on the five points dataset. Since the functions we have written\n",
                "so far only work with scalar values, we will perform stochastic gradient descent\n",
                "using one sample at a time.\n",
                "\n",
                "![](../utils/03-lab-nn.png)"
            ]
        },
        {
            "attachments": {
                "image.png": {
                    "image/png": "[encoded data removed]"
                }
            },
            "cell_type": "markdown",
            "id": "3340c191",
            "metadata": {},
            "source": [
                "![image.png](attachment:image.png)"
            ]
        },
        {
            "cell_type": "code",
            "execution_count": 23,
            "id": "3eee7a54",
            "metadata": {
                "execution": {
                    "iopub.execute_input": "2024-04-23T15:24:00.191237Z",
                    "iopub.status.busy": "2024-04-23T15:24:00.190828Z",
                    "iopub.status.idle": "2024-04-23T15:24:00.195094Z",
                    "shell.execute_reply": "2024-04-23T15:24:00.194760Z"
                },
                "pycharm": {
                    "name": "#%%\n"
                }
            },
            "outputs": [
                {
                    "name": "stdout",
                    "output_type": "stream",
                    "text": [
                        "tanh((b1 + ((x1 * w11) + (x2 * w21))))\n"
                    ]
                }
            ],
            "source": [
                "\n",
                "# The two input nodes\n",
                "x1 = Var('x1')\n",
                "x2 = Var('x2')\n",
                "\n",
                "# Parameters for the first hidden neuron\n",
                "b1 = Var('b1')\n",
                "w11 = Var('w11')\n",
                "w21 = Var('w21')\n",
                "\n",
                "# Compute the output of the first hidden neuron\n",
                "z1in = Sum(\n",
                "    x=b1,\n",
                "    y=Sum(\n",
                "       x=Mul(x1, w11),\n",
                "       y=Mul(x2, w21)\n",
                "    )\n",
                ")\n",
                "\n",
                "z1out = TanH(z1in)\n",
                "\n",
                "print(z1out)"
            ]
        },
        {
            "cell_type": "markdown",
            "id": "27695c14",
            "metadata": {
                "pycharm": {
                    "name": "#%% md\n"
                }
            },
            "source": [
                "Now, complete the remaining part of the network:"
            ]
        },
        {
            "cell_type": "code",
            "execution_count": 24,
            "id": "a6792255",
            "metadata": {
                "execution": {
                    "iopub.execute_input": "2024-04-23T15:24:00.196889Z",
                    "iopub.status.busy": "2024-04-23T15:24:00.196780Z",
                    "iopub.status.idle": "2024-04-23T15:24:00.200914Z",
                    "shell.execute_reply": "2024-04-23T15:24:00.200455Z"
                },
                "pycharm": {
                    "name": "#%%\n"
                }
            },
            "outputs": [
                {
                    "name": "stdout",
                    "output_type": "stream",
                    "text": [
                        "(1 / (1 + exp((-1 * (c + ((tanh((b1 + ((x1 * w11) + (x2 * w21)))) * u1) + (tanh((b1 + ((x1 * w12) + (x2 * w22)))) * u2)))))))\n"
                    ]
                }
            ],
            "source": [
                "\n",
                "# TODO define the parameters of the second hidden neuron.\n",
                "# Parameters for the first hidden neuron\n",
                "b2 = Var('b1')\n",
                "w12 = Var('w12')\n",
                "w22 = Var('w22')\n",
                "\n",
                "z2in = Sum(\n",
                "    x=b2,\n",
                "    y=Sum(\n",
                "       x=Mul(x1, w12),\n",
                "       y=Mul(x2, w22)\n",
                "    )\n",
                ")\n",
                "\n",
                "z2out = TanH(x=z2in)\n",
                "\n",
                "u1 = Var('u1')\n",
                "u2 = Var('u2')\n",
                "c = Var('c')\n",
                "\n",
                "\n",
                "fin = Sum(\n",
                "    x = c,\n",
                "    y = Sum(\n",
                "        x = Mul(z1out, u1),\n",
                "        y = Mul(z2out, u2)\n",
                "    )\n",
                ")\n",
                "\n",
                "fout = Div(\n",
                "    x = Const(1),\n",
                "    y = Sum(\n",
                "        x = Const(1),\n",
                "        y = Exp(Mul(Const(-1), fin))\n",
                "    )\n",
                ")\n",
                "\n",
                "print(fout)"
            ]
        },
        {
            "cell_type": "markdown",
            "id": "97412279",
            "metadata": {
                "pycharm": {
                    "name": "#%% md\n"
                }
            },
            "source": [
                "And this defines the forward pass.\n",
                "\n",
                "We can now compute the predictions of the network by evaluating `fout`,\n",
                "providing values for the inputs and weights. For example:"
            ]
        },
        {
            "cell_type": "code",
            "execution_count": 29,
            "id": "04598937",
            "metadata": {
                "execution": {
                    "iopub.execute_input": "2024-04-23T15:24:00.202484Z",
                    "iopub.status.busy": "2024-04-23T15:24:00.202317Z",
                    "iopub.status.idle": "2024-04-23T15:24:00.207788Z",
                    "shell.execute_reply": "2024-04-23T15:24:00.207350Z"
                },
                "pycharm": {
                    "name": "#%%\n"
                }
            },
            "outputs": [
                {
                    "data": {
                        "text/plain": [
                            "0.9533527373765618"
                        ]
                    },
                    "execution_count": 29,
                    "metadata": {},
                    "output_type": "execute_result"
                }
            ],
            "source": [
                "\n",
                "# Values for weights and biases\n",
                "b1.set_value(1.543385)\n",
                "w11.set_value(3.111573)\n",
                "w12.set_value(-2.808800)\n",
                "\n",
                "b2.set_value(1.373085)\n",
                "w21.set_value(3.130452)\n",
                "w22.set_value(-2.813466)\n",
                "\n",
                "c.set_value(-4.241453)\n",
                "u1.set_value(4.036489)\n",
                "u2.set_value(4.074885)\n",
                "\n",
                "# Values for the input\n",
                "x1.set_value(1)\n",
                "x2.set_value(-1)\n",
                "\n",
                "fout.eval()"
            ]
        },
        {
            "cell_type": "markdown",
            "id": "3a742bfc",
            "metadata": {
                "pycharm": {
                    "name": "#%% md\n"
                }
            },
            "source": [
                "Which should be about 0.9.\n",
                "We now have to compute the cross-entropy loss.\n",
                "For numerical stability, we will compute the loss using $f_{in}$ instead of $f_{out}$.\n",
                "Therefore, first, show that:\n",
                "\n",
                "\\begin{equation}\n",
                "-y\\cdot\\log(f_{out})-(1-y)\\cdot\\log(1-f_{out})=\n",
                "f_{in}-f_{in}\\cdot y+\\log(1+e^{-f_{in}})\n",
                "\\end{equation}\n"
            ]
        },
        {
            "attachments": {
                "image.png": {
                    "image/png": "[encoded data removed]"
                }
            },
            "cell_type": "markdown",
            "id": "4e667fd5",
            "metadata": {},
            "source": [
                "![image.png](attachment:image.png)"
            ]
        },
        {
            "cell_type": "code",
            "execution_count": 33,
            "id": "f905b585",
            "metadata": {
                "execution": {
                    "iopub.execute_input": "2024-04-23T15:24:00.209671Z",
                    "iopub.status.busy": "2024-04-23T15:24:00.209471Z",
                    "iopub.status.idle": "2024-04-23T15:24:00.213707Z",
                    "shell.execute_reply": "2024-04-23T15:24:00.213350Z"
                },
                "pycharm": {
                    "name": "#%%\n"
                }
            },
            "outputs": [
                {
                    "name": "stdout",
                    "output_type": "stream",
                    "text": [
                        "(((c + ((tanh((b1 + ((x1 * w11) + (x2 * w21)))) * u1) + (tanh((b1 + ((x1 * w12) + (x2 * w22)))) * u2))) - ((c + ((tanh((b1 + ((x1 * w11) + (x2 * w21)))) * u1) + (tanh((b1 + ((x1 * w12) + (x2 * w22)))) * u2))) * y)) + log((1 + exp((-1 * (c + ((tanh((b1 + ((x1 * w11) + (x2 * w21)))) * u1) + (tanh((b1 + ((x1 * w12) + (x2 * w22)))) * u2))))))))\n"
                    ]
                }
            ],
            "source": [
                "\n",
                "# This variable contains the label for the sample the network is predicting\n",
                "y = Var('y')\n",
                "\n",
                "# TODO compute the binary cross entropy loss with the logits (Eq. 3, right)\n",
                "loss = Sum(\n",
                "    x = Sub(\n",
                "        x = fin,\n",
                "        y = Mul(fin, y)\n",
                "    ),\n",
                "    y = Log(\n",
                "        Sum(\n",
                "            x = Const(1), \n",
                "            y = Exp(Mul(Const(-1), fin))))\n",
                ")\n",
                "\n",
                "print(loss)"
            ]
        },
        {
            "cell_type": "markdown",
            "id": "5d621e34",
            "metadata": {
                "pycharm": {
                    "name": "#%% md\n"
                }
            },
            "source": [
                "This is starting to look complicated!\n",
                "Luckily, this time, we do not have to get our hands dirty with derivatives.\n",
                "Let us find the graphs for the derivatives of each parameter of the network."
            ]
        },
        {
            "cell_type": "code",
            "execution_count": 46,
            "id": "30e39bdb",
            "metadata": {
                "execution": {
                    "iopub.execute_input": "2024-04-23T15:24:00.215426Z",
                    "iopub.status.busy": "2024-04-23T15:24:00.215156Z",
                    "iopub.status.idle": "2024-04-23T15:24:00.219906Z",
                    "shell.execute_reply": "2024-04-23T15:24:00.219234Z"
                },
                "pycharm": {
                    "name": "#%%\n"
                }
            },
            "outputs": [
                {
                    "name": "stdout",
                    "output_type": "stream",
                    "text": [
                        "(((0 + (((((1 - (tanh((b1 + ((x1 * w11) + (x2 * w21)))) * tanh((b1 + ((x1 * w11) + (x2 * w21)))))) * (0 + (((0 * w11) + (x1 * 1)) + ((0 * w21) + (x2 * 0))))) * u1) + (tanh((b1 + ((x1 * w11) + (x2 * w21)))) * 0)) + ((((1 - (tanh((b1 + ((x1 * w12) + (x2 * w22)))) * tanh((b1 + ((x1 * w12) + (x2 * w22)))))) * (0 + (((0 * w12) + (x1 * 0)) + ((0 * w22) + (x2 * 0))))) * u2) + (tanh((b1 + ((x1 * w12) + (x2 * w22)))) * 0)))) - (((0 + (((((1 - (tanh((b1 + ((x1 * w11) + (x2 * w21)))) * tanh((b1 + ((x1 * w11) + (x2 * w21)))))) * (0 + (((0 * w11) + (x1 * 1)) + ((0 * w21) + (x2 * 0))))) * u1) + (tanh((b1 + ((x1 * w11) + (x2 * w21)))) * 0)) + ((((1 - (tanh((b1 + ((x1 * w12) + (x2 * w22)))) * tanh((b1 + ((x1 * w12) + (x2 * w22)))))) * (0 + (((0 * w12) + (x1 * 0)) + ((0 * w22) + (x2 * 0))))) * u2) + (tanh((b1 + ((x1 * w12) + (x2 * w22)))) * 0)))) * y) + ((c + ((tanh((b1 + ((x1 * w11) + (x2 * w21)))) * u1) + (tanh((b1 + ((x1 * w12) + (x2 * w22)))) * u2))) * 0))) + ((0 + (exp((-1 * (c + ((tanh((b1 + ((x1 * w11) + (x2 * w21)))) * u1) + (tanh((b1 + ((x1 * w12) + (x2 * w22)))) * u2))))) * ((0 * (c + ((tanh((b1 + ((x1 * w11) + (x2 * w21)))) * u1) + (tanh((b1 + ((x1 * w12) + (x2 * w22)))) * u2)))) + (-1 * (0 + (((((1 - (tanh((b1 + ((x1 * w11) + (x2 * w21)))) * tanh((b1 + ((x1 * w11) + (x2 * w21)))))) * (0 + (((0 * w11) + (x1 * 1)) + ((0 * w21) + (x2 * 0))))) * u1) + (tanh((b1 + ((x1 * w11) + (x2 * w21)))) * 0)) + ((((1 - (tanh((b1 + ((x1 * w12) + (x2 * w22)))) * tanh((b1 + ((x1 * w12) + (x2 * w22)))))) * (0 + (((0 * w12) + (x1 * 0)) + ((0 * w22) + (x2 * 0))))) * u2) + (tanh((b1 + ((x1 * w12) + (x2 * w22)))) * 0)))))))) / (1 + exp((-1 * (c + ((tanh((b1 + ((x1 * w11) + (x2 * w21)))) * u1) + (tanh((b1 + ((x1 * w12) + (x2 * w22)))) * u2))))))))\n"
                    ]
                }
            ],
            "source": [
                "\n",
                "def get_gradient_graphs(graph: BaseNode, param_nodes: List[Var]) -> Dict:\n",
                "    graph_dict: Dict = {}\n",
                "    for param_node in param_nodes:\n",
                "        graph_dict.update({\n",
                "            param_node.name : graph.differentiate(param_node.name)\n",
                "        })\n",
                "    return graph_dict\n",
                "\n",
                "parameter_nodes = [b1, w11, w12, b2, w21, w22, c, u1, u2]\n",
                "gradient_graphs = get_gradient_graphs(loss, parameter_nodes)\n",
                "# Here we calculated gradient of loss wrt to all of the parameters\n",
                "# then store the parameter: derivative to the dictionary\n",
                "print(gradient_graphs.get('w11'))"
            ]
        },
        {
            "cell_type": "code",
            "execution_count": 47,
            "id": "e09881c0",
            "metadata": {},
            "outputs": [
                {
                    "data": {
                        "text/plain": [
                            "{'b1': <__main__.Sum at 0x19eb2051590>,\n",
                            " 'w11': <__main__.Sum at 0x19eb202a5d0>,\n",
                            " 'w12': <__main__.Sum at 0x19eb204ead0>,\n",
                            " 'w21': <__main__.Sum at 0x19eb1e633d0>,\n",
                            " 'w22': <__main__.Sum at 0x19eb2053d90>,\n",
                            " 'c': <__main__.Sum at 0x19eb2054790>,\n",
                            " 'u1': <__main__.Sum at 0x19eb2058910>,\n",
                            " 'u2': <__main__.Sum at 0x19eb205b810>}"
                        ]
                    },
                    "execution_count": 47,
                    "metadata": {},
                    "output_type": "execute_result"
                }
            ],
            "source": [
                "gradient_graphs"
            ]
        },
        {
            "cell_type": "markdown",
            "id": "5d506fd2",
            "metadata": {
                "pycharm": {
                    "name": "#%% md\n"
                }
            },
            "source": [
                "As you can see, there is a great deal of repetition in this expression.\n",
                "The repetitions could be removed by storing, in each node, its current value and\n",
                "gradient, so that we would not need to re-compute them every time. Modern deep\n",
                "learning frameworks indeed do this, and are able to compute the gradient of the\n",
                "loss with respect to all parameters in a single pass, but here we accept these\n",
                "inefficiencies for the sake of simplicity.\n",
                "\n",
                "We are now ready to train this network:"
            ]
        },
        {
            "cell_type": "code",
            "execution_count": 73,
            "id": "58750fe2",
            "metadata": {
                "execution": {
                    "iopub.execute_input": "2024-04-23T15:24:00.222919Z",
                    "iopub.status.busy": "2024-04-23T15:24:00.222681Z",
                    "iopub.status.idle": "2024-04-23T15:24:00.227958Z",
                    "shell.execute_reply": "2024-04-23T15:24:00.227566Z"
                },
                "pycharm": {
                    "name": "#%%\n"
                }
            },
            "outputs": [
                {
                    "name": "stdout",
                    "output_type": "stream",
                    "text": [
                        "EPOCH: \t     1 \t LOSS: \t 3.63982\n",
                        "EPOCH: \t     2 \t LOSS: \t 6.60943\n",
                        "EPOCH: \t     3 \t LOSS: \t 7.50368\n",
                        "EPOCH: \t     4 \t LOSS: \t 7.50349\n",
                        "EPOCH: \t     5 \t LOSS: \t 7.50280\n",
                        "EPOCH: \t     6 \t LOSS: \t 7.50183\n",
                        "EPOCH: \t     7 \t LOSS: \t 7.50064\n",
                        "EPOCH: \t     8 \t LOSS: \t 7.49925\n",
                        "EPOCH: \t     9 \t LOSS: \t 7.49761\n",
                        "EPOCH: \t    10 \t LOSS: \t 7.49568\n",
                        "EPOCH: \t    11 \t LOSS: \t 7.49336\n",
                        "EPOCH: \t    12 \t LOSS: \t 7.49052\n",
                        "EPOCH: \t    13 \t LOSS: \t 7.48697\n",
                        "EPOCH: \t    14 \t LOSS: \t 7.48237\n",
                        "EPOCH: \t    15 \t LOSS: \t 7.47617\n",
                        "EPOCH: \t    16 \t LOSS: \t 7.46730\n",
                        "EPOCH: \t    17 \t LOSS: \t 7.45353\n",
                        "EPOCH: \t    18 \t LOSS: \t 7.42917\n",
                        "EPOCH: \t    19 \t LOSS: \t 7.37555\n",
                        "EPOCH: \t    20 \t LOSS: \t 7.18682\n",
                        "EPOCH: \t    21 \t LOSS: \t 4.40085\n",
                        "EPOCH: \t    22 \t LOSS: \t 7.29705\n",
                        "EPOCH: \t    23 \t LOSS: \t 4.04188\n",
                        "EPOCH: \t    24 \t LOSS: \t 7.46865\n",
                        "EPOCH: \t    25 \t LOSS: \t 7.43493\n",
                        "EPOCH: \t    26 \t LOSS: \t 7.22689\n",
                        "EPOCH: \t    27 \t LOSS: \t 5.21296\n",
                        "EPOCH: \t    28 \t LOSS: \t 5.18137\n",
                        "EPOCH: \t    29 \t LOSS: \t 7.36447\n",
                        "EPOCH: \t    30 \t LOSS: \t 7.14236\n",
                        "EPOCH: \t    31 \t LOSS: \t 4.52478\n",
                        "EPOCH: \t    32 \t LOSS: \t 4.38262\n",
                        "EPOCH: \t    33 \t LOSS: \t 7.12538\n",
                        "EPOCH: \t    34 \t LOSS: \t 6.36655\n",
                        "EPOCH: \t    35 \t LOSS: \t 7.07656\n",
                        "EPOCH: \t    36 \t LOSS: \t 5.56810\n",
                        "EPOCH: \t    37 \t LOSS: \t 5.58281\n",
                        "EPOCH: \t    38 \t LOSS: \t 7.18706\n",
                        "EPOCH: \t    39 \t LOSS: \t 1.65647\n",
                        "EPOCH: \t    40 \t LOSS: \t 0.28954\n",
                        "EPOCH: \t    41 \t LOSS: \t 0.22845\n",
                        "EPOCH: \t    42 \t LOSS: \t 0.18935\n",
                        "EPOCH: \t    43 \t LOSS: \t 0.16172\n",
                        "EPOCH: \t    44 \t LOSS: \t 0.14128\n",
                        "EPOCH: \t    45 \t LOSS: \t 0.12556\n",
                        "EPOCH: \t    46 \t LOSS: \t 0.11308\n",
                        "EPOCH: \t    47 \t LOSS: \t 0.10292\n",
                        "EPOCH: \t    48 \t LOSS: \t 0.09447\n",
                        "EPOCH: \t    49 \t LOSS: \t 0.08734\n",
                        "EPOCH: \t    50 \t LOSS: \t 0.08123\n",
                        "EPOCH: \t    51 \t LOSS: \t 0.07594\n",
                        "EPOCH: \t    52 \t LOSS: \t 0.07131\n",
                        "EPOCH: \t    53 \t LOSS: \t 0.06722\n",
                        "EPOCH: \t    54 \t LOSS: \t 0.06358\n",
                        "EPOCH: \t    55 \t LOSS: \t 0.06032\n",
                        "EPOCH: \t    56 \t LOSS: \t 0.05739\n",
                        "EPOCH: \t    57 \t LOSS: \t 0.05473\n",
                        "EPOCH: \t    58 \t LOSS: \t 0.05231\n",
                        "EPOCH: \t    59 \t LOSS: \t 0.05009\n",
                        "EPOCH: \t    60 \t LOSS: \t 0.04806\n",
                        "EPOCH: \t    61 \t LOSS: \t 0.04619\n",
                        "EPOCH: \t    62 \t LOSS: \t 0.04446\n",
                        "EPOCH: \t    63 \t LOSS: \t 0.04286\n",
                        "EPOCH: \t    64 \t LOSS: \t 0.04137\n",
                        "EPOCH: \t    65 \t LOSS: \t 0.03998\n",
                        "EPOCH: \t    66 \t LOSS: \t 0.03868\n",
                        "EPOCH: \t    67 \t LOSS: \t 0.03747\n",
                        "EPOCH: \t    68 \t LOSS: \t 0.03633\n",
                        "EPOCH: \t    69 \t LOSS: \t 0.03526\n",
                        "EPOCH: \t    70 \t LOSS: \t 0.03425\n",
                        "EPOCH: \t    71 \t LOSS: \t 0.03329\n",
                        "EPOCH: \t    72 \t LOSS: \t 0.03239\n",
                        "EPOCH: \t    73 \t LOSS: \t 0.03154\n",
                        "EPOCH: \t    74 \t LOSS: \t 0.03073\n",
                        "EPOCH: \t    75 \t LOSS: \t 0.02996\n",
                        "EPOCH: \t    76 \t LOSS: \t 0.02923\n",
                        "EPOCH: \t    77 \t LOSS: \t 0.02853\n",
                        "EPOCH: \t    78 \t LOSS: \t 0.02787\n",
                        "EPOCH: \t    79 \t LOSS: \t 0.02724\n",
                        "EPOCH: \t    80 \t LOSS: \t 0.02663\n",
                        "EPOCH: \t    81 \t LOSS: \t 0.02605\n",
                        "EPOCH: \t    82 \t LOSS: \t 0.02550\n",
                        "EPOCH: \t    83 \t LOSS: \t 0.02497\n",
                        "EPOCH: \t    84 \t LOSS: \t 0.02446\n",
                        "EPOCH: \t    85 \t LOSS: \t 0.02397\n",
                        "EPOCH: \t    86 \t LOSS: \t 0.02350\n",
                        "EPOCH: \t    87 \t LOSS: \t 0.02305\n",
                        "EPOCH: \t    88 \t LOSS: \t 0.02262\n",
                        "EPOCH: \t    89 \t LOSS: \t 0.02220\n",
                        "EPOCH: \t    90 \t LOSS: \t 0.02180\n",
                        "EPOCH: \t    91 \t LOSS: \t 0.02141\n",
                        "EPOCH: \t    92 \t LOSS: \t 0.02104\n",
                        "EPOCH: \t    93 \t LOSS: \t 0.02068\n",
                        "EPOCH: \t    94 \t LOSS: \t 0.02033\n",
                        "EPOCH: \t    95 \t LOSS: \t 0.01999\n",
                        "EPOCH: \t    96 \t LOSS: \t 0.01966\n",
                        "EPOCH: \t    97 \t LOSS: \t 0.01935\n",
                        "EPOCH: \t    98 \t LOSS: \t 0.01904\n",
                        "EPOCH: \t    99 \t LOSS: \t 0.01874\n",
                        "EPOCH: \t   100 \t LOSS: \t 0.01846\n",
                        "EPOCH: \t   101 \t LOSS: \t 0.01818\n",
                        "EPOCH: \t   102 \t LOSS: \t 0.01791\n",
                        "EPOCH: \t   103 \t LOSS: \t 0.01765\n",
                        "EPOCH: \t   104 \t LOSS: \t 0.01739\n",
                        "EPOCH: \t   105 \t LOSS: \t 0.01714\n",
                        "EPOCH: \t   106 \t LOSS: \t 0.01690\n",
                        "EPOCH: \t   107 \t LOSS: \t 0.01667\n",
                        "EPOCH: \t   108 \t LOSS: \t 0.01644\n",
                        "EPOCH: \t   109 \t LOSS: \t 0.01622\n",
                        "EPOCH: \t   110 \t LOSS: \t 0.01601\n",
                        "EPOCH: \t   111 \t LOSS: \t 0.01580\n",
                        "EPOCH: \t   112 \t LOSS: \t 0.01559\n",
                        "EPOCH: \t   113 \t LOSS: \t 0.01539\n",
                        "EPOCH: \t   114 \t LOSS: \t 0.01520\n",
                        "EPOCH: \t   115 \t LOSS: \t 0.01501\n",
                        "EPOCH: \t   116 \t LOSS: \t 0.01483\n",
                        "EPOCH: \t   117 \t LOSS: \t 0.01465\n",
                        "EPOCH: \t   118 \t LOSS: \t 0.01447\n",
                        "EPOCH: \t   119 \t LOSS: \t 0.01430\n",
                        "EPOCH: \t   120 \t LOSS: \t 0.01413\n",
                        "EPOCH: \t   121 \t LOSS: \t 0.01397\n",
                        "EPOCH: \t   122 \t LOSS: \t 0.01381\n",
                        "EPOCH: \t   123 \t LOSS: \t 0.01365\n",
                        "EPOCH: \t   124 \t LOSS: \t 0.01350\n",
                        "EPOCH: \t   125 \t LOSS: \t 0.01335\n",
                        "EPOCH: \t   126 \t LOSS: \t 0.01320\n",
                        "EPOCH: \t   127 \t LOSS: \t 0.01306\n",
                        "EPOCH: \t   128 \t LOSS: \t 0.01292\n",
                        "EPOCH: \t   129 \t LOSS: \t 0.01278\n",
                        "EPOCH: \t   130 \t LOSS: \t 0.01265\n",
                        "EPOCH: \t   131 \t LOSS: \t 0.01252\n",
                        "EPOCH: \t   132 \t LOSS: \t 0.01239\n",
                        "EPOCH: \t   133 \t LOSS: \t 0.01227\n",
                        "EPOCH: \t   134 \t LOSS: \t 0.01214\n",
                        "EPOCH: \t   135 \t LOSS: \t 0.01202\n",
                        "EPOCH: \t   136 \t LOSS: \t 0.01190\n",
                        "EPOCH: \t   137 \t LOSS: \t 0.01179\n",
                        "EPOCH: \t   138 \t LOSS: \t 0.01167\n",
                        "EPOCH: \t   139 \t LOSS: \t 0.01156\n",
                        "EPOCH: \t   140 \t LOSS: \t 0.01145\n",
                        "EPOCH: \t   141 \t LOSS: \t 0.01134\n",
                        "EPOCH: \t   142 \t LOSS: \t 0.01124\n",
                        "EPOCH: \t   143 \t LOSS: \t 0.01114\n",
                        "EPOCH: \t   144 \t LOSS: \t 0.01103\n",
                        "EPOCH: \t   145 \t LOSS: \t 0.01093\n",
                        "EPOCH: \t   146 \t LOSS: \t 0.01084\n",
                        "EPOCH: \t   147 \t LOSS: \t 0.01074\n",
                        "EPOCH: \t   148 \t LOSS: \t 0.01064\n",
                        "EPOCH: \t   149 \t LOSS: \t 0.01055\n",
                        "EPOCH: \t   150 \t LOSS: \t 0.01046\n",
                        "EPOCH: \t   151 \t LOSS: \t 0.01033\n",
                        "EPOCH: \t   152 \t LOSS: \t 0.01032\n",
                        "EPOCH: \t   153 \t LOSS: \t 0.01030\n",
                        "EPOCH: \t   154 \t LOSS: \t 0.01028\n",
                        "EPOCH: \t   155 \t LOSS: \t 0.01026\n",
                        "EPOCH: \t   156 \t LOSS: \t 0.01025\n",
                        "EPOCH: \t   157 \t LOSS: \t 0.01023\n",
                        "EPOCH: \t   158 \t LOSS: \t 0.01021\n",
                        "EPOCH: \t   159 \t LOSS: \t 0.01020\n",
                        "EPOCH: \t   160 \t LOSS: \t 0.01018\n",
                        "EPOCH: \t   161 \t LOSS: \t 0.01016\n",
                        "EPOCH: \t   162 \t LOSS: \t 0.01014\n",
                        "EPOCH: \t   163 \t LOSS: \t 0.01013\n",
                        "EPOCH: \t   164 \t LOSS: \t 0.01011\n",
                        "EPOCH: \t   165 \t LOSS: \t 0.01009\n",
                        "EPOCH: \t   166 \t LOSS: \t 0.01008\n",
                        "EPOCH: \t   167 \t LOSS: \t 0.01006\n",
                        "EPOCH: \t   168 \t LOSS: \t 0.01004\n",
                        "EPOCH: \t   169 \t LOSS: \t 0.01003\n",
                        "EPOCH: \t   170 \t LOSS: \t 0.01001\n",
                        "EPOCH: \t   171 \t LOSS: \t 0.00999\n",
                        "EPOCH: \t   172 \t LOSS: \t 0.00998\n",
                        "EPOCH: \t   173 \t LOSS: \t 0.00996\n",
                        "EPOCH: \t   174 \t LOSS: \t 0.00995\n",
                        "EPOCH: \t   175 \t LOSS: \t 0.00993\n",
                        "EPOCH: \t   176 \t LOSS: \t 0.00991\n",
                        "EPOCH: \t   177 \t LOSS: \t 0.00990\n",
                        "EPOCH: \t   178 \t LOSS: \t 0.00988\n",
                        "EPOCH: \t   179 \t LOSS: \t 0.00986\n",
                        "EPOCH: \t   180 \t LOSS: \t 0.00985\n",
                        "EPOCH: \t   181 \t LOSS: \t 0.00983\n",
                        "EPOCH: \t   182 \t LOSS: \t 0.00982\n",
                        "EPOCH: \t   183 \t LOSS: \t 0.00980\n",
                        "EPOCH: \t   184 \t LOSS: \t 0.00979\n",
                        "EPOCH: \t   185 \t LOSS: \t 0.00977\n",
                        "EPOCH: \t   186 \t LOSS: \t 0.00975\n",
                        "EPOCH: \t   187 \t LOSS: \t 0.00974\n",
                        "EPOCH: \t   188 \t LOSS: \t 0.00972\n",
                        "EPOCH: \t   189 \t LOSS: \t 0.00971\n",
                        "EPOCH: \t   190 \t LOSS: \t 0.00969\n",
                        "EPOCH: \t   191 \t LOSS: \t 0.00968\n",
                        "EPOCH: \t   192 \t LOSS: \t 0.00966\n",
                        "EPOCH: \t   193 \t LOSS: \t 0.00965\n",
                        "EPOCH: \t   194 \t LOSS: \t 0.00963\n",
                        "EPOCH: \t   195 \t LOSS: \t 0.00962\n",
                        "EPOCH: \t   196 \t LOSS: \t 0.00960\n",
                        "EPOCH: \t   197 \t LOSS: \t 0.00959\n",
                        "EPOCH: \t   198 \t LOSS: \t 0.00957\n",
                        "EPOCH: \t   199 \t LOSS: \t 0.00956\n",
                        "EPOCH: \t   200 \t LOSS: \t 0.00954\n",
                        "EPOCH: \t   201 \t LOSS: \t 0.00953\n",
                        "EPOCH: \t   202 \t LOSS: \t 0.00951\n",
                        "EPOCH: \t   203 \t LOSS: \t 0.00950\n",
                        "EPOCH: \t   204 \t LOSS: \t 0.00948\n",
                        "EPOCH: \t   205 \t LOSS: \t 0.00947\n",
                        "EPOCH: \t   206 \t LOSS: \t 0.00945\n",
                        "EPOCH: \t   207 \t LOSS: \t 0.00944\n",
                        "EPOCH: \t   208 \t LOSS: \t 0.00942\n",
                        "EPOCH: \t   209 \t LOSS: \t 0.00941\n",
                        "EPOCH: \t   210 \t LOSS: \t 0.00939\n",
                        "EPOCH: \t   211 \t LOSS: \t 0.00938\n",
                        "EPOCH: \t   212 \t LOSS: \t 0.00936\n",
                        "EPOCH: \t   213 \t LOSS: \t 0.00935\n",
                        "EPOCH: \t   214 \t LOSS: \t 0.00934\n",
                        "EPOCH: \t   215 \t LOSS: \t 0.00932\n",
                        "EPOCH: \t   216 \t LOSS: \t 0.00931\n",
                        "EPOCH: \t   217 \t LOSS: \t 0.00929\n",
                        "EPOCH: \t   218 \t LOSS: \t 0.00928\n",
                        "EPOCH: \t   219 \t LOSS: \t 0.00926\n",
                        "EPOCH: \t   220 \t LOSS: \t 0.00925\n",
                        "EPOCH: \t   221 \t LOSS: \t 0.00924\n",
                        "EPOCH: \t   222 \t LOSS: \t 0.00922\n",
                        "EPOCH: \t   223 \t LOSS: \t 0.00921\n",
                        "EPOCH: \t   224 \t LOSS: \t 0.00919\n",
                        "EPOCH: \t   225 \t LOSS: \t 0.00918\n",
                        "EPOCH: \t   226 \t LOSS: \t 0.00917\n",
                        "EPOCH: \t   227 \t LOSS: \t 0.00915\n",
                        "EPOCH: \t   228 \t LOSS: \t 0.00914\n",
                        "EPOCH: \t   229 \t LOSS: \t 0.00913\n",
                        "EPOCH: \t   230 \t LOSS: \t 0.00911\n",
                        "EPOCH: \t   231 \t LOSS: \t 0.00910\n",
                        "EPOCH: \t   232 \t LOSS: \t 0.00908\n",
                        "EPOCH: \t   233 \t LOSS: \t 0.00907\n",
                        "EPOCH: \t   234 \t LOSS: \t 0.00906\n",
                        "EPOCH: \t   235 \t LOSS: \t 0.00904\n",
                        "EPOCH: \t   236 \t LOSS: \t 0.00903\n",
                        "EPOCH: \t   237 \t LOSS: \t 0.00902\n",
                        "EPOCH: \t   238 \t LOSS: \t 0.00900\n",
                        "EPOCH: \t   239 \t LOSS: \t 0.00899\n",
                        "EPOCH: \t   240 \t LOSS: \t 0.00898\n",
                        "EPOCH: \t   241 \t LOSS: \t 0.00896\n",
                        "EPOCH: \t   242 \t LOSS: \t 0.00895\n",
                        "EPOCH: \t   243 \t LOSS: \t 0.00894\n",
                        "EPOCH: \t   244 \t LOSS: \t 0.00892\n",
                        "EPOCH: \t   245 \t LOSS: \t 0.00891\n",
                        "EPOCH: \t   246 \t LOSS: \t 0.00890\n",
                        "EPOCH: \t   247 \t LOSS: \t 0.00889\n",
                        "EPOCH: \t   248 \t LOSS: \t 0.00887\n",
                        "EPOCH: \t   249 \t LOSS: \t 0.00886\n",
                        "EPOCH: \t   250 \t LOSS: \t 0.00885\n"
                    ]
                },
                {
                    "data": {
                        "application/pdf": "[encoded data removed]",
                        "image/png": "[encoded data removed]",
                        "text/plain": [
                            "<Figure size 640x480 with 1 Axes>"
                        ]
                    },
                    "metadata": {},
                    "output_type": "display_data"
                }
            ],
            "source": [
                "\n",
                "# Create dataset.\n",
                "x = [\n",
                "    [0, 0],\n",
                "    [1, 0],\n",
                "    [0, -1],\n",
                "    [-1, 0],\n",
                "    [0, 1]\n",
                "]\n",
                "labels = [1, 0, 0, 0, 0]\n",
                "\n",
                "# Glorot initialization for the parameters.\n",
                "def init_params(param_nodes: List[Var], bias_names: List[str]) -> None:\n",
                "    b = math.sqrt(6 / 4)\n",
                "    for param_node in param_nodes:\n",
                "        if param_node.name in bias_names:\n",
                "            param_node.set_value(0.0)\n",
                "        else:\n",
                "            param_node.set_value(uniform(-b, b))\n",
                "\n",
                "init_params(parameter_nodes, bias_names=['b1', 'b2', 'c'])\n",
                "#print(parameter_nodes)\n",
                "\n",
                "# Training Loop.\n",
                "# Losses dict follows (index of sample : list of losses during training).\n",
                "loss_dict = {i: [] for i in range(len(x))}\n",
                "for ep in range(250):\n",
                "    #print(ep)\n",
                "    ep_loss = 0.\n",
                "    for i in range(len(x)):\n",
                "        # Set the correct values for the inputs and label.\n",
                "        x1.set_value(x[i][0])\n",
                "        x2.set_value(x[i][1])\n",
                "        y.set_value(labels[i])\n",
                "\n",
                "        loss_dict[i].append(\n",
                "            loss.eval()\n",
                "        )\n",
                "        ep_loss += loss_dict[i][-1]\n",
                "\n",
                "# TODO Compute and evaluate gradient graphs.\n",
                "        gradient_graphs = get_gradient_graphs(loss, parameter_nodes)\n",
                "# TODO Perform one step of gradient descent.\n",
                "        gradient_eval = {\n",
                "            key: graph.simplify().eval() for key, graph in gradient_graphs.items()\n",
                "        }\n",
                "        #print(gradient_eval)\n",
                "# Hint: Use the `get_gradient_graphs` function we defined above.\n",
                "# Hint: When having convergence issues, it might help to start with a large\n",
                "# learning rate (e.g. 2.5) and reduce it in the higher epochs.\n",
                "        for item in parameter_nodes:\n",
                "            alpha = 2.5 if ep < 150 else 0.5\n",
                "            new_value = item.value - alpha * gradient_eval[str(item)]\n",
                "            item.set_value(new_value)\n",
                "\n",
                "    print('EPOCH: \\t {:5} \\t LOSS: \\t {:.5f}'.format(ep + 1, float(ep_loss)), end='\\r') # Overwrites\n",
                "    print('EPOCH: \\t {:5} \\t LOSS: \\t {:.5f}'.format(ep + 1, float(ep_loss)))\n",
                "\n",
                "\n",
                "# Plot loss development.\n",
                "for sample_loss in loss_dict.values():\n",
                "    plt.plot(sample_loss)\n",
                "plt.axvline(x = 100)\n",
                "plt.show()"
            ]
        },
        {
            "cell_type": "code",
            "execution_count": 59,
            "id": "afc08897",
            "metadata": {},
            "outputs": [
                {
                    "data": {
                        "text/plain": [
                            "-0.19497266415849074"
                        ]
                    },
                    "execution_count": 59,
                    "metadata": {},
                    "output_type": "execute_result"
                }
            ],
            "source": [
                "gradient_eval['b1']"
            ]
        },
        {
            "cell_type": "markdown",
            "id": "d8e142b4",
            "metadata": {
                "pycharm": {
                    "name": "#%% md\n"
                }
            },
            "source": [
                "You can clearly see how the loss of each individual training sample evolves over time.\n",
                "This also explains the \"saddle\" you might have noticed in the loss curve from the\n",
                "previous lab.\n",
                "\n",
                "And these are the predictions for the five points:"
            ]
        },
        {
            "cell_type": "code",
            "execution_count": 74,
            "id": "1ff0c71f",
            "metadata": {
                "execution": {
                    "iopub.execute_input": "2024-04-23T15:24:00.229882Z",
                    "iopub.status.busy": "2024-04-23T15:24:00.229688Z",
                    "iopub.status.idle": "2024-04-23T15:24:00.234509Z",
                    "shell.execute_reply": "2024-04-23T15:24:00.234047Z"
                },
                "pycharm": {
                    "name": "#%%\n"
                }
            },
            "outputs": [
                {
                    "name": "stdout",
                    "output_type": "stream",
                    "text": [
                        "SAMPLE:\t0\tTRUE:\t1\tPRED:\t0.997\n",
                        "SAMPLE:\t1\tTRUE:\t0\tPRED:\t0.001\n",
                        "SAMPLE:\t2\tTRUE:\t0\tPRED:\t0.001\n",
                        "SAMPLE:\t3\tTRUE:\t0\tPRED:\t0.002\n",
                        "SAMPLE:\t4\tTRUE:\t0\tPRED:\t0.001\n"
                    ]
                }
            ],
            "source": [
                "\n",
                "for i in range(len(x)):\n",
                "    x1.set_value(x[i][0])\n",
                "    x2.set_value(x[i][1])\n",
                "    y.set_value(labels[i])\n",
                "\n",
                "    prediction = fout.eval()\n",
                "    print('SAMPLE:\\t{}\\tTRUE:\\t{}\\tPRED:\\t{:.3f}'.format(i, labels[i], prediction))"
            ]
        },
        {
            "cell_type": "markdown",
            "id": "dcbee8ae",
            "metadata": {
                "pycharm": {
                    "name": "#%% md\n"
                }
            },
            "source": [
                "### Conclusion\n",
                "What we did in this exercise is (a simplification of) how deep learning frameworks\n",
                "evaluate the code you write. You only need to define how to compute the output of\n",
                "the network, and the framework figures out the necessary gradients on its own.\n",
                "They provide a much better user interface, allowing you to use `+`, `-`, `/`, `*` etc.\n",
                "as you normally would instead of the clumsy node constructors we defined here,\n",
                "but there is always a computational graph hidden behind the curtains.\n",
                "\n",
                "\n",
                "\n",
                "## Exercise 2\n",
                "\n",
                "This exercise should improve your understanding of weight decay (or L2 regularization).\n",
                "\n",
                "  1. Consider a quadratic error function $E(\\textbf{w})=E_0+\\textbf{b}^T\\textbf{w}+1/2\\cdot\\textbf{w}^T\\textbf{H}\\textbf{w}$ and its regularized counterpart $E'(\\textbf{w})=E(\\textbf{w})+\\tau/2 \\cdot\\textbf{w}^T\\textbf{w}$, and let $\\textbf{w}^*$ and $\\tilde{\\textbf{w}}$ be the minimizers of $E$ and $E'$ respectively. We want to find a node to express $\\tilde{\\textbf{w}}$ as a function of $\\textbf{w}^*$, i.e. find the displacement introduced by weight decay.\n",
                "\n",
                "      - Find the gradients of $E$ and $E'$. Note that, at the global minimum,\n",
                "     we have $\\nabla E(\\textbf{w}^*)=\\nabla E'(\\tilde{\\textbf{w}})=0$.\n",
                "      - In the equality above, express $\\textbf{w}^*$ and $\\tilde{\\textbf{w}}$ as a\n",
                "     linear combination of the eigenvectors of $\\textbf{H}$.\n",
                "      - Through algebraic manipulation, obtain $\\tilde{\\textbf{w}}_i$ as a function\n",
                "     of $\\textbf{w}^*_i$.\n",
                "      - Interpret this result geometrically.\n",
                "      - Note: $\\textbf{H}$ is square, symmetric, and positive definite,\n",
                "     which means that its eigenvectors are pairwise orthogonal and its eigenvalues\n",
                "     are positive (spectral theorem).\n",
                "\n",
                "  2. Consider a linear network of the form $y=\\textbf{w}^T\\textbf{x}$ and the mean\n",
                "squared error as a loss function. Assume that every observation is corrupted\n",
                "with Gaussian noise $\\epsilon\\sim\\mathcal{N}(\\textbf{0}, \\sigma^2\\textbf{I})$.\n",
                "Compute the expectation of the gradient under $\\epsilon$ and,\n",
                "show that adding gaussian noise to the inputs has the same effect of weight decay.\n"
            ]
        },
        {
            "cell_type": "markdown",
            "id": "955c9fe4",
            "metadata": {},
            "source": []
        }
    ],
    "metadata": {
        "kernelspec": {
            "display_name": "Python 3",
            "language": "python",
            "name": "python3"
        },
        "language_info": {
            "codemirror_mode": {
                "name": "ipython",
                "version": 3
            },
            "file_extension": ".py",
            "mimetype": "text/x-python",
            "name": "python",
            "nbconvert_exporter": "python",
            "pygments_lexer": "ipython3",
            "version": "3.11.9"
        }
    },
    "nbformat": 4,
    "nbformat_minor": 5
}
