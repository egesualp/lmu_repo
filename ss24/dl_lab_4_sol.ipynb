{
    "cells": [
        {
            "cell_type": "markdown",
            "id": "33f13773",
            "metadata": {
                "pycharm": {
                    "name": "#%% md\n"
                }
            },
            "source": [
                "# Lab 4\n",
                "\n",
                "**Lecture**: Deep Learning (Prof. Dr. David Rügamer, Emanuel Sommer)\n",
                "\n",
                "Welcome to the fourth lab. In this lab, we will derive the backpropagation equations, \n",
                "code the training procedure, and test it on our beloved dataset with five points.\n",
                "\n",
                "## Imports"
            ]
        },
        {
            "cell_type": "code",
            "execution_count": 1,
            "id": "a26dc979",
            "metadata": {
                "execution": {
                    "iopub.execute_input": "2024-04-19T06:41:54.248107Z",
                    "iopub.status.busy": "2024-04-19T06:41:54.247780Z",
                    "iopub.status.idle": "2024-04-19T06:41:55.140486Z",
                    "shell.execute_reply": "2024-04-19T06:41:55.139847Z"
                },
                "pycharm": {
                    "name": "#%%\n"
                }
            },
            "outputs": [],
            "source": [
                "from typing import Optional, List, Tuple\n",
                "\n",
                "import matplotlib.pyplot as plt\n",
                "import torch\n",
                "from matplotlib_inline.backend_inline import set_matplotlib_formats\n",
                "from torch import Tensor\n",
                "\n",
                "set_matplotlib_formats('png', 'pdf')\n"
            ]
        },
        {
            "cell_type": "markdown",
            "id": "cf1478d5",
            "metadata": {
                "pycharm": {
                    "name": "#%% md\n"
                }
            },
            "source": [
                "## Exercise 1\n",
                "Consider a neural network with $L$ layers and a loss function\n",
                "$\\mathcal{L}(\\textbf{y},\\textbf{z}^{(L)}_{\\cdot,out})$. Call the output of the $i$-th\n",
                "unit of the $\\ell$-th layer $\\textbf{z}^{(\\ell)}_{i,out}=\\sigma^{(\\ell)}(\\textbf{z}^{(\\ell)}_{i,in})$\n",
                "with $\\textbf{z}^{(\\ell)}_{i,in}=\\sum_j\\textbf{W}^{(\\ell)}_{ji}\\textbf{z}^{(\\ell-1)}_{j,out}+\\textbf{b}^{(\\ell)}_{i}$\n",
                "its pre-activation output. Finally, consider $\\delta^{(\\ell)}_i=\\partial\\mathcal{L}(\\textbf{y},\\textbf{z}^{(L)}_{\\cdot,out})/\\partial\\mathbf{z}^{(\\ell)}_{i,in}$\n",
                "the gradient of the loss with respect to the pre-activation outputs of layer $\\ell$.\n",
                "\n",
                "Derive the back-propagation algorithm for a network with arbitrary architecture.\n",
                "You might find the results of the previous lab a useful reference, as well as chapter\n",
                "5 of the book _Mathematics for Machine Learning_ (https://mml-book.github.io).\n",
                "\n",
                "\n",
                "1. Show that\n",
                "\n",
                "\\begin{align}\n",
                "\\delta^{(L)}_i &= \\frac{\\partial\\mathcal{L}(\\textbf{y},\\textbf{z}^{(L)}_{\\cdot,out})}{\\partial\\textbf{z}^{(L)}_{i,out}}\n",
                "\\cdot{\\sigma^\\prime}^{(L)}(\\textbf{z}^{(L)}_{i,in})\n",
                "\\\\\n",
                "\\frac{\\partial \\mathcal{L}(\\textbf{y},\\textbf{z}^{(L)}_{\\cdot,out})}{\\partial \\textbf{W}^{(\\ell)}_{ji}}&=\\delta^{(\\ell)}_i\\cdot\\textbf{z}^{(\\ell-1)}_{j,out} \\\\\n",
                "\\frac{\\partial \\mathcal{L}(\\textbf{y},\\textbf{z}^{(L)}_{\\cdot,out})}{\\partial \\textbf{b}^{(\\ell)}_{i}}&=\\delta^{(\\ell)}_i \\\\\n",
                "\\delta^{(\\ell-1)}_i&=\\left(\\sum_k\\delta^{(\\ell)}_k\\cdot\\textbf{W}^{(\\ell)}_{ik}\\right)\\cdot{\\sigma^\\prime}^{(\\ell-1)}(\\textbf{z}^{(\\ell-1)}_{i,in})\n",
                "\\end{align}\n",
                "\n",
                "2. Use vectorized operations (i.e., operations with vectors and matrices) to compute\n",
                "the gradients with respect to a single sample.\n",
                "\n",
                "3. (Optional) Extend the vectorized operations to handle data in batches, and show that:\n",
                "\n",
                "\\begin{align}\n",
                "\\Delta^{(L)}&=\\nabla_{\\textbf{Z}^{(L)}_{out}}\\mathcal{L}(\\textbf{Y},\\textbf{Z}^{(L)}_{out})\\odot{\\sigma^\\prime}^{(L)}(\\textbf{Z}^{(L)}_{in}) \\\\\n",
                "\\nabla_{\\textbf{W}^{(\\ell)}}\\mathcal{L}(\\textbf{Y},\\textbf{Z}^{(\\ell)}_{out})&={\\textbf{Z}^{(\\ell-1)}_{out}}^T \\cdot\\Delta^{(\\ell)} \\\\\n",
                "\\nabla_{\\textbf{b}^{(\\ell)}}\\mathcal{L}(\\textbf{Y},\\textbf{Z}^{(L)}_{out})&=\\sum_i {\\Delta^{(\\ell)}_i}^T \\\\\n",
                "\\Delta^{(\\ell-1)}&=\\Delta^{(\\ell)}{\\textbf{W}^{(\\ell)}}^T\\odot{\\sigma^\\prime}^{(\\ell-1)}(\\textbf{Z}^{(\\ell-1)}_{in})\n",
                "\\end{align}\n",
                "\n",
                "where $\\Delta^{(\\ell)}$, $\\textbf{Y}$ and $\\textbf{Z}^{(\\ell)}_{out}$ are matrices whose $i$-th row contain the respective vectors $\\delta$, $\\textbf{y}$ and $\\textbf{z}^{(\\ell)}_{\\cdot,out}$ for the $i$-th sample in the batch, and $\\odot$ is the element-wise product.\n",
                "\n",
                "\n",
                "\n",
                "### Solution\n",
                "\n",
                "#### Question 1\n",
                "\n",
                "By applying the chain rule, we have, for the last layer:\n",
                "\n",
                "\\begin{align}\n",
                "\\delta^{(L)}_i\n",
                "&=\\frac{\\partial\\mathcal{L}(\\textbf{y},\\textbf{z}^{(L)}_{\\cdot,out})}{\\partial\\textbf{z}^{(L)}_{i,in}}\n",
                "=\\frac{\\partial\\mathcal{L}(\\textbf{y},\\textbf{z}^{(L)}_{\\cdot,out})}{\\partial\\textbf{z}^{(L)}_{i,out}}\n",
                "  \\cdot\\frac{\\partial\\textbf{z}^{(L)}_{i,out}}{\\partial\\textbf{z}^{(L)}_{i,in}}\n",
                "=\n",
                "\\underbrace{\n",
                "  \\frac{\\partial\\mathcal{L}(\\textbf{y},\\textbf{z}^{(L)}_{\\cdot,out})}{\\partial\\textbf{z}^{(L)}_{i,out}}\n",
                "}_{\\text{Loss-dependent}}\\cdot{\\sigma^\\prime}^{(L)}(\\textbf{z}^{(L)}_{i,in})\n",
                "\\end{align}\n",
                "\n",
                "Where the first term depends on the loss function. Using the chain rule again,\n",
                "the derivatives of the weights of a generic layer $\\ell$ are:\n",
                "\n",
                "\\begin{align}\n",
                "\\frac{\n",
                "  \\partial \\mathcal{L}(\\textbf{y},\\textbf{z}^{(L)}_{\\cdot,out})\n",
                "}{\n",
                "  \\partial \\textbf{W}^{(\\ell)}_{ji}\n",
                "}\n",
                "&=\\frac{\n",
                "  \\partial \\mathcal{L}(\\textbf{y},\\textbf{z}^{(L)}_{\\cdot,out})\n",
                "}{\n",
                "  \\partial \\textbf{z}^{(\\ell)}_{i,in}\n",
                "}\\cdot\\frac{\n",
                "  \\partial \\textbf{z}^{(\\ell)}_{i,in}\n",
                "}{\n",
                "  \\partial \\textbf{W}^{(\\ell)}_{ji}\n",
                "} \\\\\n",
                "&=\\delta^{(\\ell)}_i\\cdot\\frac{\n",
                "  \\partial\n",
                "}{\n",
                "  \\partial \\textbf{W}^{(\\ell)}_{ji}\n",
                "}\\underbrace{\\left(\n",
                "  \\sum_k\\textbf{W}^{(\\ell)}_{ki}\\textbf{z}^{(\\ell-1)}_{k,out}+\\textbf{b}^{(\\ell)}_{i}\n",
                "\\right)}_{\\textbf{z}^{(\\ell)}_{i,in}} \\\\\n",
                "&=\\delta^{(\\ell)}_i\\cdot\\textbf{z}^{(\\ell-1)}_{j,out}\n",
                "\\end{align}\n",
                "\n",
                "And, as for the bias:\n",
                "\n",
                "\\begin{align}\n",
                "\\frac{\n",
                "  \\partial \\mathcal{L}(\\textbf{y},\\textbf{z}^{(L)}_{\\cdot,out})\n",
                "}{\n",
                "    \\partial \\textbf{b}^{(\\ell)}_{i}\n",
                "}\n",
                "&=\\frac{\n",
                "  \\partial \\mathcal{L}(\\textbf{y},\\textbf{z}^{(L)}_{\\cdot,out})\n",
                "}{\n",
                "  \\partial \\textbf{z}^{(\\ell)}_{i,in}\n",
                "}\\cdot\\frac{\n",
                "  \\partial \\textbf{z}^{(\\ell)}_{i,in}\n",
                "}{\n",
                "  \\partial \\textbf{b}^{(\\ell)}_{i}\n",
                "} \\\\\n",
                "&=\\delta^{(\\ell)}_i\\cdot\\frac{\n",
                "  \\partial\n",
                "}{\n",
                "  \\partial \\textbf{b}^{(\\ell)}_{i}\n",
                "}\\underbrace{\\left(\n",
                "  \\sum_k\\textbf{W}^{(\\ell)}_{ki}\\textbf{z}^{(\\ell-1)}_{k,out}+\\textbf{b}^{(\\ell)}_{i}\n",
                "\\right)}_{\\textbf{z}^{(\\ell)}_{i,in}} \\\\\n",
                "&=\\delta^{(\\ell)}_i\n",
                "\\end{align}\n",
                "\n",
                "Finally, the deltas of the previous layer are:\n",
                "\n",
                "\\begin{align}\n",
                "\\delta^{(\\ell-1)}_i\n",
                "&=\\frac{\n",
                "  \\partial\\mathcal{L}(\\textbf{y},\\textbf{z}^{(L)}_{\\cdot,out})\n",
                "}{\n",
                "  \\partial\\mathbf{z}^{(\\ell-1)}_{i,in}\n",
                "} \\\\\n",
                "&=\\frac{\n",
                "  \\partial\\mathcal{L}(\\textbf{y},\\textbf{z}^{(L)}_{\\cdot,out})\n",
                "}{\n",
                "  \\partial\\mathbf{z}^{(\\ell-1)}_{i,out}\n",
                "}\n",
                "\\cdot\\frac{\n",
                "  \\partial\\mathbf{z}^{(\\ell-1)}_{i,out}\n",
                "}{\n",
                "  \\partial\\mathbf{z}^{(\\ell-1)}_{i,in}\n",
                "} \\\\\n",
                "&=\\left(\n",
                "  \\sum_k\\frac{\n",
                "    \\partial\\mathcal{L}(\\textbf{y},\\textbf{z}^{(L)}_{\\cdot,out})\n",
                "  }{\n",
                "    \\partial\\mathbf{z}^{(\\ell)}_{k,in}\n",
                "  }\\cdot\\frac{\n",
                "    \\partial\\mathbf{z}^{(\\ell)}_{k,in}\n",
                "  }{\n",
                "    \\partial\\mathbf{z}^{(\\ell-1)}_{i,out}\n",
                "  }\n",
                "\\right)\n",
                "\\cdot{\\sigma^\\prime}^{(\\ell-1)}(\\textbf{z}^{(\\ell-1)}_{i,in}) \\\\\n",
                "&=\\left(\n",
                "  \\sum_k\n",
                "  \\delta^{(\\ell)}_k\n",
                "  \\cdot\\frac{\n",
                "    \\partial\n",
                "  }{\n",
                "    \\partial\\mathbf{z}^{(\\ell-1)}_{i,out}\n",
                "  }\\left(\n",
                "    \\sum_l\\textbf{W}^{(\\ell)}_{lk}\\textbf{z}^{(\\ell-1)}_{l,out}+\\textbf{b}^{(\\ell)}_{k}\n",
                "  \\right)\n",
                "\\right)\\cdot{\\sigma^\\prime}^{(\\ell-1)}(\\textbf{z}^{(\\ell-1)}_{i,in}) \\\\\n",
                "&=\\left(\n",
                "  \\sum_k\\delta^{(\\ell)}_k\\cdot\\textbf{W}^{(\\ell)}_{ik}\n",
                "\\right)\\cdot{\\sigma^\\prime}^{(\\ell-1)}(\\textbf{z}^{(\\ell-1)}_{i,in})\n",
                "\\end{align}\n",
                "\n",
                "#### Question 2\n",
                "\n",
                "The trick to find vectorized formulas is to see how to compute the previous equations\n",
                "all at the same time via matrix multiplication. Always check the dimensionality of the\n",
                "matrices and vectors involved, to make sure the shape of the result matches what it\n",
                "should be.\n",
                "\n",
                "For the last deltas, each neuron is treated independently from the others,\n",
                "therefore an element-wise multiplication between the two vectors does the job:\n",
                "\n",
                "\\begin{equation}\n",
                "\\begin{aligned}\n",
                "\\delta^{(L)}\n",
                "&=\\nabla_{\\textbf{z}^{(L)}_{\\cdot,out}}\\mathcal{L}(\\textbf{y},\\textbf{z}^{(L)}_{\\cdot,out})\n",
                "\\odot{\\sigma^\\prime}^{(L)}(\\textbf{z}^{(L)}_{\\cdot,in}) \\\\\n",
                "(N^{(L)}\\times 1) &= (N^{(L)}\\times 1) \\odot (N^{(L)}\\times 1)\n",
                "\\end{aligned}\n",
                "\\end{equation}\n",
                "\n",
                "Where the second row indicates the dimensionality, rows times columns, of the\n",
                "elements involved.\n",
                "\n",
                "To compute the gradients for the weights in Eq. 2, we multiply\n",
                "every activation of the previous layer by every delta of the current layer,\n",
                "resulting into a matrix which contains all combinations of\n",
                "$\\textbf{z}^{(\\ell)}_{i,out}$ times $\\delta^{(\\ell)}_j$. This is computed as an \"outer product\":\n",
                "\n",
                "\\begin{equation}\n",
                "\\begin{aligned}\n",
                "\\nabla_{\\textbf{W}^{(\\ell)}}\\mathcal{L}(\\textbf{y},\\textbf{z}^{(L)}_{\\cdot,out})&=\\textbf{z}^{(\\ell-1)}_{\\cdot,out}\\cdot{\\delta^{(\\ell)}}^T \\\\\n",
                "(N^{(\\ell-1)}\\times N^{(\\ell)})&=(N^{(\\ell-1)}\\times 1)\\cdot (N^{(\\ell)}\\times 1)^T\n",
                "\\end{aligned}\n",
                "\\end{equation}\n",
                "\n",
                "The gradient for the biases is easy to compute:\n",
                "\n",
                "\\begin{equation}\n",
                "\\nabla_{\\textbf{b}^{(\\ell)}}\\mathcal{L}(\\textbf{y},\\textbf{z}^{(L)}_{\\cdot,out})=\\delta^\\ell\n",
                "\\end{equation}\n",
                "\n",
                "Finally, the deltas for the previous layer:\n",
                "\n",
                "\\begin{equation}\n",
                "\\begin{aligned}\n",
                "\\delta^{(\\ell-1)}&=\\left(\\textbf{W}^{(\\ell)}\\cdot\\delta^{(\\ell)}\\right)\n",
                "\\odot{\\sigma^\\prime}^{(\\ell-1)}(\\textbf{z}^{(\\ell-1)}_{\\cdot,in}) \\\\\n",
                "(N^{(\\ell-1)}\\times 1)&=\\left(\n",
                "(N^{(\\ell-1)}\\times N^{(\\ell)})\\cdot(N^{(\\ell)}\\times 1)\n",
                "\\right)\\odot(N^{(\\ell-1)}\\times 1)\n",
                "\\end{aligned}\n",
                "\\end{equation}\n",
                "\n",
                "Which follows because the sum in Eq. 4 is the dot-product of the $i$-th row of $\\textbf{W}^{(\\ell)}$ with $\\delta^{(\\ell)}$. Doing this separately for each row results in the matrix-vector multiplication $\\textbf{W}^{(\\ell)}\\cdot\\delta^{(\\ell)}$.\n",
                "\n",
                "#### Question 3 (Optional)\n",
                "\n",
                "We now extend these formulas to handle batched data. Vectors become matrices where each row contains the vector for the corresponding sample in the batch:\n",
                "\n",
                " - The sample labels become a matrix $\\textbf{Y}$, with $\\textbf{Y}_{ij}$ the label for the $j$-th output of the $i$-th sample;\n",
                " - The hidden activations become $\\textbf{Z}^{(\\ell)}_{out}$, with $\\textbf{Z}^{(\\ell)}_{ij,out}$ the activation of the $j$-th unit in the $\\ell$-th layer for the $i$-th sample;\n",
                " - The deltas become a matrix $\\Delta^{(\\ell)}$, where row $i$ contains $\\delta^{(\\ell)}$ for the $i$-th example in the batch.\n",
                "\n",
                "Remember, the first thing you should do to understand these formulas is to think at the dimensionality of the vectors and matrices involved and make sure they match.\n",
                "\n",
                "The delta for the output layer is:\n",
                "\n",
                "\\begin{equation}\n",
                "\\Delta^{(L)}\n",
                "=\\nabla_{\\textbf{Z}^{(L)}_{out}}\\mathcal{L}(\\textbf{Y},\\textbf{Z}^{(L)}_{out})\n",
                "\\odot{\\sigma^\\prime}^{(L)}(\\textbf{Z}^{(L)}_{in})\n",
                "\\end{equation}\n",
                "\n",
                "which looks the same as Eq. 21 above, except that now we are using matrices instead of\n",
                " vectors. But the operation is the same: element-wise multiplication.\n",
                "\n",
                "The gradient with respect to $\\textbf{W}^{(\\ell)}$ is a bit more involved to compute,\n",
                "as it includes a three-dimensional tensor: the first dimension is for the samples,\n",
                "the second dimension is for the neurons of the $(\\ell-1)$-th layer, and the third\n",
                "dimension for the neurons of the $\\ell$-th layer. In other words, we are taking the\n",
                "gradients in Eq. 22, which are matrices, for each sample, and \"stacking\" them one on\n",
                "top of each other to get a \"cube\" of gradients. The element indexed by $i,j,k$ is\n",
                "the derivative of the loss of the $i$-th sample in the batch with respect to\n",
                "$\\textbf{W}^{(\\ell)}_{jk}$.\n",
                "\n",
                "\\begin{equation}\n",
                "\\left(\\nabla_{\\textbf{W}^{(\\ell)}}\\mathcal{L}(\\textbf{Y},\\textbf{Z}^{(L)}_{out})\\right)_{ijk}\n",
                "=\\left(\n",
                "  \\frac{\\partial \\mathcal{L}(\\textbf{Y},\\textbf{Z}^{(L)}_{out})}{\\partial \\textbf{W}^{(\\ell)}_{jk}}\n",
                "\\right)_i\n",
                "=\\textbf{Z}^{(\\ell-1)}_{ij,out}\\cdot\\Delta^{(\\ell)}_{ik}\n",
                "\\end{equation}\n",
                "\n",
                "To find the gradient of the weights with respect to the whole batch, we need to average this on the first dimension (the samples in the batch) to get the gradient:\n",
                "\n",
                "\\begin{equation}\n",
                "\\frac{\\partial\\mathcal{L}(\\textbf{Y},\\textbf{Z}^{(L)}_{out})}{\\partial \\textbf{W}^{(\\ell)}_{jk}}\n",
                "=\\sum_i\n",
                "\\textbf{Z}^{(\\ell-1)}_{ij,out}\n",
                "\\cdot\\Delta^{(\\ell)}_{ik}\n",
                "\\end{equation}\n",
                "\n",
                "If you look closely, you should realize that this is just a matrix product. Let's use a simpler notation to make it clear:\n",
                "\n",
                "\\begin{equation}\n",
                "A_{jk}=\\sum_i B_{ij}\\cdot C_{ik}=\\sum_i {\\left(B^T\\right)}_{ji}\\cdot C_{ik}\n",
                "\\end{equation}\n",
                "\n",
                "Therefore, after much pain:\n",
                "\n",
                "\\begin{equation}\n",
                "\\nabla_{\\textbf{W}^{(\\ell)}}\\mathcal{L}(\\textbf{Y},\\textbf{Z}^{(\\ell)}_{out})\n",
                "={\\textbf{Z}^{(\\ell-1)}_{out}}^T\n",
                "\\cdot\\Delta^{(\\ell)}\n",
                "\\end{equation}\n",
                "\n",
                "The biases are straightforward, we just have to sum over the deltas of each sample:\n",
                "\n",
                "\\begin{equation}\n",
                "\\nabla_{\\textbf{b}^{(\\ell)}}\\mathcal{L}(\\textbf{Y},\\textbf{Z}^{(L)}_{out})=\\sum_i {\\Delta^{(\\ell)}_i}^T\n",
                "\\end{equation}\n",
                "\n",
                "Finally, the deltas of the previous layer. From Eq. 4, each element is:\n",
                "\n",
                "\\begin{equation}\n",
                "\\Delta^{(\\ell-1)}_{ij}=\\left(\n",
                "  \\sum_k\\Delta^{(\\ell)}_{ik}\\cdot\\textbf{W}^{(\\ell)}_{jk}\n",
                "\\right)\\cdot{\\sigma^\\prime}^{(\\ell-1)}(\\textbf{Z}^{(\\ell-1)}_{ij,in})\n",
                "\\end{equation}\n",
                "\n",
                "The sum is again a matrix product, therefore:\n",
                "\n",
                "\\begin{equation}\n",
                "\\Delta^{(\\ell-1)}=\\Delta^{(\\ell)}{\\textbf{W}^{(\\ell)}}^T\\odot{\\sigma^\\prime}^{(\\ell-1)}(\\textbf{Z}^{(\\ell-1)}_{in})\n",
                "\\end{equation}\n"
            ]
        },
        {
            "cell_type": "markdown",
            "id": "d6a5dc1a",
            "metadata": {
                "pycharm": {
                    "name": "#%% md\n"
                }
            },
            "source": [
                "## Exercise 2\n",
                "In this exercise, we will code the backpropagation algorithm\n",
                "and apply it to our five-points dataset.\n",
                "\n",
                "First, let's define some structures to quickly create a neural network with layers of\n",
                "given size. It will use tanh activation in the hidden layers and sigmoid for\n",
                "the output layer. Although we will use it for classification, we use the mean squared\n",
                "error loss for a change.\n",
                "\n",
                "**NOTE**: We use PyTorch only as computation engine. To showcase how backpropagation\n",
                "works under the hood, we do not utilize auto diff or other structures like modules or\n",
                "autograd functions in this example (just basic OOP). However, we still use some\n",
                "conventions like forward/backward notation."
            ]
        },
        {
            "cell_type": "code",
            "execution_count": 2,
            "id": "bf8c9656",
            "metadata": {
                "execution": {
                    "iopub.execute_input": "2024-04-19T06:41:55.143229Z",
                    "iopub.status.busy": "2024-04-19T06:41:55.142970Z",
                    "iopub.status.idle": "2024-04-19T06:41:55.208483Z",
                    "shell.execute_reply": "2024-04-19T06:41:55.207751Z"
                },
                "pycharm": {
                    "name": "#%%\n"
                }
            },
            "outputs": [],
            "source": [
                "class Linear:\n",
                "    def __init__(self, in_features: int, out_features: int):\n",
                "        self.weight = self._init_glorot(in_features, out_features)\n",
                "        self.bias = torch.zeros(out_features)\n",
                "\n",
                "        self.weight_grad: Optional[Tensor] = None\n",
                "        self.bias_grad: Optional[Tensor] = None\n",
                "\n",
                "    @staticmethod\n",
                "    def _init_glorot(in_features: int, out_features: int) -> Tensor:\n",
                "        \"\"\"Init a weight matrix with glorot initialization.\"\"\"\n",
                "        b = torch.sqrt(torch.tensor([6. / (in_features + out_features)]))\n",
                "        return (2 * b) * torch.rand(in_features, out_features) - b\n",
                "\n",
                "    def forward(self, x: Tensor) -> Tensor:\n",
                "        return x @ self.weight + self.bias\n",
                "\n",
                "class Sigmoid:\n",
                "    def __init__(self):\n",
                "        self.func = lambda x: 1 / (1 + torch.exp(-x))\n",
                "\n",
                "    def forward(self, x: Tensor) -> Tensor:\n",
                "        return self.func(x)\n",
                "\n",
                "    def get_gradient(self, x: Tensor) -> Tensor:\n",
                "        return self.func(x) * (1 - self.func(x))\n",
                "\n",
                "\n",
                "class TanH:\n",
                "    @staticmethod\n",
                "    def forward(x: Tensor) -> Tensor:\n",
                "        return torch.tanh(x)\n",
                "\n",
                "    @staticmethod\n",
                "    def get_gradient(x: Tensor) -> Tensor:\n",
                "        return  1 - torch.tanh(x)**2\n",
                "\n",
                "class MSELoss:\n",
                "    @staticmethod\n",
                "    def forward(y_true: Tensor, y_pred: Tensor) -> Tensor:\n",
                "        return torch.mean((y_true - y_pred)**2)\n",
                "\n",
                "    @staticmethod\n",
                "    def get_gradient(y_true: Tensor, y_pred: Tensor) -> Tensor:\n",
                "        return 2 * (y_pred - y_true) / len(y_true)\n",
                "\n",
                "\n",
                "# Now we bring everything together and create our neural network.\n",
                "class NeuralLayer:\n",
                "    def __init__(self, in_features: int, out_features: int, activation: str):\n",
                "        self.linear = Linear(in_features, out_features)\n",
                "        \n",
                "        if activation == 'sigmoid':\n",
                "            self.act = Sigmoid()\n",
                "        elif activation == 'tanh':\n",
                "            self.act = TanH()\n",
                "        else:\n",
                "            raise ValueError('{} activation is unknown'.format(activation))\n",
                "\n",
                "        # We save the last computation as we'll need it for the backward pass.\n",
                "        self.last_input: Optional[None] = None\n",
                "        self.last_zin: Optional[None] = None\n",
                "        self.last_zout: Optional[None] = None\n",
                "\n",
                "    def forward(self, x: Tensor) -> Tensor:\n",
                "        self.last_input = x\n",
                "        self.last_zin = self.linear.forward(x)\n",
                "        self.last_zout = self.act.forward(self.last_zin)\n",
                "        return self.last_zout\n",
                "\n",
                "    def get_weight(self) -> Tensor:\n",
                "        \"\"\"Get the weight matrix in the linear layer.\"\"\"\n",
                "        return self.linear.weight\n",
                "\n",
                "    def get_bias(self) -> Tensor:\n",
                "        \"\"\"Get the weight matrix in the linear layer.\"\"\"\n",
                "        return self.linear.bias\n",
                "\n",
                "    def set_weight_gradient(self, grad: Tensor) -> None:\n",
                "        \"\"\"Set a tensor as gradient for the weight in the linear layer.\"\"\"\n",
                "        self.linear.weight_grad = grad\n",
                "\n",
                "    def set_bias_gradient(self, grad: Tensor) -> None:\n",
                "        \"\"\"Set a tensor as gradient for the bias in the linear layer.\"\"\"\n",
                "        self.linear.bias_grad = grad\n",
                "\n",
                "\n",
                "class NeuralNetwork:\n",
                "    def __init__(self, input_size, output_size, hidden_sizes: List[int]):\n",
                "        self.input_size = input_size\n",
                "        self.output_size = output_size\n",
                "        self.hidden_sizes = hidden_sizes\n",
                "\n",
                "        self.layers: List[NeuralLayer] = []\n",
                "        layer_sizes = [self.input_size] + self.hidden_sizes\n",
                "        for i in range(1, len(layer_sizes)):\n",
                "            self.layers.append(NeuralLayer(layer_sizes[i-1], layer_sizes[i], 'tanh'))\n",
                "        self.layers.append(NeuralLayer(hidden_sizes[-1], self.output_size, 'sigmoid'))\n",
                "\n",
                "        self.loss = MSELoss()\n",
                "\n",
                "    def forward(self, x: Tensor) -> Tensor:\n",
                "        for layer in self.layers:\n",
                "            x = layer.forward(x)\n",
                "        return x.squeeze(-1)\n",
                "\n",
                "    def get_loss(self, x: Tensor, y: Tensor) -> Tensor:\n",
                "        \"\"\"Compute the loss for a dataset and given labels.\"\"\"\n",
                "        return self.loss.forward(y, self.forward(x))\n",
                "\n",
                "    def backward(self, x: Tensor, y: Tensor) -> None:\n",
                "        \"\"\"Compute all gradients over backpropagation.\"\"\"\n",
                "        # Perform forward pass.\n",
                "        # The z's are automatically saved by our NeuralLayer object.\n",
                "        y_pred = self.forward(x)\n",
                "\n",
                "\n",
                "        # Compute the gradient of the loss.\n",
                "        loss_grad = self.loss.get_gradient(y, y_pred)\n",
                "\n",
                "        # Compute deltas for the output layer.\n",
                "        z_in = self.layers[-1].last_zin\n",
                "        act = self.layers[-1].act\n",
                "        deltas = loss_grad.unsqueeze(-1) * act.get_gradient(z_in)\n",
                "\n",
                "        # Traverse the whole network backwards and compute gradients on the way.\n",
                "        # The gradients for the weights/biases are directly stashed within the layer object.\n",
                "        for i in range(1, len(self.layers)):\n",
                "            previous_z_out = self.layers[-(i + 1)].last_zout\n",
                "            previous_z_in = self.layers[-(i + 1)].last_zin\n",
                "            previous_act_func = self.layers[-(i + 1)].act\n",
                "\n",
                "            current_layer = self.layers[-i]\n",
                "\n",
                "            weight_grad = previous_z_out.T @ deltas\n",
                "            bias_grad = torch.sum(deltas, dim=0)\n",
                "\n",
                "            current_layer.set_weight_gradient(weight_grad)\n",
                "            current_layer.set_bias_gradient(bias_grad)\n",
                "\n",
                "            deltas = deltas @ current_layer.get_weight().T * previous_act_func.get_gradient(previous_z_in)\n",
                "\n",
                "        # Compute gradients for the input layer.\n",
                "        self.layers[0].set_weight_gradient(x.T @ deltas)\n",
                "        self.layers[0].set_bias_gradient(torch.sum(deltas, dim=0))\n",
                "\n",
                "\n",
                "        # Check if gradients have the right size.\n",
                "        for i, layer in enumerate(self.layers):\n",
                "            if layer.linear.weight_grad.shape != layer.linear.weight.shape \\\n",
                "                or layer.linear.bias_grad.shape != layer.linear.bias.shape:\n",
                "                raise ValueError('Gradients in layer with index {} have a wrong shape.'\n",
                "                                 .format(i))\n",
                "\n",
                "\n",
                "    def apply_gradients(self, learning_rate: float) -> None:\n",
                "        \"\"\"Update weights with the computed gradients.\"\"\"\n",
                "        for layer in self.layers:\n",
                "            if layer.linear.weight_grad is not None:\n",
                "                layer.linear.weight -= learning_rate * layer.linear.weight_grad\n",
                "            if layer.linear.bias_grad is not None:\n",
                "                layer.linear.bias -= learning_rate * layer.linear.bias_grad\n"
            ]
        },
        {
            "cell_type": "markdown",
            "id": "67c3a320",
            "metadata": {
                "pycharm": {
                    "name": "#%% md\n"
                }
            },
            "source": [
                "After we have defined our network, we can create it and test if the passes work without\n",
                "errors on our small dataset."
            ]
        },
        {
            "cell_type": "code",
            "execution_count": 3,
            "id": "d9cfee55",
            "metadata": {
                "execution": {
                    "iopub.execute_input": "2024-04-19T06:41:55.210775Z",
                    "iopub.status.busy": "2024-04-19T06:41:55.210354Z",
                    "iopub.status.idle": "2024-04-19T06:41:55.216391Z",
                    "shell.execute_reply": "2024-04-19T06:41:55.215803Z"
                },
                "pycharm": {
                    "name": "#%%\n"
                }
            },
            "outputs": [
                {
                    "name": "stdout",
                    "output_type": "stream",
                    "text": [
                        "tensor([0.5000, 0.5252, 0.3701, 0.4748, 0.6299])\n"
                    ]
                }
            ],
            "source": [
                "\n",
                "x = torch.tensor([\n",
                "    [0, 0],\n",
                "    [1, 0],\n",
                "    [0, -1],\n",
                "    [-1, 0],\n",
                "    [0, 1]\n",
                "], dtype=torch.float)\n",
                "y = torch.tensor([1, 0, 0, 0, 0])\n",
                "\n",
                "network = NeuralNetwork(\n",
                "    input_size=2,\n",
                "    hidden_sizes=[5, 3],\n",
                "    output_size=1\n",
                ")\n",
                "\n",
                "print(network.forward(x))\n",
                "network.backward(x, y)"
            ]
        },
        {
            "cell_type": "markdown",
            "id": "5517e72a",
            "metadata": {
                "pycharm": {
                    "name": "#%% md\n"
                }
            },
            "source": [
                "We can inspect the decision boundary as in the\n",
                "previous exercises for the randomly initialized network:"
            ]
        },
        {
            "cell_type": "code",
            "execution_count": 4,
            "id": "da8b4e84",
            "metadata": {
                "execution": {
                    "iopub.execute_input": "2024-04-19T06:41:55.218578Z",
                    "iopub.status.busy": "2024-04-19T06:41:55.218440Z",
                    "iopub.status.idle": "2024-04-19T06:41:55.448061Z",
                    "shell.execute_reply": "2024-04-19T06:41:55.447458Z"
                },
                "pycharm": {
                    "name": "#%%\n"
                }
            },
            "outputs": [
                {
                    "data": {
                        "application/pdf": "[encoded data removed]",
                        "image/png": "[encoded data removed]",
                        "text/plain": [
                            "<Figure size 640x480 with 1 Axes>"
                        ]
                    },
                    "metadata": {},
                    "output_type": "display_data"
                }
            ],
            "source": [
                "\n",
                "def plot_decision_boundary(x: Tensor, y: Tensor, net: NeuralNetwork) -> None:\n",
                "    grid_range = torch.linspace(-2, 2, 50)\n",
                "    grid_x, grid_y = torch.meshgrid(grid_range, grid_range, indexing='ij')\n",
                "    grid_data = torch.stack([grid_x.flatten(), grid_y.flatten()]).T\n",
                "\n",
                "    predictions = net.forward(grid_data)\n",
                "\n",
                "    plt.contourf(grid_x, grid_y, predictions.view(grid_x.shape))\n",
                "    plt.scatter(x[0, 0], x[0, 1], c='red', label='1')\n",
                "    plt.scatter(x[1:, 0], x[1:, 1], c='black', label='0')\n",
                "    plt.legend()\n",
                "    plt.show()\n",
                "\n",
                "plot_decision_boundary(x, y, network)"
            ]
        },
        {
            "cell_type": "markdown",
            "id": "9b4df966",
            "metadata": {
                "pycharm": {
                    "name": "#%% md\n"
                }
            },
            "source": [
                "We can now finally train our network!"
            ]
        },
        {
            "cell_type": "code",
            "execution_count": 5,
            "id": "7ecb22ec",
            "metadata": {
                "execution": {
                    "iopub.execute_input": "2024-04-19T06:41:55.450312Z",
                    "iopub.status.busy": "2024-04-19T06:41:55.450124Z",
                    "iopub.status.idle": "2024-04-19T06:41:55.801452Z",
                    "shell.execute_reply": "2024-04-19T06:41:55.800926Z"
                },
                "pycharm": {
                    "name": "#%%\n"
                }
            },
            "outputs": [
                {
                    "name": "stdout",
                    "output_type": "stream",
                    "text": [
                        "Epoch 500: Loss: 0.13822922110557556\n",
                        "Epoch 1000: Loss: 0.0042565022595226765\n",
                        "Epoch 1500: Loss: 0.001496790675446391\n",
                        "Epoch 2000: Loss: 0.0008759872289374471\n",
                        "Epoch 2500: Loss: 0.0006118939490988851\n"
                    ]
                }
            ],
            "source": [
                "\n",
                "def train(\n",
                "        x: Tensor,\n",
                "        y: Tensor,\n",
                "        net: NeuralNetwork,\n",
                "        epochs: int,\n",
                "        lr: float,\n",
                "        verbose: int = 1,\n",
                ") -> Tuple[NeuralNetwork, Tensor]:\n",
                "    \"\"\"\n",
                "    Train a neural network.\n",
                "    :param x: Training dataset.\n",
                "    :param y: Training labels.\n",
                "    :param net: Neural network to train.\n",
                "    :param epochs: Number of training epochs.\n",
                "    :param lr: Learning rate for gradient descent.\n",
                "    :param verbose: Verbosity level. (number of epochs to print loss for)\n",
                "    :return: Trained network and losses over course of training.\n",
                "    \"\"\"\n",
                "\n",
                "\n",
                "    losses: List = []\n",
                "    for ep in range(1, epochs + 1):\n",
                "        # Compute the loss (for tracking).\n",
                "        loss = net.get_loss(x, y)\n",
                "        losses.append(loss)\n",
                "\n",
                "        # Backpropagate gradients.\n",
                "        net.backward(x, y)\n",
                "\n",
                "        # Apply gradients.\n",
                "        net.apply_gradients(learning_rate=lr)\n",
                "\n",
                "        if verbose > 0 and ep % verbose == 0:\n",
                "            print('Epoch {}: Loss: {}'.format(ep, loss))\n",
                "\n",
                "    return net, torch.stack(losses)\n",
                "\n",
                "network, losses = train(x, y, network, 2500, 0.25, verbose=500)"
            ]
        },
        {
            "cell_type": "markdown",
            "id": "6d34f207",
            "metadata": {
                "pycharm": {
                    "name": "#%% md\n"
                }
            },
            "source": [
                "By plotting the loss after each parameter update,\n",
                "we can be sure that the network converged:"
            ]
        },
        {
            "cell_type": "code",
            "execution_count": 6,
            "id": "3f6aa7ab",
            "metadata": {
                "execution": {
                    "iopub.execute_input": "2024-04-19T06:41:55.803280Z",
                    "iopub.status.busy": "2024-04-19T06:41:55.803166Z",
                    "iopub.status.idle": "2024-04-19T06:41:55.896687Z",
                    "shell.execute_reply": "2024-04-19T06:41:55.896194Z"
                },
                "pycharm": {
                    "name": "#%%\n"
                }
            },
            "outputs": [
                {
                    "data": {
                        "application/pdf": "[encoded data removed]",
                        "image/png": "[encoded data removed]",
                        "text/plain": [
                            "<Figure size 640x480 with 1 Axes>"
                        ]
                    },
                    "metadata": {},
                    "output_type": "display_data"
                }
            ],
            "source": [
                "\n",
                "plt.plot(losses)\n",
                "plt.show()"
            ]
        },
        {
            "cell_type": "markdown",
            "id": "abc3c9df",
            "metadata": {
                "pycharm": {
                    "name": "#%% md\n"
                }
            },
            "source": [
                "And the decision boundary of the network is:"
            ]
        },
        {
            "cell_type": "code",
            "execution_count": 7,
            "id": "c7a2ab69",
            "metadata": {
                "execution": {
                    "iopub.execute_input": "2024-04-19T06:41:55.898455Z",
                    "iopub.status.busy": "2024-04-19T06:41:55.898332Z",
                    "iopub.status.idle": "2024-04-19T06:41:56.052205Z",
                    "shell.execute_reply": "2024-04-19T06:41:56.051797Z"
                },
                "pycharm": {
                    "name": "#%%\n"
                }
            },
            "outputs": [
                {
                    "data": {
                        "application/pdf": "[encoded data removed]",
                        "image/png": "[encoded data removed]",
                        "text/plain": [
                            "<Figure size 640x480 with 1 Axes>"
                        ]
                    },
                    "metadata": {},
                    "output_type": "display_data"
                }
            ],
            "source": [
                "\n",
                "plot_decision_boundary(x, y, network)"
            ]
        },
        {
            "cell_type": "markdown",
            "id": "b20a0954",
            "metadata": {
                "pycharm": {
                    "name": "#%% md\n"
                }
            },
            "source": [
                "Try to train a few randomly initialized networks and vary depth and hidden sizes\n",
                "to discover different decision boundaries.\n",
                "Try to modify the learning rate and see how it affects the convergence speed.\n",
                "Finally, try different ways to initialize the weights and note how the\n",
                "trainability of the network is affected."
            ]
        },
        {
            "cell_type": "markdown",
            "id": "135bc1fd",
            "metadata": {},
            "source": []
        }
    ],
    "metadata": {
        "kernelspec": {
            "display_name": "Python 3",
            "language": "python",
            "name": "python3"
        },
        "language_info": {
            "codemirror_mode": {
                "name": "ipython",
                "version": 3
            },
            "file_extension": ".py",
            "mimetype": "text/x-python",
            "name": "python",
            "nbconvert_exporter": "python",
            "pygments_lexer": "ipython3",
            "version": "3.11.9"
        }
    },
    "nbformat": 4,
    "nbformat_minor": 5
}
