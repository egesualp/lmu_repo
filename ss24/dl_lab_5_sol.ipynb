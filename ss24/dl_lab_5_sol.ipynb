{
    "cells": [
        {
            "cell_type": "markdown",
            "id": "aac398b0",
            "metadata": {
                "pycharm": {
                    "name": "#%% md\n"
                }
            },
            "source": [
                "# Lab 5\n",
                "\n",
                "**Lecture**: Deep Learning (Prof. Dr. David Rügamer, Emanuel Sommer)\n",
                "\n",
                "Welcome to the fifth lab. We will first implement a simple scalar automatic\n",
                "differentiation engine to compute partial derivatives for us,\n",
                "then do a theoretical exercise about L2 regularization.\n",
                "\n",
                "## Imports\n"
            ]
        },
        {
            "cell_type": "code",
            "execution_count": 1,
            "id": "08c3e93d",
            "metadata": {
                "execution": {
                    "iopub.execute_input": "2024-04-23T15:24:01.557626Z",
                    "iopub.status.busy": "2024-04-23T15:24:01.557338Z",
                    "iopub.status.idle": "2024-04-23T15:24:01.824517Z",
                    "shell.execute_reply": "2024-04-23T15:24:01.823724Z"
                },
                "pycharm": {
                    "name": "#%%\n"
                }
            },
            "outputs": [],
            "source": [
                "import math\n",
                "from abc import ABC, abstractmethod\n",
                "from random import uniform\n",
                "from typing import Optional, List, Union, Dict\n",
                "\n",
                "import matplotlib.pyplot as plt\n",
                "from matplotlib_inline.backend_inline import set_matplotlib_formats\n",
                "\n",
                "set_matplotlib_formats('png', 'pdf')"
            ]
        },
        {
            "cell_type": "markdown",
            "id": "bc881939",
            "metadata": {
                "pycharm": {
                    "name": "#%% md\n"
                }
            },
            "source": [
                "## Exercise 1\n",
                "\n",
                "Modern deep learning frameworks compute gradients automatically,\n",
                "so that you only need to define how to perform the forward pass in your code.\n",
                "Under the hood, the framework constructs a computational graph based on the operations\n",
                "you used. For example, consider the node:\n",
                "\n",
                "$$\n",
                "4xy+e^{-y}\n",
                "$$\n",
                "\n",
                "It can be translated into a graph that looks like this:\n",
                "\n",
                "![](../utils/05-lab-graph1.png)\n",
                "\n",
                "Where we have 'leaf' nodes at the top for variables and constants, and 'internal' nodes\n",
                "for operations. To make things simpler, in this exercise we will only work with\n",
                "scalar operations and scalar variables, but what we are going to create could, in\n",
                "principle, be extended to work with vectors and matrices. Section 6 of chapter 5 of the\n",
                "_Mathematics for Machine Learning_ book (https://mml-book.github.io/) is a good\n",
                "supplementary read.\n",
                "\n",
                "The naming of the classes responds to:\n",
                "\n",
                " - `Sum` for Addition $x+y$\n",
                " - `Sub` for Subtraction $x-y$\n",
                " - `Mul` for Product $x\\cdot y$\n",
                " - `Div` for Division $x / y$\n",
                " - `Exp` for Exponentiation $e^x$\n",
                " - `TanH` for Hyperbolic tangent $\\tanh(x)$\n",
                " - `Log` for Logarithm $\\log(x)$\n",
                "\n",
                "\n",
                "We first define some utilities to easily create nodes.\n",
                "An abstract class gives us a common interface across all the respective nodes that\n",
                "we will derive from it. This doesn't make sense now, as the class is basically empty,\n",
                "but we will extend the definition over the course of the exercise."
            ]
        },
        {
            "cell_type": "code",
            "execution_count": 2,
            "id": "e543d71a",
            "metadata": {
                "execution": {
                    "iopub.execute_input": "2024-04-23T15:24:01.827228Z",
                    "iopub.status.busy": "2024-04-23T15:24:01.826938Z",
                    "iopub.status.idle": "2024-04-23T15:24:01.832708Z",
                    "shell.execute_reply": "2024-04-23T15:24:01.832104Z"
                },
                "pycharm": {
                    "name": "#%%\n"
                }
            },
            "outputs": [],
            "source": [
                "class BaseNode(ABC):\n",
                "    pass\n",
                "\n",
                "\n",
                "class Const(BaseNode):\n",
                "    def __init__(self, value: Union[float, int]):\n",
                "        self.value = value\n",
                "\n",
                "\n",
                "class Var(BaseNode):\n",
                "    def __init__(self, name: str):\n",
                "        self.name = name\n",
                "\n",
                "\n",
                "class BinaryOperation(BaseNode, ABC):\n",
                "    def __init__(self, x: BaseNode, y: BaseNode):\n",
                "        self.x = x\n",
                "        self.y = y\n",
                "\n",
                "\n",
                "class Sum(BinaryOperation):\n",
                "    pass\n",
                "\n",
                "\n",
                "class Sub(BinaryOperation):\n",
                "    pass\n",
                "\n",
                "\n",
                "class Mul(BinaryOperation):\n",
                "    pass\n",
                "\n",
                "\n",
                "class Div(BinaryOperation):\n",
                "    pass\n",
                "\n",
                "\n",
                "class Function(BaseNode, ABC):\n",
                "    def __init__(self, x: BaseNode):\n",
                "        self.x = x\n",
                "\n",
                "\n",
                "class Exp(Function):\n",
                "    pass\n",
                "\n",
                "\n",
                "class Log(Function):\n",
                "    pass\n",
                "\n",
                "\n",
                "class TanH(Function):\n",
                "    pass"
            ]
        },
        {
            "cell_type": "code",
            "execution_count": 3,
            "id": "d6e6289f",
            "metadata": {
                "execution": {
                    "iopub.execute_input": "2024-04-23T15:24:01.834903Z",
                    "iopub.status.busy": "2024-04-23T15:24:01.834773Z",
                    "iopub.status.idle": "2024-04-23T15:24:01.838124Z",
                    "shell.execute_reply": "2024-04-23T15:24:01.837614Z"
                },
                "pycharm": {
                    "name": "#%%\n"
                }
            },
            "outputs": [
                {
                    "name": "stdout",
                    "output_type": "stream",
                    "text": [
                        "<__main__.Sum object at 0x7f629640ad40>\n",
                        "<__main__.Mul object at 0x7f629640ae30>\n",
                        "<__main__.Exp object at 0x7f629640ac50>\n"
                    ]
                }
            ],
            "source": [
                "# We then define the graph from the equation before.\n",
                "x = Var('x')\n",
                "y = Var('y')\n",
                "\n",
                "z = Sum(\n",
                "    x=Mul(\n",
                "        x=Mul(\n",
                "            x=Const(4),\n",
                "            y=x\n",
                "        ),\n",
                "        y=y,\n",
                "    ),\n",
                "    y=Exp(\n",
                "        x=Mul(\n",
                "            x=Const(-1),\n",
                "            y=y\n",
                "    ))\n",
                ")\n",
                "\n",
                "print(z)\n",
                "print(z.x.x)\n",
                "print(z.y)"
            ]
        },
        {
            "cell_type": "markdown",
            "id": "2f34ad38",
            "metadata": {
                "pycharm": {
                    "name": "#%% md\n"
                }
            },
            "source": [
                "This structure of nested objects contains the computational graph for the node above.\n",
                "Now, we can write code to manipulate this expression as we please.\n",
                "In the course of this exercise, we will see how:\n",
                "\n",
                " 1. Print an expression,\n",
                " 2. Compute its value, given the values of the variables involved,\n",
                " 3. Differentiate it to automatically find partial derivatives with respect to any given variable,\n",
                " 4. Transform it into simpler expressions that are cheaper to handle, and\n",
                " 5. Write code to train a neural network without getting our hands dirty with derivatives ever again.\n",
                "\n",
                "\n",
                "### Printing an expression\n",
                "First, since it is quite hard to understand the node from the representation above,\n",
                "let us extend the classes to convert a computational graph into a string representation\n",
                "that is easier to understand. For example, the expression $x+2y$ should be converted to"
            ]
        },
        {
            "cell_type": "code",
            "execution_count": 4,
            "id": "75823a7b",
            "metadata": {
                "execution": {
                    "iopub.execute_input": "2024-04-23T15:24:01.840958Z",
                    "iopub.status.busy": "2024-04-23T15:24:01.840635Z",
                    "iopub.status.idle": "2024-04-23T15:24:01.845648Z",
                    "shell.execute_reply": "2024-04-23T15:24:01.845254Z"
                },
                "pycharm": {
                    "name": "#%%\n"
                }
            },
            "outputs": [
                {
                    "data": {
                        "text/plain": [
                            "['(', 'x', '+', '(', '2', '*', 'y', ')', ')']"
                        ]
                    },
                    "execution_count": 4,
                    "metadata": {},
                    "output_type": "execute_result"
                }
            ],
            "source": [
                "['(', 'x', '+', '(', '2', '*', 'y', ')', ')']"
            ]
        },
        {
            "cell_type": "markdown",
            "id": "73e1f0aa",
            "metadata": {
                "pycharm": {
                    "name": "#%% md\n"
                }
            },
            "source": [
                "Which can be printed easily using `\" \".join(<list>)`, resulting in `( x + ( 2 * y ) )`.\n",
                "\n",
                "Such a function should be _recursive_. This means that when simplifying a complicated\n",
                "expression it will call itself on each constituting piece of that expression, and\n",
                "\"assemble\" the results together.\n",
                "Conceptually, the procedure is similar to the factorial operation,\n",
                "which is recursively defined in terms of the factorial of a smaller number:\n",
                "\n",
                "\\begin{equation}\n",
                "n!=\\begin{cases}\n",
                "1 & \\text{if }n < 1 \\\\\n",
                "n\\cdot(n-1)! & \\text{otherwise}\n",
                "\\end{cases}\n",
                "\\end{equation}\n",
                "\n",
                "This definition can be converted into Python as:"
            ]
        },
        {
            "cell_type": "code",
            "execution_count": 5,
            "id": "902011eb",
            "metadata": {
                "execution": {
                    "iopub.execute_input": "2024-04-23T15:24:01.847411Z",
                    "iopub.status.busy": "2024-04-23T15:24:01.847299Z",
                    "iopub.status.idle": "2024-04-23T15:24:01.849793Z",
                    "shell.execute_reply": "2024-04-23T15:24:01.849415Z"
                },
                "pycharm": {
                    "name": "#%%\n"
                }
            },
            "outputs": [
                {
                    "name": "stdout",
                    "output_type": "stream",
                    "text": [
                        "24\n"
                    ]
                }
            ],
            "source": [
                "def factorial(n: int) -> int:\n",
                "    if n < 1:\n",
                "        return 1\n",
                "    else:\n",
                "        return n * factorial(n - 1)\n",
                "\n",
                "print(factorial(4))"
            ]
        },
        {
            "cell_type": "markdown",
            "id": "fef5abff",
            "metadata": {
                "pycharm": {
                    "name": "#%% md\n"
                }
            },
            "source": [
                "In a similar way, we extend the classes with `__str__`, which is a Python utility to\n",
                "obtain a custom string representation of an object. If we define it correctly, we\n",
                "are able to traverse through the tree and print the expression."
            ]
        },
        {
            "cell_type": "code",
            "execution_count": 6,
            "id": "f0118daf",
            "metadata": {
                "execution": {
                    "iopub.execute_input": "2024-04-23T15:24:01.851710Z",
                    "iopub.status.busy": "2024-04-23T15:24:01.851416Z",
                    "iopub.status.idle": "2024-04-23T15:24:01.858043Z",
                    "shell.execute_reply": "2024-04-23T15:24:01.857401Z"
                },
                "pycharm": {
                    "name": "#%%\n"
                }
            },
            "outputs": [],
            "source": [
                "\n",
                "class BaseNode(ABC):\n",
                "    @abstractmethod\n",
                "    def __str__(self) -> str:\n",
                "        pass\n",
                "\n",
                "\n",
                "class Const(BaseNode):\n",
                "    def __init__(self, value: Union[float, int]):\n",
                "        self.value = value\n",
                "\n",
                "    def __str__(self) -> str:\n",
                "        return str(self.value)\n",
                "\n",
                "\n",
                "class Var(BaseNode):\n",
                "    def __init__(self, name: str):\n",
                "        self.name = name\n",
                "\n",
                "    def __str__(self) -> str:\n",
                "        return self.name\n",
                "\n",
                "\n",
                "class BinaryOperation(BaseNode, ABC):\n",
                "    def __init__(self, x: BaseNode, y: BaseNode):\n",
                "        self.x = x\n",
                "        self.y = y\n",
                "\n",
                "\n",
                "class Sum(BinaryOperation):\n",
                "    def __str__(self) -> str:\n",
                "        return f'({self.x} + {self.y})'\n",
                "\n",
                "\n",
                "class Sub(BinaryOperation):\n",
                "    def __str__(self) -> str:\n",
                "        return f'({self.x} - {self.y})'\n",
                "\n",
                "\n",
                "class Mul(BinaryOperation):\n",
                "    def __str__(self) -> str:\n",
                "        return f'{self.x} * {self.y}'\n",
                "\n",
                "\n",
                "class Div(BinaryOperation):\n",
                "    def __str__(self) -> str:\n",
                "        return f'{self.x} / {self.y}'\n",
                "\n",
                "\n",
                "class Function(BaseNode, ABC):\n",
                "    def __init__(self, x: BaseNode):\n",
                "        self.x = x\n",
                "\n",
                "\n",
                "class Exp(Function):\n",
                "    def __str__(self) -> str:\n",
                "        return f'exp({self.x})'\n",
                "\n",
                "\n",
                "class Log(Function):\n",
                "    def __str__(self) -> str:\n",
                "        return f'log({self.x})'\n",
                "\n",
                "\n",
                "class TanH(Function):\n",
                "    def __str__(self) -> str:\n",
                "        return f'tanh({self.x})'"
            ]
        },
        {
            "cell_type": "code",
            "execution_count": 7,
            "id": "fddeafbe",
            "metadata": {
                "execution": {
                    "iopub.execute_input": "2024-04-23T15:24:01.860341Z",
                    "iopub.status.busy": "2024-04-23T15:24:01.860131Z",
                    "iopub.status.idle": "2024-04-23T15:24:01.863032Z",
                    "shell.execute_reply": "2024-04-23T15:24:01.862692Z"
                },
                "pycharm": {
                    "name": "#%%\n"
                }
            },
            "outputs": [
                {
                    "name": "stdout",
                    "output_type": "stream",
                    "text": [
                        "(4 * x * y + exp(-1 * y))\n"
                    ]
                }
            ],
            "source": [
                "x = Var('x')\n",
                "y = Var('y')\n",
                "\n",
                "z = Sum(\n",
                "    x=Mul(\n",
                "        x=Mul(\n",
                "            x=Const(4),\n",
                "            y=x\n",
                "        ),\n",
                "        y=y,\n",
                "    ),\n",
                "    y=Exp(\n",
                "        x=Mul(\n",
                "            x=Const(-1),\n",
                "            y=y\n",
                "    ))\n",
                ")\n",
                "\n",
                "print(z)"
            ]
        },
        {
            "cell_type": "markdown",
            "id": "f26cc92d",
            "metadata": {
                "pycharm": {
                    "name": "#%% md\n"
                }
            },
            "source": [
                "This is much simpler to read!\n",
                "\n",
                "### Computing the value of an expression\n",
                "We can now extend the classes to compute the value of an expression given values for\n",
                "the variables. The methods should be recursive too."
            ]
        },
        {
            "cell_type": "code",
            "execution_count": 8,
            "id": "939bec32",
            "metadata": {
                "execution": {
                    "iopub.execute_input": "2024-04-23T15:24:01.864583Z",
                    "iopub.status.busy": "2024-04-23T15:24:01.864439Z",
                    "iopub.status.idle": "2024-04-23T15:24:01.871499Z",
                    "shell.execute_reply": "2024-04-23T15:24:01.870970Z"
                },
                "pycharm": {
                    "name": "#%%\n"
                }
            },
            "outputs": [],
            "source": [
                "\n",
                "class BaseNode(ABC):\n",
                "    @abstractmethod\n",
                "    def __str__(self) -> str:\n",
                "        pass\n",
                "\n",
                "    @abstractmethod\n",
                "    def eval(self) -> Union[float, int]:\n",
                "        pass\n",
                "\n",
                "\n",
                "class Const(BaseNode):\n",
                "    def __init__(self, value: Union[float, int]):\n",
                "        self.value = value\n",
                "\n",
                "    def __str__(self) -> str:\n",
                "        return str(self.value)\n",
                "\n",
                "    def eval(self) -> Union[float, int]:\n",
                "        return self.value\n",
                "\n",
                "\n",
                "class Var(BaseNode):\n",
                "    def __init__(self, name: str, value: Optional[Union[float, int]] = None):\n",
                "        self.name = name\n",
                "        self.value = value\n",
                "        \n",
                "    def set_value(self, value: Union[float, int]) -> None:\n",
                "        self.value = value\n",
                "\n",
                "    def __str__(self) -> str:\n",
                "        return self.name\n",
                "    \n",
                "    def eval(self) -> Union[float, int]:\n",
                "        if self.value is None:\n",
                "            raise ValueError('Value is not set. Evaluation is not possible.')\n",
                "        return self.value\n",
                "\n",
                "\n",
                "class BinaryOperation(BaseNode, ABC):\n",
                "    def __init__(self, x: BaseNode, y: BaseNode):\n",
                "        self.x = x\n",
                "        self.y = y\n",
                "\n",
                "\n",
                "class Sum(BinaryOperation):\n",
                "    def __str__(self) -> str:\n",
                "        return '({} + {})'.format(self.x, self.y)\n",
                "    \n",
                "    def eval(self) -> Union[float, int]:\n",
                "        return self.x.eval() + self.y.eval()\n",
                "\n",
                "\n",
                "class Sub(BinaryOperation):\n",
                "    def __str__(self) -> str:\n",
                "        return '({} - {})'.format(self.x, self.y)\n",
                "\n",
                "    def eval(self) -> Union[float, int]:\n",
                "        return self.x.eval() - self.y.eval()\n",
                "\n",
                "\n",
                "class Mul(BinaryOperation):\n",
                "    def __str__(self) -> str:\n",
                "        return '({} * {})'.format(self.x, self.y)\n",
                "\n",
                "    def eval(self) -> Union[float, int]:\n",
                "        return self.x.eval() * self.y.eval()\n",
                "\n",
                "\n",
                "class Div(BinaryOperation):\n",
                "    def __str__(self) -> str:\n",
                "        return '({} / {})'.format(self.x, self.y)\n",
                "\n",
                "    def eval(self) -> Union[float, int]:\n",
                "        return self.x.eval() / self.y.eval()\n",
                "\n",
                "\n",
                "class Function(BaseNode, ABC):\n",
                "    def __init__(self, x: BaseNode):\n",
                "        self.x = x\n",
                "\n",
                "\n",
                "class Exp(Function):\n",
                "    def __str__(self) -> str:\n",
                "        return 'exp({})'.format(self.x)\n",
                "\n",
                "    def eval(self) -> Union[float, int]:\n",
                "        return math.exp(self.x.eval())\n",
                "\n",
                "class Log(Function):\n",
                "    def __str__(self) -> str:\n",
                "        return 'log({})'.format(self.x)\n",
                "\n",
                "    def eval(self) -> Union[float, int]:\n",
                "        return math.log(self.x.eval())\n",
                "\n",
                "class TanH(Function):\n",
                "    def __str__(self) -> str:\n",
                "        return 'tanh({})'.format(self.x)\n",
                "\n",
                "    def eval(self) -> Union[float, int]:\n",
                "        return math.tanh(self.x.eval())"
            ]
        },
        {
            "cell_type": "code",
            "execution_count": 9,
            "id": "52978e0a",
            "metadata": {
                "execution": {
                    "iopub.execute_input": "2024-04-23T15:24:01.873693Z",
                    "iopub.status.busy": "2024-04-23T15:24:01.873467Z",
                    "iopub.status.idle": "2024-04-23T15:24:01.877037Z",
                    "shell.execute_reply": "2024-04-23T15:24:01.876553Z"
                },
                "pycharm": {
                    "name": "#%%\n"
                }
            },
            "outputs": [
                {
                    "name": "stdout",
                    "output_type": "stream",
                    "text": [
                        "24.0498\n"
                    ]
                }
            ],
            "source": [
                "x = Var('x', value=2)\n",
                "y = Var('y', value=3)\n",
                "\n",
                "z = Sum(\n",
                "    x=Mul(\n",
                "        x=Mul(\n",
                "            x=Const(4),\n",
                "            y=x\n",
                "        ),\n",
                "        y=y,\n",
                "    ),\n",
                "    y=Exp(\n",
                "        x=Mul(\n",
                "            x=Const(-1),\n",
                "            y=y\n",
                "    ))\n",
                ")\n",
                "\n",
                "print(round(z.eval(), 4))"
            ]
        },
        {
            "cell_type": "markdown",
            "id": "5481ec2a",
            "metadata": {
                "pycharm": {
                    "name": "#%% md\n"
                }
            },
            "source": [
                "The result that we expect is, of course:"
            ]
        },
        {
            "cell_type": "code",
            "execution_count": 10,
            "id": "dabab2c2",
            "metadata": {
                "execution": {
                    "iopub.execute_input": "2024-04-23T15:24:01.878808Z",
                    "iopub.status.busy": "2024-04-23T15:24:01.878653Z",
                    "iopub.status.idle": "2024-04-23T15:24:01.880952Z",
                    "shell.execute_reply": "2024-04-23T15:24:01.880605Z"
                },
                "pycharm": {
                    "name": "#%%\n"
                }
            },
            "outputs": [
                {
                    "name": "stdout",
                    "output_type": "stream",
                    "text": [
                        "24.0498\n"
                    ]
                }
            ],
            "source": [
                "print(round(4 * 2 * 3 + math.exp(-3), 4))"
            ]
        },
        {
            "cell_type": "markdown",
            "id": "f9ff316d",
            "metadata": {
                "pycharm": {
                    "name": "#%% md\n"
                }
            },
            "source": [
                "### Differentiating an expression\n",
                "\n",
                "We can finally see how to differentiate an expression with respect to a variable.\n",
                "We do this again through extending the classes to differentiates each argument\n",
                "and merge the result. Note that this should return a new computational\n",
                "graph that contains the operations necessary to compute the partial derivative\n",
                "we are interested in.\n",
                "Each `differentiate` method gets the argument `var` that specifies the name of the\n",
                "variable of which we are computing the gradient.\n",
                "\n",
                "Remember to use the chain rule where appropriate!"
            ]
        },
        {
            "cell_type": "code",
            "execution_count": 11,
            "id": "c0d22a48",
            "metadata": {
                "execution": {
                    "iopub.execute_input": "2024-04-23T15:24:01.882551Z",
                    "iopub.status.busy": "2024-04-23T15:24:01.882422Z",
                    "iopub.status.idle": "2024-04-23T15:24:01.892793Z",
                    "shell.execute_reply": "2024-04-23T15:24:01.892384Z"
                },
                "pycharm": {
                    "name": "#%%\n"
                }
            },
            "outputs": [],
            "source": [
                "\n",
                "class BaseNode(ABC):\n",
                "    @abstractmethod\n",
                "    def __str__(self) -> str:\n",
                "        pass\n",
                "\n",
                "    @abstractmethod\n",
                "    def eval(self) -> Union[float, int]:\n",
                "        pass\n",
                "\n",
                "    @abstractmethod\n",
                "    def differentiate(self, var: str) -> BaseNode:\n",
                "        pass\n",
                "\n",
                "\n",
                "class Const(BaseNode):\n",
                "    def __init__(self, value: Union[float, int]):\n",
                "        self.value = value\n",
                "\n",
                "    def __str__(self) -> str:\n",
                "        return str(self.value)\n",
                "\n",
                "    def eval(self) -> Union[float, int]:\n",
                "        return self.value\n",
                "\n",
                "    def differentiate(self, var: str) -> BaseNode:\n",
                "        return Const(0)\n",
                "\n",
                "\n",
                "class Var(BaseNode):\n",
                "    def __init__(self, name: str, value: Optional[Union[float, int]] = None):\n",
                "        self.name = name\n",
                "        self.value = value\n",
                "\n",
                "    def set_value(self, value: Union[float, int]) -> None:\n",
                "        self.value = value\n",
                "\n",
                "    def __str__(self) -> str:\n",
                "        return self.name\n",
                "\n",
                "    def eval(self) -> Union[float, int]:\n",
                "        if self.value is None:\n",
                "            raise ValueError('Value is not set. Evaluation is not possible.')\n",
                "        return self.value\n",
                "\n",
                "    def differentiate(self, var: str) -> BaseNode:\n",
                "        return Const(1) if self.name == var else Const(0)\n",
                "\n",
                "\n",
                "class BinaryOperation(BaseNode, ABC):\n",
                "    def __init__(self, x: BaseNode, y: BaseNode):\n",
                "        self.x = x\n",
                "        self.y = y\n",
                "\n",
                "\n",
                "class Sum(BinaryOperation):\n",
                "    def __str__(self) -> str:\n",
                "        return '({} + {})'.format(self.x, self.y)\n",
                "\n",
                "    def eval(self) -> Union[float, int]:\n",
                "        return self.x.eval() + self.y.eval()\n",
                "\n",
                "    def differentiate(self, var: str) -> BaseNode:\n",
                "        return Sum(self.x.differentiate(var), self.y.differentiate(var))\n",
                "\n",
                "\n",
                "class Sub(BinaryOperation):\n",
                "    def __str__(self) -> str:\n",
                "        return '({} - {})'.format(self.x, self.y)\n",
                "\n",
                "    def eval(self) -> Union[float, int]:\n",
                "        return self.x.eval() - self.y.eval()\n",
                "\n",
                "    def differentiate(self, var: str) -> BaseNode:\n",
                "        return Sub(self.x.differentiate(var), self.y.differentiate(var))\n",
                "\n",
                "\n",
                "class Mul(BinaryOperation):\n",
                "    def __str__(self) -> str:\n",
                "        return '({} * {})'.format(self.x, self.y)\n",
                "\n",
                "    def eval(self) -> Union[float, int]:\n",
                "        return self.x.eval() * self.y.eval()\n",
                "\n",
                "    def differentiate(self, var: str) -> BaseNode:\n",
                "        return Sum(\n",
                "            x=Mul(self.x.differentiate(var), self.y),\n",
                "            y=Mul(self.x, self.y.differentiate(var))\n",
                "        )\n",
                "\n",
                "\n",
                "class Div(BinaryOperation):\n",
                "    def __str__(self) -> str:\n",
                "        return '({} / {})'.format(self.x, self.y)\n",
                "\n",
                "    def eval(self) -> Union[float, int]:\n",
                "        return self.x.eval() / self.y.eval()\n",
                "\n",
                "    def differentiate(self, var: str) -> BaseNode:\n",
                "        return Div(\n",
                "            x=Sub(\n",
                "                x=Mul(self.x.differentiate(var), self.y),\n",
                "                y=Mul(self.y.differentiate(var), self.x)\n",
                "            ),\n",
                "            y=Mul(self.y, self.y)\n",
                "        )\n",
                "\n",
                "\n",
                "class Function(BaseNode, ABC):\n",
                "    def __init__(self, x: BaseNode):\n",
                "        self.x = x\n",
                "\n",
                "\n",
                "class Exp(Function):\n",
                "    def __str__(self) -> str:\n",
                "        return 'exp({})'.format(self.x)\n",
                "\n",
                "    def eval(self) -> Union[float, int]:\n",
                "        return math.exp(self.x.eval())\n",
                "\n",
                "    def differentiate(self, var: str) -> BaseNode:\n",
                "        return Mul(\n",
                "            x=Exp(self.x),\n",
                "            y=self.x.differentiate(var)\n",
                "        )\n",
                "\n",
                "\n",
                "class Log(Function):\n",
                "    def __str__(self) -> str:\n",
                "        return 'log({})'.format(self.x)\n",
                "\n",
                "    def eval(self) -> Union[float, int]:\n",
                "        return math.log(self.x.eval())\n",
                "\n",
                "    def differentiate(self, var: str) -> BaseNode:\n",
                "        return Div(\n",
                "            x=self.x.differentiate(var),\n",
                "            y=self.x\n",
                "        )\n",
                "\n",
                "\n",
                "class TanH(Function):\n",
                "    def __str__(self) -> str:\n",
                "        return 'tanh({})'.format(self.x)\n",
                "\n",
                "    def eval(self) -> Union[float, int]:\n",
                "        return math.tanh(self.x.eval())\n",
                "\n",
                "    def differentiate(self, var: str) -> BaseNode:\n",
                "        return Mul(\n",
                "            x=Sub(\n",
                "                x=Const(1),\n",
                "                y=Mul(TanH(self.x), TanH(self.x))\n",
                "            ),\n",
                "            y=self.x.differentiate(var)\n",
                "        )"
            ]
        },
        {
            "cell_type": "code",
            "execution_count": 12,
            "id": "572578ea",
            "metadata": {
                "execution": {
                    "iopub.execute_input": "2024-04-23T15:24:01.894850Z",
                    "iopub.status.busy": "2024-04-23T15:24:01.894537Z",
                    "iopub.status.idle": "2024-04-23T15:24:01.897693Z",
                    "shell.execute_reply": "2024-04-23T15:24:01.897180Z"
                },
                "pycharm": {
                    "name": "#%%\n"
                }
            },
            "outputs": [
                {
                    "name": "stdout",
                    "output_type": "stream",
                    "text": [
                        "(((((0 * x) + (4 * 1)) * y) + ((4 * x) * 0)) + (exp((-1 * y)) * ((0 * y) + (-1 * 0))))\n"
                    ]
                }
            ],
            "source": [
                "x = Var('x', value=2)\n",
                "y = Var('y', value=3)\n",
                "\n",
                "z = Sum(\n",
                "    x=Mul(\n",
                "        x=Mul(\n",
                "            x=Const(4),\n",
                "            y=x\n",
                "        ),\n",
                "        y=y,\n",
                "    ),\n",
                "    y=Exp(\n",
                "        x=Mul(\n",
                "            x=Const(-1),\n",
                "            y=y\n",
                "    ))\n",
                ")\n",
                "\n",
                "dz = z.differentiate('x')\n",
                "print(dz)"
            ]
        },
        {
            "cell_type": "markdown",
            "id": "88e091d4",
            "metadata": {
                "pycharm": {
                    "name": "#%% md\n"
                }
            },
            "source": [
                "This looks a bit complicated, but by applying some trivial simplifications we see it is correct:\n",
                "\n",
                "\\begin{align*}\n",
                "& ( ( ( ( ( 0 \\cdot x ) + ( 4 \\cdot 1 ) ) \\cdot y ) + ( ( 4 \\cdot x ) \\cdot 0 ) ) + ( exp ( ( -1 \\cdot y ) ) \\cdot ( ( 0 \\cdot y ) + ( -1 \\cdot 0 ) ) ) )  \\\\\n",
                "&\\qquad= ( ( ( 0 + 4 ) \\cdot y ) + 0 ) + ( exp ( ( -1 \\cdot y ) ) \\cdot ( 0 + 0 ) ) ) \\\\\n",
                "&\\qquad= ( 4 \\cdot y ) + ( exp ( ( -1 \\cdot y ) ) \\cdot 0 ) ) \\\\\n",
                "&\\qquad= ( 4 \\cdot y ) + 0 \\\\\n",
                "&\\qquad= 4 \\cdot y \\\\\n",
                "&\\qquad= \\frac{\\text{d}}{\\text{d}x} \\left(4xy+e^{-y}\\right)\n",
                "\\end{align*}\n",
                "\n",
                "These simplification rules are trivial arithmetic identities:\n",
                "\n",
                " - $0+x=x$\n",
                " - $0\\cdot x=0$\n",
                " - $1\\cdot x=x$\n",
                " - $0/x=0$\n",
                "\n",
                "Let us extend the classes that use these identities to automatically simplify `dz` in\n",
                "the same way we just did. As with differentiation, this should return a\n",
                "new computational graph."
            ]
        },
        {
            "cell_type": "code",
            "execution_count": 13,
            "id": "18ab92bb",
            "metadata": {
                "execution": {
                    "iopub.execute_input": "2024-04-23T15:24:01.899429Z",
                    "iopub.status.busy": "2024-04-23T15:24:01.899312Z",
                    "iopub.status.idle": "2024-04-23T15:24:01.918453Z",
                    "shell.execute_reply": "2024-04-23T15:24:01.917959Z"
                },
                "pycharm": {
                    "name": "#%%\n"
                }
            },
            "outputs": [],
            "source": [
                "\n",
                "class BaseNode(ABC):\n",
                "    @abstractmethod\n",
                "    def __str__(self) -> str:\n",
                "        pass\n",
                "\n",
                "    @abstractmethod\n",
                "    def eval(self) -> Union[float, int]:\n",
                "        pass\n",
                "\n",
                "    @abstractmethod\n",
                "    def differentiate(self, var: str) -> BaseNode:\n",
                "        pass\n",
                "\n",
                "    @abstractmethod\n",
                "    def simplify(self):\n",
                "        pass\n",
                "\n",
                "\n",
                "class Const(BaseNode):\n",
                "    def __init__(self, value: Union[float, int]):\n",
                "        self.value = value\n",
                "\n",
                "    def __str__(self) -> str:\n",
                "        return str(self.value)\n",
                "\n",
                "    def eval(self) -> Union[float, int]:\n",
                "        return self.value\n",
                "\n",
                "    def differentiate(self, var: str) -> BaseNode:\n",
                "        return Const(0)\n",
                "\n",
                "    def simplify(self):\n",
                "        return self\n",
                "\n",
                "\n",
                "class Var(BaseNode):\n",
                "    def __init__(self, name: str, value: Optional[Union[float, int]] = None):\n",
                "        self.name = name\n",
                "        self.value = value\n",
                "\n",
                "    def set_value(self, value: Union[float, int]) -> None:\n",
                "        self.value = value\n",
                "\n",
                "    def __str__(self) -> str:\n",
                "        return self.name\n",
                "\n",
                "    def eval(self) -> Union[float, int]:\n",
                "        if self.value is None:\n",
                "            raise ValueError('Value is not set. Evaluation is not possible.')\n",
                "        return self.value\n",
                "\n",
                "    def differentiate(self, var: str) -> BaseNode:\n",
                "        return Const(1) if self.name == var else Const(0)\n",
                "\n",
                "    def simplify(self):\n",
                "        return self\n",
                "\n",
                "\n",
                "class BinaryOperation(BaseNode, ABC):\n",
                "    def __init__(self, x: BaseNode, y: BaseNode):\n",
                "        self.x = x\n",
                "        self.y = y\n",
                "\n",
                "\n",
                "class Sum(BinaryOperation):\n",
                "    def __str__(self) -> str:\n",
                "        return '({} + {})'.format(self.x, self.y)\n",
                "\n",
                "    def eval(self) -> Union[float, int]:\n",
                "        return self.x.eval() + self.y.eval()\n",
                "\n",
                "    def differentiate(self, var: str) -> BaseNode:\n",
                "        return Sum(self.x.differentiate(var), self.y.differentiate(var))\n",
                "\n",
                "    def simplify(self):\n",
                "        simple_x = (\n",
                "            self.x.simplify()\n",
                "        )\n",
                "\n",
                "        simple_y = (\n",
                "            self.y.simplify()\n",
                "        )\n",
                "\n",
                "        if isinstance(simple_x, Const):\n",
                "            if simple_x.value == 0:\n",
                "                # Rule: 0 + y = y\n",
                "                return simple_y\n",
                "\n",
                "        if isinstance(simple_y, Const):\n",
                "            if simple_y.value == 0:\n",
                "                # Rule: x + 0 = x\n",
                "                return simple_x\n",
                "\n",
                "        if isinstance(simple_x, Const) and isinstance(simple_y, Const):\n",
                "            # If both arguments are constants we can perform the sum immediately\n",
                "            return Const(simple_x.value + simple_y.value)\n",
                "\n",
                "        # Cannot simplify further. Return a new sum node with the simplified operands.\n",
                "        return Sum(simple_x, simple_y)\n",
                "\n",
                "\n",
                "class Sub(BinaryOperation):\n",
                "    def __str__(self) -> str:\n",
                "        return '({} - {})'.format(self.x, self.y)\n",
                "\n",
                "    def eval(self) -> Union[float, int]:\n",
                "        return self.x.eval() - self.y.eval()\n",
                "\n",
                "    def differentiate(self, var: str) -> BaseNode:\n",
                "        return Sub(self.x.differentiate(var), self.y.differentiate(var))\n",
                "\n",
                "    def simplify(self):\n",
                "        simple_x =  self.x.simplify()\n",
                "        simple_y =  self.y.simplify()\n",
                "\n",
                "        if isinstance(simple_x, Const):\n",
                "            if simple_x.value == 0:\n",
                "                # Rule: 0 - y = -1 * y\n",
                "                return Mul(Const(-1), simple_y)\n",
                "\n",
                "        if isinstance(simple_y, Const):\n",
                "            if simple_y.value == 0:\n",
                "                # Rule: x - 0 = x\n",
                "                return simple_y\n",
                "\n",
                "        if isinstance(simple_x, Const) and isinstance(simple_y, Const):\n",
                "            # If both arguments are constants we can perform the subtraction immediately\n",
                "            return Const(simple_x.value - simple_y.value)\n",
                "\n",
                "        # Cannot simplify further.\n",
                "        return Sub(simple_x, simple_y)\n",
                "\n",
                "\n",
                "class Mul(BinaryOperation):\n",
                "    def __str__(self) -> str:\n",
                "        return '({} * {})'.format(self.x, self.y)\n",
                "\n",
                "    def eval(self) -> Union[float, int]:\n",
                "        return self.x.eval() * self.y.eval()\n",
                "\n",
                "    def differentiate(self, var: str) -> BaseNode:\n",
                "        return Sum(\n",
                "            x=Mul(self.x.differentiate(var), self.y),\n",
                "            y=Mul(self.x, self.y.differentiate(var))\n",
                "        )\n",
                "\n",
                "    def simplify(self):\n",
                "        simple_x =  self.x.simplify()\n",
                "        simple_y =  self.y.simplify()\n",
                "\n",
                "        if isinstance(simple_x, Const):\n",
                "            if simple_x.value == 0:\n",
                "                # Rule: 0 * y = 0\n",
                "                return Const(0)\n",
                "            elif simple_x.value == 1:\n",
                "                # Rule: 1 * y = y\n",
                "                return simple_y\n",
                "\n",
                "        if isinstance(simple_y, Const):\n",
                "            if simple_y.value == 0:\n",
                "                # Rule: x * 0 = 0\n",
                "                return Const(0)\n",
                "            elif simple_y.value == 1:\n",
                "                # Rule: x * 1 = x\n",
                "                return simple_x\n",
                "\n",
                "        if isinstance(simple_x, Const) and isinstance(simple_y, Const):\n",
                "            # Perform the operation if possible\n",
                "            return Const(simple_x.value * simple_y.value)\n",
                "\n",
                "        # Cannot simplify further.\n",
                "        return Mul(simple_x, simple_y)\n",
                "\n",
                "\n",
                "class Div(BinaryOperation):\n",
                "    def __str__(self) -> str:\n",
                "        return '({} / {})'.format(self.x, self.y)\n",
                "\n",
                "    def eval(self) -> Union[float, int]:\n",
                "        return self.x.eval() / self.y.eval()\n",
                "\n",
                "    def differentiate(self, var: str) -> BaseNode:\n",
                "        return Div(\n",
                "            x=Sub(\n",
                "                x=Mul(self.x.differentiate(var), self.y),\n",
                "                y=Mul(self.y.differentiate(var), self.x)\n",
                "            ),\n",
                "            y=Mul(self.y, self.y)\n",
                "        )\n",
                "\n",
                "    def simplify(self):\n",
                "        simple_x =  self.x.simplify()\n",
                "        simple_y =  self.y.simplify()\n",
                "\n",
                "        if isinstance(simple_x, Const):\n",
                "            if simple_x.value == 0:\n",
                "                # Rule: 0 / y = 0\n",
                "                return Const(0)\n",
                "\n",
                "        if isinstance(simple_y, Const):\n",
                "            if simple_y.value == 0:\n",
                "                # Rule: x / 0 = ERROR\n",
                "                raise ZeroDivisionError()\n",
                "            elif simple_y.value == 1:\n",
                "                # Rule: x / 1 = x\n",
                "                return simple_x\n",
                "\n",
                "        if isinstance(simple_x, Const) and isinstance(simple_y, Const):\n",
                "            # Perform the operation if possible\n",
                "            return Const(simple_x.value / simple_y.value)\n",
                "\n",
                "        # Cannot simplify further.\n",
                "        return Div(simple_x, simple_y)\n",
                "\n",
                "\n",
                "class Function(BaseNode, ABC):\n",
                "    def __init__(self, x: BaseNode):\n",
                "        self.x = x\n",
                "\n",
                "\n",
                "class Exp(Function):\n",
                "    def __str__(self) -> str:\n",
                "        return 'exp({})'.format(self.x)\n",
                "\n",
                "    def eval(self) -> Union[float, int]:\n",
                "        return math.exp(self.x.eval())\n",
                "\n",
                "    def differentiate(self, var: str) -> BaseNode:\n",
                "        return Mul(\n",
                "            x=Exp(self.x),\n",
                "            y=self.x.differentiate(var)\n",
                "        )\n",
                "\n",
                "    def simplify(self):\n",
                "        simple_x =  self.x.simplify()\n",
                "\n",
                "        if isinstance(simple_x, Const):\n",
                "            if simple_x.value == 0:\n",
                "                # Rule: exp(0) = 1\n",
                "                return Const(1)\n",
                "            # Perform the operation if possible\n",
                "            return Const(math.exp(simple_x.value))\n",
                "\n",
                "        # Cannot simplify further.\n",
                "        return Exp(simple_x)\n",
                "\n",
                "\n",
                "class Log(Function):\n",
                "    def __str__(self) -> str:\n",
                "        return 'log({})'.format(self.x)\n",
                "\n",
                "    def eval(self) -> Union[float, int]:\n",
                "        return math.log(self.x.eval())\n",
                "\n",
                "    def differentiate(self, var: str) -> BaseNode:\n",
                "        return Div(\n",
                "            x=self.x.differentiate(var),\n",
                "            y=self.x\n",
                "        )\n",
                "\n",
                "    def simplify(self):\n",
                "        simple_x =  self.x.simplify()\n",
                "\n",
                "        if isinstance(simple_x, Const):\n",
                "            if simple_x.value <= 0:\n",
                "                # Rule: No log of non-positiv number!\n",
                "                raise ValueError('Logarithm of non-positiv number.')\n",
                "            # Perform the operation if possible\n",
                "            return Const(math.log(simple_x.value))\n",
                "\n",
                "        # Cannot simplify further.\n",
                "        return Log(simple_x)\n",
                "\n",
                "\n",
                "class TanH(Function):\n",
                "    def __str__(self) -> str:\n",
                "        return 'tanh({})'.format(self.x)\n",
                "\n",
                "    def eval(self) -> Union[float, int]:\n",
                "        return math.tanh(self.x.eval())\n",
                "\n",
                "    def differentiate(self, var: str) -> BaseNode:\n",
                "        return Mul(\n",
                "            x=Sub(\n",
                "                x=Const(1),\n",
                "                y=Mul(TanH(self.x), TanH(self.x))\n",
                "            ),\n",
                "            y=self.x.differentiate(var)\n",
                "        )\n",
                "\n",
                "    def simplify(self):\n",
                "        simple_x =  self.x.simplify()\n",
                "\n",
                "        if isinstance(simple_x, Const):\n",
                "            if simple_x.value == 0:\n",
                "                # Rule: tanh(0) = 0\n",
                "                return Const(0)\n",
                "            # Perform the operation if possible\n",
                "            return Const(math.tanh(simple_x.value))\n",
                "\n",
                "        # Cannot simplify further.\n",
                "        return TanH(simple_x)"
            ]
        },
        {
            "cell_type": "code",
            "execution_count": 14,
            "id": "5c0dbe06",
            "metadata": {
                "execution": {
                    "iopub.execute_input": "2024-04-23T15:24:01.920627Z",
                    "iopub.status.busy": "2024-04-23T15:24:01.920334Z",
                    "iopub.status.idle": "2024-04-23T15:24:01.924627Z",
                    "shell.execute_reply": "2024-04-23T15:24:01.924036Z"
                },
                "pycharm": {
                    "name": "#%%\n"
                }
            },
            "outputs": [
                {
                    "name": "stdout",
                    "output_type": "stream",
                    "text": [
                        "(4 * y)\n"
                    ]
                }
            ],
            "source": [
                "x = Var('x', value=2)\n",
                "y = Var('y', value=3)\n",
                "\n",
                "z = Sum(\n",
                "    x=Mul(\n",
                "        x=Mul(\n",
                "            x=Const(4),\n",
                "            y=x\n",
                "        ),\n",
                "        y=y,\n",
                "    ),\n",
                "    y=Exp(\n",
                "        x=Mul(\n",
                "            x=Const(-1),\n",
                "            y=y\n",
                "    ))\n",
                ")\n",
                "\n",
                "dz = z.differentiate('x')\n",
                "print(dz.simplify())"
            ]
        },
        {
            "cell_type": "markdown",
            "id": "e02eb8d8",
            "metadata": {
                "pycharm": {
                    "name": "#%% md\n"
                }
            },
            "source": [
                "The result matches what we showed above, $4y$. Simplifying the graph with these and\n",
                "other, more advanced tricks, can greatly speed up code.\n",
                "\n",
                "Now we are also equipped to perform differentiation of any order,\n",
                "for example $\\partial z / \\partial x\\partial y$ is simply:"
            ]
        },
        {
            "cell_type": "code",
            "execution_count": 15,
            "id": "b11879b9",
            "metadata": {
                "execution": {
                    "iopub.execute_input": "2024-04-23T15:24:01.927001Z",
                    "iopub.status.busy": "2024-04-23T15:24:01.926829Z",
                    "iopub.status.idle": "2024-04-23T15:24:01.929580Z",
                    "shell.execute_reply": "2024-04-23T15:24:01.929228Z"
                },
                "pycharm": {
                    "name": "#%%\n"
                }
            },
            "outputs": [
                {
                    "name": "stdout",
                    "output_type": "stream",
                    "text": [
                        "(((((((0 * x) + (0 * 0)) + ((0 * 1) + (4 * 0))) * y) + (((0 * x) + (4 * 1)) * 1)) + ((((0 * x) + (4 * 0)) * 0) + ((4 * x) * 0))) + (((exp((-1 * y)) * ((0 * y) + (-1 * 1))) * ((0 * y) + (-1 * 0))) + (exp((-1 * y)) * (((0 * y) + (0 * 1)) + ((0 * 0) + (-1 * 0))))))\n",
                        "4\n",
                        "4.0\n"
                    ]
                }
            ],
            "source": [
                "\n",
                "print(z.differentiate('x').differentiate('y'))\n",
                "print(z.differentiate('x').differentiate('y').simplify())\n",
                "print(z.differentiate('x').differentiate('y').eval())"
            ]
        },
        {
            "cell_type": "markdown",
            "id": "774aae67",
            "metadata": {
                "pycharm": {
                    "name": "#%% md\n"
                }
            },
            "source": [
                "### Training a network\n",
                "\n",
                "Let us now define a computational graph that performs the forward pass of a\n",
                "simple network, and use the functions above to compute the gradients of the parameters.\n",
                "We will use the same network we used in the third lab, reproduced below, and, as usual,\n",
                "we will test the code on the five points dataset. Since the functions we have written\n",
                "so far only work with scalar values, we will perform stochastic gradient descent\n",
                "using one sample at a time.\n",
                "\n",
                "![](../utils/03-lab-nn.png)"
            ]
        },
        {
            "cell_type": "code",
            "execution_count": 16,
            "id": "deae960f",
            "metadata": {
                "execution": {
                    "iopub.execute_input": "2024-04-23T15:24:01.931259Z",
                    "iopub.status.busy": "2024-04-23T15:24:01.931112Z",
                    "iopub.status.idle": "2024-04-23T15:24:01.933931Z",
                    "shell.execute_reply": "2024-04-23T15:24:01.933522Z"
                },
                "pycharm": {
                    "name": "#%%\n"
                }
            },
            "outputs": [
                {
                    "name": "stdout",
                    "output_type": "stream",
                    "text": [
                        "tanh((b1 + ((x1 * w11) + (x2 * w21))))\n"
                    ]
                }
            ],
            "source": [
                "\n",
                "# The two input nodes\n",
                "x1 = Var('x1')\n",
                "x2 = Var('x2')\n",
                "\n",
                "# Parameters for the first hidden neuron\n",
                "b1 = Var('b1')\n",
                "w11 = Var('w11')\n",
                "w21 = Var('w21')\n",
                "\n",
                "# Compute the output of the first hidden neuron\n",
                "z1in = Sum(\n",
                "    x=b1,\n",
                "    y=Sum(\n",
                "       x=Mul(x1, w11),\n",
                "       y=Mul(x2, w21)\n",
                "    )\n",
                ")\n",
                "\n",
                "z1out = TanH(z1in)\n",
                "\n",
                "print(z1out)"
            ]
        },
        {
            "cell_type": "markdown",
            "id": "b0decb7b",
            "metadata": {
                "pycharm": {
                    "name": "#%% md\n"
                }
            },
            "source": [
                "Now, complete the remaining part of the network:"
            ]
        },
        {
            "cell_type": "code",
            "execution_count": 17,
            "id": "c2b38bbe",
            "metadata": {
                "execution": {
                    "iopub.execute_input": "2024-04-23T15:24:01.935643Z",
                    "iopub.status.busy": "2024-04-23T15:24:01.935513Z",
                    "iopub.status.idle": "2024-04-23T15:24:01.940010Z",
                    "shell.execute_reply": "2024-04-23T15:24:01.939520Z"
                },
                "pycharm": {
                    "name": "#%%\n"
                }
            },
            "outputs": [
                {
                    "name": "stdout",
                    "output_type": "stream",
                    "text": [
                        "(1 / (1 + exp((-1 * (c + ((tanh((b1 + ((x1 * w11) + (x2 * w21)))) * u1) + (tanh((b2 + ((x1 * w12) + (x2 * w22)))) * u2)))))))\n"
                    ]
                }
            ],
            "source": [
                "\n",
                "b2 = Var('b2')\n",
                "w12 = Var('w12')\n",
                "w22 = Var('w22')\n",
                "\n",
                "z2out = (\n",
                "    TanH(\n",
                "        Sum(\n",
                "            x=b2,\n",
                "            y=Sum(\n",
                "                x=Mul(x1, w12),\n",
                "                y=Mul(x2, w22)\n",
                "            )\n",
                "        )\n",
                "    )\n",
                ")\n",
                "\n",
                "c = Var('c')\n",
                "u1 = Var('u1')\n",
                "u2 = Var('u2')\n",
                "\n",
                "fin = (\n",
                "    Sum(\n",
                "        x=c,\n",
                "        y=Sum(\n",
                "            x=Mul(z1out, u1),\n",
                "            y=Mul(z2out, u2)\n",
                "        )\n",
                "    )\n",
                ")\n",
                "\n",
                "fout = (\n",
                "    Div(\n",
                "        x=Const(1),\n",
                "        y=Sum(\n",
                "            x=Const(1),\n",
                "            y=Exp(Mul(Const(-1), fin))\n",
                "        )\n",
                "    )\n",
                ")\n",
                "\n",
                "print(fout)"
            ]
        },
        {
            "cell_type": "markdown",
            "id": "8883fa03",
            "metadata": {
                "pycharm": {
                    "name": "#%% md\n"
                }
            },
            "source": [
                "And this defines the forward pass.\n",
                "\n",
                "We can now compute the predictions of the network by evaluating `fout`,\n",
                "providing values for the inputs and weights. For example:"
            ]
        },
        {
            "cell_type": "code",
            "execution_count": 18,
            "id": "64c6523f",
            "metadata": {
                "execution": {
                    "iopub.execute_input": "2024-04-23T15:24:01.942153Z",
                    "iopub.status.busy": "2024-04-23T15:24:01.941992Z",
                    "iopub.status.idle": "2024-04-23T15:24:01.945725Z",
                    "shell.execute_reply": "2024-04-23T15:24:01.945356Z"
                },
                "pycharm": {
                    "name": "#%%\n"
                }
            },
            "outputs": [
                {
                    "data": {
                        "text/plain": [
                            "0.9533527373765618"
                        ]
                    },
                    "execution_count": 18,
                    "metadata": {},
                    "output_type": "execute_result"
                }
            ],
            "source": [
                "\n",
                "# Values for weights and biases\n",
                "b1.set_value(1.543385)\n",
                "w11.set_value(3.111573)\n",
                "w12.set_value(-2.808800)\n",
                "\n",
                "b2.set_value(1.373085)\n",
                "w21.set_value(3.130452)\n",
                "w22.set_value(-2.813466)\n",
                "\n",
                "c.set_value(-4.241453)\n",
                "u1.set_value(4.036489)\n",
                "u2.set_value(4.074885)\n",
                "\n",
                "# Values for the input\n",
                "x1.set_value(1)\n",
                "x2.set_value(-1)\n",
                "\n",
                "fout.eval()"
            ]
        },
        {
            "cell_type": "markdown",
            "id": "77ba3f53",
            "metadata": {
                "pycharm": {
                    "name": "#%% md\n"
                }
            },
            "source": [
                "Which should be about 0.9.\n",
                "We now have to compute the cross-entropy loss.\n",
                "For numerical stability, we will compute the loss using $f_{in}$ instead of $f_{out}$.\n",
                "Therefore, first, show that:\n",
                "\n",
                "\\begin{equation}\n",
                "-y\\cdot\\log(f_{out})-(1-y)\\cdot\\log(1-f_{out})=\n",
                "f_{in}-f_{in}\\cdot y+\\log(1+e^{-f_{in}})\n",
                "\\end{equation}\n",
                "\n",
                "\n",
                "Solution:\n",
                "\n",
                "\\begin{align}\n",
                "&-y\\cdot\\log (f_{out})-(1-y)\\cdot\\log(1-f_{out}) \\\\\n",
                "&\\qquad=-y\\cdot\\log\\frac{1}{1+e^{-f_{in}}}-(1-y)\\cdot\\log\\left(1-\\frac{1}{1+e^{-f_{in}}}\\right) \\\\\n",
                "&\\qquad=\n",
                "-y\\cdot-\\log\\left(1+e^{-f_{in}}\\right)\n",
                "-(1-y)\\cdot\\left(-f_{in}-\\log\\left(1+e^{-f_{in}}\\right)\\right) \\\\\n",
                "&\\qquad=\n",
                "y\\cdot\\log\\left(1+e^{-f_{in}}\\right)\n",
                "+f_{in}+\\log\\left(1+e^{-f_{in}}\\right)\n",
                "-y\\cdot f_{in}-y\\cdot\\log\\left(1+e^{-f_{in}}\\right) \\\\\n",
                "&\\qquad=f_{in}-f_{in}\\cdot y+\\log(1+e^{-f_{in}})\n",
                "\\end{align}"
            ]
        },
        {
            "cell_type": "code",
            "execution_count": 19,
            "id": "d4fb0171",
            "metadata": {
                "execution": {
                    "iopub.execute_input": "2024-04-23T15:24:01.947490Z",
                    "iopub.status.busy": "2024-04-23T15:24:01.947333Z",
                    "iopub.status.idle": "2024-04-23T15:24:01.950102Z",
                    "shell.execute_reply": "2024-04-23T15:24:01.949739Z"
                },
                "pycharm": {
                    "name": "#%%\n"
                }
            },
            "outputs": [
                {
                    "name": "stdout",
                    "output_type": "stream",
                    "text": [
                        "(((c + ((tanh((b1 + ((x1 * w11) + (x2 * w21)))) * u1) + (tanh((b2 + ((x1 * w12) + (x2 * w22)))) * u2))) - ((c + ((tanh((b1 + ((x1 * w11) + (x2 * w21)))) * u1) + (tanh((b2 + ((x1 * w12) + (x2 * w22)))) * u2))) * y)) + log((1 + exp((-1 * (c + ((tanh((b1 + ((x1 * w11) + (x2 * w21)))) * u1) + (tanh((b2 + ((x1 * w12) + (x2 * w22)))) * u2))))))))\n"
                    ]
                }
            ],
            "source": [
                "\n",
                "# This variable contains the label for the sample the network is predicting\n",
                "y = Var('y')\n",
                "\n",
                "loss = (\n",
                "    Sum(\n",
                "        x=Sub(\n",
                "            x=fin,\n",
                "            y=Mul(fin, y)\n",
                "        ),\n",
                "        y=Log(\n",
                "            Sum(\n",
                "                x=Const(1),\n",
                "                y=Exp(Mul(Const(-1), fin)))\n",
                "        )\n",
                "    )\n",
                ")\n",
                "\n",
                "print(loss)"
            ]
        },
        {
            "cell_type": "markdown",
            "id": "ba0076fa",
            "metadata": {
                "pycharm": {
                    "name": "#%% md\n"
                }
            },
            "source": [
                "This is starting to look complicated!\n",
                "Luckily, this time, we do not have to get our hands dirty with derivatives.\n",
                "Let us find the graphs for the derivatives of each parameter of the network."
            ]
        },
        {
            "cell_type": "code",
            "execution_count": 20,
            "id": "a3710473",
            "metadata": {
                "execution": {
                    "iopub.execute_input": "2024-04-23T15:24:01.951845Z",
                    "iopub.status.busy": "2024-04-23T15:24:01.951720Z",
                    "iopub.status.idle": "2024-04-23T15:24:01.956670Z",
                    "shell.execute_reply": "2024-04-23T15:24:01.956224Z"
                },
                "pycharm": {
                    "name": "#%%\n"
                }
            },
            "outputs": [
                {
                    "name": "stdout",
                    "output_type": "stream",
                    "text": [
                        "(((0 + (((((1 - (tanh((b1 + ((x1 * w11) + (x2 * w21)))) * tanh((b1 + ((x1 * w11) + (x2 * w21)))))) * (0 + (((0 * w11) + (x1 * 1)) + ((0 * w21) + (x2 * 0))))) * u1) + (tanh((b1 + ((x1 * w11) + (x2 * w21)))) * 0)) + ((((1 - (tanh((b2 + ((x1 * w12) + (x2 * w22)))) * tanh((b2 + ((x1 * w12) + (x2 * w22)))))) * (0 + (((0 * w12) + (x1 * 0)) + ((0 * w22) + (x2 * 0))))) * u2) + (tanh((b2 + ((x1 * w12) + (x2 * w22)))) * 0)))) - (((0 + (((((1 - (tanh((b1 + ((x1 * w11) + (x2 * w21)))) * tanh((b1 + ((x1 * w11) + (x2 * w21)))))) * (0 + (((0 * w11) + (x1 * 1)) + ((0 * w21) + (x2 * 0))))) * u1) + (tanh((b1 + ((x1 * w11) + (x2 * w21)))) * 0)) + ((((1 - (tanh((b2 + ((x1 * w12) + (x2 * w22)))) * tanh((b2 + ((x1 * w12) + (x2 * w22)))))) * (0 + (((0 * w12) + (x1 * 0)) + ((0 * w22) + (x2 * 0))))) * u2) + (tanh((b2 + ((x1 * w12) + (x2 * w22)))) * 0)))) * y) + ((c + ((tanh((b1 + ((x1 * w11) + (x2 * w21)))) * u1) + (tanh((b2 + ((x1 * w12) + (x2 * w22)))) * u2))) * 0))) + ((0 + (exp((-1 * (c + ((tanh((b1 + ((x1 * w11) + (x2 * w21)))) * u1) + (tanh((b2 + ((x1 * w12) + (x2 * w22)))) * u2))))) * ((0 * (c + ((tanh((b1 + ((x1 * w11) + (x2 * w21)))) * u1) + (tanh((b2 + ((x1 * w12) + (x2 * w22)))) * u2)))) + (-1 * (0 + (((((1 - (tanh((b1 + ((x1 * w11) + (x2 * w21)))) * tanh((b1 + ((x1 * w11) + (x2 * w21)))))) * (0 + (((0 * w11) + (x1 * 1)) + ((0 * w21) + (x2 * 0))))) * u1) + (tanh((b1 + ((x1 * w11) + (x2 * w21)))) * 0)) + ((((1 - (tanh((b2 + ((x1 * w12) + (x2 * w22)))) * tanh((b2 + ((x1 * w12) + (x2 * w22)))))) * (0 + (((0 * w12) + (x1 * 0)) + ((0 * w22) + (x2 * 0))))) * u2) + (tanh((b2 + ((x1 * w12) + (x2 * w22)))) * 0)))))))) / (1 + exp((-1 * (c + ((tanh((b1 + ((x1 * w11) + (x2 * w21)))) * u1) + (tanh((b2 + ((x1 * w12) + (x2 * w22)))) * u2))))))))\n"
                    ]
                }
            ],
            "source": [
                "\n",
                "def get_gradient_graphs(graph: BaseNode, param_nodes: List[Var]) -> Dict:\n",
                "    graph_dict: Dict = {}\n",
                "    for param_node in param_nodes:\n",
                "        graph_dict.update({\n",
                "            param_node.name : graph.differentiate(param_node.name)\n",
                "        })\n",
                "    return graph_dict\n",
                "\n",
                "parameter_nodes = [b1, w11, w12, b2, w21, w22, c, u1, u2]\n",
                "gradient_graphs = get_gradient_graphs(loss, parameter_nodes)\n",
                "print(gradient_graphs.get('w11'))"
            ]
        },
        {
            "cell_type": "markdown",
            "id": "80ae88ef",
            "metadata": {
                "pycharm": {
                    "name": "#%% md\n"
                }
            },
            "source": [
                "As you can see, there is a great deal of repetition in this expression.\n",
                "The repetitions could be removed by storing, in each node, its current value and\n",
                "gradient, so that we would not need to re-compute them every time. Modern deep\n",
                "learning frameworks indeed do this, and are able to compute the gradient of the\n",
                "loss with respect to all parameters in a single pass, but here we accept these\n",
                "inefficiencies for the sake of simplicity.\n",
                "\n",
                "We are now ready to train this network:"
            ]
        },
        {
            "cell_type": "code",
            "execution_count": 21,
            "id": "522fb56f",
            "metadata": {
                "execution": {
                    "iopub.execute_input": "2024-04-23T15:24:01.959103Z",
                    "iopub.status.busy": "2024-04-23T15:24:01.958924Z",
                    "iopub.status.idle": "2024-04-23T15:24:04.708944Z",
                    "shell.execute_reply": "2024-04-23T15:24:04.708400Z"
                },
                "pycharm": {
                    "name": "#%%\n"
                }
            },
            "outputs": [
                {
                    "name": "stdout",
                    "output_type": "stream",
                    "text": [
                        "EPOCH: \t     1 \t LOSS: \t 3.48492\r",
                        "EPOCH: \t     2 \t LOSS: \t 5.01075\r",
                        "EPOCH: \t     3 \t LOSS: \t 5.54483\r",
                        "EPOCH: \t     4 \t LOSS: \t 7.12922\r",
                        "EPOCH: \t     5 \t LOSS: \t 6.42948\r",
                        "EPOCH: \t     6 \t LOSS: \t 5.12526\r",
                        "EPOCH: \t     7 \t LOSS: \t 7.26116\r"
                    ]
                },
                {
                    "name": "stdout",
                    "output_type": "stream",
                    "text": [
                        "EPOCH: \t     8 \t LOSS: \t 6.85913\r",
                        "EPOCH: \t     9 \t LOSS: \t 5.55125\r"
                    ]
                },
                {
                    "name": "stdout",
                    "output_type": "stream",
                    "text": [
                        "EPOCH: \t    10 \t LOSS: \t 5.82260\r"
                    ]
                },
                {
                    "name": "stdout",
                    "output_type": "stream",
                    "text": [
                        "EPOCH: \t    11 \t LOSS: \t 7.02269\r",
                        "EPOCH: \t    12 \t LOSS: \t 5.44379\r",
                        "EPOCH: \t    13 \t LOSS: \t 7.20913\r",
                        "EPOCH: \t    14 \t LOSS: \t 6.67301\r",
                        "EPOCH: \t    15 \t LOSS: \t 5.28024\r"
                    ]
                },
                {
                    "name": "stdout",
                    "output_type": "stream",
                    "text": [
                        "EPOCH: \t    16 \t LOSS: \t 6.38105\r",
                        "EPOCH: \t    17 \t LOSS: \t 7.32556\r",
                        "EPOCH: \t    18 \t LOSS: \t 7.25564\r",
                        "EPOCH: \t    19 \t LOSS: \t 7.11014\r",
                        "EPOCH: \t    20 \t LOSS: \t 6.74638\r"
                    ]
                },
                {
                    "name": "stdout",
                    "output_type": "stream",
                    "text": [
                        "EPOCH: \t    21 \t LOSS: \t 5.76206\r",
                        "EPOCH: \t    22 \t LOSS: \t 7.15044\r",
                        "EPOCH: \t    23 \t LOSS: \t 7.18060\r",
                        "EPOCH: \t    24 \t LOSS: \t 7.07405\r",
                        "EPOCH: \t    25 \t LOSS: \t 6.47557\r",
                        "EPOCH: \t    26 \t LOSS: \t 6.65996\r",
                        "EPOCH: \t    27 \t LOSS: \t 6.45169\r",
                        "EPOCH: \t    28 \t LOSS: \t 5.93486\r"
                    ]
                },
                {
                    "name": "stdout",
                    "output_type": "stream",
                    "text": [
                        "EPOCH: \t    29 \t LOSS: \t 6.43673\r",
                        "EPOCH: \t    30 \t LOSS: \t 4.57812\r",
                        "EPOCH: \t    31 \t LOSS: \t 7.42168\r",
                        "EPOCH: \t    32 \t LOSS: \t 6.58457\r",
                        "EPOCH: \t    33 \t LOSS: \t 5.31060\r",
                        "EPOCH: \t    34 \t LOSS: \t 5.63915\r",
                        "EPOCH: \t    35 \t LOSS: \t 1.36297\r"
                    ]
                },
                {
                    "name": "stdout",
                    "output_type": "stream",
                    "text": [
                        "EPOCH: \t    36 \t LOSS: \t 0.19383\r"
                    ]
                },
                {
                    "name": "stdout",
                    "output_type": "stream",
                    "text": [
                        "EPOCH: \t    37 \t LOSS: \t 0.15988\r"
                    ]
                },
                {
                    "name": "stdout",
                    "output_type": "stream",
                    "text": [
                        "EPOCH: \t    38 \t LOSS: \t 0.13993\r",
                        "EPOCH: \t    39 \t LOSS: \t 0.12511\r",
                        "EPOCH: \t    40 \t LOSS: \t 0.11323\r",
                        "EPOCH: \t    41 \t LOSS: \t 0.10342\r",
                        "EPOCH: \t    42 \t LOSS: \t 0.09517\r",
                        "EPOCH: \t    43 \t LOSS: \t 0.08814\r",
                        "EPOCH: \t    44 \t LOSS: \t 0.08209\r",
                        "EPOCH: \t    45 \t LOSS: \t 0.07682\r",
                        "EPOCH: \t    46 \t LOSS: \t 0.07219\r",
                        "EPOCH: \t    47 \t LOSS: \t 0.06810\r",
                        "EPOCH: \t    48 \t LOSS: \t 0.06445\r",
                        "EPOCH: \t    49 \t LOSS: \t 0.06118\r",
                        "EPOCH: \t    50 \t LOSS: \t 0.05822\r",
                        "EPOCH: \t    51 \t LOSS: \t 0.05554\r"
                    ]
                },
                {
                    "name": "stdout",
                    "output_type": "stream",
                    "text": [
                        "EPOCH: \t    52 \t LOSS: \t 0.05310\r",
                        "EPOCH: \t    53 \t LOSS: \t 0.05087\r",
                        "EPOCH: \t    54 \t LOSS: \t 0.04882\r",
                        "EPOCH: \t    55 \t LOSS: \t 0.04693\r",
                        "EPOCH: \t    56 \t LOSS: \t 0.04518\r",
                        "EPOCH: \t    57 \t LOSS: \t 0.04356\r",
                        "EPOCH: \t    58 \t LOSS: \t 0.04206\r",
                        "EPOCH: \t    59 \t LOSS: \t 0.04065\r"
                    ]
                },
                {
                    "name": "stdout",
                    "output_type": "stream",
                    "text": [
                        "EPOCH: \t    60 \t LOSS: \t 0.03934\r",
                        "EPOCH: \t    61 \t LOSS: \t 0.03810\r",
                        "EPOCH: \t    62 \t LOSS: \t 0.03695\r",
                        "EPOCH: \t    63 \t LOSS: \t 0.03586\r",
                        "EPOCH: \t    64 \t LOSS: \t 0.03484\r",
                        "EPOCH: \t    65 \t LOSS: \t 0.03387\r",
                        "EPOCH: \t    66 \t LOSS: \t 0.03295\r"
                    ]
                },
                {
                    "name": "stdout",
                    "output_type": "stream",
                    "text": [
                        "EPOCH: \t    67 \t LOSS: \t 0.03209\r",
                        "EPOCH: \t    68 \t LOSS: \t 0.03127\r",
                        "EPOCH: \t    69 \t LOSS: \t 0.03049\r",
                        "EPOCH: \t    70 \t LOSS: \t 0.02974\r",
                        "EPOCH: \t    71 \t LOSS: \t 0.02904\r",
                        "EPOCH: \t    72 \t LOSS: \t 0.02836\r",
                        "EPOCH: \t    73 \t LOSS: \t 0.02772\r",
                        "EPOCH: \t    74 \t LOSS: \t 0.02710\r"
                    ]
                },
                {
                    "name": "stdout",
                    "output_type": "stream",
                    "text": [
                        "EPOCH: \t    75 \t LOSS: \t 0.02652\r"
                    ]
                },
                {
                    "name": "stdout",
                    "output_type": "stream",
                    "text": [
                        "EPOCH: \t    76 \t LOSS: \t 0.02595\r",
                        "EPOCH: \t    77 \t LOSS: \t 0.02542\r",
                        "EPOCH: \t    78 \t LOSS: \t 0.02490\r",
                        "EPOCH: \t    79 \t LOSS: \t 0.02440\r",
                        "EPOCH: \t    80 \t LOSS: \t 0.02393\r",
                        "EPOCH: \t    81 \t LOSS: \t 0.02347\r",
                        "EPOCH: \t    82 \t LOSS: \t 0.02303\r",
                        "EPOCH: \t    83 \t LOSS: \t 0.02260\r",
                        "EPOCH: \t    84 \t LOSS: \t 0.02219\r",
                        "EPOCH: \t    85 \t LOSS: \t 0.02180\r",
                        "EPOCH: \t    86 \t LOSS: \t 0.02141\r",
                        "EPOCH: \t    87 \t LOSS: \t 0.02105\r",
                        "EPOCH: \t    88 \t LOSS: \t 0.02069\r"
                    ]
                },
                {
                    "name": "stdout",
                    "output_type": "stream",
                    "text": [
                        "EPOCH: \t    89 \t LOSS: \t 0.02035\r"
                    ]
                },
                {
                    "name": "stdout",
                    "output_type": "stream",
                    "text": [
                        "EPOCH: \t    90 \t LOSS: \t 0.02002\r",
                        "EPOCH: \t    91 \t LOSS: \t 0.01969\r",
                        "EPOCH: \t    92 \t LOSS: \t 0.01938\r",
                        "EPOCH: \t    93 \t LOSS: \t 0.01908\r",
                        "EPOCH: \t    94 \t LOSS: \t 0.01879\r",
                        "EPOCH: \t    95 \t LOSS: \t 0.01850\r",
                        "EPOCH: \t    96 \t LOSS: \t 0.01823\r",
                        "EPOCH: \t    97 \t LOSS: \t 0.01796\r",
                        "EPOCH: \t    98 \t LOSS: \t 0.01770\r",
                        "EPOCH: \t    99 \t LOSS: \t 0.01745\r",
                        "EPOCH: \t   100 \t LOSS: \t 0.01721\r",
                        "EPOCH: \t   101 \t LOSS: \t 0.01687\r"
                    ]
                },
                {
                    "name": "stdout",
                    "output_type": "stream",
                    "text": [
                        "EPOCH: \t   102 \t LOSS: \t 0.01682\r",
                        "EPOCH: \t   103 \t LOSS: \t 0.01678\r",
                        "EPOCH: \t   104 \t LOSS: \t 0.01673\r",
                        "EPOCH: \t   105 \t LOSS: \t 0.01668\r",
                        "EPOCH: \t   106 \t LOSS: \t 0.01664\r",
                        "EPOCH: \t   107 \t LOSS: \t 0.01660\r",
                        "EPOCH: \t   108 \t LOSS: \t 0.01655\r",
                        "EPOCH: \t   109 \t LOSS: \t 0.01651\r",
                        "EPOCH: \t   110 \t LOSS: \t 0.01646\r"
                    ]
                },
                {
                    "name": "stdout",
                    "output_type": "stream",
                    "text": [
                        "EPOCH: \t   111 \t LOSS: \t 0.01642\r",
                        "EPOCH: \t   112 \t LOSS: \t 0.01638\r",
                        "EPOCH: \t   113 \t LOSS: \t 0.01633\r",
                        "EPOCH: \t   114 \t LOSS: \t 0.01629\r",
                        "EPOCH: \t   115 \t LOSS: \t 0.01625\r",
                        "EPOCH: \t   116 \t LOSS: \t 0.01621\r",
                        "EPOCH: \t   117 \t LOSS: \t 0.01616\r",
                        "EPOCH: \t   118 \t LOSS: \t 0.01612\r"
                    ]
                },
                {
                    "name": "stdout",
                    "output_type": "stream",
                    "text": [
                        "EPOCH: \t   119 \t LOSS: \t 0.01608\r",
                        "EPOCH: \t   120 \t LOSS: \t 0.01604\r",
                        "EPOCH: \t   121 \t LOSS: \t 0.01600\r",
                        "EPOCH: \t   122 \t LOSS: \t 0.01595\r",
                        "EPOCH: \t   123 \t LOSS: \t 0.01591\r",
                        "EPOCH: \t   124 \t LOSS: \t 0.01587\r",
                        "EPOCH: \t   125 \t LOSS: \t 0.01583\r",
                        "EPOCH: \t   126 \t LOSS: \t 0.01579\r",
                        "EPOCH: \t   127 \t LOSS: \t 0.01575\r"
                    ]
                },
                {
                    "name": "stdout",
                    "output_type": "stream",
                    "text": [
                        "EPOCH: \t   128 \t LOSS: \t 0.01571\r",
                        "EPOCH: \t   129 \t LOSS: \t 0.01567\r",
                        "EPOCH: \t   130 \t LOSS: \t 0.01563\r",
                        "EPOCH: \t   131 \t LOSS: \t 0.01559\r",
                        "EPOCH: \t   132 \t LOSS: \t 0.01555\r",
                        "EPOCH: \t   133 \t LOSS: \t 0.01552\r",
                        "EPOCH: \t   134 \t LOSS: \t 0.01548\r",
                        "EPOCH: \t   135 \t LOSS: \t 0.01544\r"
                    ]
                },
                {
                    "name": "stdout",
                    "output_type": "stream",
                    "text": [
                        "EPOCH: \t   136 \t LOSS: \t 0.01540\r",
                        "EPOCH: \t   137 \t LOSS: \t 0.01536\r",
                        "EPOCH: \t   138 \t LOSS: \t 0.01532\r",
                        "EPOCH: \t   139 \t LOSS: \t 0.01529\r",
                        "EPOCH: \t   140 \t LOSS: \t 0.01525\r",
                        "EPOCH: \t   141 \t LOSS: \t 0.01521\r"
                    ]
                },
                {
                    "name": "stdout",
                    "output_type": "stream",
                    "text": [
                        "EPOCH: \t   142 \t LOSS: \t 0.01517\r",
                        "EPOCH: \t   143 \t LOSS: \t 0.01514\r",
                        "EPOCH: \t   144 \t LOSS: \t 0.01510\r",
                        "EPOCH: \t   145 \t LOSS: \t 0.01506\r",
                        "EPOCH: \t   146 \t LOSS: \t 0.01503\r",
                        "EPOCH: \t   147 \t LOSS: \t 0.01499\r"
                    ]
                },
                {
                    "name": "stdout",
                    "output_type": "stream",
                    "text": [
                        "EPOCH: \t   148 \t LOSS: \t 0.01495\r",
                        "EPOCH: \t   149 \t LOSS: \t 0.01492\r",
                        "EPOCH: \t   150 \t LOSS: \t 0.01488\r",
                        "EPOCH: \t   151 \t LOSS: \t 0.01485\r",
                        "EPOCH: \t   152 \t LOSS: \t 0.01481\r",
                        "EPOCH: \t   153 \t LOSS: \t 0.01478\r",
                        "EPOCH: \t   154 \t LOSS: \t 0.01474\r",
                        "EPOCH: \t   155 \t LOSS: \t 0.01471\r"
                    ]
                },
                {
                    "name": "stdout",
                    "output_type": "stream",
                    "text": [
                        "EPOCH: \t   156 \t LOSS: \t 0.01467\r",
                        "EPOCH: \t   157 \t LOSS: \t 0.01464\r",
                        "EPOCH: \t   158 \t LOSS: \t 0.01460\r",
                        "EPOCH: \t   159 \t LOSS: \t 0.01457\r",
                        "EPOCH: \t   160 \t LOSS: \t 0.01453\r",
                        "EPOCH: \t   161 \t LOSS: \t 0.01450\r",
                        "EPOCH: \t   162 \t LOSS: \t 0.01447\r",
                        "EPOCH: \t   163 \t LOSS: \t 0.01443\r"
                    ]
                },
                {
                    "name": "stdout",
                    "output_type": "stream",
                    "text": [
                        "EPOCH: \t   164 \t LOSS: \t 0.01440\r",
                        "EPOCH: \t   165 \t LOSS: \t 0.01436\r",
                        "EPOCH: \t   166 \t LOSS: \t 0.01433\r",
                        "EPOCH: \t   167 \t LOSS: \t 0.01430\r",
                        "EPOCH: \t   168 \t LOSS: \t 0.01427\r",
                        "EPOCH: \t   169 \t LOSS: \t 0.01423\r",
                        "EPOCH: \t   170 \t LOSS: \t 0.01420\r"
                    ]
                },
                {
                    "name": "stdout",
                    "output_type": "stream",
                    "text": [
                        "EPOCH: \t   171 \t LOSS: \t 0.01417\r",
                        "EPOCH: \t   172 \t LOSS: \t 0.01414\r",
                        "EPOCH: \t   173 \t LOSS: \t 0.01410\r",
                        "EPOCH: \t   174 \t LOSS: \t 0.01407\r",
                        "EPOCH: \t   175 \t LOSS: \t 0.01404\r",
                        "EPOCH: \t   176 \t LOSS: \t 0.01401\r"
                    ]
                },
                {
                    "name": "stdout",
                    "output_type": "stream",
                    "text": [
                        "EPOCH: \t   177 \t LOSS: \t 0.01398\r",
                        "EPOCH: \t   178 \t LOSS: \t 0.01394\r",
                        "EPOCH: \t   179 \t LOSS: \t 0.01391\r",
                        "EPOCH: \t   180 \t LOSS: \t 0.01388\r",
                        "EPOCH: \t   181 \t LOSS: \t 0.01385\r",
                        "EPOCH: \t   182 \t LOSS: \t 0.01382\r",
                        "EPOCH: \t   183 \t LOSS: \t 0.01379\r",
                        "EPOCH: \t   184 \t LOSS: \t 0.01376\r"
                    ]
                },
                {
                    "name": "stdout",
                    "output_type": "stream",
                    "text": [
                        "EPOCH: \t   185 \t LOSS: \t 0.01373\r",
                        "EPOCH: \t   186 \t LOSS: \t 0.01370\r",
                        "EPOCH: \t   187 \t LOSS: \t 0.01367\r",
                        "EPOCH: \t   188 \t LOSS: \t 0.01364\r",
                        "EPOCH: \t   189 \t LOSS: \t 0.01361\r",
                        "EPOCH: \t   190 \t LOSS: \t 0.01358\r",
                        "EPOCH: \t   191 \t LOSS: \t 0.01355\r"
                    ]
                },
                {
                    "name": "stdout",
                    "output_type": "stream",
                    "text": [
                        "EPOCH: \t   192 \t LOSS: \t 0.01352\r",
                        "EPOCH: \t   193 \t LOSS: \t 0.01349\r",
                        "EPOCH: \t   194 \t LOSS: \t 0.01346\r",
                        "EPOCH: \t   195 \t LOSS: \t 0.01343\r",
                        "EPOCH: \t   196 \t LOSS: \t 0.01340\r",
                        "EPOCH: \t   197 \t LOSS: \t 0.01337\r",
                        "EPOCH: \t   198 \t LOSS: \t 0.01334\r",
                        "EPOCH: \t   199 \t LOSS: \t 0.01331\r",
                        "EPOCH: \t   200 \t LOSS: \t 0.01329\r"
                    ]
                },
                {
                    "name": "stdout",
                    "output_type": "stream",
                    "text": [
                        "EPOCH: \t   201 \t LOSS: \t 0.01326\r",
                        "EPOCH: \t   202 \t LOSS: \t 0.01323\r",
                        "EPOCH: \t   203 \t LOSS: \t 0.01320\r"
                    ]
                },
                {
                    "name": "stdout",
                    "output_type": "stream",
                    "text": [
                        "EPOCH: \t   204 \t LOSS: \t 0.01317\r",
                        "EPOCH: \t   205 \t LOSS: \t 0.01315\r",
                        "EPOCH: \t   206 \t LOSS: \t 0.01312\r",
                        "EPOCH: \t   207 \t LOSS: \t 0.01309\r",
                        "EPOCH: \t   208 \t LOSS: \t 0.01306\r"
                    ]
                },
                {
                    "name": "stdout",
                    "output_type": "stream",
                    "text": [
                        "EPOCH: \t   209 \t LOSS: \t 0.01303\r",
                        "EPOCH: \t   210 \t LOSS: \t 0.01301\r",
                        "EPOCH: \t   211 \t LOSS: \t 0.01298\r",
                        "EPOCH: \t   212 \t LOSS: \t 0.01295\r",
                        "EPOCH: \t   213 \t LOSS: \t 0.01293\r",
                        "EPOCH: \t   214 \t LOSS: \t 0.01290\r",
                        "EPOCH: \t   215 \t LOSS: \t 0.01287\r",
                        "EPOCH: \t   216 \t LOSS: \t 0.01285\r",
                        "EPOCH: \t   217 \t LOSS: \t 0.01282\r",
                        "EPOCH: \t   218 \t LOSS: \t 0.01279\r"
                    ]
                },
                {
                    "name": "stdout",
                    "output_type": "stream",
                    "text": [
                        "EPOCH: \t   219 \t LOSS: \t 0.01277\r",
                        "EPOCH: \t   220 \t LOSS: \t 0.01274\r",
                        "EPOCH: \t   221 \t LOSS: \t 0.01271\r",
                        "EPOCH: \t   222 \t LOSS: \t 0.01269\r",
                        "EPOCH: \t   223 \t LOSS: \t 0.01266\r",
                        "EPOCH: \t   224 \t LOSS: \t 0.01264\r",
                        "EPOCH: \t   225 \t LOSS: \t 0.01261\r",
                        "EPOCH: \t   226 \t LOSS: \t 0.01258\r",
                        "EPOCH: \t   227 \t LOSS: \t 0.01256\r"
                    ]
                },
                {
                    "name": "stdout",
                    "output_type": "stream",
                    "text": [
                        "EPOCH: \t   228 \t LOSS: \t 0.01253\r",
                        "EPOCH: \t   229 \t LOSS: \t 0.01251\r",
                        "EPOCH: \t   230 \t LOSS: \t 0.01248\r",
                        "EPOCH: \t   231 \t LOSS: \t 0.01246\r",
                        "EPOCH: \t   232 \t LOSS: \t 0.01243\r",
                        "EPOCH: \t   233 \t LOSS: \t 0.01241\r",
                        "EPOCH: \t   234 \t LOSS: \t 0.01238\r"
                    ]
                },
                {
                    "name": "stdout",
                    "output_type": "stream",
                    "text": [
                        "EPOCH: \t   235 \t LOSS: \t 0.01236\r",
                        "EPOCH: \t   236 \t LOSS: \t 0.01233\r",
                        "EPOCH: \t   237 \t LOSS: \t 0.01231\r",
                        "EPOCH: \t   238 \t LOSS: \t 0.01228\r",
                        "EPOCH: \t   239 \t LOSS: \t 0.01226\r",
                        "EPOCH: \t   240 \t LOSS: \t 0.01224\r",
                        "EPOCH: \t   241 \t LOSS: \t 0.01221\r",
                        "EPOCH: \t   242 \t LOSS: \t 0.01219\r",
                        "EPOCH: \t   243 \t LOSS: \t 0.01216\r",
                        "EPOCH: \t   244 \t LOSS: \t 0.01214\r",
                        "EPOCH: \t   245 \t LOSS: \t 0.01212\r",
                        "EPOCH: \t   246 \t LOSS: \t 0.01209\r",
                        "EPOCH: \t   247 \t LOSS: \t 0.01207\r",
                        "EPOCH: \t   248 \t LOSS: \t 0.01205\r"
                    ]
                },
                {
                    "name": "stdout",
                    "output_type": "stream",
                    "text": [
                        "EPOCH: \t   249 \t LOSS: \t 0.01202\r",
                        "EPOCH: \t   250 \t LOSS: \t 0.01200\r"
                    ]
                },
                {
                    "data": {
                        "application/pdf": "[encoded data removed]",
                        "image/png": "[encoded data removed]",
                        "text/plain": [
                            "<Figure size 640x480 with 1 Axes>"
                        ]
                    },
                    "metadata": {},
                    "output_type": "display_data"
                }
            ],
            "source": [
                "\n",
                "# Create dataset.\n",
                "x = [\n",
                "    [0, 0],\n",
                "    [1, 0],\n",
                "    [0, -1],\n",
                "    [-1, 0],\n",
                "    [0, 1]\n",
                "]\n",
                "labels = [1, 0, 0, 0, 0]\n",
                "\n",
                "# Glorot initialization for the parameters.\n",
                "def init_params(param_nodes: List[Var], bias_names: List[str]) -> None:\n",
                "    b = math.sqrt(6 / 4)\n",
                "    for param_node in param_nodes:\n",
                "        if param_node.name in bias_names:\n",
                "            param_node.set_value(0.0)\n",
                "        else:\n",
                "            param_node.set_value(uniform(-b, b))\n",
                "\n",
                "init_params(parameter_nodes, ['b1', 'b2', 'c'])\n",
                "\n",
                "# Training Loop.\n",
                "# Losses dict follows (index of sample : list of losses during training).\n",
                "loss_dict = {i: [] for i in range(len(x))}\n",
                "for ep in range(250):\n",
                "    ep_loss = 0.\n",
                "    for i in range(len(x)):\n",
                "        # Set the correct values for the inputs and label.\n",
                "        x1.set_value(x[i][0])\n",
                "        x2.set_value(x[i][1])\n",
                "        y.set_value(labels[i])\n",
                "\n",
                "        loss_dict[i].append(\n",
                "            loss.eval()\n",
                "        )\n",
                "        ep_loss += loss_dict[i][-1]\n",
                "\n",
                "        gradient_graphs = get_gradient_graphs(loss, parameter_nodes)\n",
                "        gradients_eval = {key: graph.simplify().eval() for key, graph in gradient_graphs.items()}\n",
                "\n",
                "        for parameter_node in parameter_nodes:\n",
                "            lr = 2.5 if ep < 100 else 0.5\n",
                "            new_val = parameter_node.value - lr * gradients_eval[parameter_node.name]\n",
                "            parameter_node.set_value(new_val)\n",
                "\n",
                "    print('EPOCH: \\t {:5} \\t LOSS: \\t {:.5f}'.format(ep + 1, float(ep_loss)), end='\\r')\n",
                "\n",
                "\n",
                "# Plot loss development.\n",
                "for sample_loss in loss_dict.values():\n",
                "    plt.plot(sample_loss)\n",
                "plt.show()"
            ]
        },
        {
            "cell_type": "markdown",
            "id": "aa993de7",
            "metadata": {
                "pycharm": {
                    "name": "#%% md\n"
                }
            },
            "source": [
                "You can clearly see how the loss of each individual training sample evolves over time.\n",
                "This also explains the \"saddle\" you might have noticed in the loss curve from the\n",
                "previous lab.\n",
                "\n",
                "And these are the predictions for the five points:"
            ]
        },
        {
            "cell_type": "code",
            "execution_count": 22,
            "id": "01cc3c15",
            "metadata": {
                "execution": {
                    "iopub.execute_input": "2024-04-23T15:24:04.711340Z",
                    "iopub.status.busy": "2024-04-23T15:24:04.711162Z",
                    "iopub.status.idle": "2024-04-23T15:24:04.714449Z",
                    "shell.execute_reply": "2024-04-23T15:24:04.713937Z"
                },
                "pycharm": {
                    "name": "#%%\n"
                }
            },
            "outputs": [
                {
                    "name": "stdout",
                    "output_type": "stream",
                    "text": [
                        "SAMPLE:\t0\tTRUE:\t1\tPRED:\t0.996\n",
                        "SAMPLE:\t1\tTRUE:\t0\tPRED:\t0.002\n",
                        "SAMPLE:\t2\tTRUE:\t0\tPRED:\t0.002\n",
                        "SAMPLE:\t3\tTRUE:\t0\tPRED:\t0.002\n",
                        "SAMPLE:\t4\tTRUE:\t0\tPRED:\t0.002\n"
                    ]
                }
            ],
            "source": [
                "\n",
                "for i in range(len(x)):\n",
                "    x1.set_value(x[i][0])\n",
                "    x2.set_value(x[i][1])\n",
                "    y.set_value(labels[i])\n",
                "\n",
                "    prediction = fout.eval()\n",
                "    print('SAMPLE:\\t{}\\tTRUE:\\t{}\\tPRED:\\t{:.3f}'.format(i, labels[i], prediction))"
            ]
        },
        {
            "cell_type": "markdown",
            "id": "c1ab3a1c",
            "metadata": {
                "pycharm": {
                    "name": "#%% md\n"
                }
            },
            "source": [
                "### Conclusion\n",
                "What we did in this exercise is (a simplification of) how deep learning frameworks\n",
                "evaluate the code you write. You only need to define how to compute the output of\n",
                "the network, and the framework figures out the necessary gradients on its own.\n",
                "They provide a much better user interface, allowing you to use `+`, `-`, `/`, `*` etc.\n",
                "as you normally would instead of the clumsy node constructors we defined here,\n",
                "but there is always a computational graph hidden behind the curtains.\n",
                "\n",
                "\n",
                "\n",
                "## Exercise 2\n",
                "\n",
                "This exercise should improve your understanding of weight decay (or L2 regularization).\n",
                "\n",
                "  1. Consider a quadratic error function $E(\\textbf{w})=E_0+\\textbf{b}^T\\textbf{w}+1/2\\cdot\\textbf{w}^T\\textbf{H}\\textbf{w}$ and its regularized counterpart $E'(\\textbf{w})=E(\\textbf{w})+\\tau/2 \\cdot\\textbf{w}^T\\textbf{w}$, and let $\\textbf{w}^*$ and $\\tilde{\\textbf{w}}$ be the minimizers of $E$ and $E'$ respectively. We want to find a node to express $\\tilde{\\textbf{w}}$ as a function of $\\textbf{w}^*$, i.e. find the displacement introduced by weight decay.\n",
                "\n",
                "      - Find the gradients of $E$ and $E'$. Note that, at the global minimum,\n",
                "     we have $\\nabla E(\\textbf{w}^*)=\\nabla E'(\\tilde{\\textbf{w}})=0$.\n",
                "      - In the equality above, express $\\textbf{w}^*$ and $\\tilde{\\textbf{w}}$ as a\n",
                "     linear combination of the eigenvectors of $\\textbf{H}$.\n",
                "      - Through algebraic manipulation, obtain $\\tilde{\\textbf{w}}_i$ as a function\n",
                "     of $\\textbf{w}^*_i$.\n",
                "      - Interpret this result geometrically.\n",
                "      - Note: $\\textbf{H}$ is square, symmetric, and positive definite,\n",
                "     which means that its eigenvectors are pairwise orthogonal and its eigenvalues\n",
                "     are positive (spectral theorem).\n",
                "\n",
                "  2. Consider a linear network of the form $y=\\textbf{w}^T\\textbf{x}$ and the mean\n",
                "squared error as a loss function. Assume that every observation is corrupted\n",
                "with Gaussian noise $\\epsilon\\sim\\mathcal{N}(\\textbf{0}, \\sigma^2\\textbf{I})$.\n",
                "Compute the expectation of the gradient under $\\epsilon$ and,\n",
                "show that adding gaussian noise to the inputs has the same effect of weight decay.\n",
                "\n",
                "\n",
                "### Solution\n",
                "\n",
                "#### Question 1\n",
                "\n",
                "The error is computed as:\n",
                "\n",
                "\\begin{equation}\n",
                "    E(\\textbf{w})=E_0+\\sum_i w_ib_i+\\frac 1 2 \\sum_i\\sum_j w_iw_jh_{ij}\n",
                "\\end{equation}\n",
                "\n",
                "The derivative with respect to $w_i$ is, then:\n",
                "\n",
                "\\begin{equation}\n",
                "    \\frac{\\partial E}{\\partial w_i}=b_i+\\sum_j w_jh_{ij}\n",
                "\\end{equation}\n",
                "\n",
                "Where the factor $1/2$ was removed since the pair $w_i$ and $w_j$ is multiplied\n",
                "together twice, and $h_{ij}=h_{ji}$. In vector form:\n",
                "\n",
                "\\begin{equation}\n",
                "    \\nabla_{\\textbf{w}} E(\\textbf{w})=\\textbf{b}+\\textbf{H}\\textbf{w}\n",
                "\\end{equation}\n",
                "\n",
                "The same reasoning applied to $E'$ yields:\n",
                "\n",
                "\\begin{equation}\n",
                "\\nabla_{\\textbf{w}} E'(\\textbf{w})=\\textbf{b}+\\textbf{H}\\textbf{w}+\\tau\\textbf{w}\n",
                "\\end{equation}\n",
                "\n",
                "Now let $\\textbf{u}_i$ and $\\lambda_i$ be the eigenvectors and eigenvalues of\n",
                "$\\textbf{H}$, so that $\\textbf{H}\\textbf{u}_i=\\lambda_i\\textbf{u}_i$.\n",
                " Any vector $\\textbf{v}$ can then be expressed as\n",
                " $\\textbf{v}=\\sum_i\\gamma_i\\textbf{u}_i$. Now, note that\n",
                "\n",
                "\\begin{equation}\n",
                "\\textbf{H}\\textbf{v}=\\sum_i\\gamma_i\\textbf{H}\\textbf{u}_i=\\sum_i\\gamma_i\\lambda_i\\textbf{u}_i\n",
                "\\end{equation}\n",
                "\n",
                "\n",
                "Moreover, at the global minimum, both gradients equal zero, hence:\n",
                "\n",
                "\\begin{equation}\n",
                "\\textbf{b}+\\underbrace{\n",
                "  \\sum_i\\alpha_i\\lambda_i\\textbf{u}_i\n",
                "}_{\n",
                "  \\textbf{H}\\textbf{w}^*\n",
                "}\n",
                "=\n",
                "\\textbf{b}+\\underbrace{\n",
                "  \\sum_i\\beta_i\\lambda_i\\textbf{u}_i\n",
                "}_{\n",
                "  \\textbf{H}\\tilde{\\textbf{w}}\n",
                "}+\\tau\\underbrace{\n",
                "  \\sum_i\\beta_i\\textbf{u}_i\n",
                "  }_{\n",
                "    \\tilde{\\textbf{w}}\n",
                "  }\n",
                "\\Longleftrightarrow\n",
                "\\sum_i\\left( \\alpha_i\\lambda_i-\\beta_i\\lambda_i-\\tau\\beta_i \\right)\\textbf{u}_i=\\textbf{0}\n",
                "\\end{equation}\n",
                "\n",
                "Since the eigenvectors are linearly independent, the above expression is zero only\n",
                "when each term inside the sum is zero, i.e.\n",
                "\n",
                "\\begin{equation}\n",
                "\\alpha_i\\lambda_i-\\beta_i\\lambda_i-\\tau\\beta_i=0\n",
                "\\Longleftrightarrow \\beta_i=\\frac{\\lambda_i}{\\lambda_i+\\tau}\\alpha_i\n",
                "\\end{equation}\n",
                "\n",
                "Now, by replacing this into the expression for $\\tilde{\\textbf{w}}$, we get:\n",
                "\n",
                "\\begin{equation}\n",
                "\\tilde{\\textbf{w}}=\\beta^T\\textbf{u}=\\sum_i\\beta_i\\textbf{u}_i=\\sum_i\\frac{\\lambda_i}{\\lambda_i+\\tau}\\alpha_i\\textbf{u}_i\n",
                "\\end{equation}\n",
                "\n",
                "The eigenvalues of $\\textbf{H}$ indicate how much the error changes by moving in\n",
                "the direction of the corresponding eigenvector, with larger changes associated\n",
                "to smaller eigenvalues. In light of this, the node above is saying that the largest\n",
                "changes are applied to the weights that have little influence on the error,\n",
                "while \"important\" weights are not perturbed much.\n",
                "\n",
                "#### Question 2\n",
                "\n",
                "The prediction for $\\tilde{\\textbf{x}}=\\textbf{x}+\\epsilon$ is:\n",
                "\n",
                "\\begin{equation}\n",
                "\\tilde{y}=\\textbf{w}^T\\left(\\textbf{x}+\\epsilon\\right)=\\textbf{w}^T\\textbf{x}+\\textbf{w}^T\\epsilon\n",
                "\\end{equation}\n",
                "\n",
                "The error of this sample is\n",
                "\n",
                "\\begin{equation}\n",
                "\\tilde{E}=\\frac 1 2 \\left(\\hat{y}-\\textbf{w}^T\\textbf{x}-\\textbf{w}^T\\epsilon\\right)^2\n",
                "\\end{equation}\n",
                "\n",
                "And its gradient with respect to a single weight is\n",
                "\n",
                "\\begin{align*}\n",
                "\\frac{\\partial\\tilde{E}}{\\partial w_i}\n",
                "&=\\left(\\hat{y}-\\textbf{w}^T\\textbf{x}-\\textbf{w}^T\\epsilon\\right)(-x_i-\\epsilon_i) \\\\\n",
                "&=-x_i\\left(\\hat{y}-\\textbf{w}^T\\textbf{x}-\\textbf{w}^T\\epsilon\\right)-\\epsilon_i\\left(\\hat{y}-\\textbf{w}^T\\textbf{x}-\\textbf{w}^T\\epsilon\\right)\n",
                "\\end{align*}\n",
                "\n",
                "The expectation with respect to $\\epsilon$ is\n",
                "\n",
                "\\begin{align*}\n",
                "\\mathbb{E}\\left[\\frac{\\partial\\tilde{E}}{\\partial w_i}\\right]\n",
                "&=\\mathbb{E}\\left[\n",
                "-x_i\\left(\\hat{y}-\\textbf{w}^T\\textbf{x}-\\textbf{w}^T\\epsilon\\right)\n",
                "\\right]+\\mathbb{E}\\left[\n",
                "-\\epsilon_i\\left(\\hat{y}-\\textbf{w}^T\\textbf{x}-\\textbf{w}^T\\epsilon\\right)\n",
                "\\right] \\\\\n",
                "&= -x_i\\left(\\hat{y}-\\textbf{w}^T\\textbf{x}\\right)+\\mathbb{E}\\left[\n",
                "-\\epsilon_i\\hat{y}+\\epsilon_i\\textbf{w}^T\\textbf{x}+\\epsilon_i\\textbf{w}^T\\epsilon\n",
                "\\right] \\\\\n",
                "&\\stackrel{*}{=} \\frac{\\partial E}{\\partial w_i}+\\sum_j w_j\\mathbb{E}\\left[\\epsilon_i\\epsilon_j\\right] \\\\\n",
                "&= \\frac{\\partial E}{\\partial w_i}+w_i\\sigma^2    \n",
                "\\end{align*}\n",
                "\n",
                "Where we used $\\partial E/\\partial w_i$ to denote the gradient of the error of the de-noised sample, and the step marked with $*$ follows because $\\mathbb{E}[\\epsilon_i\\epsilon_j]=\\text{Cov}\\left[\\epsilon_i, \\epsilon_j\\right]=\\delta_{ij}\\sigma^2$.\n",
                "\n",
                "Clearly, the gradient is the same that results from weight decay.\n"
            ]
        }
    ],
    "metadata": {
        "kernelspec": {
            "display_name": "Python 3",
            "language": "python",
            "name": "python3"
        },
        "language_info": {
            "codemirror_mode": {
                "name": "ipython",
                "version": 3
            },
            "file_extension": ".py",
            "mimetype": "text/x-python",
            "name": "python",
            "nbconvert_exporter": "python",
            "pygments_lexer": "ipython3",
            "version": "3.10.13"
        }
    },
    "nbformat": 4,
    "nbformat_minor": 5
}