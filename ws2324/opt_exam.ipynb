{
 "cells": [
  {
   "cell_type": "code",
   "execution_count": 1,
   "metadata": {},
   "outputs": [],
   "source": [
    "import numpy as np\n",
    "import pandas as pd\n",
    "import seaborn as sns"
   ]
  },
  {
   "cell_type": "code",
   "execution_count": 2,
   "metadata": {},
   "outputs": [],
   "source": [
    "x = np.arange(start=-2.,stop = 2.,step = 0.01)\n",
    "y = x+x**2+x**3+x**4"
   ]
  },
  {
   "cell_type": "code",
   "execution_count": 3,
   "metadata": {},
   "outputs": [
    {
     "data": {
      "text/plain": [
       "<Axes: >"
      ]
     },
     "execution_count": 3,
     "metadata": {},
     "output_type": "execute_result"
    },
    {
     "data": {
      "image/png": "[encoded data removed]",
      "text/plain": [
       "<Figure size 640x480 with 1 Axes>"
      ]
     },
     "metadata": {},
     "output_type": "display_data"
    }
   ],
   "source": [
    "sns.lineplot(x=x, y=y)"
   ]
  },
  {
   "cell_type": "code",
   "execution_count": 5,
   "metadata": {},
   "outputs": [
    {
     "name": "stdout",
     "output_type": "stream",
     "text": [
      "Hessian matrix is positive definite at the minimum point.\n"
     ]
    }
   ],
   "source": [
    "import numpy as np\n",
    "import matplotlib.pyplot as plt\n",
    "from mpl_toolkits.mplot3d import Axes3D\n",
    "from scipy.optimize import minimize\n",
    "\n",
    "%matplotlib qt5\n",
    "\n",
    "# Define the Rosenbrock function\n",
    "def rosenbrock(x):\n",
    "    return (1 - x[0])**2 + 100 * (x[1] - x[0]**2)**2\n",
    "\n",
    "# Define the Hessian matrix of the Rosenbrock function\n",
    "def hessian_rosenbrock(x):\n",
    "    h11 = 2 - 400 * x[1] + 1200 * x[0]**2\n",
    "    h12 = -400 * x[0]\n",
    "    h21 = -400 * x[0]\n",
    "    h22 = 200\n",
    "    return np.array([[h11, h12], [h21, h22]])\n",
    "\n",
    "# Visualize the Rosenbrock function and Hessian matrix\n",
    "x = np.linspace(-2, 2, 100)\n",
    "y = np.linspace(-1, 3, 100)\n",
    "X, Y = np.meshgrid(x, y)\n",
    "Z = rosenbrock([X, Y])\n",
    "\n",
    "fig = plt.figure(figsize=(10, 6))\n",
    "ax = fig.add_subplot(111, projection='3d')\n",
    "ax.plot_surface(X, Y, Z, cmap='viridis', alpha=0.8)\n",
    "ax.set_xlabel('X')\n",
    "ax.set_ylabel('Y')\n",
    "ax.set_zlabel('Z')\n",
    "ax.set_title('Rosenbrock Function')\n",
    "\n",
    "# Find the minimum point using optimization\n",
    "res = minimize(rosenbrock, x0=[-1.5, 1.5], method='BFGS', jac=None, hess=None)\n",
    "minimum_point = res.x\n",
    "\n",
    "# Plot the minimum point\n",
    "ax.scatter(minimum_point[0], minimum_point[1], rosenbrock(minimum_point), color='red', label='Minimum Point')\n",
    "\n",
    "# Check positive definiteness of the Hessian matrix at the minimum point\n",
    "hessian_at_min = hessian_rosenbrock(minimum_point)\n",
    "eigenvalues, _ = np.linalg.eig(hessian_at_min)\n",
    "if np.all(eigenvalues > 0):\n",
    "    print(\"Hessian matrix is positive definite at the minimum point.\")\n",
    "else:\n",
    "    print(\"Hessian matrix is not positive definite at the minimum point.\")\n",
    "\n",
    "plt.legend()\n",
    "plt.show()\n"
   ]
  },
  {
   "cell_type": "code",
   "execution_count": 4,
   "metadata": {},
   "outputs": [
    {
     "name": "stderr",
     "output_type": "stream",
     "text": [
      "C:\\Users\\esual\\AppData\\Local\\Temp\\ipykernel_1296\\3118038820.py:47: MatplotlibDeprecationWarning: The get_cmap function was deprecated in Matplotlib 3.7 and will be removed two minor releases later. Use ``matplotlib.colormaps[name]`` or ``matplotlib.colormaps.get_cmap(obj)`` instead.\n",
      "  cmap = plt.cm.get_cmap('coolwarm', 2)\n"
     ]
    }
   ],
   "source": [
    "import numpy as np\n",
    "import matplotlib.pyplot as plt\n",
    "from mpl_toolkits.mplot3d import Axes3D\n",
    "\n",
    "%matplotlib qt5\n",
    "\n",
    "# Define a function with multiple local minima and maxima\n",
    "def multiple_valleys(x, y):\n",
    "    return np.sin(x) * np.cos(y)\n",
    "\n",
    "# Define the Hessian matrix of the function\n",
    "def hessian_multiple_valleys(x, y):\n",
    "    h11 = -np.sin(x) * np.cos(y)  # Second partial derivative with respect to x twice\n",
    "    h12 = -np.cos(x) * np.sin(y)  # Mixed partial derivative\n",
    "    h21 = -np.cos(x) * np.sin(y)  # Mixed partial derivative\n",
    "    h22 = -np.sin(x) * np.cos(y)  # Second partial derivative with respect to y twice\n",
    "    return np.array([[h11, h12], [h21, h22]])\n",
    "\n",
    "# Define the range for x and y\n",
    "x_range = np.linspace(-3, 3, 100)\n",
    "y_range = np.linspace(-3, 3, 100)\n",
    "X, Y = np.meshgrid(x_range, y_range)\n",
    "\n",
    "# Calculate the function values and Hessian matrix values\n",
    "Z = multiple_valleys(X, Y)\n",
    "H = np.zeros_like(Z)\n",
    "\n",
    "for i in range(len(x_range)):\n",
    "    for j in range(len(y_range)):\n",
    "        hessian = hessian_multiple_valleys(x_range[i], y_range[j])\n",
    "        eigenvalues, _ = np.linalg.eig(hessian)\n",
    "        if np.all(eigenvalues > 0):\n",
    "            H[i, j] = 1  # Positive definite Hessian\n",
    "        else:\n",
    "            H[i, j] = 0  # Non-positive definite Hessian\n",
    "\n",
    "# Plot the function surface and the regions with positive definite Hessian\n",
    "fig = plt.figure(figsize=(10, 6))\n",
    "ax = fig.add_subplot(111, projection='3d')\n",
    "surf = ax.plot_surface(X, Y, Z, cmap='viridis', alpha=0.8)\n",
    "ax.set_xlabel('X')\n",
    "ax.set_ylabel('Y')\n",
    "ax.set_zlabel('Z')\n",
    "ax.set_title('Function with Multiple Valleys and Hills')\n",
    "\n",
    "# Create a custom colormap for positive definite Hessian regions\n",
    "cmap = plt.cm.get_cmap('coolwarm', 2)\n",
    "cmap.set_under('green')\n",
    "\n",
    "# Plot the regions with positive definite Hessian\n",
    "ax.contourf(X, Y, H, levels=[-0.5, 0.5, 1.5], colors=[cmap(0), cmap(1)], alpha=1)\n",
    "\n",
    "# Add a color bar to show the colormap\n",
    "cbar = fig.colorbar(surf, ticks=[-1, 0, 1])\n",
    "cbar.set_label('Function Value')\n",
    "\n",
    "plt.show()\n"
   ]
  },
  {
   "cell_type": "code",
   "execution_count": 5,
   "metadata": {},
   "outputs": [
    {
     "name": "stderr",
     "output_type": "stream",
     "text": [
      "C:\\Users\\esual\\AppData\\Local\\Temp\\ipykernel_1296\\2845862831.py:45: MatplotlibDeprecationWarning: The get_cmap function was deprecated in Matplotlib 3.7 and will be removed two minor releases later. Use ``matplotlib.colormaps[name]`` or ``matplotlib.colormaps.get_cmap(obj)`` instead.\n",
      "  cmap = plt.cm.get_cmap('coolwarm', 2)\n"
     ]
    }
   ],
   "source": [
    "import numpy as np\n",
    "import matplotlib.pyplot as plt\n",
    "from mpl_toolkits.mplot3d import Axes3D\n",
    "\n",
    "# Define a function with valleys and hills\n",
    "def function_with_valleys(x, y):\n",
    "    return np.sin(x) * np.sin(y)\n",
    "\n",
    "# Define the Hessian matrix of the function\n",
    "def hessian_function_with_valleys(x, y):\n",
    "    h11 = -np.sin(y) * np.cos(x)  # Second partial derivative with respect to x twice\n",
    "    h12 = -np.cos(y) * np.sin(x)  # Mixed partial derivative\n",
    "    h21 = -np.cos(y) * np.sin(x)  # Mixed partial derivative\n",
    "    h22 = -np.sin(y) * np.cos(x)  # Second partial derivative with respect to y twice\n",
    "    return np.array([[h11, h12], [h21, h22]])\n",
    "\n",
    "# Define the range for x and y\n",
    "x_range = np.linspace(-3, 3, 100)\n",
    "y_range = np.linspace(-3, 3, 100)\n",
    "X, Y = np.meshgrid(x_range, y_range)\n",
    "\n",
    "# Calculate the function values and Hessian matrix values\n",
    "Z = function_with_valleys(X, Y)\n",
    "H = np.zeros_like(Z)\n",
    "\n",
    "for i in range(len(x_range)):\n",
    "    for j in range(len(y_range)):\n",
    "        hessian = hessian_function_with_valleys(x_range[i], y_range[j])\n",
    "        eigenvalues, _ = np.linalg.eig(hessian)\n",
    "        if np.all(eigenvalues > 0):\n",
    "            H[i, j] = 1  # Positive definite Hessian\n",
    "        else:\n",
    "            H[i, j] = 0  # Non-positive definite Hessian\n",
    "\n",
    "# Plot the function surface and the regions with positive definite Hessian\n",
    "fig = plt.figure(figsize=(10, 6))\n",
    "ax = fig.add_subplot(111, projection='3d')\n",
    "surf = ax.plot_surface(X, Y, Z, cmap='viridis', alpha=0.8)\n",
    "ax.set_xlabel('X')\n",
    "ax.set_ylabel('Y')\n",
    "ax.set_zlabel('Z')\n",
    "ax.set_title('Function with Valleys and Hills')\n",
    "\n",
    "# Create a custom colormap for positive definite Hessian regions\n",
    "cmap = plt.cm.get_cmap('coolwarm', 2)\n",
    "cmap.set_under('lightgrey')\n",
    "\n",
    "# Plot the regions with positive definite Hessian\n",
    "ax.contourf(X, Y, H, levels=[-0.5, 0.5, 1.5], colors=[cmap(0), cmap(1)], alpha=0.5)\n",
    "\n",
    "# Add a color bar to show the colormap\n",
    "cbar = fig.colorbar(surf, ticks=[-1, 0, 1])\n",
    "cbar.set_label('Function Value')\n",
    "\n",
    "plt.show()\n"
   ]
  },
  {
   "cell_type": "code",
   "execution_count": null,
   "metadata": {},
   "outputs": [],
   "source": []
  }
 ],
 "metadata": {
  "kernelspec": {
   "display_name": ".venv",
   "language": "python",
   "name": "python3"
  },
  "language_info": {
   "codemirror_mode": {
    "name": "ipython",
    "version": 3
   },
   "file_extension": ".py",
   "mimetype": "text/x-python",
   "name": "python",
   "nbconvert_exporter": "python",
   "pygments_lexer": "ipython3",
   "version": "3.11.8"
  }
 },
 "nbformat": 4,
 "nbformat_minor": 2
}
