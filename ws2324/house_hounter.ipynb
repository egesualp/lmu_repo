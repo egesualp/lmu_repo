{
 "cells": [
  {
   "cell_type": "code",
   "execution_count": 3,
   "metadata": {},
   "outputs": [],
   "source": [
    "import smtplib\n",
    "from email.mime.multipart import MIMEMultipart\n",
    "from email.mime.text import MIMEText\n"
   ]
  },
  {
   "cell_type": "code",
   "execution_count": 4,
   "metadata": {},
   "outputs": [],
   "source": [
    "def send_email(subject, message, from_email, to_emails, password):\n",
    "    # Create a MIMEMultipart class, and set up the From, To, and Subject fields\n",
    "    msg = MIMEMultipart()\n",
    "    msg['From'] = from_email\n",
    "    msg['To'] = \", \".join(to_emails)\n",
    "    msg['Subject'] = subject\n",
    "\n",
    "    # Attach the message\n",
    "    msg.attach(MIMEText(message, 'plain'))\n",
    "\n",
    "    # Set up the SMTP server\n",
    "    server = smtplib.SMTP('smtp.gmail.com', 587) # Change if not using Gmail\n",
    "    server.starttls()  # Start TLS for security\n",
    "    server.login(from_email, password)  # Log in to the SMTP server\n",
    "\n",
    "    # Send the email\n",
    "    server.send_message(msg)\n",
    "    server.quit()\n",
    "\n",
    "# Email credentials\n",
    "from_email = \"egesualp@gmail.com\"\n",
    "password = \"acbx wtqn zhvv xxmw\""
   ]
  },
  {
   "cell_type": "code",
   "execution_count": 5,
   "metadata": {},
   "outputs": [],
   "source": [
    "# Email content\n",
    "subject = \"Anfrage zur Mietwohnung\"\n",
    "message = \"\"\"\n",
    "Hallo liebe(r) Vermieter(in),\n",
    "\n",
    "mein Name ist Ege, ich bin 26 Jahre alt. Es freut mich sehr, Sie kennenzulernen! Ich habe einen Studienplatz für den Master in Statistik und Datenwissenschaft an der LMU bekommen und bin auf der Suche nach einer gemütlichen Wohnung in Universitätsnähe.\n",
    "\n",
    "Ihr Inserat auf dem Studierendenwerk-Portal hat mich besonders angesprochen, vor allem die Lage Ihres Hauses! Neben meinem Studium lege ich großen Wert auf eine positive Atmosphäre. In meiner Freizeit fahre ich gerne Fahrrad und gehe Ski fahren. Auch Kochen gehört zu meinen Stärken – ich bereite gern einfache, aber leckere Gerichte zu, wie beispielsweise Omeletts oder Pasta mit Hühnchen.\n",
    "\n",
    "Für weitere Informationen über mich können Sie gerne mein LinkedIn-Profil besuchen (https://www.linkedin.com/in/egesualp/). Dort bekommen Sie einen Einblick in meine berufliche Laufbahn und meine Persönlichkeit.\n",
    "\n",
    "Ich plane, so bald wie möglich umzuziehen. Falls Sie Fragen oder Bedenken haben, stehe ich Ihnen gerne zur Verfügung. Da ich neu in diesem Studiengang bin und die Wohnungssuche in München eine Herausforderung darstellt, bin ich für jeden Ratschlag dankbar.\n",
    "\n",
    "Ich freue mich auf Ihre Rückmeldung.\n",
    "\n",
    "Mit besten Grüßen, \n",
    "Ege Sualp\"\"\""
   ]
  },
  {
   "cell_type": "code",
   "execution_count": 7,
   "metadata": {},
   "outputs": [],
   "source": [
    "# List of email addresses to send to\n",
    "to_emails = [\n",
    "    \"info@chrisma-immo.de\",\n",
    "    \"j.gambel@opg-pullach.de\",\n",
    "    \n",
    "    \n",
    "    \n",
    "    ]\n",
    "\n",
    "# Send the email\n",
    "send_email(subject, message, from_email, to_emails, password)"
   ]
  },
  {
   "cell_type": "code",
   "execution_count": null,
   "metadata": {},
   "outputs": [],
   "source": []
  }
 ],
 "metadata": {
  "kernelspec": {
   "display_name": ".venv",
   "language": "python",
   "name": "python3"
  },
  "language_info": {
   "codemirror_mode": {
    "name": "ipython",
    "version": 3
   },
   "file_extension": ".py",
   "mimetype": "text/x-python",
   "name": "python",
   "nbconvert_exporter": "python",
   "pygments_lexer": "ipython3",
   "version": "3.11.6"
  }
 },
 "nbformat": 4,
 "nbformat_minor": 2
}
