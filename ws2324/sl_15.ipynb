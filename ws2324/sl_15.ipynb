{
 "cells": [
  {
   "cell_type": "code",
   "execution_count": 1,
   "metadata": {},
   "outputs": [],
   "source": [
    "import pandas as pd\n",
    "import numpy as np\n",
    "import datetime"
   ]
  },
  {
   "cell_type": "markdown",
   "metadata": {},
   "source": [
    "# Ridge regression"
   ]
  },
  {
   "cell_type": "code",
   "execution_count": 2,
   "metadata": {},
   "outputs": [
    {
     "name": "stdout",
     "output_type": "stream",
     "text": [
      "Modified matrix for Ridge Regression (X^T X + lambda * I):\n",
      "[[3.51744059 3.45915961 3.21408384]\n",
      " [3.45915961 4.72191368 3.58515223]\n",
      " [3.21408384 3.58515223 4.54659492]]\n",
      "\n",
      "Ridge Regression Coefficients (theta_ridge):\n",
      "[[0.15390983]\n",
      " [0.18289919]\n",
      " [0.49784543]]\n"
     ]
    }
   ],
   "source": [
    "import numpy as np\n",
    "\n",
    "# Define the parameter vector with 3 parameters (coefficients)\n",
    "theta = np.array([[2], [-1], [0.5]])\n",
    "\n",
    "# Create a feature matrix representing a dataset with 10 observations and 3 features\n",
    "# Using random numbers for simplicity\n",
    "np.random.seed(0)  # Seed for reproducibility\n",
    "X = np.random.rand(10, 3)\n",
    "\n",
    "# Define the lambda parameter for ridge regression\n",
    "lambda_param = 0.1\n",
    "\n",
    "# Compute the identity matrix of size equal to the number of features\n",
    "identity_matrix = np.identity(3)\n",
    "\n",
    "# Compute X^T * X (transpose of X multiplied by X)\n",
    "XTX = np.dot(X.T, X)\n",
    "\n",
    "# Add lambda times the identity matrix to the diagonal of X^T * X\n",
    "# This is the ridge penalty term that helps prevent overfitting\n",
    "ridge_XTX = XTX + lambda_param * identity_matrix\n",
    "\n",
    "# Create a target variable 'y' with 10 random values\n",
    "y = np.random.rand(10, 1)\n",
    "\n",
    "# Calculate the pseudo-inverse of the modified matrix for ridge regression\n",
    "# This involves inverting the ridge_XTX matrix and then multiplying by X^T\n",
    "ridge_pseudo_inverse = np.linalg.inv(ridge_XTX).dot(X.T)\n",
    "\n",
    "# Calculate the ridge regression coefficients\n",
    "theta_ridge = ridge_pseudo_inverse.dot(y)\n",
    "\n",
    "# The modified matrix and the ridge coefficients are now available\n",
    "# Displaying the results\n",
    "print(\"Modified matrix for Ridge Regression (X^T X + lambda * I):\")\n",
    "print(ridge_XTX)\n",
    "print(\"\\nRidge Regression Coefficients (theta_ridge):\")\n",
    "print(theta_ridge)\n"
   ]
  },
  {
   "cell_type": "code",
   "execution_count": 3,
   "metadata": {},
   "outputs": [
    {
     "data": {
      "text/plain": [
       "array([[ 2. ],\n",
       "       [-1. ],\n",
       "       [ 0.5]])"
      ]
     },
     "execution_count": 3,
     "metadata": {},
     "output_type": "execute_result"
    }
   ],
   "source": [
    "theta"
   ]
  },
  {
   "cell_type": "code",
   "execution_count": 4,
   "metadata": {},
   "outputs": [
    {
     "data": {
      "text/plain": [
       "array([[0.5488135 , 0.71518937, 0.60276338],\n",
       "       [0.54488318, 0.4236548 , 0.64589411],\n",
       "       [0.43758721, 0.891773  , 0.96366276],\n",
       "       [0.38344152, 0.79172504, 0.52889492],\n",
       "       [0.56804456, 0.92559664, 0.07103606],\n",
       "       [0.0871293 , 0.0202184 , 0.83261985],\n",
       "       [0.77815675, 0.87001215, 0.97861834],\n",
       "       [0.79915856, 0.46147936, 0.78052918],\n",
       "       [0.11827443, 0.63992102, 0.14335329],\n",
       "       [0.94466892, 0.52184832, 0.41466194]])"
      ]
     },
     "execution_count": 4,
     "metadata": {},
     "output_type": "execute_result"
    }
   ],
   "source": [
    "X"
   ]
  },
  {
   "cell_type": "code",
   "execution_count": 6,
   "metadata": {},
   "outputs": [
    {
     "data": {
      "text/plain": [
       "array([[ 1.09762701, -0.71518937,  0.30138169],\n",
       "       [ 1.08976637, -0.4236548 ,  0.32294706],\n",
       "       [ 0.87517442, -0.891773  ,  0.48183138],\n",
       "       [ 0.76688304, -0.79172504,  0.26444746],\n",
       "       [ 1.13608912, -0.92559664,  0.03551803],\n",
       "       [ 0.1742586 , -0.0202184 ,  0.41630992],\n",
       "       [ 1.5563135 , -0.87001215,  0.48930917],\n",
       "       [ 1.59831713, -0.46147936,  0.39026459],\n",
       "       [ 0.23654885, -0.63992102,  0.07167664],\n",
       "       [ 1.88933783, -0.52184832,  0.20733097]])"
      ]
     },
     "execution_count": 6,
     "metadata": {},
     "output_type": "execute_result"
    }
   ],
   "source": [
    "X*theta.T"
   ]
  },
  {
   "cell_type": "code",
   "execution_count": 8,
   "metadata": {},
   "outputs": [
    {
     "data": {
      "text/plain": [
       "array([[1., 0., 0.],\n",
       "       [0., 1., 0.],\n",
       "       [0., 0., 1.]])"
      ]
     },
     "execution_count": 8,
     "metadata": {},
     "output_type": "execute_result"
    }
   ],
   "source": [
    "identity_matrix"
   ]
  },
  {
   "cell_type": "code",
   "execution_count": 13,
   "metadata": {},
   "outputs": [
    {
     "data": {
      "text/plain": [
       "array([[3.41744059, 3.45915961, 3.21408384],\n",
       "       [3.45915961, 4.62191368, 3.58515223],\n",
       "       [3.21408384, 3.58515223, 4.44659492]])"
      ]
     },
     "execution_count": 13,
     "metadata": {},
     "output_type": "execute_result"
    }
   ],
   "source": [
    "np.dot(X.T, X)"
   ]
  },
  {
   "cell_type": "code",
   "execution_count": 9,
   "metadata": {},
   "outputs": [
    {
     "data": {
      "text/plain": [
       "0.1"
      ]
     },
     "execution_count": 9,
     "metadata": {},
     "output_type": "execute_result"
    }
   ],
   "source": [
    "lambda_param"
   ]
  },
  {
   "cell_type": "code",
   "execution_count": 10,
   "metadata": {},
   "outputs": [],
   "source": [
    "ridge_XTX = XTX + lambda_param * identity_matrix"
   ]
  },
  {
   "cell_type": "code",
   "execution_count": 11,
   "metadata": {},
   "outputs": [
    {
     "data": {
      "text/plain": [
       "array([[3.51744059, 3.45915961, 3.21408384],\n",
       "       [3.45915961, 4.72191368, 3.58515223],\n",
       "       [3.21408384, 3.58515223, 4.54659492]])"
      ]
     },
     "execution_count": 11,
     "metadata": {},
     "output_type": "execute_result"
    }
   ],
   "source": [
    "ridge_XTX"
   ]
  },
  {
   "cell_type": "code",
   "execution_count": 14,
   "metadata": {},
   "outputs": [
    {
     "data": {
      "text/plain": [
       "array([[ 1.25936927, -0.61459344, -0.40564585],\n",
       "       [-0.61459344,  0.82766616, -0.21817522],\n",
       "       [-0.40564585, -0.21817522,  0.67874337]])"
      ]
     },
     "execution_count": 14,
     "metadata": {},
     "output_type": "execute_result"
    }
   ],
   "source": [
    "np.linalg.inv(ridge_XTX)"
   ]
  },
  {
   "cell_type": "code",
   "execution_count": 15,
   "metadata": {},
   "outputs": [
    {
     "data": {
      "text/plain": [
       "array([[3.51744059, 3.45915961, 3.21408384],\n",
       "       [3.45915961, 4.72191368, 3.58515223],\n",
       "       [3.21408384, 3.58515223, 4.54659492]])"
      ]
     },
     "execution_count": 15,
     "metadata": {},
     "output_type": "execute_result"
    }
   ],
   "source": [
    "ridge_XTX"
   ]
  },
  {
   "cell_type": "code",
   "execution_count": null,
   "metadata": {},
   "outputs": [],
   "source": []
  }
 ],
 "metadata": {
  "kernelspec": {
   "display_name": ".venv",
   "language": "python",
   "name": "python3"
  },
  "language_info": {
   "codemirror_mode": {
    "name": "ipython",
    "version": 3
   },
   "file_extension": ".py",
   "mimetype": "text/x-python",
   "name": "python",
   "nbconvert_exporter": "python",
   "pygments_lexer": "ipython3",
   "version": "3.11.6"
  }
 },
 "nbformat": 4,
 "nbformat_minor": 2
}
