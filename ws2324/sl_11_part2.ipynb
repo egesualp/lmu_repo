{
 "cells": [
  {
   "cell_type": "code",
   "execution_count": 1,
   "metadata": {},
   "outputs": [
    {
     "data": {
      "text/plain": [
       "(-0.07689647466422721, -0.0768964746642273)"
      ]
     },
     "execution_count": 1,
     "metadata": {},
     "output_type": "execute_result"
    }
   ],
   "source": [
    "import numpy as np\n",
    "\n",
    "# Define the random variables X and Y\n",
    "np.random.seed(0)\n",
    "X = np.random.normal(0, 1, 1000)  # X is normally distributed with mean 0 and std 1\n",
    "Y = 2 * X + np.random.normal(0, 1, 1000)  # Y is a linear function of X plus some noise\n",
    "\n",
    "# Calculate the expected value of Y\n",
    "expected_Y = np.mean(Y)\n",
    "\n",
    "# Calculate the expected value of Y conditional on X\n",
    "conditional_expectations = [np.mean(Y[X == x]) for x in np.unique(X)]\n",
    "expected_conditional_Y = np.mean(conditional_expectations)\n",
    "\n",
    "expected_Y, expected_conditional_Y"
   ]
  },
  {
   "cell_type": "code",
   "execution_count": 15,
   "metadata": {},
   "outputs": [
    {
     "data": {
      "text/plain": [
       "(-0.045256707490195384, -0.07985260415302939)"
      ]
     },
     "execution_count": 15,
     "metadata": {},
     "output_type": "execute_result"
    }
   ],
   "source": [
    "# Calculate the expected value of X\n",
    "expected_X = np.mean(X)\n",
    "\n",
    "# Calculate the expected value of X conditional on Y\n",
    "# To ensure we have a manageable number of unique Y values, let's round Y to one decimal place\n",
    "Y_rounded = np.round(Y, 1)\n",
    "conditional_expectations_X = [np.mean(X[Y_rounded == y]) for y in np.unique(Y_rounded)]\n",
    "expected_conditional_X = np.mean(conditional_expectations_X)\n",
    "\n",
    "expected_X, expected_conditional_X"
   ]
  },
  {
   "cell_type": "code",
   "execution_count": 16,
   "metadata": {},
   "outputs": [
    {
     "data": {
      "text/plain": [
       "(-0.045256707490195384, -0.04525670749019531)"
      ]
     },
     "execution_count": 16,
     "metadata": {},
     "output_type": "execute_result"
    }
   ],
   "source": [
    "# Calculate the expected value of X\n",
    "expected_X = np.mean(X)\n",
    "\n",
    "# Calculate the expected value of X conditional on Y\n",
    "# To ensure we have a manageable number of unique Y values, let's round Y to one decimal place\n",
    "#Y_rounded = np.round(Y, 1)\n",
    "conditional_expectations_X = [np.mean(X[Y == y]) for y in np.unique(Y)]\n",
    "expected_conditional_X = np.mean(conditional_expectations_X)\n",
    "\n",
    "expected_X, expected_conditional_X"
   ]
  },
  {
   "cell_type": "code",
   "execution_count": 6,
   "metadata": {},
   "outputs": [
    {
     "data": {
      "text/plain": [
       "[-3.0461430547999266,\n",
       " -2.8345545052747023,\n",
       " -2.77259275642665,\n",
       " -2.7396771671895563,\n",
       " -2.659172237996741]"
      ]
     },
     "execution_count": 6,
     "metadata": {},
     "output_type": "execute_result"
    }
   ],
   "source": [
    "[x for x in np.unique(X)][:5]"
   ]
  },
  {
   "cell_type": "code",
   "execution_count": 13,
   "metadata": {},
   "outputs": [
    {
     "data": {
      "text/plain": [
       "array([1.76405235, 0.40015721, 0.97873798, 2.2408932 , 1.86755799])"
      ]
     },
     "execution_count": 13,
     "metadata": {},
     "output_type": "execute_result"
    }
   ],
   "source": [
    "X[:5]"
   ]
  },
  {
   "cell_type": "code",
   "execution_count": 14,
   "metadata": {},
   "outputs": [
    {
     "data": {
      "text/plain": [
       "array([], dtype=float64)"
      ]
     },
     "execution_count": 14,
     "metadata": {},
     "output_type": "execute_result"
    }
   ],
   "source": [
    "Y[X == 1.76405235]"
   ]
  },
  {
   "cell_type": "code",
   "execution_count": 12,
   "metadata": {},
   "outputs": [
    {
     "data": {
      "text/plain": [
       "array([], dtype=float64)"
      ]
     },
     "execution_count": 12,
     "metadata": {},
     "output_type": "execute_result"
    }
   ],
   "source": [
    "Y[X == 2]"
   ]
  },
  {
   "cell_type": "code",
   "execution_count": 19,
   "metadata": {},
   "outputs": [
    {
     "data": {
      "text/plain": [
       "1000"
      ]
     },
     "execution_count": 19,
     "metadata": {},
     "output_type": "execute_result"
    }
   ],
   "source": [
    "len(X)\n",
    "len(np.unique(X))"
   ]
  },
  {
   "cell_type": "code",
   "execution_count": 20,
   "metadata": {},
   "outputs": [
    {
     "data": {
      "text/plain": [
       "1000"
      ]
     },
     "execution_count": 20,
     "metadata": {},
     "output_type": "execute_result"
    }
   ],
   "source": [
    "len(Y)\n",
    "len(np.unique(Y))"
   ]
  },
  {
   "cell_type": "code",
   "execution_count": 21,
   "metadata": {},
   "outputs": [
    {
     "data": {
      "text/plain": [
       "(1.96, 1.996382189239332)"
      ]
     },
     "execution_count": 21,
     "metadata": {},
     "output_type": "execute_result"
    }
   ],
   "source": [
    "# Redefining X and Y with fewer unique values and a smaller dataset for simplicity\n",
    "np.random.seed(0)\n",
    "X = np.random.choice([0, 1, 2, 3, 4], 100)  # X is now chosen from 5 unique values\n",
    "Y = X + np.random.choice([-1, 0, 1], 100)  # Y is X plus a small noise from three unique values\n",
    "\n",
    "# Calculate the expected value of X\n",
    "expected_X = np.mean(X)\n",
    "\n",
    "# Calculate the expected value of X conditional on Y\n",
    "conditional_expectations_X = [np.mean(X[Y == y]) for y in np.unique(Y)]\n",
    "expected_conditional_X = np.mean(conditional_expectations_X)\n",
    "\n",
    "expected_X, expected_conditional_X\n",
    "\n"
   ]
  },
  {
   "cell_type": "code",
   "execution_count": 22,
   "metadata": {},
   "outputs": [
    {
     "data": {
      "text/plain": [
       "array([4, 0, 3, 3, 3, 1, 3, 2, 4, 0, 0, 4, 2, 1, 0, 1, 1, 0, 1, 4, 3, 0,\n",
       "       3, 0, 2, 3, 0, 1, 3, 3, 3, 0, 1, 1, 1, 0, 2, 4, 3, 3, 2, 4, 2, 0,\n",
       "       0, 4, 0, 4, 1, 4, 1, 2, 2, 0, 1, 1, 1, 1, 3, 3, 2, 3, 0, 3, 4, 1,\n",
       "       2, 4, 3, 4, 4, 4, 3, 4, 4, 4, 0, 4, 3, 2, 0, 1, 1, 3, 0, 0, 1, 2,\n",
       "       4, 2, 0, 3, 2, 2, 0, 1, 0, 2, 2, 3])"
      ]
     },
     "execution_count": 22,
     "metadata": {},
     "output_type": "execute_result"
    }
   ],
   "source": [
    "X"
   ]
  },
  {
   "cell_type": "code",
   "execution_count": 26,
   "metadata": {},
   "outputs": [
    {
     "data": {
      "text/plain": [
       "array([3, 2, 4, 2, 3, 2, 4, 2, 4, 4, 3, 3, 4, 3, 4, 4, 3, 2, 2, 2, 3])"
      ]
     },
     "execution_count": 26,
     "metadata": {},
     "output_type": "execute_result"
    }
   ],
   "source": [
    "X[Y == 3]"
   ]
  },
  {
   "cell_type": "code",
   "execution_count": 24,
   "metadata": {},
   "outputs": [
    {
     "data": {
      "text/plain": [
       "7"
      ]
     },
     "execution_count": 24,
     "metadata": {},
     "output_type": "execute_result"
    }
   ],
   "source": [
    "len([np.mean(X[Y == y]) for y in np.unique(Y)])"
   ]
  },
  {
   "cell_type": "code",
   "execution_count": 25,
   "metadata": {},
   "outputs": [
    {
     "data": {
      "text/plain": [
       "[0.0, 0.6428571428571429, 0.6818181818181818, 2.15, 3.0, 3.5, 4.0]"
      ]
     },
     "execution_count": 25,
     "metadata": {},
     "output_type": "execute_result"
    }
   ],
   "source": [
    "[np.mean(X[Y == y]) for y in np.unique(Y)]"
   ]
  },
  {
   "cell_type": "code",
   "execution_count": 27,
   "metadata": {},
   "outputs": [
    {
     "data": {
      "text/plain": [
       "array([[1.78432899e-01, 8.21567101e-01],\n",
       "       [1.54123364e-01, 8.45876636e-01],\n",
       "       [2.30094188e-04, 9.99769906e-01],\n",
       "       [6.39511140e-01, 3.60488860e-01],\n",
       "       [2.78131175e-02, 9.72186883e-01]])"
      ]
     },
     "execution_count": 27,
     "metadata": {},
     "output_type": "execute_result"
    }
   ],
   "source": [
    "import numpy as np\n",
    "import pandas as pd\n",
    "from sklearn.naive_bayes import GaussianNB\n",
    "from sklearn.model_selection import train_test_split\n",
    "from sklearn.metrics import accuracy_score\n",
    "\n",
    "# Generate a simple dataset with 50 data points, with a single feature and a binary class\n",
    "np.random.seed(0)\n",
    "X = np.random.rand(50, 1) # 50 data points with 1 feature\n",
    "y = (X[:, 0] > 0.5).astype(int)  # Class 0 if feature <= 0.5, else class 1\n",
    "\n",
    "# Split the dataset into a training set and a test set\n",
    "X_train, X_test, y_train, y_test = train_test_split(X, y, test_size=0.5, random_state=0)\n",
    "\n",
    "# Train a simple Gaussian Naive Bayes model\n",
    "model = GaussianNB()\n",
    "model.fit(X_train, y_train)\n",
    "\n",
    "# Predict probabilities for the test set\n",
    "probabilities = model.predict_proba(X_test)\n",
    "\n",
    "# Let's see the first 5 probabilities to understand P(y = l | x = x)\n",
    "probabilities[:5]\n"
   ]
  },
  {
   "cell_type": "code",
   "execution_count": 28,
   "metadata": {},
   "outputs": [
    {
     "data": {
      "text/plain": [
       "array([[0.5488135 ],\n",
       "       [0.71518937],\n",
       "       [0.60276338],\n",
       "       [0.54488318],\n",
       "       [0.4236548 ],\n",
       "       [0.64589411],\n",
       "       [0.43758721],\n",
       "       [0.891773  ],\n",
       "       [0.96366276],\n",
       "       [0.38344152],\n",
       "       [0.79172504],\n",
       "       [0.52889492],\n",
       "       [0.56804456],\n",
       "       [0.92559664],\n",
       "       [0.07103606],\n",
       "       [0.0871293 ],\n",
       "       [0.0202184 ],\n",
       "       [0.83261985],\n",
       "       [0.77815675],\n",
       "       [0.87001215],\n",
       "       [0.97861834],\n",
       "       [0.79915856],\n",
       "       [0.46147936],\n",
       "       [0.78052918],\n",
       "       [0.11827443],\n",
       "       [0.63992102],\n",
       "       [0.14335329],\n",
       "       [0.94466892],\n",
       "       [0.52184832],\n",
       "       [0.41466194],\n",
       "       [0.26455561],\n",
       "       [0.77423369],\n",
       "       [0.45615033],\n",
       "       [0.56843395],\n",
       "       [0.0187898 ],\n",
       "       [0.6176355 ],\n",
       "       [0.61209572],\n",
       "       [0.616934  ],\n",
       "       [0.94374808],\n",
       "       [0.6818203 ],\n",
       "       [0.3595079 ],\n",
       "       [0.43703195],\n",
       "       [0.6976312 ],\n",
       "       [0.06022547],\n",
       "       [0.66676672],\n",
       "       [0.67063787],\n",
       "       [0.21038256],\n",
       "       [0.1289263 ],\n",
       "       [0.31542835],\n",
       "       [0.36371077]])"
      ]
     },
     "execution_count": 28,
     "metadata": {},
     "output_type": "execute_result"
    }
   ],
   "source": [
    "X"
   ]
  },
  {
   "cell_type": "code",
   "execution_count": 29,
   "metadata": {},
   "outputs": [
    {
     "data": {
      "text/plain": [
       "array([1, 1, 1, 1, 0, 1, 0, 1, 1, 0, 1, 1, 1, 1, 0, 0, 0, 1, 1, 1, 1, 1,\n",
       "       0, 1, 0, 1, 0, 1, 1, 0, 0, 1, 0, 1, 0, 1, 1, 1, 1, 1, 0, 0, 1, 0,\n",
       "       1, 1, 0, 0, 0, 0])"
      ]
     },
     "execution_count": 29,
     "metadata": {},
     "output_type": "execute_result"
    }
   ],
   "source": [
    "y"
   ]
  },
  {
   "cell_type": "code",
   "execution_count": null,
   "metadata": {},
   "outputs": [],
   "source": []
  }
 ],
 "metadata": {
  "kernelspec": {
   "display_name": ".venv",
   "language": "python",
   "name": "python3"
  },
  "language_info": {
   "codemirror_mode": {
    "name": "ipython",
    "version": 3
   },
   "file_extension": ".py",
   "mimetype": "text/x-python",
   "name": "python",
   "nbconvert_exporter": "python",
   "pygments_lexer": "ipython3",
   "version": "3.11.7"
  }
 },
 "nbformat": 4,
 "nbformat_minor": 2
}
